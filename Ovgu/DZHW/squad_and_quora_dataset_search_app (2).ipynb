{
 "cells": [
  {
   "cell_type": "markdown",
   "metadata": {
    "id": "n2_TnIYJOFie"
   },
   "source": [
    "# Dependencies"
   ]
  },
  {
   "cell_type": "code",
   "execution_count": 1,
   "metadata": {
    "id": "FA-ICYuHNaog",
    "vscode": {
     "languageId": "python"
    }
   },
   "outputs": [],
   "source": [
    "%%capture\n",
    "!pip install altair #  Altair for visualization\n",
    "!pip install annoy  # Annoy for approximate nearest neighbor search\n",
    "!pip install cohere # Cohere for embeddings\n",
    "!pip install datasets \n",
    "!pip install -U farm-haystack>=1.3.0 \n",
    "!pip install matplotlib\n",
    "!pip install numpy\n",
    "!pip install pinecone-client \n",
    "!pip intsall tqdm\n",
    "!pip install umap-learn # Umap to reduce embeddings to 2 dimensions"
   ]
  },
  {
   "cell_type": "code",
   "execution_count": 2,
   "metadata": {
    "id": "sb5NO_jpOMLa",
    "vscode": {
     "languageId": "python"
    }
   },
   "outputs": [
    {
     "ename": "ModuleNotFoundError",
     "evalue": "No module named 'altair'",
     "output_type": "error",
     "traceback": [
      "\u001b[1;31m---------------------------------------------------------------------------\u001b[0m",
      "\u001b[1;31mModuleNotFoundError\u001b[0m                       Traceback (most recent call last)",
      "Cell \u001b[1;32mIn[2], line 2\u001b[0m\n\u001b[0;32m      1\u001b[0m \u001b[38;5;66;03m#@title Imports\u001b[39;00m\n\u001b[1;32m----> 2\u001b[0m \u001b[38;5;28;01mimport\u001b[39;00m \u001b[38;5;21;01maltair\u001b[39;00m \u001b[38;5;28;01mas\u001b[39;00m \u001b[38;5;21;01malt\u001b[39;00m\n\u001b[0;32m      3\u001b[0m \u001b[38;5;28;01mfrom\u001b[39;00m \u001b[38;5;21;01mannoy\u001b[39;00m \u001b[38;5;28;01mimport\u001b[39;00m AnnoyIndex\n\u001b[0;32m      4\u001b[0m \u001b[38;5;28;01mimport\u001b[39;00m \u001b[38;5;21;01mcohere\u001b[39;00m\n",
      "\u001b[1;31mModuleNotFoundError\u001b[0m: No module named 'altair'"
     ]
    }
   ],
   "source": [
    "#@title Imports\n",
    "import altair as alt\n",
    "from annoy import AnnoyIndex\n",
    "import cohere\n",
    "import csv\n",
    "from datasets import load_dataset\n",
    "from haystack.document_stores import PineconeDocumentStore\n",
    "from haystack import Document\n",
    "import matplotlib.pyplot as plt\n",
    "import numpy as np\n",
    "import pandas as pd\n",
    "from pprint import pprint\n",
    "import re\n",
    "from sklearn.metrics.pairwise import cosine_similarity\n",
    "from tqdm import tqdm\n",
    "import umap\n",
    "# Settings\n",
    "plt.style.use('ggplot')\n",
    "pd.set_option('display.max_colwidth', None)\n",
    "# def seed_everything(seed, use_cuda=True):\n",
    "#   # so results are reproducible!\n",
    "#   random.seed(seed)\n",
    "#   torch.manual_seed(seed)\n",
    "#   if use_cuda: \n",
    "#     torch.cuda.manual_seed_all(seed)\n",
    "#   np.random.seed(seed)\n",
    "\n",
    "# seed_everything(42, use_cuda = True)"
   ]
  },
  {
   "cell_type": "markdown",
   "metadata": {
    "id": "Aij_M6sl-Rci"
   },
   "source": [
    "sign up for an API key over at [Cohere](https://os.cohere.ai/) and [Pinecone](https://app.pinecone.io)"
   ]
  },
  {
   "cell_type": "code",
   "execution_count": 3,
   "metadata": {
    "id": "7MCHR57h78UZ",
    "vscode": {
     "languageId": "python"
    }
   },
   "outputs": [],
   "source": [
    "COHERE_API_KEY = 'cVl4pOTR9AzNA9DpaGCscX2M6WQEbs7AM9DhX8XO'\n",
    "PINECONE_API_KEY = '063315d4-bd99-478d-bd5c-7e5a3c7a7939' # app.pinecone.io\n",
    "\n",
    "\n",
    "\n",
    "# Create and retrieve a Cohere API key from os.cohere.ai\n",
    "co = cohere.Client(COHERE_API_KEY)"
   ]
  },
  {
   "cell_type": "code",
   "execution_count": 101,
   "metadata": {
    "colab": {
     "base_uri": "https://localhost:8080/"
    },
    "id": "h7mQN5j1rXEM",
    "outputId": "6d8e8051-9dac-4d5c-f8ca-e4ee3dbdd4c3",
    "vscode": {
     "languageId": "python"
    }
   },
   "outputs": [
    {
     "name": "stdout",
     "output_type": "stream",
     "text": [
      "Drive already mounted at /content/drive; to attempt to forcibly remount, call drive.mount(\"/content/drive\", force_remount=True).\n"
     ]
    }
   ],
   "source": [
    "from google.colab import drive\n",
    "drive.mount('/content/drive')"
   ]
  },
  {
   "cell_type": "markdown",
   "metadata": {
    "id": "QDtzcxoSDRa7"
   },
   "source": [
    "# Intuition behind large language models\n",
    "\n",
    "When you hear about large language models (LLM), probably the first thing that comes to mind is the text generation capability, such as writing an essay or creating a marketing copy.\n",
    "\n",
    "But another thing you can get is text representation: a set of numbers that represent what the text means, and somehow capture the semantics of the text. These numbers are called text embeddings."
   ]
  },
  {
   "cell_type": "markdown",
   "metadata": {
    "id": "JJWPehHxDlZn"
   },
   "source": [
    "![Comparing text generation and text representation](https://github.com/cohere-ai/notebooks/raw/main/notebooks/images/vis-embeds/1-text-gen-rep.png)"
   ]
  },
  {
   "cell_type": "markdown",
   "metadata": {
    "id": "KhoEK_NAlQzq"
   },
   "source": [
    "# COMMON FUNCTIONS"
   ]
  },
  {
   "cell_type": "code",
   "execution_count": 4,
   "metadata": {
    "id": "qNqA-lmqlQdn",
    "vscode": {
     "languageId": "python"
    }
   },
   "outputs": [],
   "source": [
    "def make_histogram(dataset, col_name, name=\"SQUAD\"):\n",
    "  \"\"\"\n",
    "  Histogram of length of sentences in the question field/column in the dataset\n",
    "  \"\"\"\n",
    "  num_tokens = []  # each sentence should add an integer to this list.\n",
    "\n",
    "  # Make a histogram of the lengths of sentences in the dataset. \n",
    "  pbar = tqdm(total=len(dataset), leave=True, position=0)\n",
    "  for entry in dataset:\n",
    "    tokens = entry[col_name].split()\n",
    "    num_tokens.append(len(tokens))\n",
    "    pbar.update()\n",
    "  pbar.close()\n",
    "\n",
    "  plt.figure()\n",
    "  # create the histogram\n",
    "  plt.hist(num_tokens, bins=4)\n",
    "  # add labels\n",
    "  plt.xlabel(\"Number of tokens\")\n",
    "  plt.xlim(0, 50)\n",
    "  plt.ylabel(\"Frequency\")\n",
    "  plt.title(f\"Distribution of Token Counts in Questions in the {name} Dataset\")\n",
    "\n",
    "  plt.savefig(f\"{name}-{col_name}.png\", format=\"png\")\n",
    "\n",
    "  # display the plot\n",
    "  plt.show()\n",
    "  return num_tokens"
   ]
  },
  {
   "cell_type": "markdown",
   "metadata": {
    "id": "fJXU8gcAN6fz"
   },
   "source": [
    "# Stanford Question Answering Dataset (SQuAD)\n",
    "is a reading comprehension dataset, consisting of questions posed by crowdworkers on a set of Wikipedia articles, where the answer to every question is a segment of text, or span, from the corresponding reading passage, or the question might be unanswerable.\n",
    "\n",
    "You can download the dataset from the Hugging Face Hub.\n",
    "For more info, visit ->  [Squad Dataset](https://huggingface.co/datasets/squad)"
   ]
  },
  {
   "cell_type": "code",
   "execution_count": 5,
   "metadata": {
    "id": "LLbx1zMrOFSd",
    "vscode": {
     "languageId": "python"
    }
   },
   "outputs": [],
   "source": [
    "%%capture\n",
    "\n",
    "# Get dataset, both splits \n",
    "squad_dataset = load_dataset(\"squad\", split=\"train+validation\")"
   ]
  },
  {
   "cell_type": "markdown",
   "metadata": {
    "id": "u6tUsWu92fPN"
   },
   "source": [
    "An example row:\n",
    "<blockquote>\n",
    "    \n",
    "    \"answers\": {\n",
    "    \"answer_start\": [1],\n",
    "    \"text\": [\"This is a test text\"]\n",
    "    },\n",
    "    \"context\": \"This is a test context.\",\n",
    "    \"id\": \"1\",\n",
    "    \"question\": \"Is this a test?\",\n",
    "    \"title\": \"train test\"}\n",
    "</blockquote>\n",
    "\n",
    "Data Fields\n",
    "\n",
    "<blockquote>\n",
    "\n",
    "- id: a string feature.\n",
    "- title: a string feature.\n",
    "- context: a string feature.\n",
    "- question: a string feature.\n",
    "- answers: a dictionary feature containing:\n",
    "  - text: a string feature.\n",
    "  - answer_start: a int32 feature.\n",
    "  \n",
    "</blockquote>"
   ]
  },
  {
   "cell_type": "markdown",
   "metadata": {
    "id": "kI-npOE07JT8"
   },
   "source": [
    "## Data Exploration and Visualization\n",
    "\n"
   ]
  },
  {
   "cell_type": "code",
   "execution_count": 6,
   "metadata": {
    "colab": {
     "base_uri": "https://localhost:8080/"
    },
    "id": "yCyjKh-d7BMQ",
    "outputId": "35b8f3fd-97c3-4f7b-fb43-e23f1a4fe8fe",
    "vscode": {
     "languageId": "python"
    }
   },
   "outputs": [
    {
     "name": "stdout",
     "output_type": "stream",
     "text": [
      "Number of rows: 98169\n",
      "Number of columns: 5\n",
      "An example row: {'id': '5733be284776f41900661182', 'title': 'University_of_Notre_Dame', 'context': 'Architecturally, the school has a Catholic character. Atop the Main Building\\'s gold dome is a golden statue of the Virgin Mary. Immediately in front of the Main Building and facing it, is a copper statue of Christ with arms upraised with the legend \"Venite Ad Me Omnes\". Next to the Main Building is the Basilica of the Sacred Heart. Immediately behind the basilica is the Grotto, a Marian place of prayer and reflection. It is a replica of the grotto at Lourdes, France where the Virgin Mary reputedly appeared to Saint Bernadette Soubirous in 1858. At the end of the main drive (and in a direct line that connects through 3 statues and the Gold Dome), is a simple, modern stone statue of Mary.', 'question': 'To whom did the Virgin Mary allegedly appear in 1858 in Lourdes France?', 'answers': {'text': ['Saint Bernadette Soubirous'], 'answer_start': [515]}}\n",
      "Column names: ['id', 'title', 'context', 'question', 'answers']\n"
     ]
    }
   ],
   "source": [
    "print(f\"Number of rows: {squad_dataset.num_rows}\")\n",
    "\n",
    "print(f\"Number of columns: {squad_dataset.num_columns}\")\n",
    "\n",
    "entry = squad_dataset[0]\n",
    "print(f\"An example row: {entry}\")  # print first entry\n",
    "\n",
    "print(f\"Column names: {squad_dataset.column_names}\") # print column names"
   ]
  },
  {
   "cell_type": "markdown",
   "metadata": {
    "id": "ZYYfB0VN8fDK"
   },
   "source": [
    "We can see that the question text contains a string in natural language. We would like understand some properties of the data. As a start, let's analyze the lengths of different sentences. We will make a histogram of the number of words in each question over the full corpus."
   ]
  },
  {
   "cell_type": "code",
   "execution_count": 7,
   "metadata": {
    "colab": {
     "base_uri": "https://localhost:8080/",
     "height": 316
    },
    "id": "XD9xxMiu-Zih",
    "outputId": "692257d2-e03c-4023-dcfe-7497eabf33a3",
    "vscode": {
     "languageId": "python"
    }
   },
   "outputs": [
    {
     "name": "stderr",
     "output_type": "stream",
     "text": [
      "100%|██████████| 98169/98169 [00:09<00:00, 10324.38it/s]\n"
     ]
    },
    {
     "data": {
      "image/png": "[encoded data removed]",
      "text/plain": [
       "<Figure size 432x288 with 1 Axes>"
      ]
     },
     "metadata": {},
     "output_type": "display_data"
    }
   ],
   "source": [
    "num_tokens = make_histogram(dataset = squad_dataset, col_name = 'question')"
   ]
  },
  {
   "cell_type": "markdown",
   "metadata": {
    "id": "wi4M_xwmApCD"
   },
   "source": [
    "questions:\n",
    "\n",
    "* How many words is the shortest question and how many sentences have that length? \n",
    "* Similarly, how many words is the longest question and how many sentences have that length?"
   ]
  },
  {
   "cell_type": "code",
   "execution_count": 8,
   "metadata": {
    "colab": {
     "base_uri": "https://localhost:8080/"
    },
    "id": "tIq9DqiiAoxW",
    "outputId": "811e02ee-77b5-475e-8514-f22251bbedc5",
    "vscode": {
     "languageId": "python"
    }
   },
   "outputs": [
    {
     "name": "stdout",
     "output_type": "stream",
     "text": [
      "10 question have 1 tokens.\n",
      "1 question has 40 tokens.\n"
     ]
    }
   ],
   "source": [
    "from collections import Counter\n",
    "\n",
    "token_counter = Counter(num_tokens)\n",
    "shortest = min(num_tokens)\n",
    "longest = max(num_tokens)\n",
    "num_shortest = token_counter[shortest]\n",
    "num_longest = token_counter[longest]\n",
    "\n",
    "print(f'{num_shortest} question have {shortest} tokens.')\n",
    "print(f'{num_longest} question has {longest} tokens.')"
   ]
  },
  {
   "cell_type": "code",
   "execution_count": 9,
   "metadata": {
    "colab": {
     "base_uri": "https://localhost:8080/",
     "height": 34
    },
    "id": "KQVbs1Am_TkY",
    "outputId": "c6fd5680-7026-4a37-af68-7d0d3b43437b",
    "vscode": {
     "languageId": "python"
    }
   },
   "outputs": [
    {
     "name": "stdout",
     "output_type": "stream",
     "text": [
      "['k', 'j', 'n', 'b', 'v', 'dd', 'dd', 'dd', 'dd', 'd']\n"
     ]
    }
   ],
   "source": [
    "# print out the shortest question entries\n",
    "shortest = 1\n",
    "short_questions = []\n",
    "for entry in squad_dataset:\n",
    "  tokens = entry['question'].split()\n",
    "  if len(tokens) == shortest:\n",
    "    short_questions.append(entry['question'])\n",
    "\n",
    "print(short_questions)"
   ]
  },
  {
   "cell_type": "code",
   "execution_count": 10,
   "metadata": {
    "colab": {
     "base_uri": "https://localhost:8080/"
    },
    "id": "7_kIBXttBgQ5",
    "outputId": "00467eba-1678-437d-d0a3-8db351169ab8",
    "vscode": {
     "languageId": "python"
    }
   },
   "outputs": [
    {
     "name": "stdout",
     "output_type": "stream",
     "text": [
      "Which century is considered by some as a \"drab\" period, however saw significant advancements in the practice of medicine, mathematics, and physics, the development of biological taxonomy, a new understanding of magnetism, and the maturation of chemistry as a discipline?\n"
     ]
    }
   ],
   "source": [
    "# print out the longest question entry\n",
    "max_tokens = 0\n",
    "longest_question = None\n",
    "for entry in squad_dataset:\n",
    "    tokens = entry['question'].split()\n",
    "    if len(tokens) > max_tokens:\n",
    "      longest_question = entry['question']\n",
    "      max_tokens = len(tokens)\n",
    "print(longest_question)"
   ]
  },
  {
   "cell_type": "code",
   "execution_count": 11,
   "metadata": {
    "colab": {
     "base_uri": "https://localhost:8080/",
     "height": 299
    },
    "id": "7PDbzqE4B5r_",
    "outputId": "b40d2600-ef53-45ce-d2f2-12b3c2a68a76",
    "vscode": {
     "languageId": "python"
    }
   },
   "outputs": [
    {
     "data": {
      "image/png": "[encoded data removed]",
      "text/plain": [
       "<Figure size 432x288 with 1 Axes>"
      ]
     },
     "metadata": {},
     "output_type": "display_data"
    }
   ],
   "source": [
    "# Re-plot the histogram in log frequency space. \n",
    "plt.figure()\n",
    "plt.hist(num_tokens, bins=4, log=True)\n",
    "plt.xlabel(\"Number of tokens\")\n",
    "plt.ylabel(\"Log frequency\")\n",
    "plt.title(\"Distribution of Token Counts in Questions in the SQUAD Dataset(Log Scale)\")\n",
    "plt.savefig(\"SQUAD-question-log.png\", format=\"png\")\n",
    "plt.show()"
   ]
  },
  {
   "cell_type": "markdown",
   "metadata": {
    "id": "qV-7vfu1D8e6"
   },
   "source": [
    "### Vocabulary Analysis\n",
    "\n",
    "Next, Lets look at how the vocabulary size grows as the dataset size grows. This can help us get a gauge on when new vocabulary words (new inputs) are entering the dataset.\n",
    "\n",
    "We will make a plot of the number of unique tokens (i.e. \"vocabulary\") as a function of the number of sentences in the corpus. That is, the x-axis should be a number from 0 to the length of the dataset, and the y-axis should be \n",
    "a number greater than 0 for unique count."
   ]
  },
  {
   "cell_type": "code",
   "execution_count": 12,
   "metadata": {
    "colab": {
     "base_uri": "https://localhost:8080/"
    },
    "id": "a8ob7TH1EtHp",
    "outputId": "08f84f41-31b3-4ee1-decf-220aea70dcb7",
    "vscode": {
     "languageId": "python"
    }
   },
   "outputs": [
    {
     "name": "stderr",
     "output_type": "stream",
     "text": [
      "100%|██████████| 98169/98169 [00:12<00:00, 7614.57it/s]\n"
     ]
    }
   ],
   "source": [
    "from collections import defaultdict\n",
    "\n",
    "vocab = defaultdict(lambda: 0)\n",
    "# after 0 sentences, vocab size is at 0. \n",
    "vocab_sizes = [0]\n",
    "\n",
    "# Plot the vocabulary against the number of sentences. \n",
    "for i in tqdm(range(len(squad_dataset)), leave=True, position=0):\n",
    "  entry = squad_dataset[i]\n",
    "  tokens = entry['question'].split()\n",
    "  for token in tokens:\n",
    "    vocab[token] += 1\n",
    "  vocab_sizes.append(len(vocab))"
   ]
  },
  {
   "cell_type": "code",
   "execution_count": 13,
   "metadata": {
    "colab": {
     "base_uri": "https://localhost:8080/",
     "height": 299
    },
    "id": "GEclhQkzJkLJ",
    "outputId": "5663ffe0-ff2d-414e-c315-c9e138e8e9fd",
    "vscode": {
     "languageId": "python"
    }
   },
   "outputs": [
    {
     "data": {
      "image/png": "[encoded data removed]",
      "text/plain": [
       "<Figure size 432x288 with 1 Axes>"
      ]
     },
     "metadata": {},
     "output_type": "display_data"
    }
   ],
   "source": [
    "# PLOT\n",
    "plt.figure()\n",
    "plt.plot(vocab_sizes)\n",
    "plt.xlabel('Number of Sentences in Corpus')\n",
    "plt.ylabel('Unique Token Count')\n",
    "plt.title(\"Unique Vocabulary Growth with Increasing Corpus Size\")\n",
    "plt.savefig(\"SQUAD-vocab-size.png\", format=\"png\")\n",
    "plt.show()"
   ]
  },
  {
   "cell_type": "markdown",
   "metadata": {
    "id": "4JYofaafE7V5"
   },
   "source": [
    "* How big is the vocabulary size? \n",
    "* How big is the vocabulary for words appearing more than once? \n",
    "* How big is the vocabulary for words appearing more than three times?"
   ]
  },
  {
   "cell_type": "code",
   "execution_count": 14,
   "metadata": {
    "colab": {
     "base_uri": "https://localhost:8080/"
    },
    "id": "zGE-nAQiE8s-",
    "outputId": "11ba4950-a699-454a-ad48-760ae1564674",
    "vscode": {
     "languageId": "python"
    }
   },
   "outputs": [
    {
     "name": "stdout",
     "output_type": "stream",
     "text": [
      "68600 words in vocab.\n",
      "32868 words appearing > 1 times.\n",
      "17752 words appearing > 3 times.\n"
     ]
    }
   ],
   "source": [
    "print(f'{len(vocab)} words in vocab.')\n",
    "print(f'{len([k for k in vocab if vocab[k] > 1])} words appearing > 1 times.')\n",
    "print(f'{len([k for k in vocab if vocab[k] > 3])} words appearing > 3 times.')"
   ]
  },
  {
   "cell_type": "markdown",
   "metadata": {
    "id": "Bbl4ndMxFVt6"
   },
   "source": [
    "Looks like vocabulary continues to grow as a function of the dataset size. There are more than 60k unique words in the vocabulary! \n",
    "One of the challenging properties is the sheer number of unique words.\n",
    "\n",
    "Lets find the words that appear more frequently than others and also the words that appear less frequently"
   ]
  },
  {
   "cell_type": "code",
   "execution_count": 15,
   "metadata": {
    "colab": {
     "base_uri": "https://localhost:8080/"
    },
    "id": "R1_yhoA-F6k3",
    "outputId": "6406e8de-70f6-4736-f951-8df06475e2d0",
    "vscode": {
     "languageId": "python"
    }
   },
   "outputs": [
    {
     "name": "stdout",
     "output_type": "stream",
     "text": [
      "Most frequent:\n",
      "['the' 'What' 'of' 'in' 'to' 'was' 'is' 'did' 'what' 'a' 'Who' 'How' 'and'\n",
      " 'for' 'many' 'are' 'When' 'that' 'does' 'were' 'In' 'Which' 'on' 'with'\n",
      " 'by' 'Where' 'as' 'from' 'The' 'be' 'year' 'do' 'first' 'name' 'have'\n",
      " 'an' 'which' 'type' 'at' 'has' 'what?' 'used' 'can' 'most' 'their'\n",
      " 'other' 'how' 'his' 'people' 'two' 'during' 'much' 'when' 'one' 'Why'\n",
      " 'after' 'it' 'not' 'or' 'its' 'had' 'New' 'use' 'been' 'city' 'who'\n",
      " 'about' 'between' 'known' 'part' 'would' 'to?' 'more' 'kind' 'some'\n",
      " 'term' 'new' 'this' 'into' 'for?' 'group' 'than' 'country' 'made'\n",
      " 'American' 'long' 'percentage' 'time' 'population' 'of?' 'called' 'take'\n",
      " 'up' 'called?' 'become' 'have?' 'On' 'state' 'there' 'being' 'language'\n",
      " '?' 'system' 'considered' 'located?' 'they' 'he' 'US' 'from?' 'make'\n",
      " 'British']\n",
      "\n",
      "Least frequent:\n",
      "['2039' '2037' 'imployed' '12-month' 'mid-1920s?' 'policing,' 'countires,'\n",
      " 'showers?' 'dewpoint' 'DEECD?' 'XPT' 'tram-dominated' 'modernisation'\n",
      " 'sprawn' 'accelerated' '1906?' 'politicians?' '\"keeper' 'vigorous'\n",
      " 'Arline' '1211' 'seize?' 'Poitou?' 'Bouvines?' 'Carl?' 'besieged'\n",
      " 'Laboratory' 'visit,' 'Tuva' 'mobilised?' 'Assize' 'ira' 'ill-will'\n",
      " 'stead?' 'LSD' 'supposed?' 'fresh,' 'dysentery?' 'approach?\"' 'renown\"'\n",
      " '54' 'galleys' 'remarried?' 'higher-ups' 'scutage' 'levi' 'Gaillard'\n",
      " 'unlikely,' 'Lusignan' 'Evreux' 'Mortain?' 'Alais?' 'summarised' 'odds,'\n",
      " 'Troublesome' \"Munday's\" 'flawed' '1216' 'motivated?' '\"lull\"' 'conjugal'\n",
      " 'predecessors' \"Gaddifi's\" 'Loire' 'pressed' 'viewpoint?' 'Gaddifi'\n",
      " '3MBS' 'bisexual,' 'lesbian,' 'Eight?' 'Prato,' 'secondmost'\n",
      " 'Greek-speaking' 'seaport?' 'strengths?' 'condominiums,' 'townhouses,'\n",
      " 'addendum' 'excommunicated?' 'coroners' 'connoisseur' 'Gleick' 'deserted'\n",
      " 'convince?' 'Goulet' 'alliances?' 'anti-French' 'baron' 'Coutances'\n",
      " 'grew,' 'Longchamp' 'Puiset?' 'formalised?' 'Aquitaine' '1183?' 'Hubert'\n",
      " 'rage?' 'jewels?' 'newtons?']\n"
     ]
    }
   ],
   "source": [
    "most_frequent = []\n",
    "least_frequent = []\n",
    "\n",
    "# Print the most frequent 100 words, and the least frequent 100 words. \n",
    "words = np.array(list(vocab.keys()))\n",
    "counts = np.array([vocab[w] for w in words])\n",
    "words_ordered = words[np.argsort(counts)[::-1]]\n",
    "most_frequent = words_ordered[:111]\n",
    "least_frequent = words_ordered[-100:]\n",
    "\n",
    "print('Most frequent:')\n",
    "print(most_frequent)\n",
    "print()\n",
    "print('Least frequent:')\n",
    "print(least_frequent)"
   ]
  },
  {
   "cell_type": "markdown",
   "metadata": {
    "id": "I-H96kmHEJsM"
   },
   "source": [
    "After inspecting the data. Using our data analysis above, we will remove the following outliers: \n",
    "\n",
    "- remove the 10 questions that have 1 token.\n",
    "- remove the 1 question with 40 tokens.\n"
   ]
  },
  {
   "cell_type": "code",
   "execution_count": 16,
   "metadata": {
    "colab": {
     "base_uri": "https://localhost:8080/"
    },
    "id": "rWufVQGxD715",
    "outputId": "2d2cad31-6c63-4f39-f986-860833cf65bd",
    "vscode": {
     "languageId": "python"
    }
   },
   "outputs": [
    {
     "name": "stdout",
     "output_type": "stream",
     "text": [
      "Number of outliers: 11.\n"
     ]
    }
   ],
   "source": [
    "# CLEANING THE DATASET\n",
    "bad_indices = []\n",
    "\n",
    "# Type 1: too long\n",
    "num_tokens = np.array(num_tokens)\n",
    "sus_indices = np.arange(len(squad_dataset))[num_tokens == 40]\n",
    "bad_indices.extend(sus_indices.tolist())\n",
    "\n",
    "# Type 2: too short\n",
    "sus_indices = np.arange(len(squad_dataset))[num_tokens == 1]\n",
    "bad_indices.extend(sus_indices.tolist())\n",
    "\n",
    "print(f'Number of outliers: {len(bad_indices)}.')"
   ]
  },
  {
   "cell_type": "code",
   "execution_count": 17,
   "metadata": {
    "colab": {
     "base_uri": "https://localhost:8080/",
     "height": 84,
     "referenced_widgets": [
      "7ffd537c417643e189352274e4b8162e",
      "45dad7360ea54a709a722b14c0bb6362",
      "b387d48ce9d942b0b261eafcb8e41f94",
      "35dd63c5f0464aa9a28ccd861e87d2c3",
      "f7d37136a8014b59b886f2044f978303",
      "1cff243f4ee04a9397433f96f9128b86",
      "97480153196a46dd9c5334323682597d",
      "2544987f30c642ed9c2cd6d9d2b1298f",
      "1e99f36a1eb24fe09786c96d8d83b05d",
      "26e804f21ce54c438dc95acadafa72fb",
      "3b394234c63245d3bc15690cb1ca219f"
     ]
    },
    "id": "AjvkTeypPmuU",
    "outputId": "46d949a9-464c-4ac6-d74e-d22417924ff3",
    "vscode": {
     "languageId": "python"
    }
   },
   "outputs": [
    {
     "name": "stdout",
     "output_type": "stream",
     "text": [
      "Original dataset has 98169 rows.\n"
     ]
    },
    {
     "data": {
      "application/vnd.jupyter.widget-view+json": {
       "model_id": "7ffd537c417643e189352274e4b8162e",
       "version_major": 2,
       "version_minor": 0
      },
      "text/plain": [
       "  0%|          | 0/99 [00:00<?, ?ba/s]"
      ]
     },
     "metadata": {},
     "output_type": "display_data"
    },
    {
     "name": "stdout",
     "output_type": "stream",
     "text": [
      "Cleaned dataset has 98158 rows.\n"
     ]
    }
   ],
   "source": [
    "print(f'Original dataset has {len(squad_dataset)} rows.')\n",
    "\n",
    "# remove_corrupted_examples\n",
    "squad_dataset = squad_dataset.filter(lambda x: len(x[\"question\"].split()) not in (1, 40))\n",
    "\n",
    "print(f'Cleaned dataset has {len(squad_dataset)} rows.')"
   ]
  },
  {
   "cell_type": "code",
   "execution_count": 18,
   "metadata": {
    "colab": {
     "base_uri": "https://localhost:8080/"
    },
    "id": "KFkr2XMgPMs0",
    "outputId": "bc8a61d4-f498-49f4-d417-20027468e17a",
    "vscode": {
     "languageId": "python"
    }
   },
   "outputs": [
    {
     "name": "stdout",
     "output_type": "stream",
     "text": [
      "Number of rows and columns in the cleaned dataset -> (98158, 5)\n",
      "Number of rows and columns in dataset after dropping duplicates and selecting relevant columns -> (20958, 3)\n"
     ]
    }
   ],
   "source": [
    "# convert to a pandas dataframe\n",
    "squad_dataset.set_format(\"pandas\")\n",
    "df = squad_dataset[:]\n",
    "print(\"Number of rows and columns in the cleaned dataset ->\", df.shape)\n",
    "# drop rows containing duplicate context passages\n",
    "df = df.drop_duplicates(subset=\"context\").reset_index(drop=True)\n",
    "# select only title and context column\n",
    "squad_df = df[[\"title\", \"context\", \"question\"]]\n",
    "print(\"Number of rows and columns in dataset after dropping duplicates and selecting relevant columns ->\", squad_df.shape)"
   ]
  },
  {
   "cell_type": "code",
   "execution_count": 22,
   "metadata": {
    "colab": {
     "base_uri": "https://localhost:8080/",
     "height": 347
    },
    "id": "y3G8F_GjJa25",
    "outputId": "789193d6-2c9d-4697-bdf8-f29114bc1450",
    "vscode": {
     "languageId": "python"
    }
   },
   "outputs": [
    {
     "data": {
      "text/html": [
       "\n",
       "  <div id=\"df-e4164bb2-dd91-4c27-80e9-e06a32bc5b04\">\n",
       "    <div class=\"colab-df-container\">\n",
       "      <div>\n",
       "<style scoped>\n",
       "    .dataframe tbody tr th:only-of-type {\n",
       "        vertical-align: middle;\n",
       "    }\n",
       "\n",
       "    .dataframe tbody tr th {\n",
       "        vertical-align: top;\n",
       "    }\n",
       "\n",
       "    .dataframe thead th {\n",
       "        text-align: right;\n",
       "    }\n",
       "</style>\n",
       "<table border=\"1\" class=\"dataframe\">\n",
       "  <thead>\n",
       "    <tr style=\"text-align: right;\">\n",
       "      <th></th>\n",
       "      <th>title</th>\n",
       "      <th>context</th>\n",
       "      <th>question</th>\n",
       "    </tr>\n",
       "  </thead>\n",
       "  <tbody>\n",
       "    <tr>\n",
       "      <th>0</th>\n",
       "      <td>University_of_Notre_Dame</td>\n",
       "      <td>Architecturally, the school has a Catholic character. Atop the Main Building's gold dome is a golden statue of the Virgin Mary. Immediately in front of the Main Building and facing it, is a copper statue of Christ with arms upraised with the legend \"Venite Ad Me Omnes\". Next to the Main Building is the Basilica of the Sacred Heart. Immediately behind the basilica is the Grotto, a Marian place of prayer and reflection. It is a replica of the grotto at Lourdes, France where the Virgin Mary reputedly appeared to Saint Bernadette Soubirous in 1858. At the end of the main drive (and in a direct line that connects through 3 statues and the Gold Dome), is a simple, modern stone statue of Mary.</td>\n",
       "      <td>To whom did the Virgin Mary allegedly appear in 1858 in Lourdes France?</td>\n",
       "    </tr>\n",
       "    <tr>\n",
       "      <th>1</th>\n",
       "      <td>University_of_Notre_Dame</td>\n",
       "      <td>As at most other universities, Notre Dame's students run a number of news media outlets. The nine student-run outlets include three newspapers, both a radio and television station, and several magazines and journals. Begun as a one-page journal in September 1876, the Scholastic magazine is issued twice monthly and claims to be the oldest continuous collegiate publication in the United States. The other magazine, The Juggler, is released twice a year and focuses on student literature and artwork. The Dome yearbook is published annually. The newspapers have varying publication interests, with The Observer published daily and mainly reporting university and other news, and staffed by students from both Notre Dame and Saint Mary's College. Unlike Scholastic and The Dome, The Observer is an independent publication and does not have a faculty advisor or any editorial oversight from the University. In 1987, when some students believed that The Observer began to show a conservative bias, a liberal newspaper, Common Sense was published. Likewise, in 2003, when other students believed that the paper showed a liberal bias, the conservative paper Irish Rover went into production. Neither paper is published as often as The Observer; however, all three are distributed to all students. Finally, in Spring 2008 an undergraduate journal for political science research, Beyond Politics, made its debut.</td>\n",
       "      <td>When did the Scholastic Magazine of Notre dame begin publishing?</td>\n",
       "    </tr>\n",
       "  </tbody>\n",
       "</table>\n",
       "</div>\n",
       "      <button class=\"colab-df-convert\" onclick=\"convertToInteractive('df-e4164bb2-dd91-4c27-80e9-e06a32bc5b04')\"\n",
       "              title=\"Convert this dataframe to an interactive table.\"\n",
       "              style=\"display:none;\">\n",
       "        \n",
       "  <svg xmlns=\"http://www.w3.org/2000/svg\" height=\"24px\"viewBox=\"0 0 24 24\"\n",
       "       width=\"24px\">\n",
       "    <path d=\"M0 0h24v24H0V0z\" fill=\"none\"/>\n",
       "    <path d=\"M18.56 5.44l.94 2.06.94-2.06 2.06-.94-2.06-.94-.94-2.06-.94 2.06-2.06.94zm-11 1L8.5 8.5l.94-2.06 2.06-.94-2.06-.94L8.5 2.5l-.94 2.06-2.06.94zm10 10l.94 2.06.94-2.06 2.06-.94-2.06-.94-.94-2.06-.94 2.06-2.06.94z\"/><path d=\"M17.41 7.96l-1.37-1.37c-.4-.4-.92-.59-1.43-.59-.52 0-1.04.2-1.43.59L10.3 9.45l-7.72 7.72c-.78.78-.78 2.05 0 2.83L4 21.41c.39.39.9.59 1.41.59.51 0 1.02-.2 1.41-.59l7.78-7.78 2.81-2.81c.8-.78.8-2.07 0-2.86zM5.41 20L4 18.59l7.72-7.72 1.47 1.35L5.41 20z\"/>\n",
       "  </svg>\n",
       "      </button>\n",
       "      \n",
       "  <style>\n",
       "    .colab-df-container {\n",
       "      display:flex;\n",
       "      flex-wrap:wrap;\n",
       "      gap: 12px;\n",
       "    }\n",
       "\n",
       "    .colab-df-convert {\n",
       "      background-color: #E8F0FE;\n",
       "      border: none;\n",
       "      border-radius: 50%;\n",
       "      cursor: pointer;\n",
       "      display: none;\n",
       "      fill: #1967D2;\n",
       "      height: 32px;\n",
       "      padding: 0 0 0 0;\n",
       "      width: 32px;\n",
       "    }\n",
       "\n",
       "    .colab-df-convert:hover {\n",
       "      background-color: #E2EBFA;\n",
       "      box-shadow: 0px 1px 2px rgba(60, 64, 67, 0.3), 0px 1px 3px 1px rgba(60, 64, 67, 0.15);\n",
       "      fill: #174EA6;\n",
       "    }\n",
       "\n",
       "    [theme=dark] .colab-df-convert {\n",
       "      background-color: #3B4455;\n",
       "      fill: #D2E3FC;\n",
       "    }\n",
       "\n",
       "    [theme=dark] .colab-df-convert:hover {\n",
       "      background-color: #434B5C;\n",
       "      box-shadow: 0px 1px 3px 1px rgba(0, 0, 0, 0.15);\n",
       "      filter: drop-shadow(0px 1px 2px rgba(0, 0, 0, 0.3));\n",
       "      fill: #FFFFFF;\n",
       "    }\n",
       "  </style>\n",
       "\n",
       "      <script>\n",
       "        const buttonEl =\n",
       "          document.querySelector('#df-e4164bb2-dd91-4c27-80e9-e06a32bc5b04 button.colab-df-convert');\n",
       "        buttonEl.style.display =\n",
       "          google.colab.kernel.accessAllowed ? 'block' : 'none';\n",
       "\n",
       "        async function convertToInteractive(key) {\n",
       "          const element = document.querySelector('#df-e4164bb2-dd91-4c27-80e9-e06a32bc5b04');\n",
       "          const dataTable =\n",
       "            await google.colab.kernel.invokeFunction('convertToInteractive',\n",
       "                                                     [key], {});\n",
       "          if (!dataTable) return;\n",
       "\n",
       "          const docLinkHtml = 'Like what you see? Visit the ' +\n",
       "            '<a target=\"_blank\" href=https://colab.research.google.com/notebooks/data_table.ipynb>data table notebook</a>'\n",
       "            + ' to learn more about interactive tables.';\n",
       "          element.innerHTML = '';\n",
       "          dataTable['output_type'] = 'display_data';\n",
       "          await google.colab.output.renderOutput(dataTable, element);\n",
       "          const docLink = document.createElement('div');\n",
       "          docLink.innerHTML = docLinkHtml;\n",
       "          element.appendChild(docLink);\n",
       "        }\n",
       "      </script>\n",
       "    </div>\n",
       "  </div>\n",
       "  "
      ],
      "text/plain": [
       "                      title  \\\n",
       "0  University_of_Notre_Dame   \n",
       "1  University_of_Notre_Dame   \n",
       "\n",
       "                                                                                                                                                                                                                                                                                                                                                                                                                                                                                                                                                                                                                                                                                                                                                                                                                                                                                                                                                                                                                                                                                                                                                                                                                                                                                                                                                                                                                                                         context  \\\n",
       "0                                                                                                                                                                                                                                                                                                                                                                                                                                                                                                                                                                                                                                                                                                                                        Architecturally, the school has a Catholic character. Atop the Main Building's gold dome is a golden statue of the Virgin Mary. Immediately in front of the Main Building and facing it, is a copper statue of Christ with arms upraised with the legend \"Venite Ad Me Omnes\". Next to the Main Building is the Basilica of the Sacred Heart. Immediately behind the basilica is the Grotto, a Marian place of prayer and reflection. It is a replica of the grotto at Lourdes, France where the Virgin Mary reputedly appeared to Saint Bernadette Soubirous in 1858. At the end of the main drive (and in a direct line that connects through 3 statues and the Gold Dome), is a simple, modern stone statue of Mary.   \n",
       "1  As at most other universities, Notre Dame's students run a number of news media outlets. The nine student-run outlets include three newspapers, both a radio and television station, and several magazines and journals. Begun as a one-page journal in September 1876, the Scholastic magazine is issued twice monthly and claims to be the oldest continuous collegiate publication in the United States. The other magazine, The Juggler, is released twice a year and focuses on student literature and artwork. The Dome yearbook is published annually. The newspapers have varying publication interests, with The Observer published daily and mainly reporting university and other news, and staffed by students from both Notre Dame and Saint Mary's College. Unlike Scholastic and The Dome, The Observer is an independent publication and does not have a faculty advisor or any editorial oversight from the University. In 1987, when some students believed that The Observer began to show a conservative bias, a liberal newspaper, Common Sense was published. Likewise, in 2003, when other students believed that the paper showed a liberal bias, the conservative paper Irish Rover went into production. Neither paper is published as often as The Observer; however, all three are distributed to all students. Finally, in Spring 2008 an undergraduate journal for political science research, Beyond Politics, made its debut.   \n",
       "\n",
       "                                                                  question  \n",
       "0  To whom did the Virgin Mary allegedly appear in 1858 in Lourdes France?  \n",
       "1         When did the Scholastic Magazine of Notre dame begin publishing?  "
      ]
     },
     "execution_count": 22,
     "metadata": {},
     "output_type": "execute_result"
    }
   ],
   "source": [
    "squad_df.to_csv(\"/content/drive/My Drive/squad_df_cleaned.csv\", index=False)\n",
    "squad_df.head(2)"
   ]
  },
  {
   "cell_type": "code",
   "execution_count": 20,
   "metadata": {
    "colab": {
     "base_uri": "https://localhost:8080/"
    },
    "id": "jm2zgwFbobht",
    "outputId": "88fddb8f-8cb6-4b67-a649-4055bef6c3e0",
    "vscode": {
     "languageId": "python"
    }
   },
   "outputs": [
    {
     "name": "stdout",
     "output_type": "stream",
     "text": [
      "Dataset({\n",
      "    features: ['title', 'context', 'question'],\n",
      "    num_rows: 20958\n",
      "})\n"
     ]
    }
   ],
   "source": [
    "from datasets import Dataset\n",
    "\n",
    "squad_dataset_cleaned = Dataset.from_pandas(squad_df)\n",
    "print(squad_dataset_cleaned)\n",
    "\n",
    "squad_dataset.reset_format()"
   ]
  },
  {
   "cell_type": "markdown",
   "metadata": {
    "id": "gDqcdEPsKZRB"
   },
   "source": [
    "### Turn text into embeddings"
   ]
  },
  {
   "cell_type": "code",
   "execution_count": 27,
   "metadata": {
    "id": "RCE_u7tLLMiD",
    "vscode": {
     "languageId": "python"
    }
   },
   "outputs": [],
   "source": [
    "# take only the first 1000 rows\n",
    "sample_df = squad_df.sample(frac=1).reset_index(drop=True).sample(n=1000)"
   ]
  },
  {
   "cell_type": "code",
   "execution_count": 28,
   "metadata": {
    "id": "Fd0UzxpdKWCS",
    "vscode": {
     "languageId": "python"
    }
   },
   "outputs": [],
   "source": [
    "# Get text embeddings FUNCTION\n",
    "def get_embeddings(texts,model='large'):\n",
    "  output = co.embed(\n",
    "                model=model,\n",
    "                texts=texts)\n",
    "  return output.embeddings"
   ]
  },
  {
   "cell_type": "code",
   "execution_count": 29,
   "metadata": {
    "colab": {
     "base_uri": "https://localhost:8080/",
     "height": 899
    },
    "id": "f4a_VdQrKlHS",
    "outputId": "beabd294-102f-4dfb-cb29-5b09354ed1d2",
    "vscode": {
     "languageId": "python"
    }
   },
   "outputs": [
    {
     "data": {
      "text/html": [
       "\n",
       "  <div id=\"df-d93fc6b1-c3b6-4765-aa76-a85bc594632b\">\n",
       "    <div class=\"colab-df-container\">\n",
       "      <div>\n",
       "<style scoped>\n",
       "    .dataframe tbody tr th:only-of-type {\n",
       "        vertical-align: middle;\n",
       "    }\n",
       "\n",
       "    .dataframe tbody tr th {\n",
       "        vertical-align: top;\n",
       "    }\n",
       "\n",
       "    .dataframe thead th {\n",
       "        text-align: right;\n",
       "    }\n",
       "</style>\n",
       "<table border=\"1\" class=\"dataframe\">\n",
       "  <thead>\n",
       "    <tr style=\"text-align: right;\">\n",
       "      <th></th>\n",
       "      <th>title</th>\n",
       "      <th>context</th>\n",
       "      <th>question</th>\n",
       "      <th>question_embeddings</th>\n",
       "    </tr>\n",
       "  </thead>\n",
       "  <tbody>\n",
       "    <tr>\n",
       "      <th>9974</th>\n",
       "      <td>Israel</td>\n",
       "      <td>In 1966, Shmuel Yosef Agnon shared the Nobel Prize in Literature with German Jewish author Nelly Sachs. Leading Israeli poets have been Yehuda Amichai, Nathan Alterman and Rachel Bluwstein. Internationally famous contemporary Israeli novelists include Amos Oz, Etgar Keret and David Grossman. The Israeli-Arab satirist Sayed Kashua (who writes in Hebrew) is also internationally known.[citation needed] Israel has also been the home of two leading Palestinian poets and writers: Emile Habibi, whose novel The Secret Life of Saeed the Pessoptimist, and other writings, won him the Israel prize for Arabic literature; and Mahmoud Darwish, considered by many to be \"the Palestinian national poet.\" Darwish was born and raised in northern Israel, but lived his adult life abroad after joining the Palestine Liberation Organization.[citation needed]</td>\n",
       "      <td>Shmuel Yosef Agnon shared the Nobel Prize with who in 1966?</td>\n",
       "      <td>[0.6538086, -1.0996094, 1.1191406, -1.1650391, -1.0361328, 0.37329102, -1.0126953, 0.08380127, 0.12133789, -0.9741211, -0.6723633, -0.61083984, -0.17590332, -1.6015625, -0.5463867, -1.6533203, -0.092285156, 1.7460938, 1.2832031, -1.1220703, -1.5742188, -0.39160156, -1.5546875, -0.26049805, 0.6791992, 2.6445312, 0.56640625, 2.2363281, -2.015625, -0.7885742, -2.40625, 1.2871094, -0.15600586, -0.8046875, 1.6630859, -0.53466797, -1.3945312, -1.9941406, 0.44311523, 0.6484375, -1.046875, -0.47973633, 0.3671875, 0.98828125, -0.4621582, 0.8901367, -1.0673828, 0.55566406, 4.1835938, 1.5048828, -0.09893799, 0.2142334, 1.5693359, -0.49169922, -0.11743164, 0.14892578, -0.52978516, -2.15625, -1.2744141, 0.82910156, -0.17456055, 1.0429688, 0.90283203, -1.1699219, 1.3681641, -1.3496094, -1.7089844, 0.35107422, -0.30371094, 0.18774414, 1.4267578, 1.4541016, -1.2568359, 0.7651367, -1.6640625, -0.47387695, 1.4755859, -0.75146484, -2.7207031, -0.09686279, 2.4082031, -0.03668213, 0.8647461, -1.3779297, -1.2363281, -0.028945923, 0.34960938, -0.72021484, -1.5205078, -1.171875, -0.09674072, -0.2298584, -2.203125, 0.0143585205, -1.3261719, -0.89453125, -0.6386719, -1.0546875, 1.7851562, -0.96972656, ...]</td>\n",
       "    </tr>\n",
       "    <tr>\n",
       "      <th>4126</th>\n",
       "      <td>Newcastle_upon_Tyne</td>\n",
       "      <td>There are several museums and galleries in Newcastle, including the Centre for Life with its Science Village; the Discovery Museum a museum highlighting life on Tyneside, including Tyneside's shipbuilding heritage, and inventions which changed the world; the Great North Museum; in 2009 the Newcastle on Tyne Museum of Antiquities merged with the Great North Museum (Hancock Museum); Seven Stories a museum dedicated to children's books, the Side Gallery historical and contemporary photography from around the world and Northern England and the Newburn Hall Motor Museum.</td>\n",
       "      <td>Where is the Science Village located?</td>\n",
       "      <td>[-0.021072388, -0.3010254, 0.20800781, 0.34887695, -2.21875, -1.7001953, 0.33618164, 1.7558594, -0.2109375, 1.1845703, -0.43725586, 0.30688477, -2.8300781, 1.0126953, 0.10345459, -0.36450195, -0.95654297, 1.3095703, 2.1582031, -1.0800781, -0.62109375, -0.6225586, 0.65478516, -0.117614746, 1.625, -0.71435547, 2.3691406, 1.703125, 0.9189453, -0.8129883, -1.0869141, 0.9111328, -0.7939453, 1.7509766, 0.9272461, -0.37109375, -1.6699219, -1.3310547, 1.7451172, -0.5288086, 1.21875, -0.2956543, 1.4082031, -0.375, 0.6245117, 0.28466797, 0.10882568, -0.53125, -0.14172363, -0.56347656, 0.40014648, 1.5732422, -1.21875, 0.77441406, 2.046875, -0.047546387, -1.7236328, -1.2744141, -0.56152344, -1.2099609, -0.71191406, -0.2626953, 2.1210938, -0.82666016, 0.84521484, 0.13134766, -0.54589844, 0.41259766, -0.67041016, -1.7255859, 1.1806641, 1.0859375, 0.3347168, -1.4082031, -0.56103516, -0.0012731552, -0.1385498, -0.054626465, -2.0800781, 0.30078125, 0.093566895, -0.23632812, 0.71875, 1.8525391, -0.8305664, 0.24475098, 0.36791992, -0.3347168, 1.359375, 1.6953125, 0.31689453, -0.98583984, -0.6538086, -0.5083008, 0.71484375, 1.0146484, -0.5307617, -1.0830078, -1.625, 0.55126953, ...]</td>\n",
       "    </tr>\n",
       "    <tr>\n",
       "      <th>16045</th>\n",
       "      <td>Intellectual_property</td>\n",
       "      <td>The stated objective of most intellectual property law (with the exception of trademarks) is to \"Promote progress.\" By exchanging limited exclusive rights for disclosure of inventions and creative works, society and the patentee/copyright owner mutually benefit, and an incentive is created for inventors and authors to create and disclose their work. Some commentators have noted that the objective of intellectual property legislators and those who support its implementation appears to be \"absolute protection\". \"If some intellectual property is desirable because it encourages innovation, they reason, more is better. The thinking is that creators will not have sufficient incentive to invent unless they are legally entitled to capture the full social value of their inventions\". This absolute protection or full value view treats intellectual property as another type of \"real\" property, typically adopting its law and rhetoric. Other recent developments in intellectual property law, such as the America Invents Act, stress international harmonization. Recently there has also been much debate over the desirability of using intellectual property rights to protect cultural heritage, including intangible ones, as well as over risks of commodification derived from this possibility. The issue still remains open in legal scholarship.</td>\n",
       "      <td>What is the stated objective of most intellectual property law?</td>\n",
       "      <td>[-0.36254883, -1.6943359, 0.14550781, 0.96533203, 1.0341797, 0.62158203, -3.0195312, -0.109375, -0.0769043, 0.6772461, -0.9267578, -2.3359375, 0.95166016, -1.9941406, -0.74658203, 1.0976562, 0.02130127, 0.62353516, 0.13745117, -0.5395508, -1.3554688, 1.1220703, 0.953125, -2.2675781, 1.921875, 3.4746094, 0.16064453, -1.7119141, 0.21520996, 0.5517578, -1.7822266, 0.78466797, 0.117370605, -1.0517578, 0.5019531, 2.0488281, -2.1230469, -2.7109375, 1.6337891, 1.625, -1.7304688, 1.7998047, 0.6972656, 0.021392822, 0.65185547, 0.0368042, -0.6791992, 2.3886719, -0.25097656, -2.5292969, 2.8984375, -0.9560547, -0.92041016, -0.54589844, 1.3183594, 0.45336914, -0.23583984, 1.7158203, 0.7392578, -0.48510742, 1.0351562, -0.9003906, 0.56152344, 1.0693359, 0.99560547, 2.1113281, 0.7006836, -0.7548828, -0.19250488, 0.020599365, 0.84033203, -0.20031738, 1.4648438, -1.0712891, 1.4492188, 0.73095703, -0.7626953, -1.9755859, -0.69384766, -0.12164307, -1.8398438, -1.1337891, 0.6933594, -1.0878906, -0.23095703, 0.98291016, -1.1123047, 0.47045898, -0.04598999, 0.17797852, -1.4111328, -0.8574219, -1.4970703, 1.6210938, 0.8847656, 0.04083252, -0.46484375, 3.1582031, -1.4970703, -0.8105469, ...]</td>\n",
       "    </tr>\n",
       "  </tbody>\n",
       "</table>\n",
       "</div>\n",
       "      <button class=\"colab-df-convert\" onclick=\"convertToInteractive('df-d93fc6b1-c3b6-4765-aa76-a85bc594632b')\"\n",
       "              title=\"Convert this dataframe to an interactive table.\"\n",
       "              style=\"display:none;\">\n",
       "        \n",
       "  <svg xmlns=\"http://www.w3.org/2000/svg\" height=\"24px\"viewBox=\"0 0 24 24\"\n",
       "       width=\"24px\">\n",
       "    <path d=\"M0 0h24v24H0V0z\" fill=\"none\"/>\n",
       "    <path d=\"M18.56 5.44l.94 2.06.94-2.06 2.06-.94-2.06-.94-.94-2.06-.94 2.06-2.06.94zm-11 1L8.5 8.5l.94-2.06 2.06-.94-2.06-.94L8.5 2.5l-.94 2.06-2.06.94zm10 10l.94 2.06.94-2.06 2.06-.94-2.06-.94-.94-2.06-.94 2.06-2.06.94z\"/><path d=\"M17.41 7.96l-1.37-1.37c-.4-.4-.92-.59-1.43-.59-.52 0-1.04.2-1.43.59L10.3 9.45l-7.72 7.72c-.78.78-.78 2.05 0 2.83L4 21.41c.39.39.9.59 1.41.59.51 0 1.02-.2 1.41-.59l7.78-7.78 2.81-2.81c.8-.78.8-2.07 0-2.86zM5.41 20L4 18.59l7.72-7.72 1.47 1.35L5.41 20z\"/>\n",
       "  </svg>\n",
       "      </button>\n",
       "      \n",
       "  <style>\n",
       "    .colab-df-container {\n",
       "      display:flex;\n",
       "      flex-wrap:wrap;\n",
       "      gap: 12px;\n",
       "    }\n",
       "\n",
       "    .colab-df-convert {\n",
       "      background-color: #E8F0FE;\n",
       "      border: none;\n",
       "      border-radius: 50%;\n",
       "      cursor: pointer;\n",
       "      display: none;\n",
       "      fill: #1967D2;\n",
       "      height: 32px;\n",
       "      padding: 0 0 0 0;\n",
       "      width: 32px;\n",
       "    }\n",
       "\n",
       "    .colab-df-convert:hover {\n",
       "      background-color: #E2EBFA;\n",
       "      box-shadow: 0px 1px 2px rgba(60, 64, 67, 0.3), 0px 1px 3px 1px rgba(60, 64, 67, 0.15);\n",
       "      fill: #174EA6;\n",
       "    }\n",
       "\n",
       "    [theme=dark] .colab-df-convert {\n",
       "      background-color: #3B4455;\n",
       "      fill: #D2E3FC;\n",
       "    }\n",
       "\n",
       "    [theme=dark] .colab-df-convert:hover {\n",
       "      background-color: #434B5C;\n",
       "      box-shadow: 0px 1px 3px 1px rgba(0, 0, 0, 0.15);\n",
       "      filter: drop-shadow(0px 1px 2px rgba(0, 0, 0, 0.3));\n",
       "      fill: #FFFFFF;\n",
       "    }\n",
       "  </style>\n",
       "\n",
       "      <script>\n",
       "        const buttonEl =\n",
       "          document.querySelector('#df-d93fc6b1-c3b6-4765-aa76-a85bc594632b button.colab-df-convert');\n",
       "        buttonEl.style.display =\n",
       "          google.colab.kernel.accessAllowed ? 'block' : 'none';\n",
       "\n",
       "        async function convertToInteractive(key) {\n",
       "          const element = document.querySelector('#df-d93fc6b1-c3b6-4765-aa76-a85bc594632b');\n",
       "          const dataTable =\n",
       "            await google.colab.kernel.invokeFunction('convertToInteractive',\n",
       "                                                     [key], {});\n",
       "          if (!dataTable) return;\n",
       "\n",
       "          const docLinkHtml = 'Like what you see? Visit the ' +\n",
       "            '<a target=\"_blank\" href=https://colab.research.google.com/notebooks/data_table.ipynb>data table notebook</a>'\n",
       "            + ' to learn more about interactive tables.';\n",
       "          element.innerHTML = '';\n",
       "          dataTable['output_type'] = 'display_data';\n",
       "          await google.colab.output.renderOutput(dataTable, element);\n",
       "          const docLink = document.createElement('div');\n",
       "          docLink.innerHTML = docLinkHtml;\n",
       "          element.appendChild(docLink);\n",
       "        }\n",
       "      </script>\n",
       "    </div>\n",
       "  </div>\n",
       "  "
      ],
      "text/plain": [
       "                       title  \\\n",
       "9974                  Israel   \n",
       "4126     Newcastle_upon_Tyne   \n",
       "16045  Intellectual_property   \n",
       "\n",
       "                                                                                                                                                                                                                                                                                                                                                                                                                                                                                                                                                                                                                                                                                                                                                                                                                                                                                                                                                                                                                                                                                                                                                                                                                                                                                                                                                                                            context  \\\n",
       "9974                                                                                                                                                                                                                                                                                                                                                                                                                                                                                                                   In 1966, Shmuel Yosef Agnon shared the Nobel Prize in Literature with German Jewish author Nelly Sachs. Leading Israeli poets have been Yehuda Amichai, Nathan Alterman and Rachel Bluwstein. Internationally famous contemporary Israeli novelists include Amos Oz, Etgar Keret and David Grossman. The Israeli-Arab satirist Sayed Kashua (who writes in Hebrew) is also internationally known.[citation needed] Israel has also been the home of two leading Palestinian poets and writers: Emile Habibi, whose novel The Secret Life of Saeed the Pessoptimist, and other writings, won him the Israel prize for Arabic literature; and Mahmoud Darwish, considered by many to be \"the Palestinian national poet.\" Darwish was born and raised in northern Israel, but lived his adult life abroad after joining the Palestine Liberation Organization.[citation needed]   \n",
       "4126                                                                                                                                                                                                                                                                                                                                                                                                                                                                                                                                                                                                                                                                                                                                                                                                   There are several museums and galleries in Newcastle, including the Centre for Life with its Science Village; the Discovery Museum a museum highlighting life on Tyneside, including Tyneside's shipbuilding heritage, and inventions which changed the world; the Great North Museum; in 2009 the Newcastle on Tyne Museum of Antiquities merged with the Great North Museum (Hancock Museum); Seven Stories a museum dedicated to children's books, the Side Gallery historical and contemporary photography from around the world and Northern England and the Newburn Hall Motor Museum.   \n",
       "16045  The stated objective of most intellectual property law (with the exception of trademarks) is to \"Promote progress.\" By exchanging limited exclusive rights for disclosure of inventions and creative works, society and the patentee/copyright owner mutually benefit, and an incentive is created for inventors and authors to create and disclose their work. Some commentators have noted that the objective of intellectual property legislators and those who support its implementation appears to be \"absolute protection\". \"If some intellectual property is desirable because it encourages innovation, they reason, more is better. The thinking is that creators will not have sufficient incentive to invent unless they are legally entitled to capture the full social value of their inventions\". This absolute protection or full value view treats intellectual property as another type of \"real\" property, typically adopting its law and rhetoric. Other recent developments in intellectual property law, such as the America Invents Act, stress international harmonization. Recently there has also been much debate over the desirability of using intellectual property rights to protect cultural heritage, including intangible ones, as well as over risks of commodification derived from this possibility. The issue still remains open in legal scholarship.   \n",
       "\n",
       "                                                              question  \\\n",
       "9974       Shmuel Yosef Agnon shared the Nobel Prize with who in 1966?   \n",
       "4126                             Where is the Science Village located?   \n",
       "16045  What is the stated objective of most intellectual property law?   \n",
       "\n",
       "                                                                                                                                                                                                                                                                                                                                                                                                                                                                                                                                                                                                                                                                                                                                                                                                                                                                                                                                                                                                                                                                                                                                                                                                                                   question_embeddings  \n",
       "9974   [0.6538086, -1.0996094, 1.1191406, -1.1650391, -1.0361328, 0.37329102, -1.0126953, 0.08380127, 0.12133789, -0.9741211, -0.6723633, -0.61083984, -0.17590332, -1.6015625, -0.5463867, -1.6533203, -0.092285156, 1.7460938, 1.2832031, -1.1220703, -1.5742188, -0.39160156, -1.5546875, -0.26049805, 0.6791992, 2.6445312, 0.56640625, 2.2363281, -2.015625, -0.7885742, -2.40625, 1.2871094, -0.15600586, -0.8046875, 1.6630859, -0.53466797, -1.3945312, -1.9941406, 0.44311523, 0.6484375, -1.046875, -0.47973633, 0.3671875, 0.98828125, -0.4621582, 0.8901367, -1.0673828, 0.55566406, 4.1835938, 1.5048828, -0.09893799, 0.2142334, 1.5693359, -0.49169922, -0.11743164, 0.14892578, -0.52978516, -2.15625, -1.2744141, 0.82910156, -0.17456055, 1.0429688, 0.90283203, -1.1699219, 1.3681641, -1.3496094, -1.7089844, 0.35107422, -0.30371094, 0.18774414, 1.4267578, 1.4541016, -1.2568359, 0.7651367, -1.6640625, -0.47387695, 1.4755859, -0.75146484, -2.7207031, -0.09686279, 2.4082031, -0.03668213, 0.8647461, -1.3779297, -1.2363281, -0.028945923, 0.34960938, -0.72021484, -1.5205078, -1.171875, -0.09674072, -0.2298584, -2.203125, 0.0143585205, -1.3261719, -0.89453125, -0.6386719, -1.0546875, 1.7851562, -0.96972656, ...]  \n",
       "4126                     [-0.021072388, -0.3010254, 0.20800781, 0.34887695, -2.21875, -1.7001953, 0.33618164, 1.7558594, -0.2109375, 1.1845703, -0.43725586, 0.30688477, -2.8300781, 1.0126953, 0.10345459, -0.36450195, -0.95654297, 1.3095703, 2.1582031, -1.0800781, -0.62109375, -0.6225586, 0.65478516, -0.117614746, 1.625, -0.71435547, 2.3691406, 1.703125, 0.9189453, -0.8129883, -1.0869141, 0.9111328, -0.7939453, 1.7509766, 0.9272461, -0.37109375, -1.6699219, -1.3310547, 1.7451172, -0.5288086, 1.21875, -0.2956543, 1.4082031, -0.375, 0.6245117, 0.28466797, 0.10882568, -0.53125, -0.14172363, -0.56347656, 0.40014648, 1.5732422, -1.21875, 0.77441406, 2.046875, -0.047546387, -1.7236328, -1.2744141, -0.56152344, -1.2099609, -0.71191406, -0.2626953, 2.1210938, -0.82666016, 0.84521484, 0.13134766, -0.54589844, 0.41259766, -0.67041016, -1.7255859, 1.1806641, 1.0859375, 0.3347168, -1.4082031, -0.56103516, -0.0012731552, -0.1385498, -0.054626465, -2.0800781, 0.30078125, 0.093566895, -0.23632812, 0.71875, 1.8525391, -0.8305664, 0.24475098, 0.36791992, -0.3347168, 1.359375, 1.6953125, 0.31689453, -0.98583984, -0.6538086, -0.5083008, 0.71484375, 1.0146484, -0.5307617, -1.0830078, -1.625, 0.55126953, ...]  \n",
       "16045                [-0.36254883, -1.6943359, 0.14550781, 0.96533203, 1.0341797, 0.62158203, -3.0195312, -0.109375, -0.0769043, 0.6772461, -0.9267578, -2.3359375, 0.95166016, -1.9941406, -0.74658203, 1.0976562, 0.02130127, 0.62353516, 0.13745117, -0.5395508, -1.3554688, 1.1220703, 0.953125, -2.2675781, 1.921875, 3.4746094, 0.16064453, -1.7119141, 0.21520996, 0.5517578, -1.7822266, 0.78466797, 0.117370605, -1.0517578, 0.5019531, 2.0488281, -2.1230469, -2.7109375, 1.6337891, 1.625, -1.7304688, 1.7998047, 0.6972656, 0.021392822, 0.65185547, 0.0368042, -0.6791992, 2.3886719, -0.25097656, -2.5292969, 2.8984375, -0.9560547, -0.92041016, -0.54589844, 1.3183594, 0.45336914, -0.23583984, 1.7158203, 0.7392578, -0.48510742, 1.0351562, -0.9003906, 0.56152344, 1.0693359, 0.99560547, 2.1113281, 0.7006836, -0.7548828, -0.19250488, 0.020599365, 0.84033203, -0.20031738, 1.4648438, -1.0712891, 1.4492188, 0.73095703, -0.7626953, -1.9755859, -0.69384766, -0.12164307, -1.8398438, -1.1337891, 0.6933594, -1.0878906, -0.23095703, 0.98291016, -1.1123047, 0.47045898, -0.04598999, 0.17797852, -1.4111328, -0.8574219, -1.4970703, 1.6210938, 0.8847656, 0.04083252, -0.46484375, 3.1582031, -1.4970703, -0.8105469, ...]  "
      ]
     },
     "execution_count": 29,
     "metadata": {},
     "output_type": "execute_result"
    }
   ],
   "source": [
    "# Embed the dataset\n",
    "sample_df['question_embeddings'] = get_embeddings(list(sample_df['question']))\n",
    "sample_df.head(3)"
   ]
  },
  {
   "cell_type": "code",
   "execution_count": 30,
   "metadata": {
    "colab": {
     "base_uri": "https://localhost:8080/"
    },
    "id": "iC2v-PR6Qvu_",
    "outputId": "3ff2f02d-6187-43ae-9eae-996fda4dc9e3",
    "vscode": {
     "languageId": "python"
    }
   },
   "outputs": [
    {
     "name": "stdout",
     "output_type": "stream",
     "text": [
      "Total rows and Shape of embeddings -> (1000, 4096)\n"
     ]
    }
   ],
   "source": [
    "embeds = np.array(sample_df['question_embeddings'].tolist())\n",
    "print(f\"Total rows and Shape of embeddings -> {embeds.shape}\")"
   ]
  },
  {
   "cell_type": "markdown",
   "metadata": {
    "id": "pgQ5tqvGQXNN"
   },
   "source": [
    "### Visualize the questions"
   ]
  },
  {
   "cell_type": "code",
   "execution_count": 44,
   "metadata": {
    "id": "2bE1uF6TzpBc",
    "vscode": {
     "languageId": "python"
    }
   },
   "outputs": [],
   "source": [
    "#@title Plot the archive {display-mode: \"form\"}\n",
    "import umap\n",
    "# UMAP reduces the dimensions from 4096 to 2 dimensions that we can plot\n",
    "reducer = umap.UMAP(n_neighbors=20) \n",
    "umap_embeds = reducer.fit_transform(embeds)\n",
    "# Prepare the data to plot and interactive visualization\n",
    "# using Altair\n",
    "df_explore = pd.DataFrame(data={'question': sample_df['question']})\n",
    "df_explore['x'] = umap_embeds[:,0]\n",
    "df_explore['y'] = umap_embeds[:,1]"
   ]
  },
  {
   "cell_type": "code",
   "execution_count": 50,
   "metadata": {
    "id": "qfBekXhY1ByG",
    "vscode": {
     "languageId": "python"
    }
   },
   "outputs": [],
   "source": [
    "# # Set sample size to visualize\n",
    "# sample = 9\n",
    "\n",
    "# # Reshape the data for visualization purposes\n",
    "# source = pd.DataFrame(umap_embeds)[:sample]\n",
    "# source = pd.concat([source,df['question']], axis=1)\n",
    "# source = source.melt(id_vars=['question'])\n",
    "\n",
    "# # Configure the plot\n",
    "# chart = alt.Chart(source).mark_rect().encode(\n",
    "#     x=alt.X('variable:N', title=\"Embedding\"),\n",
    "#     y=alt.Y('query:N', title='',axis=alt.Axis(labelLimit=500)),\n",
    "#     color=alt.Color('value:Q', title=\"Value\", scale=alt.Scale(\n",
    "#                 range=[\"#917EF3\", \"#000000\"]))\n",
    "# )\n",
    "\n",
    "# result = chart.configure(background='#ffffff'\n",
    "#         ).properties(\n",
    "#         width=700,\n",
    "#         height=400,\n",
    "#         title='Embeddings with 10 dimensions'\n",
    "#        ).configure_axis(\n",
    "#       labelFontSize=15,\n",
    "#       titleFontSize=12)\n",
    "\n",
    "# # Show the plot\n",
    "# result"
   ]
  },
  {
   "cell_type": "code",
   "execution_count": 48,
   "metadata": {
    "colab": {
     "base_uri": "https://localhost:8080/",
     "height": 468
    },
    "id": "3AGQXMvZyWzZ",
    "outputId": "e1855d08-303d-4139-b84d-d1e7ef28a790",
    "vscode": {
     "languageId": "python"
    }
   },
   "outputs": [
    {
     "data": {
      "text/html": [
       "\n",
       "<div id=\"altair-viz-d9f66382723548449af3d697b3e9085d\"></div>\n",
       "<script type=\"text/javascript\">\n",
       "  var VEGA_DEBUG = (typeof VEGA_DEBUG == \"undefined\") ? {} : VEGA_DEBUG;\n",
       "  (function(spec, embedOpt){\n",
       "    let outputDiv = document.currentScript.previousElementSibling;\n",
       "    if (outputDiv.id !== \"altair-viz-d9f66382723548449af3d697b3e9085d\") {\n",
       "      outputDiv = document.getElementById(\"altair-viz-d9f66382723548449af3d697b3e9085d\");\n",
       "    }\n",
       "    const paths = {\n",
       "      \"vega\": \"https://cdn.jsdelivr.net/npm//vega@5?noext\",\n",
       "      \"vega-lib\": \"https://cdn.jsdelivr.net/npm//vega-lib?noext\",\n",
       "      \"vega-lite\": \"https://cdn.jsdelivr.net/npm//vega-lite@4.17.0?noext\",\n",
       "      \"vega-embed\": \"https://cdn.jsdelivr.net/npm//vega-embed@6?noext\",\n",
       "    };\n",
       "\n",
       "    function maybeLoadScript(lib, version) {\n",
       "      var key = `${lib.replace(\"-\", \"\")}_version`;\n",
       "      return (VEGA_DEBUG[key] == version) ?\n",
       "        Promise.resolve(paths[lib]) :\n",
       "        new Promise(function(resolve, reject) {\n",
       "          var s = document.createElement('script');\n",
       "          document.getElementsByTagName(\"head\")[0].appendChild(s);\n",
       "          s.async = true;\n",
       "          s.onload = () => {\n",
       "            VEGA_DEBUG[key] = version;\n",
       "            return resolve(paths[lib]);\n",
       "          };\n",
       "          s.onerror = () => reject(`Error loading script: ${paths[lib]}`);\n",
       "          s.src = paths[lib];\n",
       "        });\n",
       "    }\n",
       "\n",
       "    function showError(err) {\n",
       "      outputDiv.innerHTML = `<div class=\"error\" style=\"color:red;\">${err}</div>`;\n",
       "      throw err;\n",
       "    }\n",
       "\n",
       "    function displayChart(vegaEmbed) {\n",
       "      vegaEmbed(outputDiv, spec, embedOpt)\n",
       "        .catch(err => showError(`Javascript Error: ${err.message}<br>This usually means there's a typo in your chart specification. See the javascript console for the full traceback.`));\n",
       "    }\n",
       "\n",
       "    if(typeof define === \"function\" && define.amd) {\n",
       "      requirejs.config({paths});\n",
       "      require([\"vega-embed\"], displayChart, err => showError(`Error loading script: ${err.message}`));\n",
       "    } else {\n",
       "      maybeLoadScript(\"vega\", \"5\")\n",
       "        .then(() => maybeLoadScript(\"vega-lite\", \"4.17.0\"))\n",
       "        .then(() => maybeLoadScript(\"vega-embed\", \"6\"))\n",
       "        .catch(showError)\n",
       "        .then(() => displayChart(vegaEmbed));\n",
       "    }\n",
       "  })({\"config\": {\"view\": {\"continuousWidth\": 400, \"continuousHeight\": 300}}, \"data\": {\"name\": \"data-ec43b0a59e93266764ce2f865123320b\"}, \"mark\": {\"type\": \"circle\", \"size\": 60}, \"encoding\": {\"tooltip\": [{\"field\": \"question\", \"type\": \"nominal\"}], \"x\": {\"field\": \"x\", \"scale\": {\"zero\": false}, \"type\": \"quantitative\"}, \"y\": {\"field\": \"y\", \"scale\": {\"zero\": false}, \"type\": \"quantitative\"}}, \"height\": 400, \"selection\": {\"selector002\": {\"type\": \"interval\", \"bind\": \"scales\", \"encodings\": [\"x\", \"y\"]}}, \"width\": 700, \"$schema\": \"https://vega.github.io/schema/vega-lite/v4.17.0.json\", \"datasets\": {\"data-ec43b0a59e93266764ce2f865123320b\": [{\"question\": \"Shmuel Yosef Agnon shared the Nobel Prize with who in 1966?\", \"x\": 6.060688018798828, \"y\": 9.678977012634277}, {\"question\": \"Where is the Science Village located?\", \"x\": 3.8788812160491943, \"y\": 11.230053901672363}, {\"question\": \"What is the stated objective of most intellectual property law?\", \"x\": 6.667078495025635, \"y\": 10.737069129943848}, {\"question\": \"According to the functional interpretation, what principle is opposite of the rule of man?\", \"x\": 8.357653617858887, \"y\": 9.436924934387207}, {\"question\": \"What color was Apples new iMac, which was introduced in 1998?\", \"x\": 5.3282575607299805, \"y\": 8.216400146484375}, {\"question\": \"When did the Xinhai Revolution topple the Qing dynasty?\", \"x\": 5.989311218261719, \"y\": 13.494537353515625}, {\"question\": \"How long was Warsaw the capital of the Polish-Lithuanian Commonwealth?\", \"x\": 7.295587539672852, \"y\": 12.804530143737793}, {\"question\": \"When did the sacrifices to the deities of the heavens occur? \", \"x\": 8.885937690734863, \"y\": 11.56181526184082}, {\"question\": \"When were there many struggles for independence or overthrowing prevailing governments?\", \"x\": 6.729870796203613, \"y\": 11.799500465393066}, {\"question\": \"Where are the large Martkirche located?\", \"x\": 4.106185436248779, \"y\": 11.085171699523926}, {\"question\": \"What is Methodism known for, as far as music goes?\", \"x\": 7.562246322631836, \"y\": 10.53625774383545}, {\"question\": \"In what stage of its life does a tree usually grow the fastest?\", \"x\": 7.9512786865234375, \"y\": 8.581424713134766}, {\"question\": \"What did Great Britain gain with respect to the French trading outposts on the subcontinent of India?\", \"x\": 6.390796184539795, \"y\": 12.073517799377441}, {\"question\": \"How many planes were hijacked on 9/11?\", \"x\": 4.214401721954346, \"y\": 12.35209846496582}, {\"question\": \"What was the title of ABC's broadcast film program that debuted on Sundays in 1962?\", \"x\": 4.488605976104736, \"y\": 8.521060943603516}, {\"question\": \"What does the abbreviation EOD stand for in the USAF?\", \"x\": 5.757551193237305, \"y\": 10.474645614624023}, {\"question\": \"Who can determine a date of adjournment if congress cannot agree?\", \"x\": 6.101237773895264, \"y\": 11.378982543945312}, {\"question\": \"According to actor Dominic Wes, would he send his children to Eton?\", \"x\": 6.214173793792725, \"y\": 9.9306640625}, {\"question\": \"What uses a combination of genes to form new shoots?\", \"x\": 8.133819580078125, \"y\": 8.409531593322754}, {\"question\": \"The increase in cases of diabetes, obesity and heart disease can be traced back to an increase in the consumption of what product?\", \"x\": 7.51359748840332, \"y\": 9.045953750610352}, {\"question\": \"What is the first question to ask in order to define the two classes?\", \"x\": 7.961960315704346, \"y\": 9.29046630859375}, {\"question\": \"Which group wanted to assuage fears that science was a threat to religious stability?\", \"x\": 8.20140552520752, \"y\": 10.799633026123047}, {\"question\": \"What characteristic of Middle Iranian civilization is shown by the number of different languages and their speakers?\", \"x\": 8.944583892822266, \"y\": 12.251163482666016}, {\"question\": \"How much did Yao Ming donate?\", \"x\": 3.708173990249634, \"y\": 9.814213752746582}, {\"question\": \"In what kind of folder are files located in the iPod?\", \"x\": 5.557221412658691, \"y\": 8.080608367919922}, {\"question\": \"How is information stored in a navigational system?\", \"x\": 6.196469783782959, \"y\": 8.455954551696777}, {\"question\": \"What hindered the competetive ability of Apple when it was introduced?\", \"x\": 5.312854290008545, \"y\": 8.386188507080078}, {\"question\": \"Which Carnival in Argentina is the most representative of the nature of the Carnival?\", \"x\": 4.681124687194824, \"y\": 10.93635368347168}, {\"question\": \"What is the decomposition of water into its components called?\", \"x\": 7.117588996887207, \"y\": 8.281167984008789}, {\"question\": \"What is considered to be a typical food for a Nanjing resident?\", \"x\": 5.409383773803711, \"y\": 13.588231086730957}, {\"question\": \"What year was the Academy of Science in France founded?\", \"x\": 7.459071636199951, \"y\": 10.713579177856445}, {\"question\": \"What region of North Carolina has hotter summers and colder winters than the coast?\", \"x\": 3.264251947402954, \"y\": 12.061016082763672}, {\"question\": \"Dialects such as Aeolic and Doric had how many distinctions that were the same at one point in time?\", \"x\": 8.66135311126709, \"y\": 12.709734916687012}, {\"question\": \"UNFPA lists elements that promote what human right?\", \"x\": 6.602853775024414, \"y\": 10.915953636169434}, {\"question\": \"Homeostasis is defined as what?\", \"x\": 8.341776847839355, \"y\": 8.802035331726074}, {\"question\": \"What title is given to Mary in the Catholic Church?\", \"x\": 7.800391674041748, \"y\": 11.44714069366455}, {\"question\": \"Why does Van Praag believe the Ming court set up a diplomatic delegation with Tibet?\", \"x\": 6.073111057281494, \"y\": 13.56544303894043}, {\"question\": \"How long ago did the last glacial period end?\", \"x\": 6.1992692947387695, \"y\": 12.253145217895508}, {\"question\": \"How many different Iranian languages exist?\", \"x\": 8.878080368041992, \"y\": 12.526540756225586}, {\"question\": \"In what year did the New York Times review the Salon d'Automne?\", \"x\": 4.768008708953857, \"y\": 9.411759376525879}, {\"question\": \"Who was an example of a disloyal samurai?\", \"x\": 6.695949077606201, \"y\": 13.313017845153809}, {\"question\": \"What was able to rise from the death of the Near East?\", \"x\": 8.51926326751709, \"y\": 11.985081672668457}, {\"question\": \"Who did Bell marry in 1877?\", \"x\": 5.420212268829346, \"y\": 9.351117134094238}, {\"question\": \"What are the different kinds of USB connectors?\", \"x\": 5.679378986358643, \"y\": 8.416279792785645}, {\"question\": \"One of FIS' agenda items was to force women to start doing what?\", \"x\": 6.477840423583984, \"y\": 10.735790252685547}, {\"question\": \"Prior to 7th century, what was primary religion of Egypt?\", \"x\": 8.715721130371094, \"y\": 11.680583953857422}, {\"question\": \"What type of memory can a CPU only read from?\", \"x\": 6.236582279205322, \"y\": 8.541529655456543}, {\"question\": \"What language is spoken in most rule of law countries?\", \"x\": 8.56383991241455, \"y\": 12.949981689453125}, {\"question\": \"What is the Tuvalu high chief on each island called?\", \"x\": 4.841993808746338, \"y\": 12.372881889343262}, {\"question\": \"Which company is directly above Universal Studios?\", \"x\": 3.6711528301239014, \"y\": 10.974698066711426}, {\"question\": \"How far back do the first written records of Estonia's Finnic languages go?\", \"x\": 8.184551239013672, \"y\": 12.861648559570312}, {\"question\": \"Who does the cooking at the Finch's house?\", \"x\": 5.298941135406494, \"y\": 9.430489540100098}, {\"question\": \"Which service allows government to subsidise regular air travel in Alaska?\", \"x\": 5.696024417877197, \"y\": 10.198501586914062}, {\"question\": \"In 1966, who did Tony married?\", \"x\": 4.354405879974365, \"y\": 8.954965591430664}, {\"question\": \"When did Imperial announce their science park program at the Wye Campus?\", \"x\": 4.95197057723999, \"y\": 9.98338508605957}, {\"question\": \"Was the population of the Prussian province in 1900?\", \"x\": 2.9364242553710938, \"y\": 10.604986190795898}, {\"question\": \"Nagarjuna's main contribution was the exposition of the concept of what?\", \"x\": 8.917089462280273, \"y\": 10.348949432373047}, {\"question\": \"Many Slavic populations that were part of the Warsaw Pact are originally from where?\", \"x\": 7.459991455078125, \"y\": 12.758783340454102}, {\"question\": \"When did the first art gallery open in Washington state?\", \"x\": 3.9887783527374268, \"y\": 10.381121635437012}, {\"question\": \"On which date was the first governing body for Canadian football formed?\", \"x\": 4.78080940246582, \"y\": 10.668091773986816}, {\"question\": \"What could a teacher help in organizing?\", \"x\": 6.7066731452941895, \"y\": 9.674145698547363}, {\"question\": \"When were details of the test version of the updated Wayback Machine released?\", \"x\": 4.919378757476807, \"y\": 9.018228530883789}, {\"question\": \"Capitalization in English is universally standardized for which type of writing?\", \"x\": 8.288558006286621, \"y\": 12.419827461242676}, {\"question\": \"When was the term Serbo-Croatian first used?\", \"x\": 7.612607002258301, \"y\": 12.506352424621582}, {\"question\": \"What was copper called in Greece?\", \"x\": 7.219820976257324, \"y\": 7.682557582855225}, {\"question\": \"What is the official State of Israel?\", \"x\": 8.32502269744873, \"y\": 12.1268949508667}, {\"question\": \"Since what date has asphalt been used for road paving in the US?\", \"x\": 4.954858303070068, \"y\": 10.274641990661621}, {\"question\": \"WHo reformed the grand duchy army?\", \"x\": 5.912527084350586, \"y\": 11.721941947937012}, {\"question\": \"In 1979, which corporation was struggling to run The Times?\", \"x\": 4.739108085632324, \"y\": 9.399107933044434}, {\"question\": \"What facility is the center of Southampton's public sports and outdoor activities?\", \"x\": 4.333343982696533, \"y\": 11.082021713256836}, {\"question\": \"What ideology did Hayek not agree with in an essay appended to The Constitution of Liberty?\", \"x\": 8.113038063049316, \"y\": 10.033992767333984}, {\"question\": \"Who issued its first round of character simplifications in two documents?\", \"x\": 8.125340461730957, \"y\": 12.427399635314941}, {\"question\": \"John focused on trying to retake what?\", \"x\": 5.764672756195068, \"y\": 11.866365432739258}, {\"question\": \"What four types of thought developed during the period of late mahayna buddhism?\", \"x\": 8.988338470458984, \"y\": 10.374711036682129}, {\"question\": \"What is the other name for the street trams?\", \"x\": 5.200183868408203, \"y\": 10.429325103759766}, {\"question\": \"What guarantees freedom of religion for Estonian citizens?\", \"x\": 7.915343284606934, \"y\": 12.82296085357666}, {\"question\": \"What is the governing system of the Marshall Islands?\", \"x\": 6.051077365875244, \"y\": 11.93768310546875}, {\"question\": \"On what day did U.S> planes located Ozawa's fleet?\", \"x\": 4.939776420593262, \"y\": 12.433226585388184}, {\"question\": \"In what year did Louis Philippe I get permission to return Napoleon's remains to France?\", \"x\": 5.4697699546813965, \"y\": 11.94138240814209}, {\"question\": \"What was the National Military Establishment renamed in 1949?\", \"x\": 5.740926265716553, \"y\": 10.98251724243164}, {\"question\": \"When did the Second Aliyah begin?\", \"x\": 7.077154159545898, \"y\": 11.778958320617676}, {\"question\": \"Where are ski-jump ramps located on aircraft carriers?\", \"x\": 4.418461322784424, \"y\": 12.194538116455078}, {\"question\": \"In the 1970s, what two genres were not particularly successful on the adult contemporary charts?\", \"x\": 4.591220855712891, \"y\": 8.162592887878418}, {\"question\": \"How large is the budget of the IMSS?\", \"x\": 3.4443557262420654, \"y\": 10.02293586730957}, {\"question\": \"What is Richmond's K\\u00f6ppen climate classification?\", \"x\": 3.0551254749298096, \"y\": 11.995558738708496}, {\"question\": \"What promenade was built north of Valencia's port?\", \"x\": 4.409849166870117, \"y\": 10.984291076660156}, {\"question\": \"What does the first amendment to the US Constitution state?\", \"x\": 6.639967441558838, \"y\": 10.920814514160156}, {\"question\": \"St. Barts was formerly a part of what French commune?\", \"x\": 4.336594104766846, \"y\": 11.87664794921875}, {\"question\": \"When did Rutherford introduce the new name for the Society?\", \"x\": 7.170280933380127, \"y\": 11.422646522521973}, {\"question\": \"What was the ethnicity of a leader who converted to Judaism in this era?\", \"x\": 8.311117172241211, \"y\": 11.27604866027832}, {\"question\": \"What helped with better fuse setting?\", \"x\": 5.765385150909424, \"y\": 8.692532539367676}, {\"question\": \"When did the North American natives begin farming?\", \"x\": 8.872928619384766, \"y\": 11.595800399780273}, {\"question\": \"What is the name of the region that surrounds Boston?\", \"x\": 3.8358278274536133, \"y\": 11.306646347045898}, {\"question\": \"What became the official language of Indonesia after they declared their independence?\", \"x\": 8.581509590148926, \"y\": 12.881003379821777}, {\"question\": \"Following what event was it uncertain if Shell would recommence drilling?\", \"x\": 5.504684925079346, \"y\": 12.117424011230469}, {\"question\": \"In Pakistan, a student's tests in what grade determine their admission to a diploma program?\", \"x\": 6.565386772155762, \"y\": 9.665587425231934}, {\"question\": \"What is the national football stadium in Parque Batlle?\", \"x\": 4.48972749710083, \"y\": 10.881731986999512}, {\"question\": \"Akkadian's language can be traced to the Semitic branch of what languages?\", \"x\": 8.849358558654785, \"y\": 12.465910911560059}, {\"question\": \"Who posthumously awarded his the Presidential Medal of Freedom?\", \"x\": 5.73390531539917, \"y\": 9.719697952270508}, {\"question\": \"What have human groups always considered themselves as compared to other nearby groups?\", \"x\": 8.7227144241333, \"y\": 11.379422187805176}, {\"question\": \"In which direction does the groove in a normal disc run?\", \"x\": 5.789124011993408, \"y\": 7.9811930656433105}, {\"question\": \"What was the title of the first book printed in France?\", \"x\": 7.5976362228393555, \"y\": 10.58829402923584}, {\"question\": \"What is Warsaw known as in Polish?\", \"x\": 7.559844493865967, \"y\": 12.752673149108887}, {\"question\": \"In what year did Nintendo reveal the start of development on what would become Twilight Princess?\", \"x\": 5.2623796463012695, \"y\": 8.706868171691895}, {\"question\": \"Being exposed to what type of pollution has been theorized to increase aggression?\", \"x\": 7.646765232086182, \"y\": 9.14122486114502}, {\"question\": \"Early writers linked orientation to what concept?\", \"x\": 8.4090576171875, \"y\": 9.746257781982422}, {\"question\": \"What is displayed at Zahm House for football home games at Notre Dame?\", \"x\": 4.227670669555664, \"y\": 10.296446800231934}, {\"question\": \"Was competition suspended due to the first world war? \", \"x\": 5.399092674255371, \"y\": 11.626236915588379}, {\"question\": \"What is a critical skill in terms of execution in scores?\", \"x\": 6.885824203491211, \"y\": 9.41651439666748}, {\"question\": \"What was the general source of the Roman senate's authority?\", \"x\": 7.983757495880127, \"y\": 11.303972244262695}, {\"question\": \"What event happened in October of 1917?\", \"x\": 5.54631233215332, \"y\": 12.306224822998047}, {\"question\": \"Following the loss of his mother, who did Kanye end his long-term relationship with?\", \"x\": 4.191695690155029, \"y\": 9.222764015197754}, {\"question\": \"Along with Cropanzano, who developed a communication-based theory of emotional experience?\", \"x\": 8.41888427734375, \"y\": 9.568037986755371}, {\"question\": \"In what era did the Protestant Reformation occur?\", \"x\": 7.658324241638184, \"y\": 11.104762077331543}, {\"question\": \"Plato and Aristotle are known for systematically discussing what?\", \"x\": 8.60950756072998, \"y\": 10.272000312805176}, {\"question\": \"What country was believed to provide a counterbalance to China's and the Soviet Union's involvement in Korea?\", \"x\": 6.740908622741699, \"y\": 12.54931354522705}, {\"question\": \"According the Bronkhorst, intentions and desire are responsible for what?\", \"x\": 8.239763259887695, \"y\": 9.152199745178223}, {\"question\": \"On which street is a private indoor pedestrian bridge between Amsterdam Avenue and Morningside Drive?\", \"x\": 3.5169219970703125, \"y\": 11.053396224975586}, {\"question\": \"Where was the differential analyzer built by H.L. Hazen?\", \"x\": 6.3066301345825195, \"y\": 8.662572860717773}, {\"question\": \"What is Paris' largest cemetary?\", \"x\": 4.367351531982422, \"y\": 11.303282737731934}, {\"question\": \"Who argued that physiological responses were insufficient to explain emotional experiences?\", \"x\": 8.378376007080078, \"y\": 9.544211387634277}, {\"question\": \"It was found that the Y-chromosome of Ashkenazi and Sephardic Jews contained mutations that are also common with what other people?\", \"x\": 8.409589767456055, \"y\": 11.289216995239258}, {\"question\": \"During what war did a large number of Italian men first learn standard Italian?\", \"x\": 7.935283660888672, \"y\": 12.769524574279785}, {\"question\": \"When was a study about the DNA of a young boy published in Nature?\", \"x\": 7.258183002471924, \"y\": 9.17776107788086}, {\"question\": \"What toxic chemical did Dell set to eliminate from its products?\", \"x\": 5.946542739868164, \"y\": 8.279994010925293}, {\"question\": \"At what age does awareness of one's sexual orientation occur on average?\", \"x\": 7.3653483390808105, \"y\": 9.26577377319336}, {\"question\": \"The Hudson River serves as a dividing line between New York and what state?\", \"x\": 3.3163280487060547, \"y\": 11.213014602661133}, {\"question\": \"What does 'Pra\\u00e7a dos Tr\\u00eas Poderes' mean?\", \"x\": 4.801018238067627, \"y\": 11.118820190429688}, {\"question\": \"What was the title of Nirvana's 1991 album?\", \"x\": 4.334874629974365, \"y\": 8.559507369995117}, {\"question\": \"What was developed by Hans Christian  Gram?\", \"x\": 7.634410381317139, \"y\": 10.198399543762207}, {\"question\": \"In what year was Queen's first album released?\", \"x\": 4.339563369750977, \"y\": 8.477370262145996}, {\"question\": \"What legal traditions does Israel combine?\", \"x\": 8.51331615447998, \"y\": 11.319374084472656}, {\"question\": \"Who was concerned with Russia  capturing Constantinople?\", \"x\": 6.036381244659424, \"y\": 12.78568172454834}, {\"question\": \"Napoleon acknowledged that the fleet of France was no match for what rival fleet in direct combat?\", \"x\": 5.410048961639404, \"y\": 12.23018741607666}, {\"question\": \"Who did the modern orthodoxy arise from?\", \"x\": 8.065674781799316, \"y\": 10.773761749267578}, {\"question\": \"When did the advent of the Jewish Enlightenment occur?\", \"x\": 7.923910617828369, \"y\": 10.779010772705078}, {\"question\": \"Who was Eton's first Headmaster?\", \"x\": 5.850406169891357, \"y\": 10.094330787658691}, {\"question\": \"Which company introduced standard base sizes for incandescent lamps?\", \"x\": 6.180212497711182, \"y\": 8.198467254638672}, {\"question\": \"Firewalls and exit procedures are considered what?\", \"x\": 6.385845184326172, \"y\": 9.043724060058594}, {\"question\": \"What is one type of fixture commonly found in offices?\", \"x\": 6.28567361831665, \"y\": 8.424930572509766}, {\"question\": \"Where do Northwestern's basketball, wrestling, and volleyball teams play?\", \"x\": 3.8929779529571533, \"y\": 10.276812553405762}, {\"question\": \"Who had new standards of showmanship?\", \"x\": 5.206140518188477, \"y\": 8.570988655090332}, {\"question\": \"Which organization was in direct competition with the Warsaw Pact?\", \"x\": 7.047334671020508, \"y\": 12.50888442993164}, {\"question\": \"When did CRA make rule changes to relax underwriting standards?\", \"x\": 5.2048492431640625, \"y\": 9.929326057434082}, {\"question\": \"How many acres of its land does the state of Alaska own?\", \"x\": 3.4917104244232178, \"y\": 11.531110763549805}, {\"question\": \"When was the activity of desktop publishing first used?\", \"x\": 5.29631233215332, \"y\": 8.826685905456543}, {\"question\": \"In what Fitzgerald classic does the fictional protagonist make repeated references to New Haven?\", \"x\": 5.067896366119385, \"y\": 9.693869590759277}, {\"question\": \"Who tried to establish a rival foothold at Bolama?\", \"x\": 5.614091873168945, \"y\": 12.484102249145508}, {\"question\": \"What was it about the utilitatian beliefs that humanism believers did not like?\", \"x\": 8.10338020324707, \"y\": 10.395166397094727}, {\"question\": \"What did the island have an abundance of when discovered?\", \"x\": 4.636728763580322, \"y\": 12.346795082092285}, {\"question\": \"What is the states oldest and largest Hospital?\", \"x\": 4.106293201446533, \"y\": 11.285037994384766}, {\"question\": \"Who raided Beijing in 1644?\", \"x\": 5.79066801071167, \"y\": 13.519814491271973}, {\"question\": \"What bird is depicted on the Scottish banknote?\", \"x\": 4.927672386169434, \"y\": 11.180041313171387}, {\"question\": \"What does the racial preferences debate indicate about universities and colleges?\", \"x\": 6.785244941711426, \"y\": 10.473094940185547}, {\"question\": \"How many semi-finalists were there in season 4?\", \"x\": 3.805692434310913, \"y\": 9.273181915283203}, {\"question\": \"Who heads the Himachal Pradesh?\", \"x\": 6.2088704109191895, \"y\": 12.363298416137695}, {\"question\": \"What is the English connotative understanding of the word madrash? \", \"x\": 7.944167137145996, \"y\": 12.042404174804688}, {\"question\": \"What can ECG confirm?\", \"x\": 7.286994934082031, \"y\": 8.582612991333008}, {\"question\": \"How many non-jewish African immigrants live in Israel?\", \"x\": 2.846266269683838, \"y\": 10.594742774963379}, {\"question\": \"Which colors are part of the RGB model?\", \"x\": 6.187027454376221, \"y\": 7.6621785163879395}, {\"question\": \"How is the complex impedance with dielectric represented mathematically?\", \"x\": 6.6069111824035645, \"y\": 8.03621768951416}, {\"question\": \"Who does an ISP pay for internet access?\", \"x\": 5.538143634796143, \"y\": 9.053077697753906}, {\"question\": \"Which poets are closely alligned with Cubism?\", \"x\": 7.844367504119873, \"y\": 9.818373680114746}, {\"question\": \"What group did Sultan Selim the Grim label as heretics?\", \"x\": 7.671371936798096, \"y\": 11.672842025756836}, {\"question\": \"WHen was Black Wednesday?\", \"x\": 5.298558235168457, \"y\": 12.030998229980469}, {\"question\": \"Which non-elected official has held the longest term as prime minister?\", \"x\": 5.926880836486816, \"y\": 11.577400207519531}, {\"question\": \"Russia has a military base in which city in Armenia?\", \"x\": 6.014792442321777, \"y\": 12.981282234191895}, {\"question\": \"Who designed both the NES and SNES?\", \"x\": 5.562397480010986, \"y\": 8.673891067504883}, {\"question\": \"When did the age of Imperialism begin?\", \"x\": 6.6310248374938965, \"y\": 11.68657398223877}, {\"question\": \"Under which religion do charges of heresy still occur in modern times?\", \"x\": 7.962668418884277, \"y\": 11.36009407043457}, {\"question\": \"What's the minimum amount of copper a layer in a PCB can have to be considered \\\"heavy copper\\\"?\", \"x\": 7.068426609039307, \"y\": 7.764461040496826}, {\"question\": \"What type of documents does a textual critic usually analyze?\", \"x\": 7.656214237213135, \"y\": 9.460982322692871}, {\"question\": \"What was amended to provide more office space in downtown?\", \"x\": 3.9770734310150146, \"y\": 10.779346466064453}, {\"question\": \"What forms of transport are available in the Congo?\", \"x\": 5.328204154968262, \"y\": 10.676797866821289}, {\"question\": \"In what geographic part of Germany are dialects more common?\", \"x\": 8.421599388122559, \"y\": 12.869665145874023}, {\"question\": \"Who was Paul VI in favor of cooperating with in the translation of the bible?\", \"x\": 7.730961322784424, \"y\": 11.337554931640625}, {\"question\": \"What aids in predicting changes of physical traits?\", \"x\": 8.216835021972656, \"y\": 8.7631254196167}, {\"question\": \"What kind of containers are used for bottle conditioned beers?\", \"x\": 6.920795440673828, \"y\": 8.342809677124023}, {\"question\": \"What company did Laemmle found in June 1909?\", \"x\": 5.15460205078125, \"y\": 9.292644500732422}, {\"question\": \"What Manhattan development is the product of land reclamation?\", \"x\": 3.5784811973571777, \"y\": 11.049592971801758}, {\"question\": \"Explorers in the employ of what nation discovered the Azores?\", \"x\": 4.846258163452148, \"y\": 12.157629013061523}, {\"question\": \"The language of the Pennsylvania Dutch is a dialect of what language?\", \"x\": 8.538037300109863, \"y\": 12.827717781066895}, {\"question\": \"What is the name of the headscarf worn by married women?\", \"x\": 7.835504531860352, \"y\": 11.758798599243164}, {\"question\": \"What other contemporaneous school of thought is often confused with Popper's own contributions?\", \"x\": 8.526209831237793, \"y\": 10.066713333129883}, {\"question\": \"Who was Hayek's father?\", \"x\": 8.039369583129883, \"y\": 9.991837501525879}, {\"question\": \"When was the second wave of neoclassical architecture?\", \"x\": 6.973765850067139, \"y\": 10.304693222045898}, {\"question\": \"What ensures the safety of nuclear operations? \", \"x\": 5.540445327758789, \"y\": 10.472306251525879}, {\"question\": \"What remains a controversy regarding how to refer to the indigenous peoples of the Americas?\", \"x\": 7.571563720703125, \"y\": 11.026973724365234}, {\"question\": \"Where is Kenya located?\", \"x\": 4.290283203125, \"y\": 12.612116813659668}, {\"question\": \"Who took up the path of violence?\", \"x\": 6.911615371704102, \"y\": 10.957404136657715}, {\"question\": \"Who was the son of Murad II?\", \"x\": 6.214371204376221, \"y\": 12.495748519897461}, {\"question\": \"What is considered a de facto second language in Mediterranean Europe?\", \"x\": 8.560770034790039, \"y\": 12.894584655761719}, {\"question\": \"What year did Tesla enroll at an engineering school?\", \"x\": 5.9362359046936035, \"y\": 9.294244766235352}, {\"question\": \"What do you call paying government officials to use their position in their office?\", \"x\": 5.887729644775391, \"y\": 10.35002326965332}, {\"question\": \"Who suffered a great amount of losses battling the Roman army?\", \"x\": 6.836863040924072, \"y\": 12.551989555358887}, {\"question\": \"When was Brazil's fall of the monarchy?\", \"x\": 5.562234878540039, \"y\": 11.587510108947754}, {\"question\": \"Where did Tesla run to avoid the army draft?\", \"x\": 6.011712551116943, \"y\": 9.167441368103027}, {\"question\": \"What is consultant pharmacy mainly concerned with?\", \"x\": 6.419233798980713, \"y\": 9.83215045928955}, {\"question\": \"How long was Kangxi Emperor in power?\", \"x\": 5.988516807556152, \"y\": 13.531027793884277}, {\"question\": \"What term means \\\"great vehicle\\\"?\", \"x\": 6.543801307678223, \"y\": 9.541855812072754}, {\"question\": \"At what date did the name Seattle first appear on official papers?\", \"x\": 3.9665422439575195, \"y\": 10.325845718383789}, {\"question\": \"What were three sites used for filming Spectre?\", \"x\": 4.0800862312316895, \"y\": 11.25033187866211}, {\"question\": \"The United Nations has been compared to what government in function and effectiveness?\", \"x\": 6.384997367858887, \"y\": 11.713356018066406}, {\"question\": \"What is the title of the book by Madonna's brother?\", \"x\": 4.06786584854126, \"y\": 8.756502151489258}, {\"question\": \"Where is the primary circadian gene located in humans?\", \"x\": 7.781161785125732, \"y\": 8.75753402709961}, {\"question\": \"In what year did battle over the Suez Canal commence?\", \"x\": 5.785036563873291, \"y\": 12.526029586791992}, {\"question\": \"Antagonistic or antipathetic symbiosis are alternate names for what?\", \"x\": 8.227554321289062, \"y\": 8.651044845581055}, {\"question\": \"Along with poppet valve gears, what type of gears utilized separate admission and exhaust valves to give ideal events?\", \"x\": 6.781414031982422, \"y\": 8.663156509399414}, {\"question\": \"What is the common term for the loss of key members of French society to Huguenot emigration?\", \"x\": 7.541265487670898, \"y\": 11.09721851348877}, {\"question\": \"What other branch of Islam is recognized by the Iranian government?\", \"x\": 8.143441200256348, \"y\": 11.950061798095703}, {\"question\": \"What is the official name for Estonia?\", \"x\": 7.999334335327148, \"y\": 12.8828706741333}, {\"question\": \"When did Doctor Who win an award for Best Drama Series?\", \"x\": 4.218369960784912, \"y\": 8.919977188110352}, {\"question\": \"Who invented the first electrolytic capacitor?\", \"x\": 6.44594144821167, \"y\": 8.29596996307373}, {\"question\": \"Who would enter Leyte Gulf to attack the Allied landing forces?\", \"x\": 5.225860595703125, \"y\": 12.570696830749512}, {\"question\": \"Alloparenting is particulary common with what species?\", \"x\": 8.321075439453125, \"y\": 8.462242126464844}, {\"question\": \"How many proposals were available in 1991?\", \"x\": 5.1778645515441895, \"y\": 10.590132713317871}, {\"question\": \"In what foreign country did Dell open plants in 1995?\", \"x\": 5.469423770904541, \"y\": 8.834102630615234}, {\"question\": \"In what century did trading companies arrive in Tuvalu?\", \"x\": 4.883819103240967, \"y\": 12.339414596557617}, {\"question\": \"What may no person within Georgia be deprived of the privilege of doing in any manner agreeable to them?\", \"x\": 6.6161956787109375, \"y\": 10.73450756072998}, {\"question\": \"Approximately how many British oil paintings does the museum have?\", \"x\": 4.035417556762695, \"y\": 10.112338066101074}, {\"question\": \"Who were most samurais' lords?\", \"x\": 6.534741401672363, \"y\": 13.351763725280762}, {\"question\": \"Who proposed using a table to store data?\", \"x\": 6.139554500579834, \"y\": 8.419136047363281}, {\"question\": \"What affects the number of ions in a gauge?\", \"x\": 7.053859233856201, \"y\": 7.968723297119141}, {\"question\": \"What did the National Disaster Relief Commission initiate?\", \"x\": 5.561405658721924, \"y\": 10.899066925048828}, {\"question\": \"What is the purpose of electronic warfare?\", \"x\": 5.927185535430908, \"y\": 10.594332695007324}, {\"question\": \"What happened between 1938 to 1995?\", \"x\": 5.759098052978516, \"y\": 12.040393829345703}, {\"question\": \"What did the US share?\", \"x\": 6.040733814239502, \"y\": 10.779123306274414}, {\"question\": \"How many Pro Bowlers were on the Panthers offense?\", \"x\": 3.658557176589966, \"y\": 9.460580825805664}, {\"question\": \"What do petrologists use electron microprobes in the laboratory for?\", \"x\": 6.99198055267334, \"y\": 8.394537925720215}, {\"question\": \"What journal was founded in 2008 that features articles by professors and law students?\", \"x\": 5.001293182373047, \"y\": 9.549444198608398}, {\"question\": \"In December of what year did intercommunal violence erupt?\", \"x\": 5.939230442047119, \"y\": 12.370327949523926}, {\"question\": \"In what year CE did the Second Muslim Civil War end?\", \"x\": 6.285913467407227, \"y\": 12.442771911621094}, {\"question\": \"What area in Charleston is considered the 'industrial area'?\", \"x\": 3.9198148250579834, \"y\": 10.723508834838867}, {\"question\": \"What is the name of the upper house of the Marshall Islands Parliament?\", \"x\": 5.967311859130859, \"y\": 11.941366195678711}, {\"question\": \"What does Darwin say can explain diverse feature such as antlers on deer and bright feathers on certain male birds?\", \"x\": 8.368607521057129, \"y\": 8.595504760742188}, {\"question\": \"Which weapon caused a major shift in anti-aircraft strategy?\", \"x\": 5.703573703765869, \"y\": 10.75483512878418}, {\"question\": \"What infamous Doors frontman was once arrested in New Haven?\", \"x\": 5.0826921463012695, \"y\": 9.404385566711426}, {\"question\": \"Which channel would not work in conjunction with AC-3 audio?\", \"x\": 5.521510601043701, \"y\": 8.274442672729492}, {\"question\": \"On what devices can video games be used?\", \"x\": 5.971521377563477, \"y\": 8.565048217773438}, {\"question\": \"What did Premier Wen Jiabao order?\", \"x\": 5.705956935882568, \"y\": 13.587834358215332}, {\"question\": \"Who caused Nintendo to take formal action regarding rentals?\", \"x\": 5.563673973083496, \"y\": 8.785072326660156}, {\"question\": \"What is the main industry in Cork?\", \"x\": 4.144412040710449, \"y\": 10.492572784423828}, {\"question\": \"What 1802 treaty between Britain and France ended the Revolutionary Wars?\", \"x\": 5.875649929046631, \"y\": 12.536982536315918}, {\"question\": \"Who was the fourth Karmapa Lama?\", \"x\": 6.3733906745910645, \"y\": 13.5865478515625}, {\"question\": \"What was Tesla's device called?\", \"x\": 6.1001386642456055, \"y\": 9.042075157165527}, {\"question\": \"What are the two official languages of Israel?\", \"x\": 8.64391803741455, \"y\": 12.781730651855469}, {\"question\": \"What is Galicia's surface area in sq/km?\", \"x\": 3.2944488525390625, \"y\": 11.423778533935547}, {\"question\": \"What type of ceramic art was popular from the 8th to the 18th century in the art of Islam?\", \"x\": 9.035500526428223, \"y\": 11.484087944030762}, {\"question\": \"What limits the Rankine cycle's efficiency?\", \"x\": 6.802091598510742, \"y\": 8.066255569458008}, {\"question\": \"The Sand Bernardino - Riverside area maintains what kind of district?\", \"x\": 3.545100688934326, \"y\": 11.89123821258545}, {\"question\": \"Analysis by what organization detailed that municipality-based rankings may be inaccurate? \", \"x\": 3.4468421936035156, \"y\": 10.380346298217773}, {\"question\": \"On what date was KU's Lawrence campus made official?\", \"x\": 4.965145111083984, \"y\": 10.132774353027344}, {\"question\": \"What indicated dogs and gray wolves developed as two monophyletic clades?\", \"x\": 8.287939071655273, \"y\": 8.534651756286621}, {\"question\": \"Until what year did the state remain calm?\", \"x\": 5.938577651977539, \"y\": 12.181436538696289}, {\"question\": \"What ruler decreed the change to the Gregorian calendar?\", \"x\": 7.021358489990234, \"y\": 11.625934600830078}, {\"question\": \"Who was most critical of Nasser's rule?\", \"x\": 6.5703301429748535, \"y\": 12.306131362915039}, {\"question\": \"The United States is divided into how many jurisdictions?\", \"x\": 3.9986748695373535, \"y\": 11.842927932739258}, {\"question\": \"What is the Earth's most southern continent?\", \"x\": 4.047214508056641, \"y\": 12.315659523010254}, {\"question\": \"In 2012 what was the the disturbance with the government running smoothly ? Burma? \", \"x\": 5.941304683685303, \"y\": 12.145895957946777}, {\"question\": \"What defeat opened Nasser's eyes to the desperation of Egypt's situation?\", \"x\": 6.521759986877441, \"y\": 12.23618221282959}, {\"question\": \"Which King of Pop was influenced by Queen?\", \"x\": 4.316076278686523, \"y\": 8.34300708770752}, {\"question\": \"What caused the spread of the Jacksonville fire in 1901?\", \"x\": 4.546634197235107, \"y\": 11.530306816101074}, {\"question\": \"EIC was leased back the land they held in British India by what part of the British goverment?\", \"x\": 6.331328868865967, \"y\": 11.856026649475098}, {\"question\": \"What does the data indicate about the population the individual was from?\", \"x\": 3.014615774154663, \"y\": 10.54953670501709}, {\"question\": \"Southern California's distinctive regions are divided culturally, politically and what other trait?\", \"x\": 3.5573413372039795, \"y\": 12.132723808288574}, {\"question\": \"What value of some capacitors decreases with age?\", \"x\": 6.761012077331543, \"y\": 8.233262062072754}, {\"question\": \"What did McCarthy threaten to do in May of 1955?\", \"x\": 6.180348873138428, \"y\": 12.031233787536621}, {\"question\": \"Who was the commissioner of the Arena Football League for the first half of 2008?\", \"x\": 4.449793815612793, \"y\": 9.698362350463867}, {\"question\": \"What percent of copper is recyclable?\", \"x\": 7.12831449508667, \"y\": 7.617329120635986}, {\"question\": \"Who makes the claim that Hayek was actually a conservative?\", \"x\": 8.165254592895508, \"y\": 9.943757057189941}, {\"question\": \"What was the first phase of Cubism known as? \", \"x\": 7.751702308654785, \"y\": 9.694814682006836}, {\"question\": \"What theories began to be put in wider practice?\", \"x\": 8.32092571258545, \"y\": 9.980801582336426}, {\"question\": \"What type of elevators are generally less costly than full commercial elevators?\", \"x\": 6.587890625, \"y\": 8.53154468536377}, {\"question\": \"What still remains much shorter than intraframe compression?\", \"x\": 5.93316125869751, \"y\": 8.193846702575684}, {\"question\": \"What is a potential problem with the use of gas in a light bulb?\", \"x\": 6.349119663238525, \"y\": 7.866371154785156}, {\"question\": \"Who did the 5th Dalai Lama beg for help from?\", \"x\": 6.263016223907471, \"y\": 13.582005500793457}, {\"question\": \"What is a word that can be used to describe the scope of a comprehensive school's intake?\", \"x\": 6.71116828918457, \"y\": 9.602808952331543}, {\"question\": \"Who was the 4th Century BC Indian political philosopher?\", \"x\": 8.775344848632812, \"y\": 10.473616600036621}, {\"question\": \"How many HD channels did the Freeview HD service contain as of December 2013?\", \"x\": 3.813464641571045, \"y\": 9.67648983001709}, {\"question\": \"What mountain range makes up the coolest part of North Carolina?\", \"x\": 3.409541368484497, \"y\": 12.158425331115723}, {\"question\": \"Saint Helena is a member of what kind of association?\", \"x\": 4.997456073760986, \"y\": 11.86246109008789}, {\"question\": \"What program allowed America to sell military supplies to Britain and the Soviet Union?\", \"x\": 5.914744853973389, \"y\": 10.963951110839844}, {\"question\": \"What does the German spelling of Hanover have that English does not?\", \"x\": 7.976629734039307, \"y\": 12.689847946166992}, {\"question\": \"What did the United States Army begin to develop after the first World War?\", \"x\": 5.777996063232422, \"y\": 10.920354843139648}, {\"question\": \"What professor began working on solid-fuel rockets since 1914?\", \"x\": 5.907717704772949, \"y\": 9.560384750366211}, {\"question\": \"What is the name of the study done by composer Ryan Maguire?\", \"x\": 7.362231254577637, \"y\": 9.856698036193848}, {\"question\": \"In 1860, what percent of the North Carolina population were slaves?\", \"x\": 2.8411386013031006, \"y\": 10.51683521270752}, {\"question\": \"what was the type of  Revolution that allowed Britian to move ahead of its European rivals?\", \"x\": 6.712754726409912, \"y\": 11.859013557434082}, {\"question\": \"Which two browsers promised to develop Metro-style versions of their browsers?\", \"x\": 5.179365634918213, \"y\": 8.812013626098633}, {\"question\": \"Nasser was a leader of what country?\", \"x\": 6.638794898986816, \"y\": 12.227407455444336}, {\"question\": \"What type of antenna can be formed by a circular segment of wire?\", \"x\": 6.513720989227295, \"y\": 8.111477851867676}, {\"question\": \"Civil disobedients have chosen many different kinds of what type of behaviors?\", \"x\": 6.8964362144470215, \"y\": 10.747734069824219}, {\"question\": \"In what years did Gaddafi visit the Soviet Union?\", \"x\": 6.771328926086426, \"y\": 12.568513870239258}, {\"question\": \"What is another informal name for Quaker?\", \"x\": 7.403021812438965, \"y\": 11.202141761779785}, {\"question\": \"What country's PC market was Dell reliant on?\", \"x\": 5.591998100280762, \"y\": 8.63071060180664}, {\"question\": \"Who is the world's oldest reigning monarch?\", \"x\": 5.449169635772705, \"y\": 11.523311614990234}, {\"question\": \"Attempting to use Gregorian dates for earlier events  on the Julian calendar should be used with what action?\", \"x\": 7.211295127868652, \"y\": 11.616137504577637}, {\"question\": \"What color are white grapes?\", \"x\": 6.2738356590271, \"y\": 7.652739524841309}, {\"question\": \"What did the decision ultimately uphold?\", \"x\": 6.570298194885254, \"y\": 10.67870807647705}, {\"question\": \"What provides chances for comparative study with a large range of subjects?\", \"x\": 7.7957444190979, \"y\": 9.611153602600098}, {\"question\": \"What are dollar notes made from now adays?\", \"x\": 6.202702522277832, \"y\": 9.214218139648438}, {\"question\": \"What is the English name of the historic museum in St. Barts?\", \"x\": 4.2621073722839355, \"y\": 11.595507621765137}, {\"question\": \"What type of skills did Ibn Sina state children should learn in secondary education?\", \"x\": 6.820334434509277, \"y\": 9.738114356994629}, {\"question\": \"When was the FSO Car Factory founded?\", \"x\": 5.289693832397461, \"y\": 9.54836368560791}, {\"question\": \"Which organization planned several protests?\", \"x\": 6.593132972717285, \"y\": 11.173385620117188}, {\"question\": \"To the Romans what did them think promoted social stability?\", \"x\": 8.274786949157715, \"y\": 11.299899101257324}, {\"question\": \"What type of animal belonging to Queen Elizabeth II was killed by an intruding fox on the Buckingham Palace grounds?\", \"x\": 5.092813968658447, \"y\": 11.261161804199219}, {\"question\": \"What was the population of Kathmandu in 1991?\", \"x\": 3.0322184562683105, \"y\": 10.695653915405273}, {\"question\": \"What educational study did Luther start to pursue and immediately  drop?\", \"x\": 7.798459529876709, \"y\": 10.80554485321045}, {\"question\": \"When was the Cork South Link dual carriageway built?\", \"x\": 4.742971897125244, \"y\": 10.520757675170898}, {\"question\": \"What is another way \\\"Coloureds\\\" can be distinguished from \\\"Blacks\\\"?\", \"x\": 6.973875045776367, \"y\": 10.987335205078125}, {\"question\": \"Who discovered M. tuberculosis?\", \"x\": 7.22113561630249, \"y\": 8.680253982543945}, {\"question\": \"The US Air Force began research of ICBMs in what year?\", \"x\": 5.530447483062744, \"y\": 10.73848819732666}, {\"question\": \"What do Jonathon Israel claim caused the change that eventually led to the revolutions of the latter half of the 18th centure and early 19th century?\", \"x\": 7.664853096008301, \"y\": 10.811015129089355}, {\"question\": \"What is the name of New York City's climate using the K\\u00f6ppen climate classification?\", \"x\": 3.142352342605591, \"y\": 11.77835464477539}, {\"question\": \"In what city was Elizabeth born?\", \"x\": 4.477362632751465, \"y\": 10.711088180541992}, {\"question\": \"What are the 67th, 69th, and 70th floors of the GE Building at Rockerfeller Center nicknamed?\", \"x\": 3.596881628036499, \"y\": 11.00165843963623}, {\"question\": \"What is a popular tabloid magazine in Namibia?\", \"x\": 4.640000343322754, \"y\": 9.617287635803223}, {\"question\": \"Which classical views about the method of science did Popper reject?\", \"x\": 8.460299491882324, \"y\": 9.998616218566895}, {\"question\": \"Who was a Sichuan school teacher?\", \"x\": 5.679935455322266, \"y\": 13.56884765625}, {\"question\": \"When are subject committees established?\", \"x\": 6.044677734375, \"y\": 11.182064056396484}, {\"question\": \"What was inspired by the fall of the Berlin wall?\", \"x\": 7.7038116455078125, \"y\": 12.5654296875}, {\"question\": \"When was the Commonwealth of Australia created?\", \"x\": 6.037907123565674, \"y\": 11.543917655944824}, {\"question\": \"What publication did Annick Cojean work for?\", \"x\": 5.195663928985596, \"y\": 9.461686134338379}, {\"question\": \"What were the prime examples of reference works that systemasized scientific knowledge in the age oif Enlightenment?\", \"x\": 7.969956874847412, \"y\": 10.252457618713379}, {\"question\": \"What is the definition of Space Control according to the US and its allies? \", \"x\": 5.64872932434082, \"y\": 10.707673072814941}, {\"question\": \"Where is a good place to find dramatic plays all year in Cork?\", \"x\": 4.266376495361328, \"y\": 10.436548233032227}, {\"question\": \"How did non-standard gauge trains start to operate with high-voltage AC?\", \"x\": 6.351284980773926, \"y\": 8.257741928100586}, {\"question\": \"in what century was a school of polyphony established at Notre Dame?\", \"x\": 7.533936977386475, \"y\": 10.649158477783203}, {\"question\": \"How many NCAA Division I members play in Boston?\", \"x\": 3.556368589401245, \"y\": 9.958695411682129}, {\"question\": \"How much did Apple spend to advertise in a special post-election issue of Newsweek?\", \"x\": 4.610309600830078, \"y\": 9.309334754943848}, {\"question\": \"What type of trib were the Hephthalites?\", \"x\": 8.51128101348877, \"y\": 11.889789581298828}, {\"question\": \"What was the ethnicity of Friedrich Wilhelm Joseph Schelling?\", \"x\": 7.640225887298584, \"y\": 10.302912712097168}, {\"question\": \"The reign of which king was a turning point in the growth of the position of prime minister?\", \"x\": 5.960923671722412, \"y\": 11.646450996398926}, {\"question\": \"From where did Iranian languages originate?\", \"x\": 8.902963638305664, \"y\": 12.489252090454102}, {\"question\": \"In the Bermuda land mass, how many islands are named \\\"Long Island\\\"?\", \"x\": 4.14857292175293, \"y\": 12.06741714477539}, {\"question\": \"What kind of climate does Punjab have?\", \"x\": 3.168801784515381, \"y\": 12.035696983337402}, {\"question\": \"Who was \\\"The Ballad of Chevy Chase\\\" composed by?\", \"x\": 7.28255558013916, \"y\": 9.814521789550781}, {\"question\": \"What was the original meaning of ta'wil?\", \"x\": 7.866620063781738, \"y\": 11.963699340820312}, {\"question\": \"In which year did the Society of Friends begin?\", \"x\": 7.449661731719971, \"y\": 11.37453842163086}, {\"question\": \"What term was coined in the 16th century to indicate present time?\", \"x\": 7.434856414794922, \"y\": 10.745299339294434}, {\"question\": \"Fine quality painted pottery is a distinctive style of what period in Sumerian history?\", \"x\": 8.993391036987305, \"y\": 11.537606239318848}, {\"question\": \"What culture is linguistically isolated from the rest of Switzerland?\", \"x\": 8.58836841583252, \"y\": 12.865437507629395}, {\"question\": \"Who is the current head of Comcast?\", \"x\": 4.834027290344238, \"y\": 9.478893280029297}, {\"question\": \"What characteristics were not inherent in Roman religious practice?\", \"x\": 8.524714469909668, \"y\": 11.061802864074707}, {\"question\": \"Out of the maximum amount of players allowed, one must be a what?\", \"x\": 3.724606990814209, \"y\": 9.374853134155273}, {\"question\": \"In which year did Mongolia seek entry in the Warsaw Pact?\", \"x\": 6.897922992706299, \"y\": 12.706645011901855}, {\"question\": \"What was the name of Tem\\u00fcjin's laws?\", \"x\": 6.524028301239014, \"y\": 13.367201805114746}, {\"question\": \"When did the Communist troops cross the Yangtze River?\", \"x\": 5.637161731719971, \"y\": 13.431368827819824}, {\"question\": \"What type of anthropology is used to analyse and find solutions to real world problems?\", \"x\": 8.076460838317871, \"y\": 9.607880592346191}, {\"question\": \"Multi-color LEDs offer what else besides the formation of white light?\", \"x\": 6.268146991729736, \"y\": 7.663790225982666}, {\"question\": \"What international prize winning winery is located in North Carolina?\", \"x\": 3.5055134296417236, \"y\": 11.912593841552734}, {\"question\": \"How long was the doctrines of Galen in use for?\", \"x\": 8.199762344360352, \"y\": 10.213944435119629}, {\"question\": \"A method of multitasking that takes a \\\"slice\\\" of time in turn is called what?\", \"x\": 6.944682598114014, \"y\": 9.267343521118164}, {\"question\": \"Who was the head of the Canberra torch relay committee?\", \"x\": 5.126396656036377, \"y\": 11.68211841583252}, {\"question\": \"What industrialist from Pittsburgh campaigned strongly in favor of DST?\", \"x\": 5.6022562980651855, \"y\": 9.621476173400879}, {\"question\": \"Where is The Old Ferryboat Inn located?\", \"x\": 4.095612525939941, \"y\": 11.425670623779297}, {\"question\": \"How many cities or towns are there in all of England and Wales with a ceremonial sheriff acting as the Mayor's deputy?\", \"x\": 4.593771934509277, \"y\": 11.503243446350098}, {\"question\": \"Among what twentieth century scientists was idealism popular?\", \"x\": 8.232306480407715, \"y\": 10.133269309997559}, {\"question\": \"When does infection begin?\", \"x\": 7.303649425506592, \"y\": 8.690688133239746}, {\"question\": \"According to research findings, does Internet use have a positive or negative effect on teen physical health?\", \"x\": 7.2920002937316895, \"y\": 9.146629333496094}, {\"question\": \"Where was Britain's claim to West Africa recognized in 1885?\", \"x\": 6.360227584838867, \"y\": 11.934839248657227}, {\"question\": \"What road does First use stops around to leave a terminal available for other buses?\", \"x\": 4.488585948944092, \"y\": 10.933517456054688}, {\"question\": \"What was the biggest influence from the west on Ottoman literature?\", \"x\": 8.14069938659668, \"y\": 10.54079532623291}, {\"question\": \"What produces a representation of digital data that decompresses?\", \"x\": 6.160398960113525, \"y\": 8.356404304504395}, {\"question\": \"When was the Soviet Union created?\", \"x\": 6.994922637939453, \"y\": 12.42298412322998}, {\"question\": \"What conjecture holds that there is an infinite amount of twin primes?\", \"x\": 8.604001998901367, \"y\": 9.413890838623047}, {\"question\": \"What famous governor signed legislation in honor of Donda West's death?\", \"x\": 5.525038242340088, \"y\": 9.6962890625}, {\"question\": \"Who asserted that a divine reason gave order to the seeds of the universe?\", \"x\": 8.461764335632324, \"y\": 10.230813026428223}, {\"question\": \"Which of Virgil's works is considered the national epic of ancient Rome?\", \"x\": 8.404272079467773, \"y\": 11.036233901977539}, {\"question\": \"What is sulfate-reducing bacteria accountable for?\", \"x\": 7.5023298263549805, \"y\": 8.281883239746094}, {\"question\": \"What has survived in Nanjing's suburbs?\", \"x\": 5.35614538192749, \"y\": 13.57178783416748}, {\"question\": \"Who did the the Chinese Ming dynasty fall to?\", \"x\": 5.9923248291015625, \"y\": 13.541115760803223}, {\"question\": \"What archdiocese is Warsaw the seat of?\", \"x\": 7.389250755310059, \"y\": 12.674233436584473}, {\"question\": \"Why were problems created when transferring files between systems?\", \"x\": 5.810169219970703, \"y\": 8.485639572143555}, {\"question\": \"What part of the computer has memory cells called registers?\", \"x\": 6.317857265472412, \"y\": 8.472285270690918}, {\"question\": \"How many ducks did China produce for consumption in 2011?\", \"x\": 5.039276599884033, \"y\": 13.35657787322998}, {\"question\": \"What did Cixi do in 1901?\", \"x\": 5.792032718658447, \"y\": 13.553969383239746}, {\"question\": \"When were the first campus police formed at Yale?\", \"x\": 5.3398003578186035, \"y\": 10.148719787597656}, {\"question\": \"Who ranked BYU as the best college in Utah?\", \"x\": 3.7125253677368164, \"y\": 10.065258026123047}, {\"question\": \"What industry was getting smaller?\", \"x\": 4.144891262054443, \"y\": 10.502514839172363}, {\"question\": \"What aspect of the Enlightenment did Robert Darnton and Jurgen Habermas focus on within the Enlightenment?\", \"x\": 8.062978744506836, \"y\": 10.282957077026367}, {\"question\": \"Where is an inn typically located?\", \"x\": 4.080854892730713, \"y\": 11.172138214111328}, {\"question\": \"What is the main function of direction lanterns?\", \"x\": 6.2330427169799805, \"y\": 8.166386604309082}, {\"question\": \"What does database access limit?\", \"x\": 6.239259719848633, \"y\": 8.51375961303711}, {\"question\": \"Even though Tajikistan has freedom of the press, what is the problem with it?\", \"x\": 4.947066783905029, \"y\": 12.848048210144043}, {\"question\": \"What industry was monopolized by the government in 98 BC?\", \"x\": 6.442997455596924, \"y\": 11.646686553955078}, {\"question\": \"What overlaps significantly with Hasidic Judiasm?\", \"x\": 8.474562644958496, \"y\": 11.150177955627441}, {\"question\": \"What is one of the largest Protestant branches with 80 million members?\", \"x\": 7.563464641571045, \"y\": 11.427316665649414}, {\"question\": \"How are staples of classical music often used?\", \"x\": 7.383973121643066, \"y\": 10.037579536437988}, {\"question\": \"What type of armor did Japanese wear in the 7th century?\", \"x\": 6.733719825744629, \"y\": 13.315213203430176}, {\"question\": \"What marked the conclusion of The Great War?\", \"x\": 5.856949806213379, \"y\": 12.458870887756348}, {\"question\": \"What is one of the historical certain facts about Jesus?\", \"x\": 8.269887924194336, \"y\": 10.934746742248535}, {\"question\": \"What type of philosophy does both Kasmir Shaivism and Advaita Vedanta share?\", \"x\": 8.666117668151855, \"y\": 10.6542387008667}, {\"question\": \"What was the name of the Memorandum that allowed German teaching in Alsace schools to become more official?\", \"x\": 7.737086296081543, \"y\": 12.61406421661377}, {\"question\": \"What policy guaranteed that characters have a unique and immutable name?\", \"x\": 7.647068977355957, \"y\": 12.191040992736816}, {\"question\": \"Why might Neptune have more varied weather than Uranus?\", \"x\": 3.2172088623046875, \"y\": 12.035383224487305}, {\"question\": \"What did the laws passed in the 17th century do?\", \"x\": 7.005472183227539, \"y\": 11.363409042358398}, {\"question\": \"Military command was given to whom based on his firmness?\", \"x\": 5.8159966468811035, \"y\": 11.020590782165527}, {\"question\": \"The term \\\"high definition\\\" originally described televisions systems from what year?\", \"x\": 5.255810260772705, \"y\": 8.383402824401855}, {\"question\": \"When did the UN Security Council recommend that the Marshall Islands be allowed to join the UN?\", \"x\": 6.033295631408691, \"y\": 12.366011619567871}, {\"question\": \"Much of what has not changed since the medieval period?\", \"x\": 7.713799953460693, \"y\": 10.886482238769531}, {\"question\": \"What term refers to Islamic law?\", \"x\": 7.747110366821289, \"y\": 11.842612266540527}, {\"question\": \"Which two nations has The Sun been very antagonistic towards?\", \"x\": 6.577285289764404, \"y\": 12.283066749572754}, {\"question\": \"What did excavations around Agordat yield the remains of?\", \"x\": 8.767321586608887, \"y\": 11.731706619262695}, {\"question\": \"Which Dalai Lama cites Shantideva's famous saying?\", \"x\": 6.351675033569336, \"y\": 13.593881607055664}, {\"question\": \"WPXD channel 31 is an affliate of which TV network?\", \"x\": 4.595586776733398, \"y\": 8.649039268493652}, {\"question\": \"Who probably located the island on their final leg of their circumnavigation trip?\", \"x\": 4.689850807189941, \"y\": 12.278422355651855}, {\"question\": \"In what year did the Presbyterian Church of Australia , the Congregational Union of Australia , and all the Methodist Church of Australasia merge?\", \"x\": 6.8284502029418945, \"y\": 11.332815170288086}, {\"question\": \"Approximately what percentage of South Africans are native Afrikaans speakers?\", \"x\": 2.8109633922576904, \"y\": 10.510363578796387}, {\"question\": \"What anime convention is held in Seattle?\", \"x\": 3.930565595626831, \"y\": 10.334450721740723}, {\"question\": \"Near what headland was Mosylon located?\", \"x\": 4.58290958404541, \"y\": 12.56935977935791}, {\"question\": \"What did Daniel Robbins say about Demoiselles being the beginning of Cubism?\", \"x\": 7.744247913360596, \"y\": 9.746475219726562}, {\"question\": \"How many teams were there in the 2015 season?\", \"x\": 3.698871612548828, \"y\": 9.440305709838867}, {\"question\": \"Known for its literary culture, Boston has also been called what?\", \"x\": 4.22362756729126, \"y\": 10.88425350189209}, {\"question\": \"How many synergetic qualities are there in the predator-prey mechanism? \", \"x\": 8.236254692077637, \"y\": 8.789207458496094}, {\"question\": \"On what date was the RSFSR established?\", \"x\": 7.00645637512207, \"y\": 12.30078125}, {\"question\": \"The success of the Communists helped what political group?\", \"x\": 7.060381889343262, \"y\": 12.326044082641602}, {\"question\": \"What effect does jet-lag and shift-work have on the human body?\", \"x\": 7.788292407989502, \"y\": 8.789573669433594}, {\"question\": \"The Ming Dynasty granted what titles to lamas of schools?\", \"x\": 6.213724136352539, \"y\": 13.523842811584473}, {\"question\": \"Who declared Chinese South Africans as \\\"Black People\\\"?\", \"x\": 6.767394065856934, \"y\": 11.123457908630371}, {\"question\": \"Where do the Plymouth Brethren hail from?\", \"x\": 7.410553932189941, \"y\": 11.421307563781738}, {\"question\": \"What \\\"dynamic theory\\\" did Tesla say he finished in 1937?\", \"x\": 6.098783493041992, \"y\": 9.115681648254395}, {\"question\": \"Who lost power in 1964?\", \"x\": 5.646110534667969, \"y\": 12.090805053710938}, {\"question\": \"What percentage of undergraduates were affiliated with a fraternity or sorority in Winter 2013?\", \"x\": 3.381080150604248, \"y\": 10.04039478302002}, {\"question\": \"Who was called in to watch over the presidential election in 2004?\", \"x\": 5.497061252593994, \"y\": 10.490785598754883}, {\"question\": \"What was the Harvard endowment total in 2011?\", \"x\": 3.481651544570923, \"y\": 9.895812034606934}, {\"question\": \"For which company did C. Robert Fine work for?\", \"x\": 5.311215877532959, \"y\": 9.414779663085938}, {\"question\": \"What enhances man's faith in God according to Albertus Magnus?\", \"x\": 8.340425491333008, \"y\": 10.413041114807129}, {\"question\": \"What philosopher did Avicenna discuss in his The Book of Healing text?\", \"x\": 8.282686233520508, \"y\": 10.440544128417969}, {\"question\": \"What gender was expected to be conscripted into the military?\", \"x\": 6.193632125854492, \"y\": 10.948594093322754}, {\"question\": \"what year was the Treaty of Paris agreed on?\", \"x\": 5.904664516448975, \"y\": 12.653484344482422}, {\"question\": \"What is Nigeria's 2015 GDP?\", \"x\": 3.291623592376709, \"y\": 10.414923667907715}, {\"question\": \"What were Sumerian temples known as?\", \"x\": 8.912866592407227, \"y\": 11.658373832702637}, {\"question\": \"Which of Popper's works addresses the improvement of scientific understanding of the world over time?\", \"x\": 8.501424789428711, \"y\": 9.962803840637207}, {\"question\": \"What caused Luther to write hymns?\", \"x\": 7.861794471740723, \"y\": 10.846357345581055}, {\"question\": \"Who was The Times' Chief Editor in 1914?\", \"x\": 4.718329906463623, \"y\": 9.468871116638184}, {\"question\": \"When did Beyonce start becoming popular?\", \"x\": 4.333800315856934, \"y\": 8.509068489074707}, {\"question\": \"The pub \\\"The Bag o'Nails\\\" was a corruption of what word?\", \"x\": 5.073025703430176, \"y\": 10.790701866149902}, {\"question\": \"White LEDs can be made by coating what?\", \"x\": 6.288242340087891, \"y\": 7.673825740814209}, {\"question\": \"How many members did VVAW have when Kerry joined it?\", \"x\": 3.56880259513855, \"y\": 9.865179061889648}, {\"question\": \"How many people are affected by zinc deficiency?\", \"x\": 2.867292642593384, \"y\": 10.455663681030273}, {\"question\": \"How many launch pads were originally planned?\", \"x\": 4.418562889099121, \"y\": 11.989432334899902}, {\"question\": \"What did Fr\\u00e9d\\u00e9ric compose after hearing Niccol\\u00f2 Paganini perform on the violin?\", \"x\": 7.3802666664123535, \"y\": 9.954732894897461}, {\"question\": \"What makes predation successful?\", \"x\": 8.371912956237793, \"y\": 8.633828163146973}, {\"question\": \"Where was Madonna born?\", \"x\": 4.130473613739014, \"y\": 8.75643539428711}, {\"question\": \"What are commonly used?\", \"x\": 6.715147972106934, \"y\": 8.604711532592773}, {\"question\": \"The gradual spread of Buddhism exposed it to a variety of influences including what civilization?\", \"x\": 8.938608169555664, \"y\": 10.606067657470703}, {\"question\": \"What language is the word dialectus from?\", \"x\": 8.537407875061035, \"y\": 12.692503929138184}, {\"question\": \"Which three-time Olympic medalist and Hall of Famer graduated from BYU?\", \"x\": 5.621429443359375, \"y\": 9.687682151794434}, {\"question\": \"What's another word for \\\"sputum\\\"?\", \"x\": 7.030303955078125, \"y\": 9.168997764587402}, {\"question\": \"What law justified British imperialism?\", \"x\": 6.572206497192383, \"y\": 11.76701545715332}, {\"question\": \"What permanent group representative do hunter-gatherers not have?\", \"x\": 8.681360244750977, \"y\": 11.261321067810059}, {\"question\": \"Who suppressed agermanats' uprising?\", \"x\": 6.728696346282959, \"y\": 11.783954620361328}, {\"question\": \"In what type of network are most scientific research studies conducted in Portugal?\", \"x\": 6.425463676452637, \"y\": 10.06735610961914}, {\"question\": \"What portion of households in Jacksonville have only one person?\", \"x\": 2.9930171966552734, \"y\": 10.353348731994629}, {\"question\": \"When was Tan Zhenlin's term as Zhenjiang's Communist Party Secretary?\", \"x\": 5.690096855163574, \"y\": 13.505023956298828}, {\"question\": \"Where did the Austrians retreat in May of 1757?\", \"x\": 5.702029705047607, \"y\": 12.386204719543457}, {\"question\": \"The first American to orbit around the planet was whom?\", \"x\": 5.215314865112305, \"y\": 11.030950546264648}, {\"question\": \"The churches of which desert decorated their monasteries with mosaics?\", \"x\": 4.49465799331665, \"y\": 10.338052749633789}, {\"question\": \"Captain America, Thor and Ultron all inhabit what fictional milieu?\", \"x\": 7.91825532913208, \"y\": 10.773743629455566}, {\"question\": \"What are three international organizations that Portugal belongs to?\", \"x\": 6.365250110626221, \"y\": 11.422472953796387}, {\"question\": \"In what month did Tucson get the most rain?\", \"x\": 2.986431837081909, \"y\": 11.790756225585938}, {\"question\": \"To address the shoddy hardware, what popped up across the United States?\", \"x\": 5.641623497009277, \"y\": 8.862730026245117}, {\"question\": \"To whom did Rothko donate Passion of Christ murals?\", \"x\": 4.334143161773682, \"y\": 10.082075119018555}, {\"question\": \"What was the name of the possible descendants of J\\u014dmon?\", \"x\": 8.82012939453125, \"y\": 12.352740287780762}, {\"question\": \"What gender are most species of Ctenophores?\", \"x\": 8.155534744262695, \"y\": 8.493326187133789}, {\"question\": \"Learning how insects interact with the surrounding environment is called what?\", \"x\": 8.323164939880371, \"y\": 8.836371421813965}, {\"question\": \"When did El Nuevo Herald leave Miami?\", \"x\": 4.812690258026123, \"y\": 9.68770980834961}, {\"question\": \"Along with Dante and Boccaccio, who was a notable Italian author of the 14th century?\", \"x\": 8.101110458374023, \"y\": 10.839406967163086}, {\"question\": \"What is it called when multiple different alleles for a gene are present in a species's population?\", \"x\": 8.226890563964844, \"y\": 8.494186401367188}, {\"question\": \"Rebirth into the \\u015auddh\\u0101v\\u0101sa Worlds or Pure Abodes can only be attained by who?\", \"x\": 9.023591995239258, \"y\": 10.417461395263672}, {\"question\": \"What was the programming philosophy pioneered by ABC and Goldenson?\", \"x\": 4.867922782897949, \"y\": 8.468704223632812}, {\"question\": \"When did Yugoslavia change its name to the Socialist Federal Republic of Yugoslavia?\", \"x\": 7.175851345062256, \"y\": 12.543867111206055}, {\"question\": \"How many legal jurisdictions are Swiss citizens subject to?\", \"x\": 4.121561527252197, \"y\": 11.855316162109375}, {\"question\": \"Parque Rodo belongs to who?\", \"x\": 4.582318305969238, \"y\": 11.067835807800293}, {\"question\": \"When did the church reform begin?\", \"x\": 7.613519668579102, \"y\": 11.290454864501953}, {\"question\": \"Who describes the \\\"Evil Quartet\\\"?\", \"x\": 7.6654276847839355, \"y\": 11.395849227905273}, {\"question\": \"Before Planck, it was assumed that the energy of a body could take on what value?\", \"x\": 7.5091400146484375, \"y\": 9.03281021118164}, {\"question\": \"How much snow does Raleigh get?\", \"x\": 2.965933084487915, \"y\": 11.920731544494629}, {\"question\": \"Where in South Carolina did Huguenot nobility settle?\", \"x\": 7.120492935180664, \"y\": 11.276693344116211}, {\"question\": \"Apollo 7 launched from Earth on what date?\", \"x\": 5.0702385902404785, \"y\": 11.357735633850098}, {\"question\": \"In which country is Ephesus?\", \"x\": 4.836752414703369, \"y\": 12.83887004852295}, {\"question\": \"When did Britain pass the Regulating Act?\", \"x\": 6.319784164428711, \"y\": 11.54893684387207}, {\"question\": \"What is New York City's Gini Coefficient?\", \"x\": 3.1877048015594482, \"y\": 10.919715881347656}, {\"question\": \"Videophone calls are different from videoconferencing in what way?\", \"x\": 5.790547847747803, \"y\": 8.337807655334473}, {\"question\": \"What is an important personal decision for civil disobedients?\", \"x\": 6.740527153015137, \"y\": 10.71661376953125}, {\"question\": \"The Hellinistic age marked the rise in what type of religion?\", \"x\": 8.813523292541504, \"y\": 11.290702819824219}, {\"question\": \"When did Pan-Slavism develop as a movement?\", \"x\": 7.5600056648254395, \"y\": 12.37700080871582}, {\"question\": \"What year was Grande Ile classified as a World Heritage site?\", \"x\": 4.680417060852051, \"y\": 11.31258487701416}, {\"question\": \"Where did Craig go to deal with his injury?\", \"x\": 4.580228328704834, \"y\": 9.413325309753418}, {\"question\": \"Who was Ibn Sina's first appontment?\", \"x\": 7.253003120422363, \"y\": 11.469550132751465}, {\"question\": \"When did Muhammad bin Wasim sail to Pakistan?\", \"x\": 5.343298435211182, \"y\": 12.718836784362793}, {\"question\": \"What does the Lancashire economy rely on?\", \"x\": 4.035003185272217, \"y\": 10.590129852294922}, {\"question\": \"Who was the leader of the East Prussian Nazi Party?\", \"x\": 7.198554515838623, \"y\": 12.671306610107422}, {\"question\": \"Why did Chopin request being cut open after his death?\", \"x\": 7.314873218536377, \"y\": 9.94831371307373}, {\"question\": \"What is the largest populated city in Arizona?\", \"x\": 3.4240708351135254, \"y\": 11.491072654724121}, {\"question\": \"What methods are highly sensitive, specifc and rapid tests used to identify microorganisms?\", \"x\": 7.322653770446777, \"y\": 8.446965217590332}, {\"question\": \"Who financed Studio Misr?\", \"x\": 4.569525241851807, \"y\": 9.945974349975586}, {\"question\": \"What were the hunger strikers hoping to draw attention to?\", \"x\": 6.673901557922363, \"y\": 10.934391021728516}, {\"question\": \"According to the Constitution, what is superior to the rules of man?\", \"x\": 6.863250255584717, \"y\": 10.944951057434082}, {\"question\": \"Who was Napoleon's father?\", \"x\": 5.512331485748291, \"y\": 12.200505256652832}, {\"question\": \"What time period marks the start of Neolithic culture?\", \"x\": 8.796830177307129, \"y\": 11.472161293029785}, {\"question\": \"When did shootings peak in the city?\", \"x\": 3.4750447273254395, \"y\": 11.644248008728027}, {\"question\": \"What are strains that are resistant to antibiotics called sometimes?\", \"x\": 7.540062427520752, \"y\": 8.41011905670166}, {\"question\": \"When did Hayek begin presenting his ideas on the limits of human knowledge?\", \"x\": 8.272424697875977, \"y\": 9.888946533203125}, {\"question\": \"Which format is considered to look most realistic, LaserDisc or DVD?\", \"x\": 5.60214900970459, \"y\": 8.045894622802734}, {\"question\": \"Who did Luther remind the peasants to obey?\", \"x\": 7.838965892791748, \"y\": 11.11923599243164}, {\"question\": \"What Fields Medal winning Mathematician is a faculty member at Harvard?\", \"x\": 5.931890964508057, \"y\": 9.628266334533691}, {\"question\": \"The Enlightenment is frequently linked to the French Revolution of what year?\", \"x\": 7.646300792694092, \"y\": 10.59195327758789}, {\"question\": \"What feature does Southampton have plenty of that provides for water sports and yachting?\", \"x\": 4.379815101623535, \"y\": 11.524262428283691}, {\"question\": \"Which indigenous group is controversially known for hunting caribou on protected land?\", \"x\": 8.465917587280273, \"y\": 11.4708890914917}, {\"question\": \"Who was attacking the Partisans in 1943?\", \"x\": 7.111398696899414, \"y\": 12.801310539245605}, {\"question\": \"Who did Voltaire say that France looked to for ideas of civilization?\", \"x\": 7.741392612457275, \"y\": 10.554398536682129}, {\"question\": \"What was the usual type of school discipline?\", \"x\": 6.627560615539551, \"y\": 9.836152076721191}, {\"question\": \"What early team copied the Arsenal's red current color in 1909?\", \"x\": 4.40067720413208, \"y\": 10.053954124450684}, {\"question\": \"What organization is the IPCC a part of?\", \"x\": 6.320638179779053, \"y\": 11.208373069763184}, {\"question\": \"What is the method to demonstrate that no contradictions were created by the addition of axiom of foundation?\", \"x\": 8.577040672302246, \"y\": 9.731731414794922}, {\"question\": \"Where is Tajikistan located?\", \"x\": 4.472314834594727, \"y\": 12.770256996154785}, {\"question\": \"Which percentage of Hyderabad's population is below the poverty line?\", \"x\": 2.9692609310150146, \"y\": 10.374628067016602}, {\"question\": \"What type of music did many of the post-punk bands start indulging in?\", \"x\": 4.61093807220459, \"y\": 8.137372970581055}, {\"question\": \"Under whose leadership did Yugoslavia become a founding member of the Non-Aligned Movement?\", \"x\": 7.095930576324463, \"y\": 12.629016876220703}, {\"question\": \"To which dynasty did Yarolav's step mother belong to?\", \"x\": 6.438223361968994, \"y\": 12.861509323120117}, {\"question\": \"What elements of Proto-Indo-Iranian did not diverge according to the ensuing split between eastern and western variants?\", \"x\": 9.016029357910156, \"y\": 12.477056503295898}, {\"question\": \"What type of device did Australia and New Zealand offer to Tuvalu during the 2011 drought?\", \"x\": 4.86542272567749, \"y\": 12.328010559082031}, {\"question\": \"What is being used to produce white LEDs?\", \"x\": 6.23329496383667, \"y\": 7.604613304138184}, {\"question\": \"Who is responsible for the security of Paris?\", \"x\": 5.468998432159424, \"y\": 10.587023735046387}, {\"question\": \"When did China begin constructing the third BeiDou system?\", \"x\": 5.012788772583008, \"y\": 10.446794509887695}, {\"question\": \"Who have hot AC format radio stations had to change the music they play?\", \"x\": 4.578241348266602, \"y\": 8.25302505493164}, {\"question\": \"What is the jellabiya?\", \"x\": 7.823523998260498, \"y\": 11.932536125183105}, {\"question\": \"Stimulating nociceptors will induce which type of pain?\", \"x\": 8.013978958129883, \"y\": 8.955127716064453}, {\"question\": \"What branch of the USA Armed Forces is the largest?\", \"x\": 5.639064311981201, \"y\": 10.987737655639648}, {\"question\": \"Emotion is called what in Hellenistic art?\", \"x\": 8.687697410583496, \"y\": 10.618176460266113}, {\"question\": \"The complexity of problems often depends on what?\", \"x\": 7.640600681304932, \"y\": 9.182062149047852}, {\"question\": \"How many ports does Oklahoma have?\", \"x\": 3.9932656288146973, \"y\": 11.789942741394043}, {\"question\": \"What major event happened in Alaska on March 27, 1964 killing 133 people?\", \"x\": 5.468917369842529, \"y\": 12.155815124511719}, {\"question\": \"What determines the properties of speed and torque?\", \"x\": 7.687267303466797, \"y\": 8.70114803314209}, {\"question\": \"Two of the most popular sports played in Hyderabad include association football, what is the other?\", \"x\": 4.277393817901611, \"y\": 10.420414924621582}, {\"question\": \"What's Arnold Schwarzenegger's birth date?\", \"x\": 5.463493347167969, \"y\": 9.66082763671875}, {\"question\": \"What is the total area of New York City in square miles?\", \"x\": 3.2897279262542725, \"y\": 11.357816696166992}, {\"question\": \"Who redrew Germany's internal borders after World War II?\", \"x\": 7.593613147735596, \"y\": 12.653410911560059}, {\"question\": \"In recent years, has the amount of social networking sites available to the public increased or decreased?\", \"x\": 6.735019207000732, \"y\": 9.036482810974121}, {\"question\": \"What were the first known examples of Iranian visual art? \", \"x\": 9.04237174987793, \"y\": 11.869030952453613}, {\"question\": \"When did the FBI begin investigating espionage?\", \"x\": 6.2053070068359375, \"y\": 10.727829933166504}, {\"question\": \"In what year did World War I begin?\", \"x\": 5.7394514083862305, \"y\": 12.365593910217285}, {\"question\": \"What do many capacitors contain that raises the capacitance?\", \"x\": 6.725447177886963, \"y\": 8.178230285644531}, {\"question\": \"How much did Bell et al. try to sell his patent for?\", \"x\": 5.657505512237549, \"y\": 9.056172370910645}, {\"question\": \"What percentage of murderers in the United States are given a death sentence?\", \"x\": 2.9570891857147217, \"y\": 10.40560531616211}, {\"question\": \"Roughly how many days of sunshine does Santa Monica get annually? \", \"x\": 2.9779486656188965, \"y\": 11.78898811340332}, {\"question\": \"What model described the opposite of approach as moving away?\", \"x\": 8.284807205200195, \"y\": 9.190131187438965}, {\"question\": \"around when did the great plains become productive for crop growing\", \"x\": 8.861841201782227, \"y\": 11.649230003356934}, {\"question\": \"What do Orthodox Jews turn to for guidance and practical application of jewish law?\", \"x\": 8.374107360839844, \"y\": 11.113927841186523}, {\"question\": \"What makes up the law of criminal procedure?\", \"x\": 6.7398176193237305, \"y\": 10.783121109008789}, {\"question\": \"How many base stations did China Mobile have suspended?\", \"x\": 4.929307460784912, \"y\": 13.250093460083008}, {\"question\": \"EPN's Nuclear Science Department is among how many of its kind in Ecuador?\", \"x\": 5.39103889465332, \"y\": 10.545121192932129}, {\"question\": \"Which area is responsible for the long-term preservation of the V&A collections?\", \"x\": 3.99648380279541, \"y\": 10.113507270812988}, {\"question\": \"What were UN sanctions place placed on 2003?\", \"x\": 6.184696197509766, \"y\": 12.284870147705078}, {\"question\": \"What is the largest ethnic group in Egypt?\", \"x\": 8.675895690917969, \"y\": 11.83226203918457}, {\"question\": \"What neighbours north Zhejiang to the south?\", \"x\": 5.276564598083496, \"y\": 13.519545555114746}, {\"question\": \"Which of Hayek's books argued against the socialist price mechanism?\", \"x\": 8.175786018371582, \"y\": 9.991789817810059}, {\"question\": \"What church is organized into conferences?\", \"x\": 7.439407825469971, \"y\": 11.43385124206543}, {\"question\": \"What is responsible for directing all ground traffic in designated areas?\", \"x\": 5.368940353393555, \"y\": 10.440983772277832}, {\"question\": \"The British revival of Georgian architecture in the 20th century is generally referred to as?\", \"x\": 4.714308738708496, \"y\": 10.343165397644043}, {\"question\": \"What happens to the working fluid in a closed loop system?\", \"x\": 6.96859884262085, \"y\": 8.178797721862793}, {\"question\": \"The forebrain during development is known as what?\", \"x\": 8.054657936096191, \"y\": 8.775312423706055}, {\"question\": \"Who administered the last sacrament to von Neumann?\", \"x\": 7.482693672180176, \"y\": 10.242055892944336}, {\"question\": \"What term is used to test functionality of the software accordingly with the application requirements?\", \"x\": 6.611454963684082, \"y\": 9.209999084472656}, {\"question\": \"What generally does not allow citizens to sue other citizens?\", \"x\": 6.71742582321167, \"y\": 10.943239212036133}, {\"question\": \"What is the earliest recorded instance of circadian rhythm?\", \"x\": 7.723074913024902, \"y\": 8.872347831726074}, {\"question\": \"A forced trade agreement between two countries would be an example of what?\", \"x\": 6.478542327880859, \"y\": 11.974576950073242}, {\"question\": \"What are the dialects spoken in Moravia and Silesia known as?\", \"x\": 8.474286079406738, \"y\": 12.80429744720459}, {\"question\": \"What is the association of independent states in Britain called?\", \"x\": 6.29658842086792, \"y\": 11.588916778564453}, {\"question\": \"Campidanese Sardinian is a variant of what language?\", \"x\": 8.645593643188477, \"y\": 12.82754135131836}, {\"question\": \"When was he appointed Patriarch of Venice?\", \"x\": 7.453995227813721, \"y\": 11.53075122833252}, {\"question\": \"Who was Chief of Staff of the Army before Eisenhower?\", \"x\": 5.689676284790039, \"y\": 10.731534004211426}, {\"question\": \"The public hospital that has been around the longest in the US is what?\", \"x\": 3.9420385360717773, \"y\": 11.055752754211426}, {\"question\": \"What is preserved in the Boston national Historical Park?\", \"x\": 4.23681116104126, \"y\": 11.204140663146973}, {\"question\": \"What is the average rainfall in February along the coast?\", \"x\": 2.931793451309204, \"y\": 11.874628067016602}, {\"question\": \"When was new constitution institutionalised?\", \"x\": 6.322292804718018, \"y\": 11.293258666992188}, {\"question\": \"Approximately how many of the world population speak German as a native language? \", \"x\": 2.8433282375335693, \"y\": 10.475053787231445}, {\"question\": \"The Dutch had one of the strongest and fastest navies in the world during what time?\", \"x\": 5.261890888214111, \"y\": 12.123165130615234}, {\"question\": \"In, China what is the war officially called?\", \"x\": 5.765622138977051, \"y\": 13.457717895507812}, {\"question\": \"Who invaded Armenia in the 11th century?\", \"x\": 6.174905300140381, \"y\": 12.936781883239746}, {\"question\": \"What is stated as having a negative effect on Fr\\u00e9d\\u00e9ric's health during this productive time?\", \"x\": 7.463499546051025, \"y\": 9.644639015197754}, {\"question\": \"How many jurists are in the Guardian Council?\", \"x\": 4.7194647789001465, \"y\": 11.623387336730957}, {\"question\": \"How is labor often divided in these groups?\", \"x\": 7.753432273864746, \"y\": 9.552165985107422}, {\"question\": \"What keeps being debated in Germany?\", \"x\": 7.664831161499023, \"y\": 12.575838088989258}, {\"question\": \"What are examples of differentiated effector cells that peak during wake periods?\", \"x\": 7.823715686798096, \"y\": 8.750031471252441}, {\"question\": \"When was the IPCC Third Assessment Report published?\", \"x\": 5.314122200012207, \"y\": 9.8690185546875}, {\"question\": \"What is the basis of Simpson's unity?\", \"x\": 7.979752540588379, \"y\": 10.092020034790039}, {\"question\": \"What did Greece have the highest percentage increase in between 2005 and 2011?\", \"x\": 3.2295875549316406, \"y\": 10.519715309143066}, {\"question\": \"The fact that gases ability to conduct heat decreases with pressure is used by what form of measurement?\", \"x\": 6.967443943023682, \"y\": 8.063078880310059}, {\"question\": \"Why did Greg Dyke of London Weekend Television meet with representatives of the biggest five English football clubs in 1990?\", \"x\": 4.322647571563721, \"y\": 9.505033493041992}, {\"question\": \"When is Luther commemorated in the Lutheran Calendar of Saints ?\", \"x\": 7.743871212005615, \"y\": 11.066506385803223}, {\"question\": \"In what year did CEO of RCA/Jive Barry Weiss leave?\", \"x\": 4.8966240882873535, \"y\": 9.279183387756348}, {\"question\": \"How many public beaches are there in St. Barts?\", \"x\": 4.082497596740723, \"y\": 11.918057441711426}, {\"question\": \"What city is Susanna E. Hull located in?\", \"x\": 4.056761264801025, \"y\": 11.091567039489746}, {\"question\": \"How many schoolrooms collapsed in the quake?\", \"x\": 4.716867446899414, \"y\": 13.041296005249023}, {\"question\": \"Who was assassinated on September 22, 189 AD?\", \"x\": 6.760682106018066, \"y\": 12.348628044128418}, {\"question\": \"What is the highest peak in Antarctica?\", \"x\": 3.8473799228668213, \"y\": 12.232604026794434}, {\"question\": \"What type of materialism defined the Marxist philosophy?\", \"x\": 8.628582000732422, \"y\": 10.20095443725586}, {\"question\": \"What type of generation of genetic material has a big part in making the genome what it is?\", \"x\": 8.109068870544434, \"y\": 8.490233421325684}, {\"question\": \"What was a \\\"lay cardinal\\\" allowed to do that is not considered a normal status of a Cardinal?\", \"x\": 7.477005958557129, \"y\": 11.516250610351562}, {\"question\": \"In 2005, how many public employees did Portugal have for every thousand inhabitants?\", \"x\": 3.1231861114501953, \"y\": 10.432843208312988}, {\"question\": \"The beam was traced to what town?\", \"x\": 4.072015285491943, \"y\": 11.3793363571167}, {\"question\": \"When was the first beta release for Safari?\", \"x\": 5.016037464141846, \"y\": 8.784542083740234}, {\"question\": \"The necessary exists due to what?\", \"x\": 8.60682487487793, \"y\": 9.620466232299805}, {\"question\": \"Which ship was originally known as being the capital ship of the fleet?\", \"x\": 5.2011284828186035, \"y\": 12.117682456970215}, {\"question\": \"Sanskrit is the primary sacred language of which religion?\", \"x\": 8.843133926391602, \"y\": 12.461518287658691}, {\"question\": \"What dangerous metal can LEDs contain?\", \"x\": 6.286136150360107, \"y\": 7.642160415649414}, {\"question\": \"What percentage of viewership across the UK is constituted by the BBC?\", \"x\": 3.443880319595337, \"y\": 9.868833541870117}, {\"question\": \"In what language was the first book of the Bible conceived?\", \"x\": 8.691937446594238, \"y\": 12.400626182556152}, {\"question\": \"What is the name given to the input string of a computational problem?\", \"x\": 6.7897868156433105, \"y\": 9.069412231445312}, {\"question\": \"What did the RCC do with remnants of the monarchy?\", \"x\": 6.096826553344727, \"y\": 11.434938430786133}, {\"question\": \"What type of foreign policy has Estonia sought after getting their independence?\", \"x\": 7.821923732757568, \"y\": 12.91269302368164}, {\"question\": \"In what year did Screened Out appear?\", \"x\": 4.496128082275391, \"y\": 8.722145080566406}, {\"question\": \"Name 2 rail companies that use the city as a hub?\", \"x\": 4.005182266235352, \"y\": 10.811363220214844}, {\"question\": \"What's another term used for \\\"conifer\\\" wood?\", \"x\": 7.008774757385254, \"y\": 9.201396942138672}, {\"question\": \"What do some non-theists view God as?\", \"x\": 8.57640266418457, \"y\": 10.210772514343262}, {\"question\": \"When was the invasion of the Parthian Empire begun?\", \"x\": 6.389396667480469, \"y\": 12.794151306152344}, {\"question\": \"What scenes are depicted on the Zliten mosaic?\", \"x\": 4.392978668212891, \"y\": 10.142985343933105}, {\"question\": \"To which university does Richard H. Sander belong?\", \"x\": 5.902835369110107, \"y\": 9.597338676452637}, {\"question\": \"What process signals the need for the prime minister to resign in Australia?\", \"x\": 6.020246982574463, \"y\": 11.613637924194336}, {\"question\": \"What is human communication defined as?\", \"x\": 8.33140754699707, \"y\": 9.452771186828613}, {\"question\": \"Who was Tesla prejudiced against?\", \"x\": 6.0515007972717285, \"y\": 9.189598083496094}, {\"question\": \"Where did Freemasonry originate?\", \"x\": 7.489166259765625, \"y\": 11.36513614654541}, {\"question\": \"When does energy give rise to weight?\", \"x\": 7.576305866241455, \"y\": 8.83847713470459}, {\"question\": \"Colloquial stratum can be traced to several strata in what lexicon?\", \"x\": 8.448718070983887, \"y\": 12.417584419250488}, {\"question\": \"When was Radio Mogadishu established?\", \"x\": 4.769725322723389, \"y\": 10.061846733093262}, {\"question\": \"Miller's words were considered what?\", \"x\": 7.125702857971191, \"y\": 11.02304458618164}, {\"question\": \" Which French mathematician expanded on earlier work of Paolo Ruffini and Joseph-Louis Lagrange?\", \"x\": 7.349490165710449, \"y\": 10.01396656036377}, {\"question\": \"During what years did the five Departments of State do the work of the modern Ministry of Defence?\", \"x\": 5.760952949523926, \"y\": 10.926030158996582}, {\"question\": \"Bactrian, Sogdian, and Saka are examples of what type of Iranian language?\", \"x\": 8.921313285827637, \"y\": 12.504812240600586}, {\"question\": \"What is regarded as the greatest literary work in Old English?\", \"x\": 8.232495307922363, \"y\": 10.967308044433594}, {\"question\": \"When was 'The Warriors' movie released?\", \"x\": 4.2221479415893555, \"y\": 8.698370933532715}, {\"question\": \"Urban settlements and complex societal hierarchies are just some of the hallmarks established by which civilizations?\", \"x\": 8.867866516113281, \"y\": 11.513853073120117}, {\"question\": \"How many teams did the Arena Football League originally have?\", \"x\": 3.6801598072052, \"y\": 9.636197090148926}, {\"question\": \"Who was sent to Korea to act as an advisor to Kim Il-Sung?\", \"x\": 6.5988969802856445, \"y\": 13.151954650878906}, {\"question\": \"Name a film role that Madonna acted in.\", \"x\": 4.115203380584717, \"y\": 8.739739418029785}, {\"question\": \"What is the optimum amount of rainfall for cotton growth?\", \"x\": 2.929476499557495, \"y\": 11.801485061645508}, {\"question\": \"What did Francis Marcus say of the Chinese relief effort?\", \"x\": 5.794517517089844, \"y\": 13.592290878295898}, {\"question\": \"Is LaserDisc quality consistent or inconsistent between player brands? \", \"x\": 5.532971382141113, \"y\": 8.027799606323242}, {\"question\": \"What type of teacher is required in the Western Europe model of discipline?\", \"x\": 6.825089931488037, \"y\": 9.772022247314453}, {\"question\": \"What did the foundation announce in November 2014\", \"x\": 5.084364414215088, \"y\": 9.74199390411377}, {\"question\": \"Who argued for Americans to use the term \\\"African American\\\"?\", \"x\": 6.931258201599121, \"y\": 10.934207916259766}, {\"question\": \"What does Utrecht provide for cyclist \", \"x\": 4.619689464569092, \"y\": 11.0448637008667}, {\"question\": \"When was an accidental email sent to potential students of Eton that warranted a personal apology to each family?\", \"x\": 6.093722820281982, \"y\": 10.012001991271973}, {\"question\": \"What violent act happened in Seattle's Chinatown in 1983?\", \"x\": 5.3608903884887695, \"y\": 12.239266395568848}, {\"question\": \"What was the name of the non-subscription Xbox online gaming service?\", \"x\": 5.339580059051514, \"y\": 8.735913276672363}, {\"question\": \"What was the procedure called which involved workers to work for a share of the profits? \", \"x\": 6.9604949951171875, \"y\": 10.09148120880127}, {\"question\": \"What quality of bacteria is being widely used re-cyling?\", \"x\": 7.265453815460205, \"y\": 8.318343162536621}, {\"question\": \"Which two artists did Douglass Cooper say were very important to the forming of Cubism?\", \"x\": 7.818662166595459, \"y\": 9.758036613464355}, {\"question\": \"In which countries did the British Isles provide most of the founding settlers?\", \"x\": 4.973807334899902, \"y\": 12.489293098449707}, {\"question\": \"Where do the Feynman Lectures on Physics pull information from?\", \"x\": 8.187620162963867, \"y\": 9.860978126525879}, {\"question\": \"The current continents were formerly known as what continent?\", \"x\": 4.079526901245117, \"y\": 12.383896827697754}, {\"question\": \"What programs created by FDR helped North Carolina during the Great Depression?\", \"x\": 5.62827730178833, \"y\": 11.072518348693848}, {\"question\": \"What did Romans use as money in the 6th through 3rd centuriesBC?\", \"x\": 8.223984718322754, \"y\": 11.29106330871582}, {\"question\": \"The Sangha began to break into separte factions after what council?\", \"x\": 7.659010410308838, \"y\": 11.615991592407227}, {\"question\": \"What do the events of Tarragona start with?\", \"x\": 4.791785717010498, \"y\": 10.993247032165527}, {\"question\": \"How were most city officials elected in the 1960s?\", \"x\": 5.0327630043029785, \"y\": 11.144962310791016}, {\"question\": \"Regardless of their sectarian affiliations, who did the Ming grant titles to?\", \"x\": 6.227319717407227, \"y\": 13.483065605163574}, {\"question\": \"In what year did IBM begin to provide group life insurance?\", \"x\": 5.234684467315674, \"y\": 9.145576477050781}, {\"question\": \"What limits the sensitivity of infrared telescopes on Earth?\", \"x\": 6.72062349319458, \"y\": 8.023448944091797}, {\"question\": \"What was the name of the Doctor Who special created for Comic Relief?\", \"x\": 4.1217217445373535, \"y\": 8.935091018676758}, {\"question\": \"What were the two earliest know cultural tribes in Switerland?\", \"x\": 8.758230209350586, \"y\": 11.72420883178711}, {\"question\": \"The silver and gold collection of the V&A is divided into which categories?\", \"x\": 4.1548752784729, \"y\": 10.091628074645996}, {\"question\": \"What Russian-Austrian agreement preceded the Seven Years War that started in 1755-56?\", \"x\": 5.828315734863281, \"y\": 12.606538772583008}, {\"question\": \"What is the third mark of existence in Buddhism?\", \"x\": 9.055678367614746, \"y\": 10.453332901000977}, {\"question\": \"Who can put a stop the parliamentary attempts at dissovling itself in some areas?\", \"x\": 6.179150104522705, \"y\": 11.716710090637207}, {\"question\": \"What language, other than English, is spoken in the U.S.?\", \"x\": 8.594976425170898, \"y\": 12.862286567687988}, {\"question\": \"IBM runs what website for software developers?\", \"x\": 5.293179512023926, \"y\": 8.890595436096191}, {\"question\": \"What is the name of the largest Hindu temple in Europe?\", \"x\": 4.373838424682617, \"y\": 11.301374435424805}, {\"question\": \"What is the average concentration of copper in ores?\", \"x\": 7.164703369140625, \"y\": 7.694046497344971}, {\"question\": \"Why does the United Nations question the Human rights status of Cyprus?\", \"x\": 5.978305339813232, \"y\": 12.554701805114746}, {\"question\": \"Who produced the film Three Smart Girls?\", \"x\": 4.248596668243408, \"y\": 8.88243579864502}, {\"question\": \"What literary movement in the 1700s recalled the fantastical literature of medieval times?\", \"x\": 7.928438186645508, \"y\": 10.721443176269531}, {\"question\": \"Who did Santa Anna order the reinstatement as comandante general?\", \"x\": 5.712586879730225, \"y\": 11.712677955627441}, {\"question\": \"What is the highest numbered street on Manhattan Island?\", \"x\": 3.4886817932128906, \"y\": 11.163545608520508}, {\"question\": \"When was the Muslim Brotherhood founded?\", \"x\": 7.157149791717529, \"y\": 11.718343734741211}, {\"question\": \"What was the original name of IBM?\", \"x\": 5.336353778839111, \"y\": 8.940625190734863}, {\"question\": \"What was tuberculosis called in 19th-century England?\", \"x\": 7.240848541259766, \"y\": 8.834668159484863}, {\"question\": \"What type of snowfall is not often seen in Seattle?\", \"x\": 3.0055198669433594, \"y\": 11.820874214172363}, {\"question\": \"What was the effort called to upgrade the Canadian Forces?\", \"x\": 5.678202152252197, \"y\": 10.861193656921387}, {\"question\": \"What does rendering software display when it can't process a Unicode character? \", \"x\": 8.155529975891113, \"y\": 12.498968124389648}, {\"question\": \"What Persian king wanted tribute from the tribes of northern India?\", \"x\": 6.5433349609375, \"y\": 12.853766441345215}, {\"question\": \"When are stepper motors most useful?\", \"x\": 6.7593183517456055, \"y\": 8.579748153686523}, {\"question\": \"According to Nontrinitarian belief, what is Mary's relationship to Jesus?\", \"x\": 8.259166717529297, \"y\": 10.811725616455078}, {\"question\": \"What has sociocultural anthropology been heavily influenced by?\", \"x\": 8.281057357788086, \"y\": 9.774474143981934}, {\"question\": \"What period of music did the iPod help bring to a close?\", \"x\": 4.913468360900879, \"y\": 8.207204818725586}, {\"question\": \"What term refers to the legislature of the Isle of man?\", \"x\": 6.306459903717041, \"y\": 11.607953071594238}, {\"question\": \"Who is the competition open too?\", \"x\": 3.7459182739257812, \"y\": 9.331849098205566}, {\"question\": \"In what geographic area was the country of India established?\", \"x\": 5.429067134857178, \"y\": 12.765623092651367}, {\"question\": \"What was contained in warehouses that were notably burned by Confederates when evacuating Richmond?\", \"x\": 4.695117473602295, \"y\": 11.697253227233887}, {\"question\": \"What are the boreholes on Funafuti called?\", \"x\": 4.948824882507324, \"y\": 12.344253540039062}, {\"question\": \"What Arab State lied between the Sinai Peninsula and the Arabian Peninsula?\", \"x\": 8.258489608764648, \"y\": 12.04781723022461}, {\"question\": \"What determines the speed in which mail reaches Guam from the United States?\", \"x\": 4.7896857261657715, \"y\": 12.373497009277344}, {\"question\": \"When did Apple reveal it had achieved its highest quarterly earnings to date?\", \"x\": 4.96563720703125, \"y\": 8.94393253326416}, {\"question\": \"What's the biggest difference in the teaching relationship for primary and secondary school?\", \"x\": 6.663835525512695, \"y\": 9.687557220458984}, {\"question\": \"What was Eisenhower's favorite hobby other than golfing?\", \"x\": 5.602442741394043, \"y\": 9.897017478942871}, {\"question\": \"What is the most common group of languages spoken in Mediterranean Europe?\", \"x\": 8.726375579833984, \"y\": 12.908612251281738}, {\"question\": \"Who set up an astronomical observatory on Saint Helena?\", \"x\": 4.86271858215332, \"y\": 11.892057418823242}, {\"question\": \"How much rain falls on Mexico City?\", \"x\": 2.919727087020874, \"y\": 11.701498031616211}, {\"question\": \"What kind of style does the Neapolitan mandolin have?\", \"x\": 7.377188205718994, \"y\": 10.076699256896973}, {\"question\": \"Which group of people were now considered to be politically equal with the plebeians?\", \"x\": 8.475907325744629, \"y\": 11.327319145202637}, {\"question\": \"What Italian territory did Yugoslavia acquire after the war?\", \"x\": 7.374968528747559, \"y\": 12.660832405090332}, {\"question\": \"What is the first purpose of air defence?\", \"x\": 5.784259796142578, \"y\": 10.799612045288086}, {\"question\": \"What two epic narratives were written by Homer?\", \"x\": 8.326761245727539, \"y\": 10.9682035446167}, {\"question\": \"The alps is home to how many people?\", \"x\": 3.376307487487793, \"y\": 11.830729484558105}, {\"question\": \"Who was the State Department giving money to?\", \"x\": 5.7946929931640625, \"y\": 10.407978057861328}, {\"question\": \"How is packet mode communication implemented \", \"x\": 5.951733589172363, \"y\": 8.351394653320312}, {\"question\": \"In which year did Genghis Khan strike against the Tanguts?\", \"x\": 6.1460747718811035, \"y\": 13.28183650970459}, {\"question\": \"Who were the next settlement of people on Norfolk Island descended from?\", \"x\": 4.851189136505127, \"y\": 12.454907417297363}, {\"question\": \"On what date did the Japanese land on Enewetak?\", \"x\": 5.016157150268555, \"y\": 12.40771198272705}, {\"question\": \"What was the goal of Kanye's new creative company DONDA?\", \"x\": 4.44423246383667, \"y\": 9.556557655334473}, {\"question\": \"Bronze and brass are examples of what?\", \"x\": 7.140542507171631, \"y\": 7.685428619384766}, {\"question\": \"In Yamamoto's plan, what northern islands were to be attacked?\", \"x\": 5.014032363891602, \"y\": 12.527429580688477}, {\"question\": \"Which Protestant denomination has its headquarters in Nashville, TN?\", \"x\": 7.5073771476745605, \"y\": 11.497382164001465}, {\"question\": \"What did the colonization of South Africa result in?\", \"x\": 6.692124366760254, \"y\": 11.491148948669434}, {\"question\": \"What three services make up the armed forces of the UK?\", \"x\": 5.819201946258545, \"y\": 10.932879447937012}, {\"question\": \"Who directed the purges of Soviets?\", \"x\": 7.104432106018066, \"y\": 12.536031723022461}, {\"question\": \"What does ZIF stand for?\", \"x\": 5.806408405303955, \"y\": 8.59761905670166}, {\"question\": \"What was Nathan Hale famous for?\", \"x\": 5.694031238555908, \"y\": 9.69365119934082}, {\"question\": \"What ideas are used to understand groups beyond symbols?\", \"x\": 8.286288261413574, \"y\": 9.826397895812988}, {\"question\": \"What did the first measles prevent in it's first 20 years?\", \"x\": 7.092482566833496, \"y\": 8.848625183105469}, {\"question\": \"What is used to allow one to control the function of wave fronts moving through an antenna?\", \"x\": 6.46324348449707, \"y\": 8.128363609313965}, {\"question\": \"What did Luther's answer to the antinomians reaffirms?\", \"x\": 7.906325817108154, \"y\": 10.858271598815918}, {\"question\": \"When did the earliest examples of civil disobedience as a whole occur?\", \"x\": 6.851938247680664, \"y\": 10.960209846496582}, {\"question\": \"According to the Anglo-Saxon chronicle, who reestablished London in 886 AD?\", \"x\": 4.966525077819824, \"y\": 11.686201095581055}, {\"question\": \"How did Britain Protect Hanover?\", \"x\": 6.396596908569336, \"y\": 12.175554275512695}, {\"question\": \"How had the Vandals earned their strong reputation?\", \"x\": 7.5026397705078125, \"y\": 11.920473098754883}, {\"question\": \"What has some responsibility for offering variety in what we eat?\", \"x\": 8.04095458984375, \"y\": 8.946228981018066}, {\"question\": \"When did political parties organize themselves into international organizations?\", \"x\": 6.593258857727051, \"y\": 11.590836524963379}, {\"question\": \"What type of electric power garantees lesser loss?\", \"x\": 6.6009521484375, \"y\": 8.231968879699707}, {\"question\": \"Newcastle served as a northern fortress for which country during the Middle Ages?\", \"x\": 4.829512596130371, \"y\": 11.670909881591797}, {\"question\": \"Which inventors patented the tungsten filament lamp?\", \"x\": 6.360001087188721, \"y\": 8.14969539642334}, {\"question\": \"When was John Seller's Atlas Maritima?\", \"x\": 4.766530513763428, \"y\": 12.18222427368164}, {\"question\": \"On what television station could an American viewer watch the game?\", \"x\": 4.5374274253845215, \"y\": 8.831034660339355}, {\"question\": \"How are police usually paid?\", \"x\": 5.757170677185059, \"y\": 10.374162673950195}, {\"question\": \"The analysis of stratigraphic sections such as drill cores is done by who?\", \"x\": 7.263648986816406, \"y\": 8.905220985412598}, {\"question\": \"What famous theatre is located in Georgs Palace?\", \"x\": 4.2058939933776855, \"y\": 10.744579315185547}, {\"question\": \"What are ways that a charitable foundation receives money for it's cause?\", \"x\": 5.270199298858643, \"y\": 9.817153930664062}, {\"question\": \"What is the name of the large shopping center \", \"x\": 3.8308098316192627, \"y\": 11.047927856445312}, {\"question\": \"Which constitution details the role and abilities of the prime minister?\", \"x\": 6.138808250427246, \"y\": 11.596330642700195}, {\"question\": \"What was the only drama extended for a second season for the 2010-11 schedule?\", \"x\": 4.206528186798096, \"y\": 8.976883888244629}, {\"question\": \"When was the first criminal part of copyright law in the U.S. added?\", \"x\": 6.508406162261963, \"y\": 10.57286548614502}, {\"question\": \"When did the Reconstruction Era end?\", \"x\": 5.983565807342529, \"y\": 12.194022178649902}, {\"question\": \"Buddhism may have spread quickly because of what Mauryan emperor?\", \"x\": 9.01554012298584, \"y\": 10.559840202331543}, {\"question\": \"What did CCTV-1 host on the evening of May 18th?\", \"x\": 4.337835788726807, \"y\": 9.131564140319824}, {\"question\": \"What did most of Gondwana become when the polar ice melted?\", \"x\": 4.068632125854492, \"y\": 12.451139450073242}, {\"question\": \"At the end of what decade did the Hot 100 and Easy Listening charts begin to converge?\", \"x\": 4.656912326812744, \"y\": 8.258427619934082}, {\"question\": \"When did the FBI increase it's counter-terrorism role?\", \"x\": 6.227655410766602, \"y\": 10.786797523498535}, {\"question\": \"When did Barcelona become the first Spanish team to win the treble competitions?\", \"x\": 4.478285789489746, \"y\": 10.398223876953125}, {\"question\": \"How many of Kanye's albums placed on the 2012 Rolling Stone list?\", \"x\": 3.8907973766326904, \"y\": 9.274725914001465}, {\"question\": \"What was the forerunner of Greek modern song?\", \"x\": 7.974885940551758, \"y\": 10.603544235229492}, {\"question\": \"Equipment from what country is being replaced?\", \"x\": 5.644261837005615, \"y\": 10.308993339538574}, {\"question\": \"Insects are considered as what in some cultures?\", \"x\": 8.367106437683105, \"y\": 9.048074722290039}, {\"question\": \"When did the Grand-Canyon mid-air collision happen?\", \"x\": 5.032997131347656, \"y\": 12.14806079864502}, {\"question\": \"Which christian philosopher ruminated on time?\", \"x\": 8.54475212097168, \"y\": 10.359519004821777}, {\"question\": \"Where is the Longmenshan Fault located?\", \"x\": 4.21688985824585, \"y\": 12.591269493103027}, {\"question\": \"What has the U.S military proposed?\", \"x\": 5.798351287841797, \"y\": 10.838729858398438}, {\"question\": \"What new technology allowed ABC to pre-record its shows?\", \"x\": 5.04248571395874, \"y\": 8.43207836151123}, {\"question\": \"What was the policy meant to contain communism in the middle east?\", \"x\": 6.720005512237549, \"y\": 12.256136894226074}, {\"question\": \"What else is disqualification called?\", \"x\": 6.234568119049072, \"y\": 10.156147956848145}, {\"question\": \"Trotsky thought what was needed for a true Russian revolution.\", \"x\": 7.162817001342773, \"y\": 11.993880271911621}, {\"question\": \"What was another name for Blackbeard?\", \"x\": 5.9123101234436035, \"y\": 11.436777114868164}, {\"question\": \"What flaw in the 'war on terror' name did Francis Fukuyama point out?\", \"x\": 6.54154109954834, \"y\": 11.017539024353027}, {\"question\": \"What two mountains ranges are located on the island of Cyprus?\", \"x\": 4.641074180603027, \"y\": 12.687715530395508}, {\"question\": \"What was huihui?\", \"x\": 5.744206428527832, \"y\": 13.551673889160156}, {\"question\": \"What type of forum was the subject of a January 2009 front page story in The Sun?\", \"x\": 4.613191604614258, \"y\": 9.514485359191895}, {\"question\": \"Why is Captain Fritz Joubert Duquesne famous?\", \"x\": 5.75456428527832, \"y\": 9.67091178894043}, {\"question\": \"In the U.S what does \\\"Cultural Studies\\\" focus largely on in this field?\", \"x\": 7.989326477050781, \"y\": 9.73133659362793}, {\"question\": \"When was Kublai's administration running out of money?\", \"x\": 5.908061981201172, \"y\": 13.571839332580566}, {\"question\": \"What is the name of the citys only lesbian owned LGBT magazine?\", \"x\": 4.55272912979126, \"y\": 9.689793586730957}, {\"question\": \"By tradition, when a Sephardic or Mizrahi woman marries into an Orthodox or Haredi Ashkenazi Jewish family she raises her children to be which type of Jew?\", \"x\": 8.371979713439941, \"y\": 11.266024589538574}, {\"question\": \"How did the Prussian army perform in 1759/\", \"x\": 5.726381301879883, \"y\": 12.326598167419434}, {\"question\": \"What term in higher education refers to technical universities that award engineering degrees?\", \"x\": 6.520828723907471, \"y\": 9.655410766601562}, {\"question\": \"What percent of households had children in 2000?\", \"x\": 2.982851028442383, \"y\": 10.348325729370117}, {\"question\": \"When did the British see the need to add anti-aircraft capability?\", \"x\": 5.8120198249816895, \"y\": 10.81999397277832}, {\"question\": \"Who founded the Free Software Foundation?\", \"x\": 5.249141216278076, \"y\": 9.603696823120117}, {\"question\": \"When did the first Gulf War begin?\", \"x\": 5.982358455657959, \"y\": 12.495938301086426}, {\"question\": \"What is the refractive index of the ground?\", \"x\": 6.855772972106934, \"y\": 7.846364974975586}, {\"question\": \"Who was the first reigning monarch from Britain to set foot in Spain?\", \"x\": 5.325342178344727, \"y\": 11.566039085388184}, {\"question\": \"What was the model number of the slim version of the PlayStation 3?\", \"x\": 5.3109354972839355, \"y\": 8.354094505310059}, {\"question\": \"Who did Tesla try to get money from?\", \"x\": 6.025576591491699, \"y\": 9.198745727539062}, {\"question\": \"Is active TB difficult or easy to diagnose by patients' symptoms alone?\", \"x\": 7.308375358581543, \"y\": 8.578903198242188}, {\"question\": \"How many highways leading into Wenchuan were damaged?\", \"x\": 4.996095657348633, \"y\": 13.304293632507324}, {\"question\": \"Where did Tesla work in 1888?\", \"x\": 6.001580715179443, \"y\": 9.1276216506958}, {\"question\": \"How many ways did Raimon Panikkar believed cultural change can be based on?\", \"x\": 8.570131301879883, \"y\": 10.087843894958496}, {\"question\": \"Along with Warner Music Group, what top three record label is based in New York City?\", \"x\": 3.5482444763183594, \"y\": 10.939103126525879}, {\"question\": \"Why type of anthropology is the study of social organization a central focus of?\", \"x\": 8.140305519104004, \"y\": 9.700529098510742}, {\"question\": \"What type of climate does St. Barts typically have?\", \"x\": 3.237750291824341, \"y\": 11.989261627197266}, {\"question\": \"How did Huguenots evolve their religious beliefs in the New World?\", \"x\": 7.971092700958252, \"y\": 11.137696266174316}, {\"question\": \"What architectural design was St Peter's abbey considered?\", \"x\": 4.506027698516846, \"y\": 10.510629653930664}, {\"question\": \"What does the state want a police force to do?\", \"x\": 6.156519412994385, \"y\": 10.573563575744629}, {\"question\": \"On what material did the phonautograph operate?\", \"x\": 6.48190450668335, \"y\": 8.116814613342285}, {\"question\": \"What is one of Israel's most important culturural institutions?\", \"x\": 8.728013038635254, \"y\": 11.672224044799805}, {\"question\": \"In what year was Indian Drugs and Pharmaceuticals Limited established?\", \"x\": 5.1825056076049805, \"y\": 9.384105682373047}, {\"question\": \"Newborns are vulnerable to infection because they have no previous exposure to what?\", \"x\": 7.393758296966553, \"y\": 8.51610279083252}, {\"question\": \"What does stong force act upon?\", \"x\": 7.549938678741455, \"y\": 8.846551895141602}, {\"question\": \"Where was the former location in Mesa?\", \"x\": 3.917257070541382, \"y\": 11.240419387817383}, {\"question\": \"What can chloroplasts change into?\", \"x\": 7.83447265625, \"y\": 8.252902030944824}, {\"question\": \"What type of buildings were took the most effort to build?\", \"x\": 4.520879745483398, \"y\": 10.50156307220459}, {\"question\": \"What happened to Tesla's belongings?\", \"x\": 6.064647674560547, \"y\": 9.117541313171387}, {\"question\": \"What kind of work was the FBI focused on?\", \"x\": 6.158987045288086, \"y\": 10.628644943237305}, {\"question\": \"What English school offers Sanskrit as a language study?\", \"x\": 8.774304389953613, \"y\": 12.497077941894531}, {\"question\": \"What was Teresa Heinz Kerry's net worth in 2004 according to Forbes?\", \"x\": 3.61012864112854, \"y\": 9.779784202575684}, {\"question\": \"How many companies are there in the City of Charleston Fire Department?\", \"x\": 3.565248966217041, \"y\": 10.493185043334961}, {\"question\": \"What century saw more diverse industries come to Southampton?\", \"x\": 4.40598726272583, \"y\": 10.967594146728516}, {\"question\": \"What player holds the Everton Football Club record for most appearances?\", \"x\": 4.100196838378906, \"y\": 9.543885231018066}, {\"question\": \"What does the structures of the federal government incorporate?\", \"x\": 6.373100757598877, \"y\": 11.521111488342285}, {\"question\": \"What is the main type of employment in Valencia?\", \"x\": 3.8401601314544678, \"y\": 10.509292602539062}, {\"question\": \"How many Canadian Forces bases are there in Canada?\", \"x\": 4.300163269042969, \"y\": 11.90440845489502}, {\"question\": \"What was Seattle's gross product in 2010?\", \"x\": 3.4124326705932617, \"y\": 10.470008850097656}, {\"question\": \"After the demise of what was the red flag linked to the French Revolution?\", \"x\": 7.263796806335449, \"y\": 10.692143440246582}, {\"question\": \"What kind of music does Malika Pukhraj perform?\", \"x\": 7.390247344970703, \"y\": 10.031407356262207}, {\"question\": \"When did Philip form and alliance with Hannibal of Carthage?\", \"x\": 6.509462833404541, \"y\": 12.594152450561523}, {\"question\": \"How much of the USSR's electricity was produced in the RSFSR?\", \"x\": 6.964740753173828, \"y\": 12.365067481994629}, {\"question\": \"Who lived at Buckingham Palace during WWI?\", \"x\": 5.169733047485352, \"y\": 11.2847318649292}, {\"question\": \"When did the U.S. Financial Crisis Inquiry Commission report its findings?\", \"x\": 5.220325946807861, \"y\": 9.87929916381836}, {\"question\": \"What year was the Canal de la Bruche added? \", \"x\": 4.857922077178955, \"y\": 10.886390686035156}, {\"question\": \"Geographically speaking, where is California's north - south midway point in terms of latitude?\", \"x\": 3.6240763664245605, \"y\": 12.213456153869629}, {\"question\": \"Samatha meditation starts from being mindful of an object or what?\", \"x\": 9.03318977355957, \"y\": 10.438003540039062}, {\"question\": \"What is the name of the Japanese national anthem?\", \"x\": 6.5961432456970215, \"y\": 13.264912605285645}, {\"question\": \"Which act sets functions for Melbourne such as urban planning and waste management?\", \"x\": 5.061068534851074, \"y\": 10.964329719543457}, {\"question\": \"When did BSkyB launch it's HDTV service?\", \"x\": 4.838967800140381, \"y\": 8.814473152160645}, {\"question\": \"What was discussed at the emergency talks held by Chinese leaders?\", \"x\": 5.697579860687256, \"y\": 13.553704261779785}, {\"question\": \"What was the date before the day Lincoln entered Richmond?\", \"x\": 5.193026065826416, \"y\": 12.106671333312988}, {\"question\": \"How far back does the history of pubs go back?\", \"x\": 4.423269748687744, \"y\": 10.644640922546387}, {\"question\": \"What is the name of the busiest airport in Montana?\", \"x\": 3.826539993286133, \"y\": 11.877391815185547}, {\"question\": \"How many pubs were part of the CAMRA survey?\", \"x\": 3.6723992824554443, \"y\": 9.99760913848877}, {\"question\": \"What is the name of the exhibition installation that Madonna teamed up with fashion photographer Chris Klein called?\", \"x\": 4.092695236206055, \"y\": 9.260303497314453}, {\"question\": \"What was the price for early HDTVs?\", \"x\": 5.074770450592041, \"y\": 8.391389846801758}, {\"question\": \"Instead of genetic traits for production, dogs are bred for what?\", \"x\": 8.178974151611328, \"y\": 8.471651077270508}, {\"question\": \"What date did William Whitney Brazelton Die? \", \"x\": 5.572888374328613, \"y\": 9.796734809875488}, {\"question\": \"Where is The Washington National Records Center located?\", \"x\": 3.969512462615967, \"y\": 11.128129005432129}, {\"question\": \"What is considered the primary language of Bermuda?\", \"x\": 8.559347152709961, \"y\": 12.824498176574707}, {\"question\": \"Which term is in reference to people from a Christian culture?\", \"x\": 8.118011474609375, \"y\": 11.604616165161133}, {\"question\": \"Which areas have arid regions?\", \"x\": 3.395474433898926, \"y\": 12.090548515319824}, {\"question\": \"Where is the airport located on the island?\", \"x\": 4.363758563995361, \"y\": 12.178374290466309}, {\"question\": \"When did stained glass make a big comeback?\", \"x\": 4.64669942855835, \"y\": 8.592345237731934}, {\"question\": \"When was the Silurian period believed to have begun?\", \"x\": 7.085844993591309, \"y\": 11.762812614440918}, {\"question\": \"Which timekeeping devices are the most accurate?\", \"x\": 7.2265944480896, \"y\": 8.647530555725098}, {\"question\": \" At the time of the French Revolution what previous focus of humanism was removed?\", \"x\": 7.752038478851318, \"y\": 10.543426513671875}, {\"question\": \"What was the first electronic digital programmable computer in the world?\", \"x\": 5.7642951011657715, \"y\": 8.613746643066406}, {\"question\": \"What was the name of the charity event on season six of American Idol?\", \"x\": 4.070062160491943, \"y\": 9.110383033752441}, {\"question\": \"How many isotopes are there of copper?\", \"x\": 7.233001232147217, \"y\": 7.737239837646484}, {\"question\": \"How else can petrologists understand the pressures at which different mineral phases appear?\", \"x\": 7.158410549163818, \"y\": 8.154313087463379}, {\"question\": \"What is the total area of Montana?\", \"x\": 3.3575828075408936, \"y\": 11.420411109924316}, {\"question\": \"What do birds need to change to meet the demands of migration?\", \"x\": 8.25694465637207, \"y\": 8.712377548217773}, {\"question\": \"How many square kilometres of the Amazon forest was lost by 1991?\", \"x\": 3.230660915374756, \"y\": 11.392472267150879}, {\"question\": \"If there is a conflict between EU law and national law, which law take precedence?\", \"x\": 6.894506931304932, \"y\": 11.60078239440918}, {\"question\": \"The School dismissed claims that Prince Harry was cheating by saying the claims were what?\", \"x\": 6.223612308502197, \"y\": 10.086913108825684}, {\"question\": \"How did Estonians view the demographic change of less ethnic Estonians?\", \"x\": 7.84560489654541, \"y\": 12.875901222229004}, {\"question\": \"The scientific paper, What the frog's eye tells the frog's brain was released in what year?\", \"x\": 7.303712368011475, \"y\": 9.200544357299805}, {\"question\": \"Where are the majority of the buildings for the University of Bern?\", \"x\": 4.076076984405518, \"y\": 10.919692039489746}, {\"question\": \"When was The Deccan Times founded?\", \"x\": 4.919249534606934, \"y\": 9.420953750610352}, {\"question\": \"What is often found sweeping unbroken from floor to ceiling on the interior of Gothic buildings?\", \"x\": 4.561984539031982, \"y\": 10.17981243133545}, {\"question\": \"On what date did the main Austrian army arrive at the Marchfield?\", \"x\": 5.505224704742432, \"y\": 12.212327003479004}, {\"question\": \"What is the result of tectonic movements within the Dead Sea Transform?\", \"x\": 8.319436073303223, \"y\": 11.891890525817871}, {\"question\": \"Which faction did Plymouth support during the English Civil War?\", \"x\": 7.127378940582275, \"y\": 11.417963981628418}, {\"question\": \"The word Slav could be derived from what Middle English word?\", \"x\": 8.153158187866211, \"y\": 12.464369773864746}, {\"question\": \"How can a wrestler willingly submit?\", \"x\": 6.608699321746826, \"y\": 10.476497650146484}, {\"question\": \"How long were 5th generation iPods marketed as being able to function before needing to be charged?\", \"x\": 5.2172346115112305, \"y\": 8.222006797790527}, {\"question\": \"What are two economic issues faced by the Congolese government?\", \"x\": 6.154963970184326, \"y\": 11.703194618225098}, {\"question\": \"What is another term for Miami's dialect?\", \"x\": 8.485033988952637, \"y\": 12.665820121765137}, {\"question\": \"When was the Eritrean Railway completed in Saati?\", \"x\": 4.906623363494873, \"y\": 10.43246841430664}, {\"question\": \"What type of skin color has a better chance of a good life in Brazil?\", \"x\": 5.384122371673584, \"y\": 11.098847389221191}, {\"question\": \"Who designed the Royal Mews?\", \"x\": 4.681704521179199, \"y\": 10.76674747467041}, {\"question\": \"In what year did The Times resume printing news on the front page instead of small advertisements?\", \"x\": 4.757895469665527, \"y\": 9.347896575927734}, {\"question\": \"What did the Digimon series end up having lots of during the series?\", \"x\": 4.466361045837402, \"y\": 8.98997974395752}, {\"question\": \"What is the common definition of dialect?\", \"x\": 8.558097839355469, \"y\": 12.666251182556152}, {\"question\": \"What can videoconferencing offer students?\", \"x\": 6.176208972930908, \"y\": 8.778542518615723}, {\"question\": \"When did Turkey decide to become part of the blockade against Armenia?\", \"x\": 6.114074230194092, \"y\": 12.840916633605957}, {\"question\": \"What Seminary is located in Detroit?\", \"x\": 3.9432101249694824, \"y\": 11.12039852142334}, {\"question\": \"From what language does the term evangelical originate?\", \"x\": 8.071331024169922, \"y\": 12.108323097229004}, {\"question\": \"What plays a major role in the energy mix of many countries?\", \"x\": 6.848993301391602, \"y\": 12.132500648498535}, {\"question\": \"How many nocturnes did Chopin compose?\", \"x\": 7.307821750640869, \"y\": 9.902220726013184}, {\"question\": \"Along with gender, geography and race, what bias do some opponents of the death penalty see in its administration?\", \"x\": 6.795192241668701, \"y\": 10.410965919494629}, {\"question\": \"What is a typical argument in favor of affirmative action?\", \"x\": 6.778589725494385, \"y\": 10.512009620666504}, {\"question\": \"Who is the lowest rank to play in the  third round proper?\", \"x\": 3.695814609527588, \"y\": 9.388440132141113}, {\"question\": \"What university is the largest of the continent?\", \"x\": 4.113581657409668, \"y\": 11.761134147644043}, {\"question\": \"What city contains some of the finest and oldest museums in all of China?\", \"x\": 5.366727828979492, \"y\": 13.570467948913574}, {\"question\": \"What influenced House music?\", \"x\": 4.641968727111816, \"y\": 8.1881685256958}, {\"question\": \"What was designed to standardize the connection of computer peripherals?\", \"x\": 5.774564743041992, \"y\": 8.46113109588623}, {\"question\": \"When did the torch arrive in Islamabad?\", \"x\": 5.257697105407715, \"y\": 12.805234909057617}, {\"question\": \"From 1947 to 1967, how much did the price of oil increase?\", \"x\": 5.80174446105957, \"y\": 11.916886329650879}, {\"question\": \"Who was the eldest son of Alfonso III and what did he become king of?\", \"x\": 5.5981221199035645, \"y\": 11.826112747192383}, {\"question\": \"What is the average temperature during winter?\", \"x\": 2.975069999694824, \"y\": 11.946476936340332}, {\"question\": \"Of what is Houston a center?\", \"x\": 3.9925150871276855, \"y\": 11.006418228149414}, {\"question\": \"What king's charter recognized Southampton as its own county?\", \"x\": 4.77822208404541, \"y\": 11.589261054992676}, {\"question\": \"How many images could Photo CDs initially contain?\", \"x\": 5.579671859741211, \"y\": 8.08600902557373}, {\"question\": \"What language family do most of the languages of Italy belong to?\", \"x\": 8.68735408782959, \"y\": 12.786983489990234}, {\"question\": \"In what years did the Great Famine occur?\", \"x\": 5.857786655426025, \"y\": 12.2857084274292}, {\"question\": \"What do most Portuguese people die from?\", \"x\": 5.265107154846191, \"y\": 11.110363960266113}, {\"question\": \"After lumbering, what was Seattle's second big economic boom?\", \"x\": 3.962827205657959, \"y\": 10.583776473999023}, {\"question\": \"In 1948 the worldwide acceptance of international laws that defined and forbade genocide was promulgated by which treaty?\", \"x\": 6.381707191467285, \"y\": 12.229802131652832}, {\"question\": \"Who built a castle in Newcastle in 1080?\", \"x\": 4.701946258544922, \"y\": 11.594148635864258}, {\"question\": \"What is the Chinese design used on the Olympic Torch?\", \"x\": 5.497817516326904, \"y\": 13.1300630569458}, {\"question\": \"What amount of total public spending in Swaziland is going to wages?\", \"x\": 3.1880853176116943, \"y\": 10.280206680297852}, {\"question\": \"Which entity developed the principles of European Union Law?\", \"x\": 6.734790325164795, \"y\": 11.445741653442383}, {\"question\": \"Imperial units where once used to express the dimensions of a what?\", \"x\": 6.858980655670166, \"y\": 8.942560195922852}, {\"question\": \"When was the first broadcast of Tom and Jerry on BBC One?\", \"x\": 4.423872947692871, \"y\": 8.860139846801758}, {\"question\": \"Who played Doctor Who on stage in the 70's?\", \"x\": 4.241519451141357, \"y\": 8.903000831604004}, {\"question\": \"What kind of infringement resulted from sharing MP3s?\", \"x\": 5.650383472442627, \"y\": 8.756892204284668}, {\"question\": \"Who claimed to have murdered Gaddafi?\", \"x\": 6.7470879554748535, \"y\": 12.380439758300781}, {\"question\": \"What theory does Darwin discuss that is related to the importance of homologous structures?\", \"x\": 8.354676246643066, \"y\": 8.719773292541504}, {\"question\": \"Where was a center of early agriculture?\", \"x\": 8.91553020477295, \"y\": 11.582722663879395}, {\"question\": \"What country did the King and Queen visit in July 1944?\", \"x\": 5.345595359802246, \"y\": 11.466370582580566}, {\"question\": \"What is violating a law which is not the goal of the protest called?\", \"x\": 6.688864707946777, \"y\": 10.905790328979492}, {\"question\": \"On which label did Frank Sinatra release his recording of Soliloquy?\", \"x\": 4.502286911010742, \"y\": 8.40402889251709}, {\"question\": \"In what year was Melbourne the host city for the first Olympic Games held in the southern hemisphere?\", \"x\": 5.167867183685303, \"y\": 11.497926712036133}, {\"question\": \"New techniques of building construction are being researched, made possible by advances in what?\", \"x\": 4.929445266723633, \"y\": 10.311625480651855}, {\"question\": \"What was the dominant housing template when industrial centres were growing the fastest?\", \"x\": 4.411420822143555, \"y\": 10.558069229125977}, {\"question\": \"What do almost all cells readily stain with?\", \"x\": 7.765109539031982, \"y\": 8.254639625549316}, {\"question\": \"What city in Venezuela had the first IUT?\", \"x\": 4.673612594604492, \"y\": 10.90865707397461}, {\"question\": \"Which newspaper overtook The Sun as largest Saturday UK newspaper?\", \"x\": 4.649492263793945, \"y\": 9.411190032958984}, {\"question\": \"What type of lighting was powered by electricity?\", \"x\": 6.365143299102783, \"y\": 8.068696022033691}, {\"question\": \"What was the Anglo-Norman language's final form?\", \"x\": 8.284139633178711, \"y\": 12.543364524841309}, {\"question\": \"Which team received permission to move to Dublin, Ireland in 1998?\", \"x\": 4.349238872528076, \"y\": 10.199058532714844}, {\"question\": \"Who blamed John's family background for his cruel personality?\", \"x\": 6.972084045410156, \"y\": 10.328414916992188}, {\"question\": \"Though the Muslims couldn't take full control of Galicia, when was it that they invaded Spain?\", \"x\": 5.908298969268799, \"y\": 12.570030212402344}, {\"question\": \"What leader started a mass movement against British rule?\", \"x\": 6.628701686859131, \"y\": 11.905470848083496}, {\"question\": \"Which part of Brazil observes Daylight Saving Time?\", \"x\": 5.206396102905273, \"y\": 11.202404975891113}, {\"question\": \"What notable event in the AFL first occurred in 1993?\", \"x\": 5.139441013336182, \"y\": 11.596485137939453}, {\"question\": \"On what day was a final treaty signed between the Marshall Islands chiefs and the Germans?\", \"x\": 5.901758193969727, \"y\": 12.656769752502441}, {\"question\": \"Along with Poland and Hungary, what Eastern European state grew in power?\", \"x\": 7.454746723175049, \"y\": 12.580012321472168}, {\"question\": \"What is Thuringia's traditional energy supply?\", \"x\": 7.23255729675293, \"y\": 12.35089111328125}, {\"question\": \"The inside of a ctenophore is lined with what?\", \"x\": 7.995512962341309, \"y\": 8.406306266784668}, {\"question\": \"What is another term used for Special Education Services?\", \"x\": 6.613546848297119, \"y\": 9.429335594177246}, {\"question\": \"In which year was the Count of Oeiras made the Marquis of Pambal?\", \"x\": 5.439125061035156, \"y\": 11.759805679321289}, {\"question\": \"What dictates passenger elevator capacities?\", \"x\": 6.67084264755249, \"y\": 8.55819034576416}, {\"question\": \"What is the process in which beings go through cycles of lifetimes as many forms of sentient life?\", \"x\": 8.969468116760254, \"y\": 10.244817733764648}, {\"question\": \"Where did the social aspect of science originate?\", \"x\": 8.251628875732422, \"y\": 10.042509078979492}, {\"question\": \"When did Tibet and China sign a peace treaty?\", \"x\": 5.98417329788208, \"y\": 13.239457130432129}, {\"question\": \"What two groups are annelids traditionally divided among?\", \"x\": 8.20529842376709, \"y\": 8.926267623901367}, {\"question\": \"How long as the U.S. government been actively engaged in efforts to counter Islamism?\", \"x\": 6.362843036651611, \"y\": 10.998860359191895}, {\"question\": \"Many instruments originated during what era?\", \"x\": 7.274144172668457, \"y\": 10.336060523986816}, {\"question\": \"Who gave rise to the Theravada school?\", \"x\": 8.975320816040039, \"y\": 10.601068496704102}, {\"question\": \"What was the new currency in Bermuda as of 1970?\", \"x\": 4.763749122619629, \"y\": 12.141420364379883}, {\"question\": \"How many zones are the Alps split into?\", \"x\": 3.6127805709838867, \"y\": 12.071768760681152}, {\"question\": \"What type of myth did Rome not have?\", \"x\": 8.479582786560059, \"y\": 11.13169002532959}, {\"question\": \"The oil embargo in what year was a contributing factor to the reorganization of energy policies?\", \"x\": 6.1432785987854, \"y\": 11.919602394104004}, {\"question\": \"What can scales and spring balances measure between two forces by using static equilibrium?\", \"x\": 7.272038459777832, \"y\": 8.495214462280273}, {\"question\": \"What does the abbreviation DCA stand for? \", \"x\": 5.603004455566406, \"y\": 10.094772338867188}, {\"question\": \"What form of tax were Christians required to pay?\", \"x\": 8.079853057861328, \"y\": 11.379189491271973}, {\"question\": \"What lakes are in the middle of Nanjing?\", \"x\": 5.338586807250977, \"y\": 13.536897659301758}, {\"question\": \"How did the United States plan to subdue imperialistic tendencies? \", \"x\": 6.513247966766357, \"y\": 11.735966682434082}, {\"question\": \"Where did Napoleon return and find that the populace and government had turned against him?\", \"x\": 5.616298675537109, \"y\": 12.073792457580566}, {\"question\": \"How many smaller cities did Mexico City make up at its height?\", \"x\": 3.380009651184082, \"y\": 11.499207496643066}, {\"question\": \"What happened to the AS-205 mission originally?\", \"x\": 5.147983551025391, \"y\": 11.011932373046875}, {\"question\": \"What nonprofit did Schwarzenegger found in 1995?\", \"x\": 5.27686882019043, \"y\": 9.702664375305176}, {\"question\": \"What are international tribunals and arbiters often called upon to resolve in regards to treaties?\", \"x\": 6.288525104522705, \"y\": 11.917867660522461}, {\"question\": \"When was the new two-year affiliate agreement approved?\", \"x\": 4.9110589027404785, \"y\": 9.8314790725708}, {\"question\": \"The Expansion of Germany  by the Catholic Church into the areas of the Slavs and balts is know as what?\", \"x\": 7.580140113830566, \"y\": 12.485602378845215}, {\"question\": \"in 2012, what was the amount of the bailout?\", \"x\": 3.448232412338257, \"y\": 9.929588317871094}, {\"question\": \"Who tried to invade Cyprus in 1964?\", \"x\": 5.735519886016846, \"y\": 12.647977828979492}, {\"question\": \"How many airports does Tajikistan have?\", \"x\": 4.194805145263672, \"y\": 12.25893497467041}, {\"question\": \"What technique were used to reduce inner-groove distortion?\", \"x\": 5.989520072937012, \"y\": 8.022612571716309}, {\"question\": \"When was the first lighting used on an airport?\", \"x\": 6.310869216918945, \"y\": 8.128255844116211}, {\"question\": \"The importance of what military arm increased during the Carolingian era?\", \"x\": 5.896118640899658, \"y\": 11.435237884521484}, {\"question\": \"Which product of Saint Helena was praised by Napoleon?\", \"x\": 5.152426242828369, \"y\": 11.983894348144531}, {\"question\": \"In degrees Fahrenheit, what was the highest temperature achieved in Plymouth between 1971 and 2000?\", \"x\": 3.119739055633545, \"y\": 11.854229927062988}, {\"question\": \"The major schism was between the Sthaviras and what other group?\", \"x\": 8.762221336364746, \"y\": 10.635202407836914}, {\"question\": \"What was the first world goverment the world had seen at the time it existed?\", \"x\": 6.447474479675293, \"y\": 11.71846866607666}, {\"question\": \"How many kings and princes were invited to the Golden Jubilee?\", \"x\": 5.299652099609375, \"y\": 11.440336227416992}, {\"question\": \"Greece's plant distribution belongs to what?\", \"x\": 4.8077192306518555, \"y\": 12.737716674804688}, {\"question\": \"Who were three Chicago blues players who influenced hard rock?\", \"x\": 4.633861064910889, \"y\": 8.110081672668457}, {\"question\": \"When did ABC's New York flagship stations change their call signs?\", \"x\": 4.648930549621582, \"y\": 8.517004013061523}, {\"question\": \"What role did Michael Oppenheimer have in the IPCC's reports?\", \"x\": 5.870896816253662, \"y\": 9.82759952545166}, {\"question\": \"What will the three latest satellites provide after testing?\", \"x\": 5.217769622802734, \"y\": 10.436300277709961}, {\"question\": \"Where was Kerry's boat on Dec 2-3, 1968?\", \"x\": 4.70224142074585, \"y\": 12.021143913269043}, {\"question\": \"What percentage of jobs were market services in 2012?\", \"x\": 3.245391368865967, \"y\": 10.24341869354248}, {\"question\": \"Where did the Greeks established their trading colonies?\", \"x\": 4.9255218505859375, \"y\": 12.596574783325195}, {\"question\": \"What is the street address of The Fitzroy Tavern?\", \"x\": 4.011734485626221, \"y\": 11.01859188079834}, {\"question\": \"What is another country that permits physicians to give out drugs from within their practice?\", \"x\": 6.434270858764648, \"y\": 9.930048942565918}, {\"question\": \"What area did the Cholas unite in the 9th century?\", \"x\": 6.0285210609436035, \"y\": 12.89903450012207}, {\"question\": \"Who established the Safavid Dynasty?\", \"x\": 6.488180160522461, \"y\": 12.892619132995605}, {\"question\": \"Which species are ribbon-shaped planktonic animals?\", \"x\": 8.151021003723145, \"y\": 8.511247634887695}, {\"question\": \"What provides critical support for drug discovery and the availability of medicinal resources?\", \"x\": 6.534615516662598, \"y\": 9.94359016418457}, {\"question\": \"What newspaper suggested that Congress would ignore Puerto Rico's referendum?\", \"x\": 4.862063407897949, \"y\": 9.800124168395996}, {\"question\": \"When was the convention of prime ministers initiating the dissolution of parliament started?\", \"x\": 6.088808059692383, \"y\": 11.522113800048828}, {\"question\": \"How does Whitehead define he consequent nature of God?\", \"x\": 8.62202262878418, \"y\": 10.046813011169434}, {\"question\": \"What questionaire has been used to measure the age in which adolescents should be able to engage in autonomous behaviors?\", \"x\": 7.326556205749512, \"y\": 9.257221221923828}, {\"question\": \"Which architect designed the Broadway Village shopping Center?\", \"x\": 3.8601748943328857, \"y\": 10.875524520874023}, {\"question\": \"In what period did Japanese women begin being more educated?\", \"x\": 6.826416015625, \"y\": 13.130354881286621}, {\"question\": \"What month and day was the death of Prince Albert?\", \"x\": 5.391899585723877, \"y\": 11.516845703125}, {\"question\": \"What percent of the population has completed non-mandatory upper secondary education?\", \"x\": 3.182548761367798, \"y\": 10.188897132873535}, {\"question\": \"The \\\"To Secure These Rights\\\" findings wanted desegregation of which institution?\", \"x\": 6.527318954467773, \"y\": 10.802816390991211}, {\"question\": \"Paideia is also known as what?\", \"x\": 8.597555160522461, \"y\": 10.277897834777832}, {\"question\": \"How many years does a student spend in secondary and high school in Swaziland?\", \"x\": 6.480066299438477, \"y\": 9.674604415893555}, {\"question\": \"Who granted the privilege of Piotrkow?\", \"x\": 7.421867847442627, \"y\": 12.618976593017578}, {\"question\": \"How long do female dogs carry before delivering puppies?\", \"x\": 8.05638599395752, \"y\": 8.466629028320312}, {\"question\": \"Do you have to go to the one year of kindergarten?\", \"x\": 6.503600120544434, \"y\": 9.65381908416748}, {\"question\": \"What percentage of Imperial's staff was classified as world leading in 2008?\", \"x\": 3.367156982421875, \"y\": 10.124051094055176}, {\"question\": \"Which caliph decided to preserve the Quran as a single book after some of Muhammad's companions were killed in battle?\", \"x\": 7.1316351890563965, \"y\": 11.938824653625488}, {\"question\": \"What monarch bestowed the first Lord Mayor on Plymouth?\", \"x\": 4.996312618255615, \"y\": 11.609408378601074}, {\"question\": \"In which year did Popper give a secret interview concerning his views about God?\", \"x\": 8.390913963317871, \"y\": 10.00946044921875}, {\"question\": \"In terms of academics what is a core requirement of a university?\", \"x\": 6.7249016761779785, \"y\": 9.620001792907715}, {\"question\": \"How many of the top twenty high school sin Australia are located in Mebourne according to the Better Education ranking?\", \"x\": 3.639601707458496, \"y\": 10.166472434997559}, {\"question\": \"What does the USB Battery Charging Specification Revision 1.2 make clear of?\", \"x\": 5.672217845916748, \"y\": 8.330923080444336}]}}, {\"mode\": \"vega-lite\"});\n",
       "</script>"
      ],
      "text/plain": [
       "alt.Chart(...)"
      ]
     },
     "execution_count": 48,
     "metadata": {},
     "output_type": "execute_result"
    }
   ],
   "source": [
    "# Plot\n",
    "chart = alt.Chart(df_explore).mark_circle(size=60).encode(\n",
    "    x=#'x',\n",
    "    alt.X('x',\n",
    "        scale=alt.Scale(zero=False)\n",
    "    ),\n",
    "    y=\n",
    "    alt.Y('y',\n",
    "        scale=alt.Scale(zero=False)\n",
    "    ),\n",
    "    tooltip=['question']\n",
    ").properties(\n",
    "    width=700,\n",
    "    height=400\n",
    ")\n",
    "chart.interactive()"
   ]
  },
  {
   "cell_type": "code",
   "execution_count": null,
   "metadata": {
    "id": "2JBfkqRHPl_k",
    "vscode": {
     "languageId": "python"
    }
   },
   "outputs": [],
   "source": [
    "docs = []\n",
    "for d in df.iterrows():\n",
    "    d = d[1]\n",
    "    # create haystack document object with text content and doc metadata\n",
    "    doc = Document(\n",
    "        content=d[\"question\"],\n",
    "        meta={\n",
    "            \"title\": d[\"title\"],\n",
    "            'context': d['context']\n",
    "        }\n",
    "    )\n",
    "    docs.append(doc)"
   ]
  },
  {
   "cell_type": "code",
   "execution_count": null,
   "metadata": {
    "colab": {
     "background_save": true
    },
    "id": "GTnBdCUBN1o9",
    "outputId": "6d834081-3ad5-476c-eba3-6db310d9bdf6",
    "vscode": {
     "languageId": "python"
    }
   },
   "outputs": [
    {
     "ename": "ForbiddenException",
     "evalue": "ignored",
     "output_type": "error",
     "traceback": [
      "\u001b[0;31m---------------------------------------------------------------------------\u001b[0m",
      "\u001b[0;31mForbiddenException\u001b[0m                        Traceback (most recent call last)",
      "\u001b[0;32m<ipython-input-3-eb9dc831c991>\u001b[0m in \u001b[0;36m<module>\u001b[0;34m\u001b[0m\n\u001b[1;32m      1\u001b[0m \u001b[0;31m# Initialize the document store\u001b[0m\u001b[0;34m\u001b[0m\u001b[0;34m\u001b[0m\u001b[0;34m\u001b[0m\u001b[0m\n\u001b[0;32m----> 2\u001b[0;31m document_store = PineconeDocumentStore(\n\u001b[0m\u001b[1;32m      3\u001b[0m     \u001b[0mapi_key\u001b[0m\u001b[0;34m=\u001b[0m\u001b[0;34m'063315d4-bd99-478d-bd5c-7e5a3c7a7939'\u001b[0m\u001b[0;34m,\u001b[0m\u001b[0;34m\u001b[0m\u001b[0;34m\u001b[0m\u001b[0m\n\u001b[1;32m      4\u001b[0m     \u001b[0mindex\u001b[0m\u001b[0;34m=\u001b[0m\u001b[0;34m'squad_qa_pinecone'\u001b[0m\u001b[0;34m,\u001b[0m\u001b[0;34m\u001b[0m\u001b[0;34m\u001b[0m\u001b[0m\n\u001b[1;32m      5\u001b[0m     \u001b[0msimilarity\u001b[0m\u001b[0;34m=\u001b[0m\u001b[0;34m\"cosine\"\u001b[0m\u001b[0;34m,\u001b[0m\u001b[0;34m\u001b[0m\u001b[0;34m\u001b[0m\u001b[0m\n",
      "\u001b[0;32m/usr/local/lib/python3.8/dist-packages/haystack/nodes/base.py\u001b[0m in \u001b[0;36mwrapper_exportable_to_yaml\u001b[0;34m(self, *args, **kwargs)\u001b[0m\n\u001b[1;32m     46\u001b[0m \u001b[0;34m\u001b[0m\u001b[0m\n\u001b[1;32m     47\u001b[0m         \u001b[0;31m# Call the actuall __init__ function with all the arguments\u001b[0m\u001b[0;34m\u001b[0m\u001b[0;34m\u001b[0m\u001b[0;34m\u001b[0m\u001b[0m\n\u001b[0;32m---> 48\u001b[0;31m         \u001b[0minit_func\u001b[0m\u001b[0;34m(\u001b[0m\u001b[0mself\u001b[0m\u001b[0;34m,\u001b[0m \u001b[0;34m*\u001b[0m\u001b[0margs\u001b[0m\u001b[0;34m,\u001b[0m \u001b[0;34m**\u001b[0m\u001b[0mkwargs\u001b[0m\u001b[0;34m)\u001b[0m\u001b[0;34m\u001b[0m\u001b[0;34m\u001b[0m\u001b[0m\n\u001b[0m\u001b[1;32m     49\u001b[0m \u001b[0;34m\u001b[0m\u001b[0m\n\u001b[1;32m     50\u001b[0m     \u001b[0;32mreturn\u001b[0m \u001b[0mwrapper_exportable_to_yaml\u001b[0m\u001b[0;34m\u001b[0m\u001b[0;34m\u001b[0m\u001b[0m\n",
      "\u001b[0;32m/usr/local/lib/python3.8/dist-packages/haystack/document_stores/pinecone.py\u001b[0m in \u001b[0;36m__init__\u001b[0;34m(self, api_key, environment, pinecone_index, embedding_dim, return_embedding, index, similarity, replicas, shards, embedding_field, progress_bar, duplicate_documents, recreate_index, metadata_config, validate_index_sync)\u001b[0m\n\u001b[1;32m    163\u001b[0m             \u001b[0mself\u001b[0m\u001b[0;34m.\u001b[0m\u001b[0mpinecone_indexes\u001b[0m\u001b[0;34m[\u001b[0m\u001b[0mself\u001b[0m\u001b[0;34m.\u001b[0m\u001b[0mindex\u001b[0m\u001b[0;34m]\u001b[0m \u001b[0;34m=\u001b[0m \u001b[0mpinecone_index\u001b[0m\u001b[0;34m\u001b[0m\u001b[0;34m\u001b[0m\u001b[0m\n\u001b[1;32m    164\u001b[0m         \u001b[0;32melse\u001b[0m\u001b[0;34m:\u001b[0m\u001b[0;34m\u001b[0m\u001b[0;34m\u001b[0m\u001b[0m\n\u001b[0;32m--> 165\u001b[0;31m             self.pinecone_indexes[self.index] = self._create_index(\n\u001b[0m\u001b[1;32m    166\u001b[0m                 \u001b[0membedding_dim\u001b[0m\u001b[0;34m=\u001b[0m\u001b[0mself\u001b[0m\u001b[0;34m.\u001b[0m\u001b[0membedding_dim\u001b[0m\u001b[0;34m,\u001b[0m\u001b[0;34m\u001b[0m\u001b[0;34m\u001b[0m\u001b[0m\n\u001b[1;32m    167\u001b[0m                 \u001b[0mindex\u001b[0m\u001b[0;34m=\u001b[0m\u001b[0mself\u001b[0m\u001b[0;34m.\u001b[0m\u001b[0mindex\u001b[0m\u001b[0;34m,\u001b[0m\u001b[0;34m\u001b[0m\u001b[0;34m\u001b[0m\u001b[0m\n",
      "\u001b[0;32m/usr/local/lib/python3.8/dist-packages/haystack/document_stores/pinecone.py\u001b[0m in \u001b[0;36m_create_index\u001b[0;34m(self, embedding_dim, index, metric_type, replicas, shards, recreate_index, metadata_config)\u001b[0m\n\u001b[1;32m    224\u001b[0m \u001b[0;34m\u001b[0m\u001b[0m\n\u001b[1;32m    225\u001b[0m         \u001b[0;31m# Get index statistics\u001b[0m\u001b[0;34m\u001b[0m\u001b[0;34m\u001b[0m\u001b[0;34m\u001b[0m\u001b[0m\n\u001b[0;32m--> 226\u001b[0;31m         \u001b[0mstats\u001b[0m \u001b[0;34m=\u001b[0m \u001b[0mindex_connection\u001b[0m\u001b[0;34m.\u001b[0m\u001b[0mdescribe_index_stats\u001b[0m\u001b[0;34m(\u001b[0m\u001b[0;34m)\u001b[0m\u001b[0;34m\u001b[0m\u001b[0;34m\u001b[0m\u001b[0m\n\u001b[0m\u001b[1;32m    227\u001b[0m         \u001b[0mdims\u001b[0m \u001b[0;34m=\u001b[0m \u001b[0mstats\u001b[0m\u001b[0;34m[\u001b[0m\u001b[0;34m\"dimension\"\u001b[0m\u001b[0;34m]\u001b[0m\u001b[0;34m\u001b[0m\u001b[0;34m\u001b[0m\u001b[0m\n\u001b[1;32m    228\u001b[0m         \u001b[0mcount\u001b[0m \u001b[0;34m=\u001b[0m \u001b[0mstats\u001b[0m\u001b[0;34m[\u001b[0m\u001b[0;34m\"namespaces\"\u001b[0m\u001b[0;34m]\u001b[0m\u001b[0;34m[\u001b[0m\u001b[0;34m\"\"\u001b[0m\u001b[0;34m]\u001b[0m\u001b[0;34m[\u001b[0m\u001b[0;34m\"vector_count\"\u001b[0m\u001b[0;34m]\u001b[0m \u001b[0;32mif\u001b[0m \u001b[0mstats\u001b[0m\u001b[0;34m[\u001b[0m\u001b[0;34m\"namespaces\"\u001b[0m\u001b[0;34m]\u001b[0m\u001b[0;34m.\u001b[0m\u001b[0mget\u001b[0m\u001b[0;34m(\u001b[0m\u001b[0;34m\"\"\u001b[0m\u001b[0;34m)\u001b[0m \u001b[0;32melse\u001b[0m \u001b[0;36m0\u001b[0m\u001b[0;34m\u001b[0m\u001b[0;34m\u001b[0m\u001b[0m\n",
      "\u001b[0;32m/usr/local/lib/python3.8/dist-packages/pinecone/core/utils/error_handling.py\u001b[0m in \u001b[0;36minner_func\u001b[0;34m(*args, **kwargs)\u001b[0m\n\u001b[1;32m     15\u001b[0m         \u001b[0mConfig\u001b[0m\u001b[0;34m.\u001b[0m\u001b[0mvalidate\u001b[0m\u001b[0;34m(\u001b[0m\u001b[0;34m)\u001b[0m  \u001b[0;31m# raises exceptions in case of invalid config\u001b[0m\u001b[0;34m\u001b[0m\u001b[0;34m\u001b[0m\u001b[0m\n\u001b[1;32m     16\u001b[0m         \u001b[0;32mtry\u001b[0m\u001b[0;34m:\u001b[0m\u001b[0;34m\u001b[0m\u001b[0;34m\u001b[0m\u001b[0m\n\u001b[0;32m---> 17\u001b[0;31m             \u001b[0;32mreturn\u001b[0m \u001b[0mfunc\u001b[0m\u001b[0;34m(\u001b[0m\u001b[0;34m*\u001b[0m\u001b[0margs\u001b[0m\u001b[0;34m,\u001b[0m \u001b[0;34m**\u001b[0m\u001b[0mkwargs\u001b[0m\u001b[0;34m)\u001b[0m\u001b[0;34m\u001b[0m\u001b[0;34m\u001b[0m\u001b[0m\n\u001b[0m\u001b[1;32m     18\u001b[0m         \u001b[0;32mexcept\u001b[0m \u001b[0mMaxRetryError\u001b[0m \u001b[0;32mas\u001b[0m \u001b[0me\u001b[0m\u001b[0;34m:\u001b[0m\u001b[0;34m\u001b[0m\u001b[0;34m\u001b[0m\u001b[0m\n\u001b[1;32m     19\u001b[0m             \u001b[0;32mif\u001b[0m \u001b[0misinstance\u001b[0m\u001b[0;34m(\u001b[0m\u001b[0me\u001b[0m\u001b[0;34m.\u001b[0m\u001b[0mreason\u001b[0m\u001b[0;34m,\u001b[0m \u001b[0mProtocolError\u001b[0m\u001b[0;34m)\u001b[0m\u001b[0;34m:\u001b[0m\u001b[0;34m\u001b[0m\u001b[0;34m\u001b[0m\u001b[0m\n",
      "\u001b[0;32m/usr/local/lib/python3.8/dist-packages/pinecone/index.py\u001b[0m in \u001b[0;36mdescribe_index_stats\u001b[0;34m(self, filter, **kwargs)\u001b[0m\n\u001b[1;32m    403\u001b[0m         \u001b[0margs_dict\u001b[0m \u001b[0;34m=\u001b[0m \u001b[0mself\u001b[0m\u001b[0;34m.\u001b[0m\u001b[0m_parse_non_empty_args\u001b[0m\u001b[0;34m(\u001b[0m\u001b[0;34m[\u001b[0m\u001b[0;34m(\u001b[0m\u001b[0;34m'filter'\u001b[0m\u001b[0;34m,\u001b[0m \u001b[0mfilter\u001b[0m\u001b[0;34m)\u001b[0m\u001b[0;34m]\u001b[0m\u001b[0;34m)\u001b[0m\u001b[0;34m\u001b[0m\u001b[0;34m\u001b[0m\u001b[0m\n\u001b[1;32m    404\u001b[0m \u001b[0;34m\u001b[0m\u001b[0m\n\u001b[0;32m--> 405\u001b[0;31m         return self._vector_api.describe_index_stats(\n\u001b[0m\u001b[1;32m    406\u001b[0m             DescribeIndexStatsRequest(\n\u001b[1;32m    407\u001b[0m                 \u001b[0;34m**\u001b[0m\u001b[0margs_dict\u001b[0m\u001b[0;34m,\u001b[0m\u001b[0;34m\u001b[0m\u001b[0;34m\u001b[0m\u001b[0m\n",
      "\u001b[0;32m/usr/local/lib/python3.8/dist-packages/pinecone/core/client/api_client.py\u001b[0m in \u001b[0;36m__call__\u001b[0;34m(self, *args, **kwargs)\u001b[0m\n\u001b[1;32m    774\u001b[0m \u001b[0;34m\u001b[0m\u001b[0m\n\u001b[1;32m    775\u001b[0m         \"\"\"\n\u001b[0;32m--> 776\u001b[0;31m         \u001b[0;32mreturn\u001b[0m \u001b[0mself\u001b[0m\u001b[0;34m.\u001b[0m\u001b[0mcallable\u001b[0m\u001b[0;34m(\u001b[0m\u001b[0mself\u001b[0m\u001b[0;34m,\u001b[0m \u001b[0;34m*\u001b[0m\u001b[0margs\u001b[0m\u001b[0;34m,\u001b[0m \u001b[0;34m**\u001b[0m\u001b[0mkwargs\u001b[0m\u001b[0;34m)\u001b[0m\u001b[0;34m\u001b[0m\u001b[0;34m\u001b[0m\u001b[0m\n\u001b[0m\u001b[1;32m    777\u001b[0m \u001b[0;34m\u001b[0m\u001b[0m\n\u001b[1;32m    778\u001b[0m     \u001b[0;32mdef\u001b[0m \u001b[0mcall_with_http_info\u001b[0m\u001b[0;34m(\u001b[0m\u001b[0mself\u001b[0m\u001b[0;34m,\u001b[0m \u001b[0;34m**\u001b[0m\u001b[0mkwargs\u001b[0m\u001b[0;34m)\u001b[0m\u001b[0;34m:\u001b[0m\u001b[0;34m\u001b[0m\u001b[0;34m\u001b[0m\u001b[0m\n",
      "\u001b[0;32m/usr/local/lib/python3.8/dist-packages/pinecone/core/client/api/vector_operations_api.py\u001b[0m in \u001b[0;36m__describe_index_stats\u001b[0;34m(self, describe_index_stats_request, **kwargs)\u001b[0m\n\u001b[1;32m    361\u001b[0m             \u001b[0mkwargs\u001b[0m\u001b[0;34m[\u001b[0m\u001b[0;34m'describe_index_stats_request'\u001b[0m\u001b[0;34m]\u001b[0m \u001b[0;34m=\u001b[0m\u001b[0;31m \u001b[0m\u001b[0;31m\\\u001b[0m\u001b[0;34m\u001b[0m\u001b[0;34m\u001b[0m\u001b[0m\n\u001b[1;32m    362\u001b[0m                 \u001b[0mdescribe_index_stats_request\u001b[0m\u001b[0;34m\u001b[0m\u001b[0;34m\u001b[0m\u001b[0m\n\u001b[0;32m--> 363\u001b[0;31m             \u001b[0;32mreturn\u001b[0m \u001b[0mself\u001b[0m\u001b[0;34m.\u001b[0m\u001b[0mcall_with_http_info\u001b[0m\u001b[0;34m(\u001b[0m\u001b[0;34m**\u001b[0m\u001b[0mkwargs\u001b[0m\u001b[0;34m)\u001b[0m\u001b[0;34m\u001b[0m\u001b[0;34m\u001b[0m\u001b[0m\n\u001b[0m\u001b[1;32m    364\u001b[0m \u001b[0;34m\u001b[0m\u001b[0m\n\u001b[1;32m    365\u001b[0m         self.describe_index_stats = _Endpoint(\n",
      "\u001b[0;32m/usr/local/lib/python3.8/dist-packages/pinecone/core/client/api_client.py\u001b[0m in \u001b[0;36mcall_with_http_info\u001b[0;34m(self, **kwargs)\u001b[0m\n\u001b[1;32m    836\u001b[0m             \u001b[0mparams\u001b[0m\u001b[0;34m[\u001b[0m\u001b[0;34m'header'\u001b[0m\u001b[0;34m]\u001b[0m\u001b[0;34m[\u001b[0m\u001b[0;34m'Content-Type'\u001b[0m\u001b[0;34m]\u001b[0m \u001b[0;34m=\u001b[0m \u001b[0mheader_list\u001b[0m\u001b[0;34m\u001b[0m\u001b[0;34m\u001b[0m\u001b[0m\n\u001b[1;32m    837\u001b[0m \u001b[0;34m\u001b[0m\u001b[0m\n\u001b[0;32m--> 838\u001b[0;31m         return self.api_client.call_api(\n\u001b[0m\u001b[1;32m    839\u001b[0m             \u001b[0mself\u001b[0m\u001b[0;34m.\u001b[0m\u001b[0msettings\u001b[0m\u001b[0;34m[\u001b[0m\u001b[0;34m'endpoint_path'\u001b[0m\u001b[0;34m]\u001b[0m\u001b[0;34m,\u001b[0m \u001b[0mself\u001b[0m\u001b[0;34m.\u001b[0m\u001b[0msettings\u001b[0m\u001b[0;34m[\u001b[0m\u001b[0;34m'http_method'\u001b[0m\u001b[0;34m]\u001b[0m\u001b[0;34m,\u001b[0m\u001b[0;34m\u001b[0m\u001b[0;34m\u001b[0m\u001b[0m\n\u001b[1;32m    840\u001b[0m             \u001b[0mparams\u001b[0m\u001b[0;34m[\u001b[0m\u001b[0;34m'path'\u001b[0m\u001b[0;34m]\u001b[0m\u001b[0;34m,\u001b[0m\u001b[0;34m\u001b[0m\u001b[0;34m\u001b[0m\u001b[0m\n",
      "\u001b[0;32m/usr/local/lib/python3.8/dist-packages/pinecone/core/client/api_client.py\u001b[0m in \u001b[0;36mcall_api\u001b[0;34m(self, resource_path, method, path_params, query_params, header_params, body, post_params, files, response_type, auth_settings, async_req, _return_http_data_only, collection_formats, _preload_content, _request_timeout, _host, _check_type)\u001b[0m\n\u001b[1;32m    411\u001b[0m         \"\"\"\n\u001b[1;32m    412\u001b[0m         \u001b[0;32mif\u001b[0m \u001b[0;32mnot\u001b[0m \u001b[0masync_req\u001b[0m\u001b[0;34m:\u001b[0m\u001b[0;34m\u001b[0m\u001b[0;34m\u001b[0m\u001b[0m\n\u001b[0;32m--> 413\u001b[0;31m             return self.__call_api(resource_path, method,\n\u001b[0m\u001b[1;32m    414\u001b[0m                                    \u001b[0mpath_params\u001b[0m\u001b[0;34m,\u001b[0m \u001b[0mquery_params\u001b[0m\u001b[0;34m,\u001b[0m \u001b[0mheader_params\u001b[0m\u001b[0;34m,\u001b[0m\u001b[0;34m\u001b[0m\u001b[0;34m\u001b[0m\u001b[0m\n\u001b[1;32m    415\u001b[0m                                    \u001b[0mbody\u001b[0m\u001b[0;34m,\u001b[0m \u001b[0mpost_params\u001b[0m\u001b[0;34m,\u001b[0m \u001b[0mfiles\u001b[0m\u001b[0;34m,\u001b[0m\u001b[0;34m\u001b[0m\u001b[0;34m\u001b[0m\u001b[0m\n",
      "\u001b[0;32m/usr/local/lib/python3.8/dist-packages/pinecone/core/client/api_client.py\u001b[0m in \u001b[0;36m__call_api\u001b[0;34m(self, resource_path, method, path_params, query_params, header_params, body, post_params, files, response_type, auth_settings, _return_http_data_only, collection_formats, _preload_content, _request_timeout, _host, _check_type)\u001b[0m\n\u001b[1;32m    205\u001b[0m         \u001b[0;32mexcept\u001b[0m \u001b[0mApiException\u001b[0m \u001b[0;32mas\u001b[0m \u001b[0me\u001b[0m\u001b[0;34m:\u001b[0m\u001b[0;34m\u001b[0m\u001b[0;34m\u001b[0m\u001b[0m\n\u001b[1;32m    206\u001b[0m             \u001b[0me\u001b[0m\u001b[0;34m.\u001b[0m\u001b[0mbody\u001b[0m \u001b[0;34m=\u001b[0m \u001b[0me\u001b[0m\u001b[0;34m.\u001b[0m\u001b[0mbody\u001b[0m\u001b[0;34m.\u001b[0m\u001b[0mdecode\u001b[0m\u001b[0;34m(\u001b[0m\u001b[0;34m'utf-8'\u001b[0m\u001b[0;34m)\u001b[0m\u001b[0;34m\u001b[0m\u001b[0;34m\u001b[0m\u001b[0m\n\u001b[0;32m--> 207\u001b[0;31m             \u001b[0;32mraise\u001b[0m \u001b[0me\u001b[0m\u001b[0;34m\u001b[0m\u001b[0;34m\u001b[0m\u001b[0m\n\u001b[0m\u001b[1;32m    208\u001b[0m \u001b[0;34m\u001b[0m\u001b[0m\n\u001b[1;32m    209\u001b[0m         \u001b[0mself\u001b[0m\u001b[0;34m.\u001b[0m\u001b[0mlast_response\u001b[0m \u001b[0;34m=\u001b[0m \u001b[0mresponse_data\u001b[0m\u001b[0;34m\u001b[0m\u001b[0;34m\u001b[0m\u001b[0m\n",
      "\u001b[0;32m/usr/local/lib/python3.8/dist-packages/pinecone/core/client/api_client.py\u001b[0m in \u001b[0;36m__call_api\u001b[0;34m(self, resource_path, method, path_params, query_params, header_params, body, post_params, files, response_type, auth_settings, _return_http_data_only, collection_formats, _preload_content, _request_timeout, _host, _check_type)\u001b[0m\n\u001b[1;32m    198\u001b[0m         \u001b[0;32mtry\u001b[0m\u001b[0;34m:\u001b[0m\u001b[0;34m\u001b[0m\u001b[0;34m\u001b[0m\u001b[0m\n\u001b[1;32m    199\u001b[0m             \u001b[0;31m# perform request and return response\u001b[0m\u001b[0;34m\u001b[0m\u001b[0;34m\u001b[0m\u001b[0;34m\u001b[0m\u001b[0m\n\u001b[0;32m--> 200\u001b[0;31m             response_data = self.request(\n\u001b[0m\u001b[1;32m    201\u001b[0m                 \u001b[0mmethod\u001b[0m\u001b[0;34m,\u001b[0m \u001b[0murl\u001b[0m\u001b[0;34m,\u001b[0m \u001b[0mquery_params\u001b[0m\u001b[0;34m=\u001b[0m\u001b[0mquery_params\u001b[0m\u001b[0;34m,\u001b[0m \u001b[0mheaders\u001b[0m\u001b[0;34m=\u001b[0m\u001b[0mheader_params\u001b[0m\u001b[0;34m,\u001b[0m\u001b[0;34m\u001b[0m\u001b[0;34m\u001b[0m\u001b[0m\n\u001b[1;32m    202\u001b[0m                 \u001b[0mpost_params\u001b[0m\u001b[0;34m=\u001b[0m\u001b[0mpost_params\u001b[0m\u001b[0;34m,\u001b[0m \u001b[0mbody\u001b[0m\u001b[0;34m=\u001b[0m\u001b[0mbody\u001b[0m\u001b[0;34m,\u001b[0m\u001b[0;34m\u001b[0m\u001b[0;34m\u001b[0m\u001b[0m\n",
      "\u001b[0;32m/usr/local/lib/python3.8/dist-packages/pinecone/core/client/api_client.py\u001b[0m in \u001b[0;36mrequest\u001b[0;34m(self, method, url, query_params, headers, post_params, body, _preload_content, _request_timeout)\u001b[0m\n\u001b[1;32m    457\u001b[0m                                             body=body)\n\u001b[1;32m    458\u001b[0m         \u001b[0;32melif\u001b[0m \u001b[0mmethod\u001b[0m \u001b[0;34m==\u001b[0m \u001b[0;34m\"POST\"\u001b[0m\u001b[0;34m:\u001b[0m\u001b[0;34m\u001b[0m\u001b[0;34m\u001b[0m\u001b[0m\n\u001b[0;32m--> 459\u001b[0;31m             return self.rest_client.POST(url,\n\u001b[0m\u001b[1;32m    460\u001b[0m                                          \u001b[0mquery_params\u001b[0m\u001b[0;34m=\u001b[0m\u001b[0mquery_params\u001b[0m\u001b[0;34m,\u001b[0m\u001b[0;34m\u001b[0m\u001b[0;34m\u001b[0m\u001b[0m\n\u001b[1;32m    461\u001b[0m                                          \u001b[0mheaders\u001b[0m\u001b[0;34m=\u001b[0m\u001b[0mheaders\u001b[0m\u001b[0;34m,\u001b[0m\u001b[0;34m\u001b[0m\u001b[0;34m\u001b[0m\u001b[0m\n",
      "\u001b[0;32m/usr/local/lib/python3.8/dist-packages/pinecone/core/client/rest.py\u001b[0m in \u001b[0;36mPOST\u001b[0;34m(self, url, headers, query_params, post_params, body, _preload_content, _request_timeout)\u001b[0m\n\u001b[1;32m    269\u001b[0m     def POST(self, url, headers=None, query_params=None, post_params=None,\n\u001b[1;32m    270\u001b[0m              body=None, _preload_content=True, _request_timeout=None):\n\u001b[0;32m--> 271\u001b[0;31m         return self.request(\"POST\", url,\n\u001b[0m\u001b[1;32m    272\u001b[0m                             \u001b[0mheaders\u001b[0m\u001b[0;34m=\u001b[0m\u001b[0mheaders\u001b[0m\u001b[0;34m,\u001b[0m\u001b[0;34m\u001b[0m\u001b[0;34m\u001b[0m\u001b[0m\n\u001b[1;32m    273\u001b[0m                             \u001b[0mquery_params\u001b[0m\u001b[0;34m=\u001b[0m\u001b[0mquery_params\u001b[0m\u001b[0;34m,\u001b[0m\u001b[0;34m\u001b[0m\u001b[0;34m\u001b[0m\u001b[0m\n",
      "\u001b[0;32m/usr/local/lib/python3.8/dist-packages/pinecone/core/client/rest.py\u001b[0m in \u001b[0;36mrequest\u001b[0;34m(self, method, url, query_params, headers, body, post_params, _preload_content, _request_timeout)\u001b[0m\n\u001b[1;32m    220\u001b[0m \u001b[0;34m\u001b[0m\u001b[0m\n\u001b[1;32m    221\u001b[0m             \u001b[0;32mif\u001b[0m \u001b[0mr\u001b[0m\u001b[0;34m.\u001b[0m\u001b[0mstatus\u001b[0m \u001b[0;34m==\u001b[0m \u001b[0;36m403\u001b[0m\u001b[0;34m:\u001b[0m\u001b[0;34m\u001b[0m\u001b[0;34m\u001b[0m\u001b[0m\n\u001b[0;32m--> 222\u001b[0;31m                 \u001b[0;32mraise\u001b[0m \u001b[0mForbiddenException\u001b[0m\u001b[0;34m(\u001b[0m\u001b[0mhttp_resp\u001b[0m\u001b[0;34m=\u001b[0m\u001b[0mr\u001b[0m\u001b[0;34m)\u001b[0m\u001b[0;34m\u001b[0m\u001b[0;34m\u001b[0m\u001b[0m\n\u001b[0m\u001b[1;32m    223\u001b[0m \u001b[0;34m\u001b[0m\u001b[0m\n\u001b[1;32m    224\u001b[0m             \u001b[0;32mif\u001b[0m \u001b[0mr\u001b[0m\u001b[0;34m.\u001b[0m\u001b[0mstatus\u001b[0m \u001b[0;34m==\u001b[0m \u001b[0;36m404\u001b[0m\u001b[0;34m:\u001b[0m\u001b[0;34m\u001b[0m\u001b[0;34m\u001b[0m\u001b[0m\n",
      "\u001b[0;31mForbiddenException\u001b[0m: (403)\nReason: Forbidden\nHTTP response headers: HTTPHeaderDict({'date': 'Mon, 23 Jan 2023 18:53:25 GMT', 'server': 'envoy', 'content-length': '0'})\n"
     ]
    }
   ],
   "source": [
    "# Initialize the document store\n",
    "document_store = PineconeDocumentStore(\n",
    "    api_key=PINECONE_API_KEY,\n",
    "    index='squad_qa_pinecone',\n",
    "    similarity=\"cosine\",\n",
    "    embedding_dim=384\n",
    ")"
   ]
  },
  {
   "cell_type": "code",
   "execution_count": null,
   "metadata": {
    "id": "2nrWleVITC0Y",
    "vscode": {
     "languageId": "python"
    }
   },
   "outputs": [],
   "source": [
    "plt.figure(figsize=(10, 5))\n",
    "plt.plot(data_noise_choices, data_noise_results, '-o')\n",
    "plt.xlabel('Data Noise Prob', fontsize=16)\n",
    "plt.ylabel('Test Accuracy', fontsize=16)\n",
    "plt.show()"
   ]
  },
  {
   "cell_type": "markdown",
   "metadata": {
    "id": "utRSgAaq35lO"
   },
   "source": [
    "## Dataset Citation Information\n",
    "\n",
    "<blockquote>\n",
    "\n",
    "@article{2016arXiv160605250R,\n",
    "       author = {{Rajpurkar}, Pranav and {Zhang}, Jian and {Lopyrev},\n",
    "                 Konstantin and {Liang}, Percy},\n",
    "        title = \"{SQuAD: 100,000+ Questions for Machine Comprehension of Text}\",\n",
    "      journal = {arXiv e-prints},\n",
    "         year = 2016,\n",
    "          eid = {arXiv:1606.05250},\n",
    "        pages = {arXiv:1606.05250},\n",
    "archivePrefix = {arXiv},\n",
    "       eprint = {1606.05250},\n",
    "}\n",
    "\n",
    "</blockquote>"
   ]
  },
  {
   "cell_type": "markdown",
   "metadata": {
    "id": "jOu-ieFJPaRG"
   },
   "source": [
    "# Quora Question Pairs Dataset\n",
    "\n",
    "The Quora dataset is composed of question pairs. \n",
    "\n",
    "You can download the dataset from the Hugging Face Hub.\n",
    "For more info, visit ->  [Quora Dataset](https://huggingface.co/datasets/quora)"
   ]
  },
  {
   "cell_type": "markdown",
   "metadata": {
    "id": "zahpmWwNQaFD"
   },
   "source": [
    "An example row:\n",
    "<blockquote>\n",
    "    \n",
    "    {\n",
    "    \"is_duplicate\": true,\n",
    "    \"questions\": { \"id\": [1, 2], \"text\": [\"Is this a sample question?\", \"Is this an example question?\"]}\n",
    "    }\n",
    "\n",
    "</blockquote>\n",
    "\n",
    "Data Fields\n",
    "\n",
    "<blockquote>\n",
    "\n",
    "- questions: a dictionary feature containing:\n",
    "  - id: a int32 feature.\n",
    "  - text: a string feature.\n",
    "- is_duplicate: a bool feature.\n",
    "  \n",
    "</blockquote>"
   ]
  },
  {
   "cell_type": "markdown",
   "metadata": {
    "id": "UE7lUZ6sQFZz"
   },
   "source": [
    "The dataset has more than 404k questions! We are going to create a sample of 10k questions"
   ]
  },
  {
   "cell_type": "markdown",
   "metadata": {
    "id": "gkzir_dfQiU1"
   },
   "source": [
    "## Data Exploration and Visualization"
   ]
  },
  {
   "cell_type": "code",
   "execution_count": 60,
   "metadata": {
    "colab": {
     "base_uri": "https://localhost:8080/"
    },
    "id": "0lJznJIp9eEE",
    "outputId": "834baf9d-c453-4caa-8668-22e31400d524",
    "vscode": {
     "languageId": "python"
    }
   },
   "outputs": [
    {
     "name": "stderr",
     "output_type": "stream",
     "text": [
      "WARNING:datasets.builder:Found cached dataset quora (/root/.cache/huggingface/datasets/quora/default/0.0.0/36ba4cd42107f051a158016f1bea6ae3f4685c5df843529108a54e42d86c1e04)\n"
     ]
    }
   ],
   "source": [
    "%%capture\n",
    "# Quora dataset has only one split -> train\n",
    "quora_dataset = load_dataset(\"quora\", split=\"train\")"
   ]
  },
  {
   "cell_type": "code",
   "execution_count": 70,
   "metadata": {
    "colab": {
     "base_uri": "https://localhost:8080/"
    },
    "id": "XgERFIPpQldP",
    "outputId": "4db35102-ba34-4df0-e305-919b6731c18e",
    "vscode": {
     "languageId": "python"
    }
   },
   "outputs": [
    {
     "name": "stdout",
     "output_type": "stream",
     "text": [
      "Number of rows: 404290\n",
      "An example row: {'questions': {'id': [1, 2], 'text': ['What is the step by step guide to invest in share market in india?', 'What is the step by step guide to invest in share market?']}, 'is_duplicate': False}\n",
      "Column names: ['questions', 'is_duplicate']\n"
     ]
    }
   ],
   "source": [
    "size = len(quora_dataset)\n",
    "print(f\"Number of rows: {size}\")\n",
    "\n",
    "entry = quora_dataset[0]\n",
    "print(f\"An example row: {entry}\")  # print first entry\n",
    "\n",
    "print(f\"Column names: {list(entry.keys())}\") # print column names"
   ]
  },
  {
   "cell_type": "code",
   "execution_count": 83,
   "metadata": {
    "colab": {
     "base_uri": "https://localhost:8080/",
     "height": 66,
     "referenced_widgets": [
      "d03580e9c4564a068f3cb3b6bc66f0dd",
      "1c126b73ba4a4d2eaf8a463cc55650d4",
      "4ae36c12bc41460cbf750050fdc5d47b",
      "a85c16e145fb4fe390191ba8efeec936",
      "4814c4e61a5f49b3aee04a49429d7dc7",
      "6ec259748ec5475db6d40d7727f7911e",
      "3ccd8a1eef32406488b3638cfc70374b",
      "abf836b6ee204a6b9797d0ed40680235",
      "7801a800fdb4485e8525b26f56825b35",
      "fa966d6c930e4eac941c0f5b3f36f64a",
      "fc9958f7767847bcbb9c2f5faeb3028a"
     ]
    },
    "id": "QFDo9zTUDmgN",
    "outputId": "993a0ed2-53f6-441d-94f1-587c1d904448",
    "vscode": {
     "languageId": "python"
    }
   },
   "outputs": [
    {
     "data": {
      "application/vnd.jupyter.widget-view+json": {
       "model_id": "d03580e9c4564a068f3cb3b6bc66f0dd",
       "version_major": 2,
       "version_minor": 0
      },
      "text/plain": [
       "  0%|          | 0/256 [00:00<?, ?ba/s]"
      ]
     },
     "metadata": {},
     "output_type": "display_data"
    },
    {
     "name": "stdout",
     "output_type": "stream",
     "text": [
      "Number of rows after filtering duplicate question paris 255027\n"
     ]
    }
   ],
   "source": [
    "# Keep only unique question pairs\n",
    "quora_dataset = quora_dataset.filter(lambda x: x[\"is_duplicate\"] is not True)\n",
    "print(\"Number of rows after filtering duplicate question paris\", len(quora_dataset))\n",
    "\n",
    "# Flatten data and remove is_duplicate column\n",
    "quora_dataset_flat = quora_dataset.remove_columns(\"is_duplicate\").flatten()"
   ]
  },
  {
   "cell_type": "code",
   "execution_count": 87,
   "metadata": {
    "id": "k4Vkoxo3_AHu",
    "vscode": {
     "languageId": "python"
    }
   },
   "outputs": [],
   "source": [
    "def create_seperate_id_cols(example):\n",
    "  return {\"id1\": example[\"questions.id\"][0],\n",
    "          \"id2\": example[\"questions.id\"][1]}\n",
    "\n",
    "def create_seperate_question_cols(example):\n",
    "  return {\"question1\": example[\"questions.text\"][0],\n",
    "          \"question2\": example[\"questions.text\"][1]}"
   ]
  },
  {
   "cell_type": "code",
   "execution_count": 85,
   "metadata": {
    "colab": {
     "base_uri": "https://localhost:8080/",
     "height": 81,
     "referenced_widgets": [
      "711d5b61e434402ab7bec64157b358b3",
      "f887d6c7bc8e4086b4b9f6b33ecfc785",
      "ba595e78e9dc412a81741393f823b997",
      "a5be8df25b9a4a9ba04dfcdc6005d2ea",
      "5f2a9432e89a41fe9a4015f5c3b1f1ee",
      "4f94c085ed5e41f08416ed8115189442",
      "5edf034673124418896248bf6c273abb",
      "3ad342cb0ce6469baea6dd6d1878a408",
      "ddbc77474f284c548a388730ee97d3e4",
      "8814b66f7915452cbc589e5adf82a377",
      "b775ed9783bb4c4ca90a49d34a7b1216",
      "648cbd1b277d4d4e9eb85603172f2b96",
      "f1623fc7a7bf4279a790295fc150260a",
      "3dd9f173092a42beaa33166a96d664c1",
      "8528733aa90a49a4b4c88a9bd27a4997",
      "7e088a45eba14eaa9fa7511548aae0ec",
      "3654b8b5301b40a49470992ff3cbea5c",
      "01e80c82825148228574f653535687ef",
      "2d6d520f10554b3ab70380d8762e5eb2",
      "45b2e341919f4e68b45c13730dd39be2",
      "451ddcd6a739466e8d2261965aba9c77",
      "a128d2321d6440e4bda1ac836aa498b2"
     ]
    },
    "id": "KcS7qo7pB86U",
    "outputId": "93018fb7-2fab-465e-fbb9-982d72c4d7b2",
    "vscode": {
     "languageId": "python"
    }
   },
   "outputs": [
    {
     "data": {
      "application/vnd.jupyter.widget-view+json": {
       "model_id": "711d5b61e434402ab7bec64157b358b3",
       "version_major": 2,
       "version_minor": 0
      },
      "text/plain": [
       "  0%|          | 0/255027 [00:00<?, ?ex/s]"
      ]
     },
     "metadata": {},
     "output_type": "display_data"
    },
    {
     "data": {
      "application/vnd.jupyter.widget-view+json": {
       "model_id": "648cbd1b277d4d4e9eb85603172f2b96",
       "version_major": 2,
       "version_minor": 0
      },
      "text/plain": [
       "  0%|          | 0/255027 [00:00<?, ?ex/s]"
      ]
     },
     "metadata": {},
     "output_type": "display_data"
    }
   ],
   "source": [
    "quora_dataset_updated = quora_dataset_flat.map(create_seperate_id_cols)\n",
    "quora_dataset_updated = quora_dataset_updated.map(create_seperate_question_cols)"
   ]
  },
  {
   "cell_type": "code",
   "execution_count": 89,
   "metadata": {
    "colab": {
     "base_uri": "https://localhost:8080/"
    },
    "id": "w5YQ0cjDGwdv",
    "outputId": "cfd9feb5-882c-46cf-c246-8ac8fae3c006",
    "vscode": {
     "languageId": "python"
    }
   },
   "outputs": [
    {
     "data": {
      "text/plain": [
       "Dataset({\n",
       "    features: ['id1', 'id2', 'question1', 'question2'],\n",
       "    num_rows: 255027\n",
       "})"
      ]
     },
     "execution_count": 89,
     "metadata": {},
     "output_type": "execute_result"
    }
   ],
   "source": [
    "quora_dataset_updated = quora_dataset_updated.remove_columns([\"questions.id\", \"questions.text\"])\n",
    "quora_dataset_updated "
   ]
  },
  {
   "cell_type": "code",
   "execution_count": 90,
   "metadata": {
    "id": "-wc7-exwK_CE",
    "vscode": {
     "languageId": "python"
    }
   },
   "outputs": [],
   "source": [
    "quora_dataset_updated.set_format(\"pandas\")"
   ]
  },
  {
   "cell_type": "code",
   "execution_count": 91,
   "metadata": {
    "id": "wqnF4I-ELHMM",
    "vscode": {
     "languageId": "python"
    }
   },
   "outputs": [],
   "source": [
    "quora_df = quora_dataset_updated[:]"
   ]
  },
  {
   "cell_type": "code",
   "execution_count": 142,
   "metadata": {
    "id": "8TpFOulsT05f",
    "vscode": {
     "languageId": "python"
    }
   },
   "outputs": [],
   "source": [
    "# Create id column\n",
    "id = pd.concat([quora_df['id1'], quora_df['id2']], ignore_index=True)\n",
    "# Create question column\n",
    "question = pd.concat([quora_df['question1'], quora_df['question2']], ignore_index=True)"
   ]
  },
  {
   "cell_type": "code",
   "execution_count": 153,
   "metadata": {
    "id": "4IO4lW0nUmaM",
    "vscode": {
     "languageId": "python"
    }
   },
   "outputs": [],
   "source": [
    "# create dataframe\n",
    "quora_df_updated = pd.concat([id, question], ignore_index=True, axis=1)\n",
    "quora_df_updated = quora_df_updated.rename(columns={0: 'id', 1: 'question'})\n",
    "quora_df_updated = quora_df_updated.sort_values(by='id', ignore_index=True)\n",
    "quora_df_updated = quora_df_updated.drop_duplicates(subset=\"id\").reset_index(drop=True)"
   ]
  },
  {
   "cell_type": "code",
   "execution_count": 157,
   "metadata": {
    "id": "1oEuW1OcLG1F",
    "vscode": {
     "languageId": "python"
    }
   },
   "outputs": [],
   "source": [
    "quora_df_updated.to_csv(\"/content/drive/My Drive/quora_df_updated.csv\", index=False)"
   ]
  },
  {
   "cell_type": "code",
   "execution_count": 158,
   "metadata": {
    "colab": {
     "base_uri": "https://localhost:8080/",
     "height": 206
    },
    "id": "vaKmW5HnNrQZ",
    "outputId": "e9419301-642e-40d7-a20c-09cc6fa7c97e",
    "vscode": {
     "languageId": "python"
    }
   },
   "outputs": [
    {
     "data": {
      "text/html": [
       "\n",
       "  <div id=\"df-07b55478-161b-4cec-9707-a67564335b0a\">\n",
       "    <div class=\"colab-df-container\">\n",
       "      <div>\n",
       "<style scoped>\n",
       "    .dataframe tbody tr th:only-of-type {\n",
       "        vertical-align: middle;\n",
       "    }\n",
       "\n",
       "    .dataframe tbody tr th {\n",
       "        vertical-align: top;\n",
       "    }\n",
       "\n",
       "    .dataframe thead th {\n",
       "        text-align: right;\n",
       "    }\n",
       "</style>\n",
       "<table border=\"1\" class=\"dataframe\">\n",
       "  <thead>\n",
       "    <tr style=\"text-align: right;\">\n",
       "      <th></th>\n",
       "      <th>id</th>\n",
       "      <th>question</th>\n",
       "    </tr>\n",
       "  </thead>\n",
       "  <tbody>\n",
       "    <tr>\n",
       "      <th>0</th>\n",
       "      <td>1</td>\n",
       "      <td>What is the step by step guide to invest in share market in india?</td>\n",
       "    </tr>\n",
       "    <tr>\n",
       "      <th>1</th>\n",
       "      <td>2</td>\n",
       "      <td>What is the step by step guide to invest in share market?</td>\n",
       "    </tr>\n",
       "    <tr>\n",
       "      <th>2</th>\n",
       "      <td>3</td>\n",
       "      <td>What is the story of Kohinoor (Koh-i-Noor) Diamond?</td>\n",
       "    </tr>\n",
       "    <tr>\n",
       "      <th>3</th>\n",
       "      <td>4</td>\n",
       "      <td>What would happen if the Indian government stole the Kohinoor (Koh-i-Noor) diamond back?</td>\n",
       "    </tr>\n",
       "    <tr>\n",
       "      <th>4</th>\n",
       "      <td>5</td>\n",
       "      <td>How can I increase the speed of my internet connection while using a VPN?</td>\n",
       "    </tr>\n",
       "  </tbody>\n",
       "</table>\n",
       "</div>\n",
       "      <button class=\"colab-df-convert\" onclick=\"convertToInteractive('df-07b55478-161b-4cec-9707-a67564335b0a')\"\n",
       "              title=\"Convert this dataframe to an interactive table.\"\n",
       "              style=\"display:none;\">\n",
       "        \n",
       "  <svg xmlns=\"http://www.w3.org/2000/svg\" height=\"24px\"viewBox=\"0 0 24 24\"\n",
       "       width=\"24px\">\n",
       "    <path d=\"M0 0h24v24H0V0z\" fill=\"none\"/>\n",
       "    <path d=\"M18.56 5.44l.94 2.06.94-2.06 2.06-.94-2.06-.94-.94-2.06-.94 2.06-2.06.94zm-11 1L8.5 8.5l.94-2.06 2.06-.94-2.06-.94L8.5 2.5l-.94 2.06-2.06.94zm10 10l.94 2.06.94-2.06 2.06-.94-2.06-.94-.94-2.06-.94 2.06-2.06.94z\"/><path d=\"M17.41 7.96l-1.37-1.37c-.4-.4-.92-.59-1.43-.59-.52 0-1.04.2-1.43.59L10.3 9.45l-7.72 7.72c-.78.78-.78 2.05 0 2.83L4 21.41c.39.39.9.59 1.41.59.51 0 1.02-.2 1.41-.59l7.78-7.78 2.81-2.81c.8-.78.8-2.07 0-2.86zM5.41 20L4 18.59l7.72-7.72 1.47 1.35L5.41 20z\"/>\n",
       "  </svg>\n",
       "      </button>\n",
       "      \n",
       "  <style>\n",
       "    .colab-df-container {\n",
       "      display:flex;\n",
       "      flex-wrap:wrap;\n",
       "      gap: 12px;\n",
       "    }\n",
       "\n",
       "    .colab-df-convert {\n",
       "      background-color: #E8F0FE;\n",
       "      border: none;\n",
       "      border-radius: 50%;\n",
       "      cursor: pointer;\n",
       "      display: none;\n",
       "      fill: #1967D2;\n",
       "      height: 32px;\n",
       "      padding: 0 0 0 0;\n",
       "      width: 32px;\n",
       "    }\n",
       "\n",
       "    .colab-df-convert:hover {\n",
       "      background-color: #E2EBFA;\n",
       "      box-shadow: 0px 1px 2px rgba(60, 64, 67, 0.3), 0px 1px 3px 1px rgba(60, 64, 67, 0.15);\n",
       "      fill: #174EA6;\n",
       "    }\n",
       "\n",
       "    [theme=dark] .colab-df-convert {\n",
       "      background-color: #3B4455;\n",
       "      fill: #D2E3FC;\n",
       "    }\n",
       "\n",
       "    [theme=dark] .colab-df-convert:hover {\n",
       "      background-color: #434B5C;\n",
       "      box-shadow: 0px 1px 3px 1px rgba(0, 0, 0, 0.15);\n",
       "      filter: drop-shadow(0px 1px 2px rgba(0, 0, 0, 0.3));\n",
       "      fill: #FFFFFF;\n",
       "    }\n",
       "  </style>\n",
       "\n",
       "      <script>\n",
       "        const buttonEl =\n",
       "          document.querySelector('#df-07b55478-161b-4cec-9707-a67564335b0a button.colab-df-convert');\n",
       "        buttonEl.style.display =\n",
       "          google.colab.kernel.accessAllowed ? 'block' : 'none';\n",
       "\n",
       "        async function convertToInteractive(key) {\n",
       "          const element = document.querySelector('#df-07b55478-161b-4cec-9707-a67564335b0a');\n",
       "          const dataTable =\n",
       "            await google.colab.kernel.invokeFunction('convertToInteractive',\n",
       "                                                     [key], {});\n",
       "          if (!dataTable) return;\n",
       "\n",
       "          const docLinkHtml = 'Like what you see? Visit the ' +\n",
       "            '<a target=\"_blank\" href=https://colab.research.google.com/notebooks/data_table.ipynb>data table notebook</a>'\n",
       "            + ' to learn more about interactive tables.';\n",
       "          element.innerHTML = '';\n",
       "          dataTable['output_type'] = 'display_data';\n",
       "          await google.colab.output.renderOutput(dataTable, element);\n",
       "          const docLink = document.createElement('div');\n",
       "          docLink.innerHTML = docLinkHtml;\n",
       "          element.appendChild(docLink);\n",
       "        }\n",
       "      </script>\n",
       "    </div>\n",
       "  </div>\n",
       "  "
      ],
      "text/plain": [
       "   id  \\\n",
       "0   1   \n",
       "1   2   \n",
       "2   3   \n",
       "3   4   \n",
       "4   5   \n",
       "\n",
       "                                                                                   question  \n",
       "0                        What is the step by step guide to invest in share market in india?  \n",
       "1                                 What is the step by step guide to invest in share market?  \n",
       "2                                       What is the story of Kohinoor (Koh-i-Noor) Diamond?  \n",
       "3  What would happen if the Indian government stole the Kohinoor (Koh-i-Noor) diamond back?  \n",
       "4                 How can I increase the speed of my internet connection while using a VPN?  "
      ]
     },
     "execution_count": 158,
     "metadata": {},
     "output_type": "execute_result"
    }
   ],
   "source": [
    "quora_df_updated.head()"
   ]
  },
  {
   "cell_type": "code",
   "execution_count": 162,
   "metadata": {
    "id": "cuKxNThDYVof",
    "vscode": {
     "languageId": "python"
    }
   },
   "outputs": [],
   "source": [
    "quora_dataset_updated = Dataset.from_pandas(quora_df_updated)"
   ]
  },
  {
   "cell_type": "code",
   "execution_count": 163,
   "metadata": {
    "colab": {
     "base_uri": "https://localhost:8080/",
     "height": 316
    },
    "id": "Uw5TBx8mXRgy",
    "outputId": "6bc29565-bd73-4a43-8a32-05fd8705cbc6",
    "vscode": {
     "languageId": "python"
    }
   },
   "outputs": [
    {
     "name": "stderr",
     "output_type": "stream",
     "text": [
      "100%|██████████| 413109/413109 [00:14<00:00, 28162.44it/s]\n"
     ]
    },
    {
     "data": {
      "image/png": "[encoded data removed]",
      "text/plain": [
       "<Figure size 432x288 with 1 Axes>"
      ]
     },
     "metadata": {},
     "output_type": "display_data"
    }
   ],
   "source": [
    "quora_tokens = make_histogram(dataset = quora_dataset_updated, col_name = 'question')"
   ]
  },
  {
   "cell_type": "code",
   "execution_count": 164,
   "metadata": {
    "colab": {
     "base_uri": "https://localhost:8080/"
    },
    "id": "o8IRqwliYvzy",
    "outputId": "30916402-1690-4c69-f067-c871f61f83ae",
    "vscode": {
     "languageId": "python"
    }
   },
   "outputs": [
    {
     "name": "stdout",
     "output_type": "stream",
     "text": [
      "1 question have 0 tokens.\n",
      "1 question has 237 tokens.\n"
     ]
    }
   ],
   "source": [
    "from collections import Counter\n",
    "\n",
    "token_counter = Counter(quora_tokens)\n",
    "shortest = min(quora_tokens)\n",
    "longest = max(quora_tokens)\n",
    "num_shortest = token_counter[shortest]\n",
    "num_longest = token_counter[longest]\n",
    "\n",
    "print(f'{num_shortest} question have {shortest} tokens.')\n",
    "print(f'{num_longest} question has {longest} tokens.')"
   ]
  },
  {
   "cell_type": "code",
   "execution_count": 166,
   "metadata": {
    "colab": {
     "base_uri": "https://localhost:8080/"
    },
    "id": "KvD9HlcRYvwq",
    "outputId": "c90fee37-ed04-4caf-f180-12ecd2ee0f85",
    "vscode": {
     "languageId": "python"
    }
   },
   "outputs": [
    {
     "name": "stdout",
     "output_type": "stream",
     "text": [
      "['']\n"
     ]
    }
   ],
   "source": [
    "# print out the shortest question entries\n",
    "shortest = 0\n",
    "short_questions = []\n",
    "for entry in quora_dataset_updated:\n",
    "  tokens = entry['question'].split()\n",
    "  if len(tokens) == shortest:\n",
    "    short_questions.append(entry['question'])\n",
    "\n",
    "print(short_questions)"
   ]
  },
  {
   "cell_type": "code",
   "execution_count": 167,
   "metadata": {
    "colab": {
     "base_uri": "https://localhost:8080/"
    },
    "id": "5N7SEifPYvuC",
    "outputId": "9d7ecb8e-20d1-46f2-963b-18572fde450e",
    "vscode": {
     "languageId": "python"
    }
   },
   "outputs": [
    {
     "name": "stdout",
     "output_type": "stream",
     "text": [
      "Heartbreak? Heartbreak? She's my girlfriend for two months, I chose her over my girlfriend for 2 years. I like her so much to the point that I can't let her go even if she wants to end our relationship because of the other people around us most especially her family. I do the things for her that I'm not used to for a girl and I am willing to sacrifice everything just to have a little time with her. A little and limited time that I'm asking from her but she don't wanna give it to me. She's scared that someone might see us, that she's still having an affair with me. I love her and I want to be with her at least once a week even if just for a limited time. I'm not sure if I'm doing the right thing, all of my friends told me to stop it and just let it go 2 months is just 2 months not a deep relationship. But they don't feel what I feel, in this span of time I learned a lot, I learned how to love, to be loved, to sacrifice a good life, and to sacrifice a better clear future. My mind tells me to stop, but my heart tells me to hold, don't give up, stay with her and give her the unconditional love. Should I follow my mind or follow my heart?\n"
     ]
    }
   ],
   "source": [
    "# print out the longest question entry\n",
    "max_tokens = 0\n",
    "longest_question = None\n",
    "for entry in quora_dataset_updated:\n",
    "    tokens = entry['question'].split()\n",
    "    if len(tokens) > max_tokens:\n",
    "      longest_question = entry['question']\n",
    "      max_tokens = len(tokens)\n",
    "print(longest_question)"
   ]
  },
  {
   "cell_type": "code",
   "execution_count": 169,
   "metadata": {
    "colab": {
     "base_uri": "https://localhost:8080/",
     "height": 299
    },
    "id": "hy2R85CeZqYw",
    "outputId": "c37c6557-3825-413a-ac9e-bf9e5be66ab7",
    "vscode": {
     "languageId": "python"
    }
   },
   "outputs": [
    {
     "data": {
      "image/png": "[encoded data removed]",
      "text/plain": [
       "<Figure size 432x288 with 1 Axes>"
      ]
     },
     "metadata": {},
     "output_type": "display_data"
    }
   ],
   "source": [
    "# Re-plot the histogram in log frequency space. \n",
    "plt.figure()\n",
    "plt.hist(quora_tokens, bins=4, log=True)\n",
    "plt.xlabel(\"Number of tokens\")\n",
    "plt.ylabel(\"Log frequency\")\n",
    "plt.title(\"Distribution of Token Counts in Questions in the QUORA Dataset(Log Scale)\")\n",
    "plt.savefig(\"QUORA-question-log.png\", format=\"png\")\n",
    "plt.show()"
   ]
  },
  {
   "cell_type": "markdown",
   "metadata": {
    "id": "PR_Z7bgdagDE"
   },
   "source": [
    "## Vocab"
   ]
  },
  {
   "cell_type": "code",
   "execution_count": 170,
   "metadata": {
    "colab": {
     "base_uri": "https://localhost:8080/"
    },
    "id": "zuo8KbeLZ_bM",
    "outputId": "b3660ea0-6a39-4367-d4dc-a8a32fb400dd",
    "vscode": {
     "languageId": "python"
    }
   },
   "outputs": [
    {
     "name": "stderr",
     "output_type": "stream",
     "text": [
      "100%|██████████| 413109/413109 [00:33<00:00, 12407.54it/s]\n"
     ]
    }
   ],
   "source": [
    "from collections import defaultdict\n",
    "\n",
    "vocab = defaultdict(lambda: 0)\n",
    "# after 0 sentences, vocab size is at 0. \n",
    "vocab_sizes = [0]\n",
    "\n",
    "# Plot the vocabulary against the number of sentences. \n",
    "for i in tqdm(range(len(quora_dataset_updated)), leave=True, position=0):\n",
    "  entry = quora_dataset_updated[i]\n",
    "  tokens = entry['question'].split()\n",
    "  for token in tokens:\n",
    "    vocab[token] += 1\n",
    "  vocab_sizes.append(len(vocab))"
   ]
  },
  {
   "cell_type": "code",
   "execution_count": 171,
   "metadata": {
    "colab": {
     "base_uri": "https://localhost:8080/",
     "height": 299
    },
    "id": "fJinmQ1RaVnl",
    "outputId": "54048b40-0542-4c25-fe92-81fa445455dd",
    "vscode": {
     "languageId": "python"
    }
   },
   "outputs": [
    {
     "data": {
      "image/png": "[encoded data removed]",
      "text/plain": [
       "<Figure size 432x288 with 1 Axes>"
      ]
     },
     "metadata": {},
     "output_type": "display_data"
    }
   ],
   "source": [
    "# PLOT\n",
    "plt.figure()\n",
    "plt.plot(vocab_sizes)\n",
    "plt.xlabel('Number of Sentences in Corpus')\n",
    "plt.ylabel('Unique Token Count')\n",
    "plt.title(\"Unique Vocabulary Growth with Increasing Corpus Size\")\n",
    "plt.savefig(\"QUORA-vocab-size.png\", format=\"png\")\n",
    "plt.show()"
   ]
  },
  {
   "cell_type": "code",
   "execution_count": 172,
   "metadata": {
    "colab": {
     "base_uri": "https://localhost:8080/"
    },
    "id": "Ft_4ACt7aeBh",
    "outputId": "49181e9a-9c06-4ff0-9d49-07947bec79c3",
    "vscode": {
     "languageId": "python"
    }
   },
   "outputs": [
    {
     "name": "stdout",
     "output_type": "stream",
     "text": [
      "216896 words in vocab.\n",
      "85814 words appearing > 1 times.\n",
      "47135 words appearing > 3 times.\n"
     ]
    }
   ],
   "source": [
    "print(f'{len(vocab)} words in vocab.')\n",
    "print(f'{len([k for k in vocab if vocab[k] > 1])} words appearing > 1 times.')\n",
    "print(f'{len([k for k in vocab if vocab[k] > 3])} words appearing > 3 times.')"
   ]
  },
  {
   "cell_type": "code",
   "execution_count": 173,
   "metadata": {
    "colab": {
     "base_uri": "https://localhost:8080/"
    },
    "id": "iI1MIlo3ajri",
    "outputId": "aceafa0e-d413-4790-eed3-23e5885080fd",
    "vscode": {
     "languageId": "python"
    }
   },
   "outputs": [
    {
     "name": "stdout",
     "output_type": "stream",
     "text": [
      "Most frequent:\n",
      "['the' 'What' 'a' 'is' 'I' 'to' 'in' 'How' 'of' 'and' 'are' 'do' 'for'\n",
      " 'you' 'can' 'it' 'Why' 'my' 'Is' 'on' 'best' 'or' 'does' 'with' 'an'\n",
      " 'have' 'that' 'be' 'some' 'get' 'from' 'Which' 'should' 'at' 'if' 'Can'\n",
      " 'your' 'like' 'good' 'there' 'as' 'when' 'people' 'would' 'not' 'between'\n",
      " 'what' 'about' 'any' 'by' 'If' 'one' 'we' 'will' 'most' 'Do' 'they' 'how'\n",
      " 'make' 'am' 'this' 'was' 'Who' 'Where' 'after' 'did' 'so' 'much' 'use'\n",
      " 'me' 'their' 'way' 'Does' 'difference' 'India?' 'many' 'but' 'Are' 'than'\n",
      " 'has' 'want' 'know' 'more' 'who' 'find' \"What's\" 'all' 'other' 'someone'\n",
      " 'think' 'Should' 'which' 'without' 'into' 'take' 'Indian' 'learn' 'India'\n",
      " \"don't\" 'feel' 'new' 'he' 'out' 'work' 'job' 'become' 'time' 'first'\n",
      " \"I'm\" 'better' 'When']\n",
      "\n",
      "Least frequent:\n",
      "['Raveena' '\"From' '\"Hilario?\"' 'alps' '\"Nene\"' 'Hilario' 'Nene' \"game'?\"\n",
      " \"'passout\" \"Sprint's\" '(UK,' '2-hydroxy-2-methylpropanoic' 'cell),'\n",
      " 'Populizers\"' 'CL\"' 'type-a' 'type-c' 'Type-B?' 'Nye,' 'Tyson,'\n",
      " 'later.When' 'propene?' 'paper(CT1).I' 'Cal)' '(SXC' 'P2065-749'\n",
      " 'Yearly’s' 'bridesmaid,' '2016+' 'Telephones:' 'Outlook.' 'Legends,'\n",
      " 'is)?' 'Duma' 'GRU?' '(IRL&Movies)?' 'goblin' 'exponents' 'DivX'\n",
      " '[math]y^{y+2}=y[/math]?' \"IIIT's\" 'choosing,' 'snapped.' 'BON' 'BRN'\n",
      " 'Sachs.' '[math]y^2+2y+4-y[/math]?' '\"Maneating' \"'deeply'\" 'Poppy'\n",
      " 'you/God.\"?' 'you/God.\"' '15,000/month,' '18,000/month,' 'I”?' '“2'\n",
      " 'software\"?' 'Rudraprayag\"' '\"Medical' '\"Kurzban\\'s' 'Sourcebook\",'\n",
      " 'semicircular' '(bow)' '(2005)?' 'Asterix,' 'Asterix?' 'perpetrate'\n",
      " '\"пиздеч\"' 'weakness)?' '\"Face' 'E-Khata' 'Mainframes' 'notification.'\n",
      " '\"KLPD\",' 'Japan?\",' 'cadences' 'home?\"' 'Datascience' 'Dresden?'\n",
      " 'out-of-the-world,' 'accidentally.Its' 'roar\"?' '\"par' 'coin:' '(Lydian)'\n",
      " 'Supplements' 'beleive' 'bulimic,' 'weightlifting?' 'kilometre' 's.But'\n",
      " 'DM\"' '(accelerating' 'analyze?' 'Quarterbacks' 'Keenan' 're-register'\n",
      " 'Re-register' 'withe' 'underpass']\n"
     ]
    }
   ],
   "source": [
    "most_frequent = []\n",
    "least_frequent = []\n",
    "\n",
    "# Print the most frequent 100 words, and the least frequent 100 words. \n",
    "words = np.array(list(vocab.keys()))\n",
    "counts = np.array([vocab[w] for w in words])\n",
    "words_ordered = words[np.argsort(counts)[::-1]]\n",
    "most_frequent = words_ordered[:111]\n",
    "least_frequent = words_ordered[-100:]\n",
    "\n",
    "print('Most frequent:')\n",
    "print(most_frequent)\n",
    "print()\n",
    "print('Least frequent:')\n",
    "print(least_frequent)"
   ]
  },
  {
   "cell_type": "code",
   "execution_count": 174,
   "metadata": {
    "colab": {
     "base_uri": "https://localhost:8080/"
    },
    "id": "g-ezUOBnaztF",
    "outputId": "1c427e54-2cf2-4fc3-9100-1edb42d871c5",
    "vscode": {
     "languageId": "python"
    }
   },
   "outputs": [
    {
     "name": "stdout",
     "output_type": "stream",
     "text": [
      "Number of outliers: 67.\n"
     ]
    }
   ],
   "source": [
    "# CLEANING THE DATASET\n",
    "bad_indices = []\n",
    "\n",
    "# Type 1: too long\n",
    "num_tokens = np.array(quora_tokens)\n",
    "sus_indices = np.arange(len(quora_dataset_updated))[num_tokens == 237]\n",
    "bad_indices.extend(sus_indices.tolist())\n",
    "\n",
    "# Type 2: too short\n",
    "sus_indices = np.arange(len(quora_dataset_updated))[num_tokens == 0]\n",
    "bad_indices.extend(sus_indices.tolist())\n",
    "\n",
    "sus_indices = np.arange(len(quora_dataset_updated))[num_tokens == 1]\n",
    "bad_indices.extend(sus_indices.tolist())\n",
    "\n",
    "print(f'Number of outliers: {len(bad_indices)}.')"
   ]
  },
  {
   "cell_type": "code",
   "execution_count": 177,
   "metadata": {
    "colab": {
     "base_uri": "https://localhost:8080/",
     "height": 84,
     "referenced_widgets": [
      "b8292695793f4464b70f6727bcc209c8",
      "96dc56ad43bf4de281bb2c8bfad9897e",
      "c2790ee2b2ec447d926ae000c93b1dbc",
      "dc67e17b2cae4c2688c897400d132348",
      "dc21cad20c614b6482cab42d841e3b88",
      "5e89ee8d3b33439ca507b111517b98f5",
      "aab7701f6ed1458ab7451f3eea21ab12",
      "43a2ac6e6ec745cab3994d0a7290e953",
      "45da6a6469f249fabba0936a6b061222",
      "6e4985482afa420487993a738a891aa9",
      "6944d7e30eb64a87a24d244160830dcd"
     ]
    },
    "id": "oWDYVvmkazhL",
    "outputId": "23ee2840-e0d0-4281-9c67-c4a44742d5ee",
    "vscode": {
     "languageId": "python"
    }
   },
   "outputs": [
    {
     "name": "stdout",
     "output_type": "stream",
     "text": [
      "Original dataset has 413109 rows.\n"
     ]
    },
    {
     "data": {
      "application/vnd.jupyter.widget-view+json": {
       "model_id": "b8292695793f4464b70f6727bcc209c8",
       "version_major": 2,
       "version_minor": 0
      },
      "text/plain": [
       "  0%|          | 0/414 [00:00<?, ?ba/s]"
      ]
     },
     "metadata": {},
     "output_type": "display_data"
    },
    {
     "name": "stdout",
     "output_type": "stream",
     "text": [
      "Cleaned dataset has 413042 rows.\n"
     ]
    }
   ],
   "source": [
    "print(f'Original dataset has {len(quora_dataset_updated)} rows.')\n",
    "\n",
    "# remove_corrupted_examples\n",
    "quora_dataset_cleaned = quora_dataset_updated.filter(lambda x: len(x[\"question\"].split()) not in (0,1,237))\n",
    "\n",
    "print(f'Cleaned dataset has {len(quora_dataset_cleaned)} rows.')"
   ]
  },
  {
   "cell_type": "code",
   "execution_count": 181,
   "metadata": {
    "id": "ee7IA-nLcHm2",
    "vscode": {
     "languageId": "python"
    }
   },
   "outputs": [],
   "source": [
    "quora_dataset_cleaned.set_format(\"pandas\")"
   ]
  },
  {
   "cell_type": "code",
   "execution_count": 182,
   "metadata": {
    "id": "u-XmOzo-cuVA",
    "vscode": {
     "languageId": "python"
    }
   },
   "outputs": [],
   "source": [
    "quora_df_cleaned = quora_dataset_cleaned[:]"
   ]
  },
  {
   "cell_type": "code",
   "execution_count": 184,
   "metadata": {
    "colab": {
     "base_uri": "https://localhost:8080/",
     "height": 206
    },
    "id": "H65IUs_Bc0kA",
    "outputId": "4317f5ba-9606-4816-9ca0-8c794340c0c7",
    "vscode": {
     "languageId": "python"
    }
   },
   "outputs": [
    {
     "data": {
      "text/html": [
       "\n",
       "  <div id=\"df-a698cb96-cc6a-43f6-b909-dff0232ac28a\">\n",
       "    <div class=\"colab-df-container\">\n",
       "      <div>\n",
       "<style scoped>\n",
       "    .dataframe tbody tr th:only-of-type {\n",
       "        vertical-align: middle;\n",
       "    }\n",
       "\n",
       "    .dataframe tbody tr th {\n",
       "        vertical-align: top;\n",
       "    }\n",
       "\n",
       "    .dataframe thead th {\n",
       "        text-align: right;\n",
       "    }\n",
       "</style>\n",
       "<table border=\"1\" class=\"dataframe\">\n",
       "  <thead>\n",
       "    <tr style=\"text-align: right;\">\n",
       "      <th></th>\n",
       "      <th>id</th>\n",
       "      <th>question</th>\n",
       "    </tr>\n",
       "  </thead>\n",
       "  <tbody>\n",
       "    <tr>\n",
       "      <th>0</th>\n",
       "      <td>1</td>\n",
       "      <td>What is the step by step guide to invest in share market in india?</td>\n",
       "    </tr>\n",
       "    <tr>\n",
       "      <th>1</th>\n",
       "      <td>2</td>\n",
       "      <td>What is the step by step guide to invest in share market?</td>\n",
       "    </tr>\n",
       "    <tr>\n",
       "      <th>2</th>\n",
       "      <td>3</td>\n",
       "      <td>What is the story of Kohinoor (Koh-i-Noor) Diamond?</td>\n",
       "    </tr>\n",
       "    <tr>\n",
       "      <th>3</th>\n",
       "      <td>4</td>\n",
       "      <td>What would happen if the Indian government stole the Kohinoor (Koh-i-Noor) diamond back?</td>\n",
       "    </tr>\n",
       "    <tr>\n",
       "      <th>4</th>\n",
       "      <td>5</td>\n",
       "      <td>How can I increase the speed of my internet connection while using a VPN?</td>\n",
       "    </tr>\n",
       "  </tbody>\n",
       "</table>\n",
       "</div>\n",
       "      <button class=\"colab-df-convert\" onclick=\"convertToInteractive('df-a698cb96-cc6a-43f6-b909-dff0232ac28a')\"\n",
       "              title=\"Convert this dataframe to an interactive table.\"\n",
       "              style=\"display:none;\">\n",
       "        \n",
       "  <svg xmlns=\"http://www.w3.org/2000/svg\" height=\"24px\"viewBox=\"0 0 24 24\"\n",
       "       width=\"24px\">\n",
       "    <path d=\"M0 0h24v24H0V0z\" fill=\"none\"/>\n",
       "    <path d=\"M18.56 5.44l.94 2.06.94-2.06 2.06-.94-2.06-.94-.94-2.06-.94 2.06-2.06.94zm-11 1L8.5 8.5l.94-2.06 2.06-.94-2.06-.94L8.5 2.5l-.94 2.06-2.06.94zm10 10l.94 2.06.94-2.06 2.06-.94-2.06-.94-.94-2.06-.94 2.06-2.06.94z\"/><path d=\"M17.41 7.96l-1.37-1.37c-.4-.4-.92-.59-1.43-.59-.52 0-1.04.2-1.43.59L10.3 9.45l-7.72 7.72c-.78.78-.78 2.05 0 2.83L4 21.41c.39.39.9.59 1.41.59.51 0 1.02-.2 1.41-.59l7.78-7.78 2.81-2.81c.8-.78.8-2.07 0-2.86zM5.41 20L4 18.59l7.72-7.72 1.47 1.35L5.41 20z\"/>\n",
       "  </svg>\n",
       "      </button>\n",
       "      \n",
       "  <style>\n",
       "    .colab-df-container {\n",
       "      display:flex;\n",
       "      flex-wrap:wrap;\n",
       "      gap: 12px;\n",
       "    }\n",
       "\n",
       "    .colab-df-convert {\n",
       "      background-color: #E8F0FE;\n",
       "      border: none;\n",
       "      border-radius: 50%;\n",
       "      cursor: pointer;\n",
       "      display: none;\n",
       "      fill: #1967D2;\n",
       "      height: 32px;\n",
       "      padding: 0 0 0 0;\n",
       "      width: 32px;\n",
       "    }\n",
       "\n",
       "    .colab-df-convert:hover {\n",
       "      background-color: #E2EBFA;\n",
       "      box-shadow: 0px 1px 2px rgba(60, 64, 67, 0.3), 0px 1px 3px 1px rgba(60, 64, 67, 0.15);\n",
       "      fill: #174EA6;\n",
       "    }\n",
       "\n",
       "    [theme=dark] .colab-df-convert {\n",
       "      background-color: #3B4455;\n",
       "      fill: #D2E3FC;\n",
       "    }\n",
       "\n",
       "    [theme=dark] .colab-df-convert:hover {\n",
       "      background-color: #434B5C;\n",
       "      box-shadow: 0px 1px 3px 1px rgba(0, 0, 0, 0.15);\n",
       "      filter: drop-shadow(0px 1px 2px rgba(0, 0, 0, 0.3));\n",
       "      fill: #FFFFFF;\n",
       "    }\n",
       "  </style>\n",
       "\n",
       "      <script>\n",
       "        const buttonEl =\n",
       "          document.querySelector('#df-a698cb96-cc6a-43f6-b909-dff0232ac28a button.colab-df-convert');\n",
       "        buttonEl.style.display =\n",
       "          google.colab.kernel.accessAllowed ? 'block' : 'none';\n",
       "\n",
       "        async function convertToInteractive(key) {\n",
       "          const element = document.querySelector('#df-a698cb96-cc6a-43f6-b909-dff0232ac28a');\n",
       "          const dataTable =\n",
       "            await google.colab.kernel.invokeFunction('convertToInteractive',\n",
       "                                                     [key], {});\n",
       "          if (!dataTable) return;\n",
       "\n",
       "          const docLinkHtml = 'Like what you see? Visit the ' +\n",
       "            '<a target=\"_blank\" href=https://colab.research.google.com/notebooks/data_table.ipynb>data table notebook</a>'\n",
       "            + ' to learn more about interactive tables.';\n",
       "          element.innerHTML = '';\n",
       "          dataTable['output_type'] = 'display_data';\n",
       "          await google.colab.output.renderOutput(dataTable, element);\n",
       "          const docLink = document.createElement('div');\n",
       "          docLink.innerHTML = docLinkHtml;\n",
       "          element.appendChild(docLink);\n",
       "        }\n",
       "      </script>\n",
       "    </div>\n",
       "  </div>\n",
       "  "
      ],
      "text/plain": [
       "   id  \\\n",
       "0   1   \n",
       "1   2   \n",
       "2   3   \n",
       "3   4   \n",
       "4   5   \n",
       "\n",
       "                                                                                   question  \n",
       "0                        What is the step by step guide to invest in share market in india?  \n",
       "1                                 What is the step by step guide to invest in share market?  \n",
       "2                                       What is the story of Kohinoor (Koh-i-Noor) Diamond?  \n",
       "3  What would happen if the Indian government stole the Kohinoor (Koh-i-Noor) diamond back?  \n",
       "4                 How can I increase the speed of my internet connection while using a VPN?  "
      ]
     },
     "execution_count": 184,
     "metadata": {},
     "output_type": "execute_result"
    }
   ],
   "source": [
    "quora_df_cleaned.head()"
   ]
  },
  {
   "cell_type": "code",
   "execution_count": 185,
   "metadata": {
    "id": "_Nsmy-Xic4Rs",
    "vscode": {
     "languageId": "python"
    }
   },
   "outputs": [],
   "source": [
    "quora_df_cleaned.to_csv(\"/content/drive/My Drive/quora_df_cleaned.csv\", index=False)"
   ]
  }
 ],
 "metadata": {
  "colab": {
   "provenance": []
  },
  "gpuClass": "standard",
  "kernelspec": {
   "display_name": "dzhw-3.9",
   "language": "python",
   "name": "dzhw-3.9"
  },
  "vscode": {
   "interpreter": {
    "hash": "a317a3225f54853d3761a8e99216de1ff0a5ff683c1d575b2a892cb0ed4ad207"
   }
  },
  "widgets": {
   "application/vnd.jupyter.widget-state+json": {
    "01e80c82825148228574f653535687ef": {
     "model_module": "@jupyter-widgets/controls",
     "model_module_version": "1.5.0",
     "model_name": "DescriptionStyleModel",
     "state": {
      "_model_module": "@jupyter-widgets/controls",
      "_model_module_version": "1.5.0",
      "_model_name": "DescriptionStyleModel",
      "_view_count": null,
      "_view_module": "@jupyter-widgets/base",
      "_view_module_version": "1.2.0",
      "_view_name": "StyleView",
      "description_width": ""
     }
    },
    "1c126b73ba4a4d2eaf8a463cc55650d4": {
     "model_module": "@jupyter-widgets/controls",
     "model_module_version": "1.5.0",
     "model_name": "HTMLModel",
     "state": {
      "_dom_classes": [],
      "_model_module": "@jupyter-widgets/controls",
      "_model_module_version": "1.5.0",
      "_model_name": "HTMLModel",
      "_view_count": null,
      "_view_module": "@jupyter-widgets/controls",
      "_view_module_version": "1.5.0",
      "_view_name": "HTMLView",
      "description": "",
      "description_tooltip": null,
      "layout": "IPY_MODEL_6ec259748ec5475db6d40d7727f7911e",
      "placeholder": "​",
      "style": "IPY_MODEL_3ccd8a1eef32406488b3638cfc70374b",
      "value": "100%"
     }
    },
    "1cff243f4ee04a9397433f96f9128b86": {
     "model_module": "@jupyter-widgets/base",
     "model_module_version": "1.2.0",
     "model_name": "LayoutModel",
     "state": {
      "_model_module": "@jupyter-widgets/base",
      "_model_module_version": "1.2.0",
      "_model_name": "LayoutModel",
      "_view_count": null,
      "_view_module": "@jupyter-widgets/base",
      "_view_module_version": "1.2.0",
      "_view_name": "LayoutView",
      "align_content": null,
      "align_items": null,
      "align_self": null,
      "border": null,
      "bottom": null,
      "display": null,
      "flex": null,
      "flex_flow": null,
      "grid_area": null,
      "grid_auto_columns": null,
      "grid_auto_flow": null,
      "grid_auto_rows": null,
      "grid_column": null,
      "grid_gap": null,
      "grid_row": null,
      "grid_template_areas": null,
      "grid_template_columns": null,
      "grid_template_rows": null,
      "height": null,
      "justify_content": null,
      "justify_items": null,
      "left": null,
      "margin": null,
      "max_height": null,
      "max_width": null,
      "min_height": null,
      "min_width": null,
      "object_fit": null,
      "object_position": null,
      "order": null,
      "overflow": null,
      "overflow_x": null,
      "overflow_y": null,
      "padding": null,
      "right": null,
      "top": null,
      "visibility": null,
      "width": null
     }
    },
    "1e99f36a1eb24fe09786c96d8d83b05d": {
     "model_module": "@jupyter-widgets/controls",
     "model_module_version": "1.5.0",
     "model_name": "ProgressStyleModel",
     "state": {
      "_model_module": "@jupyter-widgets/controls",
      "_model_module_version": "1.5.0",
      "_model_name": "ProgressStyleModel",
      "_view_count": null,
      "_view_module": "@jupyter-widgets/base",
      "_view_module_version": "1.2.0",
      "_view_name": "StyleView",
      "bar_color": null,
      "description_width": ""
     }
    },
    "2544987f30c642ed9c2cd6d9d2b1298f": {
     "model_module": "@jupyter-widgets/base",
     "model_module_version": "1.2.0",
     "model_name": "LayoutModel",
     "state": {
      "_model_module": "@jupyter-widgets/base",
      "_model_module_version": "1.2.0",
      "_model_name": "LayoutModel",
      "_view_count": null,
      "_view_module": "@jupyter-widgets/base",
      "_view_module_version": "1.2.0",
      "_view_name": "LayoutView",
      "align_content": null,
      "align_items": null,
      "align_self": null,
      "border": null,
      "bottom": null,
      "display": null,
      "flex": null,
      "flex_flow": null,
      "grid_area": null,
      "grid_auto_columns": null,
      "grid_auto_flow": null,
      "grid_auto_rows": null,
      "grid_column": null,
      "grid_gap": null,
      "grid_row": null,
      "grid_template_areas": null,
      "grid_template_columns": null,
      "grid_template_rows": null,
      "height": null,
      "justify_content": null,
      "justify_items": null,
      "left": null,
      "margin": null,
      "max_height": null,
      "max_width": null,
      "min_height": null,
      "min_width": null,
      "object_fit": null,
      "object_position": null,
      "order": null,
      "overflow": null,
      "overflow_x": null,
      "overflow_y": null,
      "padding": null,
      "right": null,
      "top": null,
      "visibility": null,
      "width": null
     }
    },
    "26e804f21ce54c438dc95acadafa72fb": {
     "model_module": "@jupyter-widgets/base",
     "model_module_version": "1.2.0",
     "model_name": "LayoutModel",
     "state": {
      "_model_module": "@jupyter-widgets/base",
      "_model_module_version": "1.2.0",
      "_model_name": "LayoutModel",
      "_view_count": null,
      "_view_module": "@jupyter-widgets/base",
      "_view_module_version": "1.2.0",
      "_view_name": "LayoutView",
      "align_content": null,
      "align_items": null,
      "align_self": null,
      "border": null,
      "bottom": null,
      "display": null,
      "flex": null,
      "flex_flow": null,
      "grid_area": null,
      "grid_auto_columns": null,
      "grid_auto_flow": null,
      "grid_auto_rows": null,
      "grid_column": null,
      "grid_gap": null,
      "grid_row": null,
      "grid_template_areas": null,
      "grid_template_columns": null,
      "grid_template_rows": null,
      "height": null,
      "justify_content": null,
      "justify_items": null,
      "left": null,
      "margin": null,
      "max_height": null,
      "max_width": null,
      "min_height": null,
      "min_width": null,
      "object_fit": null,
      "object_position": null,
      "order": null,
      "overflow": null,
      "overflow_x": null,
      "overflow_y": null,
      "padding": null,
      "right": null,
      "top": null,
      "visibility": null,
      "width": null
     }
    },
    "2d6d520f10554b3ab70380d8762e5eb2": {
     "model_module": "@jupyter-widgets/base",
     "model_module_version": "1.2.0",
     "model_name": "LayoutModel",
     "state": {
      "_model_module": "@jupyter-widgets/base",
      "_model_module_version": "1.2.0",
      "_model_name": "LayoutModel",
      "_view_count": null,
      "_view_module": "@jupyter-widgets/base",
      "_view_module_version": "1.2.0",
      "_view_name": "LayoutView",
      "align_content": null,
      "align_items": null,
      "align_self": null,
      "border": null,
      "bottom": null,
      "display": null,
      "flex": null,
      "flex_flow": null,
      "grid_area": null,
      "grid_auto_columns": null,
      "grid_auto_flow": null,
      "grid_auto_rows": null,
      "grid_column": null,
      "grid_gap": null,
      "grid_row": null,
      "grid_template_areas": null,
      "grid_template_columns": null,
      "grid_template_rows": null,
      "height": null,
      "justify_content": null,
      "justify_items": null,
      "left": null,
      "margin": null,
      "max_height": null,
      "max_width": null,
      "min_height": null,
      "min_width": null,
      "object_fit": null,
      "object_position": null,
      "order": null,
      "overflow": null,
      "overflow_x": null,
      "overflow_y": null,
      "padding": null,
      "right": null,
      "top": null,
      "visibility": null,
      "width": null
     }
    },
    "35dd63c5f0464aa9a28ccd861e87d2c3": {
     "model_module": "@jupyter-widgets/controls",
     "model_module_version": "1.5.0",
     "model_name": "HTMLModel",
     "state": {
      "_dom_classes": [],
      "_model_module": "@jupyter-widgets/controls",
      "_model_module_version": "1.5.0",
      "_model_name": "HTMLModel",
      "_view_count": null,
      "_view_module": "@jupyter-widgets/controls",
      "_view_module_version": "1.5.0",
      "_view_name": "HTMLView",
      "description": "",
      "description_tooltip": null,
      "layout": "IPY_MODEL_26e804f21ce54c438dc95acadafa72fb",
      "placeholder": "​",
      "style": "IPY_MODEL_3b394234c63245d3bc15690cb1ca219f",
      "value": " 99/99 [00:02&lt;00:00, 41.03ba/s]"
     }
    },
    "3654b8b5301b40a49470992ff3cbea5c": {
     "model_module": "@jupyter-widgets/base",
     "model_module_version": "1.2.0",
     "model_name": "LayoutModel",
     "state": {
      "_model_module": "@jupyter-widgets/base",
      "_model_module_version": "1.2.0",
      "_model_name": "LayoutModel",
      "_view_count": null,
      "_view_module": "@jupyter-widgets/base",
      "_view_module_version": "1.2.0",
      "_view_name": "LayoutView",
      "align_content": null,
      "align_items": null,
      "align_self": null,
      "border": null,
      "bottom": null,
      "display": null,
      "flex": null,
      "flex_flow": null,
      "grid_area": null,
      "grid_auto_columns": null,
      "grid_auto_flow": null,
      "grid_auto_rows": null,
      "grid_column": null,
      "grid_gap": null,
      "grid_row": null,
      "grid_template_areas": null,
      "grid_template_columns": null,
      "grid_template_rows": null,
      "height": null,
      "justify_content": null,
      "justify_items": null,
      "left": null,
      "margin": null,
      "max_height": null,
      "max_width": null,
      "min_height": null,
      "min_width": null,
      "object_fit": null,
      "object_position": null,
      "order": null,
      "overflow": null,
      "overflow_x": null,
      "overflow_y": null,
      "padding": null,
      "right": null,
      "top": null,
      "visibility": null,
      "width": null
     }
    },
    "3ad342cb0ce6469baea6dd6d1878a408": {
     "model_module": "@jupyter-widgets/base",
     "model_module_version": "1.2.0",
     "model_name": "LayoutModel",
     "state": {
      "_model_module": "@jupyter-widgets/base",
      "_model_module_version": "1.2.0",
      "_model_name": "LayoutModel",
      "_view_count": null,
      "_view_module": "@jupyter-widgets/base",
      "_view_module_version": "1.2.0",
      "_view_name": "LayoutView",
      "align_content": null,
      "align_items": null,
      "align_self": null,
      "border": null,
      "bottom": null,
      "display": null,
      "flex": null,
      "flex_flow": null,
      "grid_area": null,
      "grid_auto_columns": null,
      "grid_auto_flow": null,
      "grid_auto_rows": null,
      "grid_column": null,
      "grid_gap": null,
      "grid_row": null,
      "grid_template_areas": null,
      "grid_template_columns": null,
      "grid_template_rows": null,
      "height": null,
      "justify_content": null,
      "justify_items": null,
      "left": null,
      "margin": null,
      "max_height": null,
      "max_width": null,
      "min_height": null,
      "min_width": null,
      "object_fit": null,
      "object_position": null,
      "order": null,
      "overflow": null,
      "overflow_x": null,
      "overflow_y": null,
      "padding": null,
      "right": null,
      "top": null,
      "visibility": null,
      "width": null
     }
    },
    "3b394234c63245d3bc15690cb1ca219f": {
     "model_module": "@jupyter-widgets/controls",
     "model_module_version": "1.5.0",
     "model_name": "DescriptionStyleModel",
     "state": {
      "_model_module": "@jupyter-widgets/controls",
      "_model_module_version": "1.5.0",
      "_model_name": "DescriptionStyleModel",
      "_view_count": null,
      "_view_module": "@jupyter-widgets/base",
      "_view_module_version": "1.2.0",
      "_view_name": "StyleView",
      "description_width": ""
     }
    },
    "3ccd8a1eef32406488b3638cfc70374b": {
     "model_module": "@jupyter-widgets/controls",
     "model_module_version": "1.5.0",
     "model_name": "DescriptionStyleModel",
     "state": {
      "_model_module": "@jupyter-widgets/controls",
      "_model_module_version": "1.5.0",
      "_model_name": "DescriptionStyleModel",
      "_view_count": null,
      "_view_module": "@jupyter-widgets/base",
      "_view_module_version": "1.2.0",
      "_view_name": "StyleView",
      "description_width": ""
     }
    },
    "3dd9f173092a42beaa33166a96d664c1": {
     "model_module": "@jupyter-widgets/controls",
     "model_module_version": "1.5.0",
     "model_name": "FloatProgressModel",
     "state": {
      "_dom_classes": [],
      "_model_module": "@jupyter-widgets/controls",
      "_model_module_version": "1.5.0",
      "_model_name": "FloatProgressModel",
      "_view_count": null,
      "_view_module": "@jupyter-widgets/controls",
      "_view_module_version": "1.5.0",
      "_view_name": "ProgressView",
      "bar_style": "success",
      "description": "",
      "description_tooltip": null,
      "layout": "IPY_MODEL_2d6d520f10554b3ab70380d8762e5eb2",
      "max": 255027,
      "min": 0,
      "orientation": "horizontal",
      "style": "IPY_MODEL_45b2e341919f4e68b45c13730dd39be2",
      "value": 255027
     }
    },
    "43a2ac6e6ec745cab3994d0a7290e953": {
     "model_module": "@jupyter-widgets/base",
     "model_module_version": "1.2.0",
     "model_name": "LayoutModel",
     "state": {
      "_model_module": "@jupyter-widgets/base",
      "_model_module_version": "1.2.0",
      "_model_name": "LayoutModel",
      "_view_count": null,
      "_view_module": "@jupyter-widgets/base",
      "_view_module_version": "1.2.0",
      "_view_name": "LayoutView",
      "align_content": null,
      "align_items": null,
      "align_self": null,
      "border": null,
      "bottom": null,
      "display": null,
      "flex": null,
      "flex_flow": null,
      "grid_area": null,
      "grid_auto_columns": null,
      "grid_auto_flow": null,
      "grid_auto_rows": null,
      "grid_column": null,
      "grid_gap": null,
      "grid_row": null,
      "grid_template_areas": null,
      "grid_template_columns": null,
      "grid_template_rows": null,
      "height": null,
      "justify_content": null,
      "justify_items": null,
      "left": null,
      "margin": null,
      "max_height": null,
      "max_width": null,
      "min_height": null,
      "min_width": null,
      "object_fit": null,
      "object_position": null,
      "order": null,
      "overflow": null,
      "overflow_x": null,
      "overflow_y": null,
      "padding": null,
      "right": null,
      "top": null,
      "visibility": null,
      "width": null
     }
    },
    "451ddcd6a739466e8d2261965aba9c77": {
     "model_module": "@jupyter-widgets/base",
     "model_module_version": "1.2.0",
     "model_name": "LayoutModel",
     "state": {
      "_model_module": "@jupyter-widgets/base",
      "_model_module_version": "1.2.0",
      "_model_name": "LayoutModel",
      "_view_count": null,
      "_view_module": "@jupyter-widgets/base",
      "_view_module_version": "1.2.0",
      "_view_name": "LayoutView",
      "align_content": null,
      "align_items": null,
      "align_self": null,
      "border": null,
      "bottom": null,
      "display": null,
      "flex": null,
      "flex_flow": null,
      "grid_area": null,
      "grid_auto_columns": null,
      "grid_auto_flow": null,
      "grid_auto_rows": null,
      "grid_column": null,
      "grid_gap": null,
      "grid_row": null,
      "grid_template_areas": null,
      "grid_template_columns": null,
      "grid_template_rows": null,
      "height": null,
      "justify_content": null,
      "justify_items": null,
      "left": null,
      "margin": null,
      "max_height": null,
      "max_width": null,
      "min_height": null,
      "min_width": null,
      "object_fit": null,
      "object_position": null,
      "order": null,
      "overflow": null,
      "overflow_x": null,
      "overflow_y": null,
      "padding": null,
      "right": null,
      "top": null,
      "visibility": null,
      "width": null
     }
    },
    "45b2e341919f4e68b45c13730dd39be2": {
     "model_module": "@jupyter-widgets/controls",
     "model_module_version": "1.5.0",
     "model_name": "ProgressStyleModel",
     "state": {
      "_model_module": "@jupyter-widgets/controls",
      "_model_module_version": "1.5.0",
      "_model_name": "ProgressStyleModel",
      "_view_count": null,
      "_view_module": "@jupyter-widgets/base",
      "_view_module_version": "1.2.0",
      "_view_name": "StyleView",
      "bar_color": null,
      "description_width": ""
     }
    },
    "45da6a6469f249fabba0936a6b061222": {
     "model_module": "@jupyter-widgets/controls",
     "model_module_version": "1.5.0",
     "model_name": "ProgressStyleModel",
     "state": {
      "_model_module": "@jupyter-widgets/controls",
      "_model_module_version": "1.5.0",
      "_model_name": "ProgressStyleModel",
      "_view_count": null,
      "_view_module": "@jupyter-widgets/base",
      "_view_module_version": "1.2.0",
      "_view_name": "StyleView",
      "bar_color": null,
      "description_width": ""
     }
    },
    "45dad7360ea54a709a722b14c0bb6362": {
     "model_module": "@jupyter-widgets/controls",
     "model_module_version": "1.5.0",
     "model_name": "HTMLModel",
     "state": {
      "_dom_classes": [],
      "_model_module": "@jupyter-widgets/controls",
      "_model_module_version": "1.5.0",
      "_model_name": "HTMLModel",
      "_view_count": null,
      "_view_module": "@jupyter-widgets/controls",
      "_view_module_version": "1.5.0",
      "_view_name": "HTMLView",
      "description": "",
      "description_tooltip": null,
      "layout": "IPY_MODEL_1cff243f4ee04a9397433f96f9128b86",
      "placeholder": "​",
      "style": "IPY_MODEL_97480153196a46dd9c5334323682597d",
      "value": "100%"
     }
    },
    "4814c4e61a5f49b3aee04a49429d7dc7": {
     "model_module": "@jupyter-widgets/base",
     "model_module_version": "1.2.0",
     "model_name": "LayoutModel",
     "state": {
      "_model_module": "@jupyter-widgets/base",
      "_model_module_version": "1.2.0",
      "_model_name": "LayoutModel",
      "_view_count": null,
      "_view_module": "@jupyter-widgets/base",
      "_view_module_version": "1.2.0",
      "_view_name": "LayoutView",
      "align_content": null,
      "align_items": null,
      "align_self": null,
      "border": null,
      "bottom": null,
      "display": null,
      "flex": null,
      "flex_flow": null,
      "grid_area": null,
      "grid_auto_columns": null,
      "grid_auto_flow": null,
      "grid_auto_rows": null,
      "grid_column": null,
      "grid_gap": null,
      "grid_row": null,
      "grid_template_areas": null,
      "grid_template_columns": null,
      "grid_template_rows": null,
      "height": null,
      "justify_content": null,
      "justify_items": null,
      "left": null,
      "margin": null,
      "max_height": null,
      "max_width": null,
      "min_height": null,
      "min_width": null,
      "object_fit": null,
      "object_position": null,
      "order": null,
      "overflow": null,
      "overflow_x": null,
      "overflow_y": null,
      "padding": null,
      "right": null,
      "top": null,
      "visibility": null,
      "width": null
     }
    },
    "4ae36c12bc41460cbf750050fdc5d47b": {
     "model_module": "@jupyter-widgets/controls",
     "model_module_version": "1.5.0",
     "model_name": "FloatProgressModel",
     "state": {
      "_dom_classes": [],
      "_model_module": "@jupyter-widgets/controls",
      "_model_module_version": "1.5.0",
      "_model_name": "FloatProgressModel",
      "_view_count": null,
      "_view_module": "@jupyter-widgets/controls",
      "_view_module_version": "1.5.0",
      "_view_name": "ProgressView",
      "bar_style": "success",
      "description": "",
      "description_tooltip": null,
      "layout": "IPY_MODEL_abf836b6ee204a6b9797d0ed40680235",
      "max": 256,
      "min": 0,
      "orientation": "horizontal",
      "style": "IPY_MODEL_7801a800fdb4485e8525b26f56825b35",
      "value": 256
     }
    },
    "4f94c085ed5e41f08416ed8115189442": {
     "model_module": "@jupyter-widgets/base",
     "model_module_version": "1.2.0",
     "model_name": "LayoutModel",
     "state": {
      "_model_module": "@jupyter-widgets/base",
      "_model_module_version": "1.2.0",
      "_model_name": "LayoutModel",
      "_view_count": null,
      "_view_module": "@jupyter-widgets/base",
      "_view_module_version": "1.2.0",
      "_view_name": "LayoutView",
      "align_content": null,
      "align_items": null,
      "align_self": null,
      "border": null,
      "bottom": null,
      "display": null,
      "flex": null,
      "flex_flow": null,
      "grid_area": null,
      "grid_auto_columns": null,
      "grid_auto_flow": null,
      "grid_auto_rows": null,
      "grid_column": null,
      "grid_gap": null,
      "grid_row": null,
      "grid_template_areas": null,
      "grid_template_columns": null,
      "grid_template_rows": null,
      "height": null,
      "justify_content": null,
      "justify_items": null,
      "left": null,
      "margin": null,
      "max_height": null,
      "max_width": null,
      "min_height": null,
      "min_width": null,
      "object_fit": null,
      "object_position": null,
      "order": null,
      "overflow": null,
      "overflow_x": null,
      "overflow_y": null,
      "padding": null,
      "right": null,
      "top": null,
      "visibility": null,
      "width": null
     }
    },
    "5e89ee8d3b33439ca507b111517b98f5": {
     "model_module": "@jupyter-widgets/base",
     "model_module_version": "1.2.0",
     "model_name": "LayoutModel",
     "state": {
      "_model_module": "@jupyter-widgets/base",
      "_model_module_version": "1.2.0",
      "_model_name": "LayoutModel",
      "_view_count": null,
      "_view_module": "@jupyter-widgets/base",
      "_view_module_version": "1.2.0",
      "_view_name": "LayoutView",
      "align_content": null,
      "align_items": null,
      "align_self": null,
      "border": null,
      "bottom": null,
      "display": null,
      "flex": null,
      "flex_flow": null,
      "grid_area": null,
      "grid_auto_columns": null,
      "grid_auto_flow": null,
      "grid_auto_rows": null,
      "grid_column": null,
      "grid_gap": null,
      "grid_row": null,
      "grid_template_areas": null,
      "grid_template_columns": null,
      "grid_template_rows": null,
      "height": null,
      "justify_content": null,
      "justify_items": null,
      "left": null,
      "margin": null,
      "max_height": null,
      "max_width": null,
      "min_height": null,
      "min_width": null,
      "object_fit": null,
      "object_position": null,
      "order": null,
      "overflow": null,
      "overflow_x": null,
      "overflow_y": null,
      "padding": null,
      "right": null,
      "top": null,
      "visibility": null,
      "width": null
     }
    },
    "5edf034673124418896248bf6c273abb": {
     "model_module": "@jupyter-widgets/controls",
     "model_module_version": "1.5.0",
     "model_name": "DescriptionStyleModel",
     "state": {
      "_model_module": "@jupyter-widgets/controls",
      "_model_module_version": "1.5.0",
      "_model_name": "DescriptionStyleModel",
      "_view_count": null,
      "_view_module": "@jupyter-widgets/base",
      "_view_module_version": "1.2.0",
      "_view_name": "StyleView",
      "description_width": ""
     }
    },
    "5f2a9432e89a41fe9a4015f5c3b1f1ee": {
     "model_module": "@jupyter-widgets/base",
     "model_module_version": "1.2.0",
     "model_name": "LayoutModel",
     "state": {
      "_model_module": "@jupyter-widgets/base",
      "_model_module_version": "1.2.0",
      "_model_name": "LayoutModel",
      "_view_count": null,
      "_view_module": "@jupyter-widgets/base",
      "_view_module_version": "1.2.0",
      "_view_name": "LayoutView",
      "align_content": null,
      "align_items": null,
      "align_self": null,
      "border": null,
      "bottom": null,
      "display": null,
      "flex": null,
      "flex_flow": null,
      "grid_area": null,
      "grid_auto_columns": null,
      "grid_auto_flow": null,
      "grid_auto_rows": null,
      "grid_column": null,
      "grid_gap": null,
      "grid_row": null,
      "grid_template_areas": null,
      "grid_template_columns": null,
      "grid_template_rows": null,
      "height": null,
      "justify_content": null,
      "justify_items": null,
      "left": null,
      "margin": null,
      "max_height": null,
      "max_width": null,
      "min_height": null,
      "min_width": null,
      "object_fit": null,
      "object_position": null,
      "order": null,
      "overflow": null,
      "overflow_x": null,
      "overflow_y": null,
      "padding": null,
      "right": null,
      "top": null,
      "visibility": null,
      "width": null
     }
    },
    "648cbd1b277d4d4e9eb85603172f2b96": {
     "model_module": "@jupyter-widgets/controls",
     "model_module_version": "1.5.0",
     "model_name": "HBoxModel",
     "state": {
      "_dom_classes": [],
      "_model_module": "@jupyter-widgets/controls",
      "_model_module_version": "1.5.0",
      "_model_name": "HBoxModel",
      "_view_count": null,
      "_view_module": "@jupyter-widgets/controls",
      "_view_module_version": "1.5.0",
      "_view_name": "HBoxView",
      "box_style": "",
      "children": [
       "IPY_MODEL_f1623fc7a7bf4279a790295fc150260a",
       "IPY_MODEL_3dd9f173092a42beaa33166a96d664c1",
       "IPY_MODEL_8528733aa90a49a4b4c88a9bd27a4997"
      ],
      "layout": "IPY_MODEL_7e088a45eba14eaa9fa7511548aae0ec"
     }
    },
    "6944d7e30eb64a87a24d244160830dcd": {
     "model_module": "@jupyter-widgets/controls",
     "model_module_version": "1.5.0",
     "model_name": "DescriptionStyleModel",
     "state": {
      "_model_module": "@jupyter-widgets/controls",
      "_model_module_version": "1.5.0",
      "_model_name": "DescriptionStyleModel",
      "_view_count": null,
      "_view_module": "@jupyter-widgets/base",
      "_view_module_version": "1.2.0",
      "_view_name": "StyleView",
      "description_width": ""
     }
    },
    "6e4985482afa420487993a738a891aa9": {
     "model_module": "@jupyter-widgets/base",
     "model_module_version": "1.2.0",
     "model_name": "LayoutModel",
     "state": {
      "_model_module": "@jupyter-widgets/base",
      "_model_module_version": "1.2.0",
      "_model_name": "LayoutModel",
      "_view_count": null,
      "_view_module": "@jupyter-widgets/base",
      "_view_module_version": "1.2.0",
      "_view_name": "LayoutView",
      "align_content": null,
      "align_items": null,
      "align_self": null,
      "border": null,
      "bottom": null,
      "display": null,
      "flex": null,
      "flex_flow": null,
      "grid_area": null,
      "grid_auto_columns": null,
      "grid_auto_flow": null,
      "grid_auto_rows": null,
      "grid_column": null,
      "grid_gap": null,
      "grid_row": null,
      "grid_template_areas": null,
      "grid_template_columns": null,
      "grid_template_rows": null,
      "height": null,
      "justify_content": null,
      "justify_items": null,
      "left": null,
      "margin": null,
      "max_height": null,
      "max_width": null,
      "min_height": null,
      "min_width": null,
      "object_fit": null,
      "object_position": null,
      "order": null,
      "overflow": null,
      "overflow_x": null,
      "overflow_y": null,
      "padding": null,
      "right": null,
      "top": null,
      "visibility": null,
      "width": null
     }
    },
    "6ec259748ec5475db6d40d7727f7911e": {
     "model_module": "@jupyter-widgets/base",
     "model_module_version": "1.2.0",
     "model_name": "LayoutModel",
     "state": {
      "_model_module": "@jupyter-widgets/base",
      "_model_module_version": "1.2.0",
      "_model_name": "LayoutModel",
      "_view_count": null,
      "_view_module": "@jupyter-widgets/base",
      "_view_module_version": "1.2.0",
      "_view_name": "LayoutView",
      "align_content": null,
      "align_items": null,
      "align_self": null,
      "border": null,
      "bottom": null,
      "display": null,
      "flex": null,
      "flex_flow": null,
      "grid_area": null,
      "grid_auto_columns": null,
      "grid_auto_flow": null,
      "grid_auto_rows": null,
      "grid_column": null,
      "grid_gap": null,
      "grid_row": null,
      "grid_template_areas": null,
      "grid_template_columns": null,
      "grid_template_rows": null,
      "height": null,
      "justify_content": null,
      "justify_items": null,
      "left": null,
      "margin": null,
      "max_height": null,
      "max_width": null,
      "min_height": null,
      "min_width": null,
      "object_fit": null,
      "object_position": null,
      "order": null,
      "overflow": null,
      "overflow_x": null,
      "overflow_y": null,
      "padding": null,
      "right": null,
      "top": null,
      "visibility": null,
      "width": null
     }
    },
    "711d5b61e434402ab7bec64157b358b3": {
     "model_module": "@jupyter-widgets/controls",
     "model_module_version": "1.5.0",
     "model_name": "HBoxModel",
     "state": {
      "_dom_classes": [],
      "_model_module": "@jupyter-widgets/controls",
      "_model_module_version": "1.5.0",
      "_model_name": "HBoxModel",
      "_view_count": null,
      "_view_module": "@jupyter-widgets/controls",
      "_view_module_version": "1.5.0",
      "_view_name": "HBoxView",
      "box_style": "",
      "children": [
       "IPY_MODEL_f887d6c7bc8e4086b4b9f6b33ecfc785",
       "IPY_MODEL_ba595e78e9dc412a81741393f823b997",
       "IPY_MODEL_a5be8df25b9a4a9ba04dfcdc6005d2ea"
      ],
      "layout": "IPY_MODEL_5f2a9432e89a41fe9a4015f5c3b1f1ee"
     }
    },
    "7801a800fdb4485e8525b26f56825b35": {
     "model_module": "@jupyter-widgets/controls",
     "model_module_version": "1.5.0",
     "model_name": "ProgressStyleModel",
     "state": {
      "_model_module": "@jupyter-widgets/controls",
      "_model_module_version": "1.5.0",
      "_model_name": "ProgressStyleModel",
      "_view_count": null,
      "_view_module": "@jupyter-widgets/base",
      "_view_module_version": "1.2.0",
      "_view_name": "StyleView",
      "bar_color": null,
      "description_width": ""
     }
    },
    "7e088a45eba14eaa9fa7511548aae0ec": {
     "model_module": "@jupyter-widgets/base",
     "model_module_version": "1.2.0",
     "model_name": "LayoutModel",
     "state": {
      "_model_module": "@jupyter-widgets/base",
      "_model_module_version": "1.2.0",
      "_model_name": "LayoutModel",
      "_view_count": null,
      "_view_module": "@jupyter-widgets/base",
      "_view_module_version": "1.2.0",
      "_view_name": "LayoutView",
      "align_content": null,
      "align_items": null,
      "align_self": null,
      "border": null,
      "bottom": null,
      "display": null,
      "flex": null,
      "flex_flow": null,
      "grid_area": null,
      "grid_auto_columns": null,
      "grid_auto_flow": null,
      "grid_auto_rows": null,
      "grid_column": null,
      "grid_gap": null,
      "grid_row": null,
      "grid_template_areas": null,
      "grid_template_columns": null,
      "grid_template_rows": null,
      "height": null,
      "justify_content": null,
      "justify_items": null,
      "left": null,
      "margin": null,
      "max_height": null,
      "max_width": null,
      "min_height": null,
      "min_width": null,
      "object_fit": null,
      "object_position": null,
      "order": null,
      "overflow": null,
      "overflow_x": null,
      "overflow_y": null,
      "padding": null,
      "right": null,
      "top": null,
      "visibility": null,
      "width": null
     }
    },
    "7ffd537c417643e189352274e4b8162e": {
     "model_module": "@jupyter-widgets/controls",
     "model_module_version": "1.5.0",
     "model_name": "HBoxModel",
     "state": {
      "_dom_classes": [],
      "_model_module": "@jupyter-widgets/controls",
      "_model_module_version": "1.5.0",
      "_model_name": "HBoxModel",
      "_view_count": null,
      "_view_module": "@jupyter-widgets/controls",
      "_view_module_version": "1.5.0",
      "_view_name": "HBoxView",
      "box_style": "",
      "children": [
       "IPY_MODEL_45dad7360ea54a709a722b14c0bb6362",
       "IPY_MODEL_b387d48ce9d942b0b261eafcb8e41f94",
       "IPY_MODEL_35dd63c5f0464aa9a28ccd861e87d2c3"
      ],
      "layout": "IPY_MODEL_f7d37136a8014b59b886f2044f978303"
     }
    },
    "8528733aa90a49a4b4c88a9bd27a4997": {
     "model_module": "@jupyter-widgets/controls",
     "model_module_version": "1.5.0",
     "model_name": "HTMLModel",
     "state": {
      "_dom_classes": [],
      "_model_module": "@jupyter-widgets/controls",
      "_model_module_version": "1.5.0",
      "_model_name": "HTMLModel",
      "_view_count": null,
      "_view_module": "@jupyter-widgets/controls",
      "_view_module_version": "1.5.0",
      "_view_name": "HTMLView",
      "description": "",
      "description_tooltip": null,
      "layout": "IPY_MODEL_451ddcd6a739466e8d2261965aba9c77",
      "placeholder": "​",
      "style": "IPY_MODEL_a128d2321d6440e4bda1ac836aa498b2",
      "value": " 255027/255027 [00:25&lt;00:00, 10596.40ex/s]"
     }
    },
    "8814b66f7915452cbc589e5adf82a377": {
     "model_module": "@jupyter-widgets/base",
     "model_module_version": "1.2.0",
     "model_name": "LayoutModel",
     "state": {
      "_model_module": "@jupyter-widgets/base",
      "_model_module_version": "1.2.0",
      "_model_name": "LayoutModel",
      "_view_count": null,
      "_view_module": "@jupyter-widgets/base",
      "_view_module_version": "1.2.0",
      "_view_name": "LayoutView",
      "align_content": null,
      "align_items": null,
      "align_self": null,
      "border": null,
      "bottom": null,
      "display": null,
      "flex": null,
      "flex_flow": null,
      "grid_area": null,
      "grid_auto_columns": null,
      "grid_auto_flow": null,
      "grid_auto_rows": null,
      "grid_column": null,
      "grid_gap": null,
      "grid_row": null,
      "grid_template_areas": null,
      "grid_template_columns": null,
      "grid_template_rows": null,
      "height": null,
      "justify_content": null,
      "justify_items": null,
      "left": null,
      "margin": null,
      "max_height": null,
      "max_width": null,
      "min_height": null,
      "min_width": null,
      "object_fit": null,
      "object_position": null,
      "order": null,
      "overflow": null,
      "overflow_x": null,
      "overflow_y": null,
      "padding": null,
      "right": null,
      "top": null,
      "visibility": null,
      "width": null
     }
    },
    "96dc56ad43bf4de281bb2c8bfad9897e": {
     "model_module": "@jupyter-widgets/controls",
     "model_module_version": "1.5.0",
     "model_name": "HTMLModel",
     "state": {
      "_dom_classes": [],
      "_model_module": "@jupyter-widgets/controls",
      "_model_module_version": "1.5.0",
      "_model_name": "HTMLModel",
      "_view_count": null,
      "_view_module": "@jupyter-widgets/controls",
      "_view_module_version": "1.5.0",
      "_view_name": "HTMLView",
      "description": "",
      "description_tooltip": null,
      "layout": "IPY_MODEL_5e89ee8d3b33439ca507b111517b98f5",
      "placeholder": "​",
      "style": "IPY_MODEL_aab7701f6ed1458ab7451f3eea21ab12",
      "value": "100%"
     }
    },
    "97480153196a46dd9c5334323682597d": {
     "model_module": "@jupyter-widgets/controls",
     "model_module_version": "1.5.0",
     "model_name": "DescriptionStyleModel",
     "state": {
      "_model_module": "@jupyter-widgets/controls",
      "_model_module_version": "1.5.0",
      "_model_name": "DescriptionStyleModel",
      "_view_count": null,
      "_view_module": "@jupyter-widgets/base",
      "_view_module_version": "1.2.0",
      "_view_name": "StyleView",
      "description_width": ""
     }
    },
    "a128d2321d6440e4bda1ac836aa498b2": {
     "model_module": "@jupyter-widgets/controls",
     "model_module_version": "1.5.0",
     "model_name": "DescriptionStyleModel",
     "state": {
      "_model_module": "@jupyter-widgets/controls",
      "_model_module_version": "1.5.0",
      "_model_name": "DescriptionStyleModel",
      "_view_count": null,
      "_view_module": "@jupyter-widgets/base",
      "_view_module_version": "1.2.0",
      "_view_name": "StyleView",
      "description_width": ""
     }
    },
    "a5be8df25b9a4a9ba04dfcdc6005d2ea": {
     "model_module": "@jupyter-widgets/controls",
     "model_module_version": "1.5.0",
     "model_name": "HTMLModel",
     "state": {
      "_dom_classes": [],
      "_model_module": "@jupyter-widgets/controls",
      "_model_module_version": "1.5.0",
      "_model_name": "HTMLModel",
      "_view_count": null,
      "_view_module": "@jupyter-widgets/controls",
      "_view_module_version": "1.5.0",
      "_view_name": "HTMLView",
      "description": "",
      "description_tooltip": null,
      "layout": "IPY_MODEL_8814b66f7915452cbc589e5adf82a377",
      "placeholder": "​",
      "style": "IPY_MODEL_b775ed9783bb4c4ca90a49d34a7b1216",
      "value": " 255027/255027 [00:33&lt;00:00, 7755.18ex/s]"
     }
    },
    "a85c16e145fb4fe390191ba8efeec936": {
     "model_module": "@jupyter-widgets/controls",
     "model_module_version": "1.5.0",
     "model_name": "HTMLModel",
     "state": {
      "_dom_classes": [],
      "_model_module": "@jupyter-widgets/controls",
      "_model_module_version": "1.5.0",
      "_model_name": "HTMLModel",
      "_view_count": null,
      "_view_module": "@jupyter-widgets/controls",
      "_view_module_version": "1.5.0",
      "_view_name": "HTMLView",
      "description": "",
      "description_tooltip": null,
      "layout": "IPY_MODEL_fa966d6c930e4eac941c0f5b3f36f64a",
      "placeholder": "​",
      "style": "IPY_MODEL_fc9958f7767847bcbb9c2f5faeb3028a",
      "value": " 256/256 [00:10&lt;00:00, 33.26ba/s]"
     }
    },
    "aab7701f6ed1458ab7451f3eea21ab12": {
     "model_module": "@jupyter-widgets/controls",
     "model_module_version": "1.5.0",
     "model_name": "DescriptionStyleModel",
     "state": {
      "_model_module": "@jupyter-widgets/controls",
      "_model_module_version": "1.5.0",
      "_model_name": "DescriptionStyleModel",
      "_view_count": null,
      "_view_module": "@jupyter-widgets/base",
      "_view_module_version": "1.2.0",
      "_view_name": "StyleView",
      "description_width": ""
     }
    },
    "abf836b6ee204a6b9797d0ed40680235": {
     "model_module": "@jupyter-widgets/base",
     "model_module_version": "1.2.0",
     "model_name": "LayoutModel",
     "state": {
      "_model_module": "@jupyter-widgets/base",
      "_model_module_version": "1.2.0",
      "_model_name": "LayoutModel",
      "_view_count": null,
      "_view_module": "@jupyter-widgets/base",
      "_view_module_version": "1.2.0",
      "_view_name": "LayoutView",
      "align_content": null,
      "align_items": null,
      "align_self": null,
      "border": null,
      "bottom": null,
      "display": null,
      "flex": null,
      "flex_flow": null,
      "grid_area": null,
      "grid_auto_columns": null,
      "grid_auto_flow": null,
      "grid_auto_rows": null,
      "grid_column": null,
      "grid_gap": null,
      "grid_row": null,
      "grid_template_areas": null,
      "grid_template_columns": null,
      "grid_template_rows": null,
      "height": null,
      "justify_content": null,
      "justify_items": null,
      "left": null,
      "margin": null,
      "max_height": null,
      "max_width": null,
      "min_height": null,
      "min_width": null,
      "object_fit": null,
      "object_position": null,
      "order": null,
      "overflow": null,
      "overflow_x": null,
      "overflow_y": null,
      "padding": null,
      "right": null,
      "top": null,
      "visibility": null,
      "width": null
     }
    },
    "b387d48ce9d942b0b261eafcb8e41f94": {
     "model_module": "@jupyter-widgets/controls",
     "model_module_version": "1.5.0",
     "model_name": "FloatProgressModel",
     "state": {
      "_dom_classes": [],
      "_model_module": "@jupyter-widgets/controls",
      "_model_module_version": "1.5.0",
      "_model_name": "FloatProgressModel",
      "_view_count": null,
      "_view_module": "@jupyter-widgets/controls",
      "_view_module_version": "1.5.0",
      "_view_name": "ProgressView",
      "bar_style": "success",
      "description": "",
      "description_tooltip": null,
      "layout": "IPY_MODEL_2544987f30c642ed9c2cd6d9d2b1298f",
      "max": 99,
      "min": 0,
      "orientation": "horizontal",
      "style": "IPY_MODEL_1e99f36a1eb24fe09786c96d8d83b05d",
      "value": 99
     }
    },
    "b775ed9783bb4c4ca90a49d34a7b1216": {
     "model_module": "@jupyter-widgets/controls",
     "model_module_version": "1.5.0",
     "model_name": "DescriptionStyleModel",
     "state": {
      "_model_module": "@jupyter-widgets/controls",
      "_model_module_version": "1.5.0",
      "_model_name": "DescriptionStyleModel",
      "_view_count": null,
      "_view_module": "@jupyter-widgets/base",
      "_view_module_version": "1.2.0",
      "_view_name": "StyleView",
      "description_width": ""
     }
    },
    "b8292695793f4464b70f6727bcc209c8": {
     "model_module": "@jupyter-widgets/controls",
     "model_module_version": "1.5.0",
     "model_name": "HBoxModel",
     "state": {
      "_dom_classes": [],
      "_model_module": "@jupyter-widgets/controls",
      "_model_module_version": "1.5.0",
      "_model_name": "HBoxModel",
      "_view_count": null,
      "_view_module": "@jupyter-widgets/controls",
      "_view_module_version": "1.5.0",
      "_view_name": "HBoxView",
      "box_style": "",
      "children": [
       "IPY_MODEL_96dc56ad43bf4de281bb2c8bfad9897e",
       "IPY_MODEL_c2790ee2b2ec447d926ae000c93b1dbc",
       "IPY_MODEL_dc67e17b2cae4c2688c897400d132348"
      ],
      "layout": "IPY_MODEL_dc21cad20c614b6482cab42d841e3b88"
     }
    },
    "ba595e78e9dc412a81741393f823b997": {
     "model_module": "@jupyter-widgets/controls",
     "model_module_version": "1.5.0",
     "model_name": "FloatProgressModel",
     "state": {
      "_dom_classes": [],
      "_model_module": "@jupyter-widgets/controls",
      "_model_module_version": "1.5.0",
      "_model_name": "FloatProgressModel",
      "_view_count": null,
      "_view_module": "@jupyter-widgets/controls",
      "_view_module_version": "1.5.0",
      "_view_name": "ProgressView",
      "bar_style": "success",
      "description": "",
      "description_tooltip": null,
      "layout": "IPY_MODEL_3ad342cb0ce6469baea6dd6d1878a408",
      "max": 255027,
      "min": 0,
      "orientation": "horizontal",
      "style": "IPY_MODEL_ddbc77474f284c548a388730ee97d3e4",
      "value": 255027
     }
    },
    "c2790ee2b2ec447d926ae000c93b1dbc": {
     "model_module": "@jupyter-widgets/controls",
     "model_module_version": "1.5.0",
     "model_name": "FloatProgressModel",
     "state": {
      "_dom_classes": [],
      "_model_module": "@jupyter-widgets/controls",
      "_model_module_version": "1.5.0",
      "_model_name": "FloatProgressModel",
      "_view_count": null,
      "_view_module": "@jupyter-widgets/controls",
      "_view_module_version": "1.5.0",
      "_view_name": "ProgressView",
      "bar_style": "success",
      "description": "",
      "description_tooltip": null,
      "layout": "IPY_MODEL_43a2ac6e6ec745cab3994d0a7290e953",
      "max": 414,
      "min": 0,
      "orientation": "horizontal",
      "style": "IPY_MODEL_45da6a6469f249fabba0936a6b061222",
      "value": 414
     }
    },
    "d03580e9c4564a068f3cb3b6bc66f0dd": {
     "model_module": "@jupyter-widgets/controls",
     "model_module_version": "1.5.0",
     "model_name": "HBoxModel",
     "state": {
      "_dom_classes": [],
      "_model_module": "@jupyter-widgets/controls",
      "_model_module_version": "1.5.0",
      "_model_name": "HBoxModel",
      "_view_count": null,
      "_view_module": "@jupyter-widgets/controls",
      "_view_module_version": "1.5.0",
      "_view_name": "HBoxView",
      "box_style": "",
      "children": [
       "IPY_MODEL_1c126b73ba4a4d2eaf8a463cc55650d4",
       "IPY_MODEL_4ae36c12bc41460cbf750050fdc5d47b",
       "IPY_MODEL_a85c16e145fb4fe390191ba8efeec936"
      ],
      "layout": "IPY_MODEL_4814c4e61a5f49b3aee04a49429d7dc7"
     }
    },
    "dc21cad20c614b6482cab42d841e3b88": {
     "model_module": "@jupyter-widgets/base",
     "model_module_version": "1.2.0",
     "model_name": "LayoutModel",
     "state": {
      "_model_module": "@jupyter-widgets/base",
      "_model_module_version": "1.2.0",
      "_model_name": "LayoutModel",
      "_view_count": null,
      "_view_module": "@jupyter-widgets/base",
      "_view_module_version": "1.2.0",
      "_view_name": "LayoutView",
      "align_content": null,
      "align_items": null,
      "align_self": null,
      "border": null,
      "bottom": null,
      "display": null,
      "flex": null,
      "flex_flow": null,
      "grid_area": null,
      "grid_auto_columns": null,
      "grid_auto_flow": null,
      "grid_auto_rows": null,
      "grid_column": null,
      "grid_gap": null,
      "grid_row": null,
      "grid_template_areas": null,
      "grid_template_columns": null,
      "grid_template_rows": null,
      "height": null,
      "justify_content": null,
      "justify_items": null,
      "left": null,
      "margin": null,
      "max_height": null,
      "max_width": null,
      "min_height": null,
      "min_width": null,
      "object_fit": null,
      "object_position": null,
      "order": null,
      "overflow": null,
      "overflow_x": null,
      "overflow_y": null,
      "padding": null,
      "right": null,
      "top": null,
      "visibility": null,
      "width": null
     }
    },
    "dc67e17b2cae4c2688c897400d132348": {
     "model_module": "@jupyter-widgets/controls",
     "model_module_version": "1.5.0",
     "model_name": "HTMLModel",
     "state": {
      "_dom_classes": [],
      "_model_module": "@jupyter-widgets/controls",
      "_model_module_version": "1.5.0",
      "_model_name": "HTMLModel",
      "_view_count": null,
      "_view_module": "@jupyter-widgets/controls",
      "_view_module_version": "1.5.0",
      "_view_name": "HTMLView",
      "description": "",
      "description_tooltip": null,
      "layout": "IPY_MODEL_6e4985482afa420487993a738a891aa9",
      "placeholder": "​",
      "style": "IPY_MODEL_6944d7e30eb64a87a24d244160830dcd",
      "value": " 414/414 [00:03&lt;00:00, 177.22ba/s]"
     }
    },
    "ddbc77474f284c548a388730ee97d3e4": {
     "model_module": "@jupyter-widgets/controls",
     "model_module_version": "1.5.0",
     "model_name": "ProgressStyleModel",
     "state": {
      "_model_module": "@jupyter-widgets/controls",
      "_model_module_version": "1.5.0",
      "_model_name": "ProgressStyleModel",
      "_view_count": null,
      "_view_module": "@jupyter-widgets/base",
      "_view_module_version": "1.2.0",
      "_view_name": "StyleView",
      "bar_color": null,
      "description_width": ""
     }
    },
    "f1623fc7a7bf4279a790295fc150260a": {
     "model_module": "@jupyter-widgets/controls",
     "model_module_version": "1.5.0",
     "model_name": "HTMLModel",
     "state": {
      "_dom_classes": [],
      "_model_module": "@jupyter-widgets/controls",
      "_model_module_version": "1.5.0",
      "_model_name": "HTMLModel",
      "_view_count": null,
      "_view_module": "@jupyter-widgets/controls",
      "_view_module_version": "1.5.0",
      "_view_name": "HTMLView",
      "description": "",
      "description_tooltip": null,
      "layout": "IPY_MODEL_3654b8b5301b40a49470992ff3cbea5c",
      "placeholder": "​",
      "style": "IPY_MODEL_01e80c82825148228574f653535687ef",
      "value": "100%"
     }
    },
    "f7d37136a8014b59b886f2044f978303": {
     "model_module": "@jupyter-widgets/base",
     "model_module_version": "1.2.0",
     "model_name": "LayoutModel",
     "state": {
      "_model_module": "@jupyter-widgets/base",
      "_model_module_version": "1.2.0",
      "_model_name": "LayoutModel",
      "_view_count": null,
      "_view_module": "@jupyter-widgets/base",
      "_view_module_version": "1.2.0",
      "_view_name": "LayoutView",
      "align_content": null,
      "align_items": null,
      "align_self": null,
      "border": null,
      "bottom": null,
      "display": null,
      "flex": null,
      "flex_flow": null,
      "grid_area": null,
      "grid_auto_columns": null,
      "grid_auto_flow": null,
      "grid_auto_rows": null,
      "grid_column": null,
      "grid_gap": null,
      "grid_row": null,
      "grid_template_areas": null,
      "grid_template_columns": null,
      "grid_template_rows": null,
      "height": null,
      "justify_content": null,
      "justify_items": null,
      "left": null,
      "margin": null,
      "max_height": null,
      "max_width": null,
      "min_height": null,
      "min_width": null,
      "object_fit": null,
      "object_position": null,
      "order": null,
      "overflow": null,
      "overflow_x": null,
      "overflow_y": null,
      "padding": null,
      "right": null,
      "top": null,
      "visibility": null,
      "width": null
     }
    },
    "f887d6c7bc8e4086b4b9f6b33ecfc785": {
     "model_module": "@jupyter-widgets/controls",
     "model_module_version": "1.5.0",
     "model_name": "HTMLModel",
     "state": {
      "_dom_classes": [],
      "_model_module": "@jupyter-widgets/controls",
      "_model_module_version": "1.5.0",
      "_model_name": "HTMLModel",
      "_view_count": null,
      "_view_module": "@jupyter-widgets/controls",
      "_view_module_version": "1.5.0",
      "_view_name": "HTMLView",
      "description": "",
      "description_tooltip": null,
      "layout": "IPY_MODEL_4f94c085ed5e41f08416ed8115189442",
      "placeholder": "​",
      "style": "IPY_MODEL_5edf034673124418896248bf6c273abb",
      "value": "100%"
     }
    },
    "fa966d6c930e4eac941c0f5b3f36f64a": {
     "model_module": "@jupyter-widgets/base",
     "model_module_version": "1.2.0",
     "model_name": "LayoutModel",
     "state": {
      "_model_module": "@jupyter-widgets/base",
      "_model_module_version": "1.2.0",
      "_model_name": "LayoutModel",
      "_view_count": null,
      "_view_module": "@jupyter-widgets/base",
      "_view_module_version": "1.2.0",
      "_view_name": "LayoutView",
      "align_content": null,
      "align_items": null,
      "align_self": null,
      "border": null,
      "bottom": null,
      "display": null,
      "flex": null,
      "flex_flow": null,
      "grid_area": null,
      "grid_auto_columns": null,
      "grid_auto_flow": null,
      "grid_auto_rows": null,
      "grid_column": null,
      "grid_gap": null,
      "grid_row": null,
      "grid_template_areas": null,
      "grid_template_columns": null,
      "grid_template_rows": null,
      "height": null,
      "justify_content": null,
      "justify_items": null,
      "left": null,
      "margin": null,
      "max_height": null,
      "max_width": null,
      "min_height": null,
      "min_width": null,
      "object_fit": null,
      "object_position": null,
      "order": null,
      "overflow": null,
      "overflow_x": null,
      "overflow_y": null,
      "padding": null,
      "right": null,
      "top": null,
      "visibility": null,
      "width": null
     }
    },
    "fc9958f7767847bcbb9c2f5faeb3028a": {
     "model_module": "@jupyter-widgets/controls",
     "model_module_version": "1.5.0",
     "model_name": "DescriptionStyleModel",
     "state": {
      "_model_module": "@jupyter-widgets/controls",
      "_model_module_version": "1.5.0",
      "_model_name": "DescriptionStyleModel",
      "_view_count": null,
      "_view_module": "@jupyter-widgets/base",
      "_view_module_version": "1.2.0",
      "_view_name": "StyleView",
      "description_width": ""
     }
    }
   }
  }
 },
 "nbformat": 4,
 "nbformat_minor": 1
}
