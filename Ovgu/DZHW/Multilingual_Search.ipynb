{
  "cells": [
    {
      "cell_type": "code",
      "execution_count": null,
      "metadata": {
        "colab": {
          "base_uri": "https://localhost:8080/"
        },
        "id": "z9GTTF10IpX6",
        "outputId": "27f2d027-c241-407f-d95c-2e0b66a57273"
      },
      "outputs": [
        {
          "name": "stdout",
          "output_type": "stream",
          "text": [
            "\u001b[K     |████████████████████████████████| 88 kB 2.2 MB/s \n",
            "\u001b[K     |████████████████████████████████| 647 kB 9.4 MB/s \n",
            "\u001b[K     |████████████████████████████████| 451 kB 52.5 MB/s \n",
            "\u001b[K     |████████████████████████████████| 1.1 MB 26.2 MB/s \n",
            "\u001b[K     |████████████████████████████████| 212 kB 19.4 MB/s \n",
            "\u001b[K     |████████████████████████████████| 132 kB 21.4 MB/s \n",
            "\u001b[K     |████████████████████████████████| 182 kB 52.2 MB/s \n",
            "\u001b[K     |████████████████████████████████| 127 kB 51.6 MB/s \n",
            "\u001b[?25h  Building wheel for cohere (setup.py) ... \u001b[?25l\u001b[?25hdone\n",
            "  Building wheel for umap-learn (setup.py) ... \u001b[?25l\u001b[?25hdone\n",
            "  Building wheel for pynndescent (setup.py) ... \u001b[?25l\u001b[?25hdone\n",
            "  Building wheel for annoy (setup.py) ... \u001b[?25l\u001b[?25hdone\n"
          ]
        }
      ],
      "source": [
        "#@title Setup\n",
        "!pip install -q cohere umap-learn altair annoy datasets tqdm"
      ]
    },
    {
      "cell_type": "code",
      "execution_count": null,
      "metadata": {
        "id": "KV1-xJbZIqbU"
      },
      "outputs": [],
      "source": [
        "#@title Imports\n",
        "\n",
        "import os\n",
        "import json\n",
        "from time import time\n",
        "\n",
        "import umap\n",
        "import torch\n",
        "import cohere\n",
        "import warnings\n",
        "import numpy as np\n",
        "import pandas as pd\n",
        "import altair as alt\n",
        "import matplotlib.pyplot as plt\n",
        "import torch.nn.functional as F\n",
        "\n",
        "from typing import List, Union, Dict, Any\n",
        "\n",
        "\n",
        "warnings.filterwarnings('ignore')\n",
        "pd.set_option('display.max_colwidth', None)"
      ]
    },
    {
      "cell_type": "code",
      "execution_count": null,
      "metadata": {
        "id": "q4JFkuMqIrnM"
      },
      "outputs": [],
      "source": [
        "#@title Insert your Cohere's API Key\n",
        "\n",
        "#@markdown If you don't have an API Key yet, please generate one from here https://os.cohere.ai/\n",
        "\n",
        "COHERE_API_KEY = None  #@param {type:\"raw\"}\n",
        "co = cohere.Client(COHERE_API_KEY)"
      ]
    },
    {
      "cell_type": "code",
      "execution_count": null,
      "metadata": {
        "id": "aSa1NlzFIs8E"
      },
      "outputs": [],
      "source": [
        "#@title Get Embeddings helper function\n",
        "\n",
        "model_name = 'multilingual-22-12' #@param [\"multilingual-22-12\", \"small\", \"large\"]\n",
        "def get_embeddings(co: cohere.Client, model_name: str, texts: List[str], truncate: str = \"RIGHT\"):\n",
        "    output = co.embed(model=model_name, texts=texts, truncate=truncate)\n",
        "    return output.embeddings"
      ]
    },
    {
      "cell_type": "code",
      "execution_count": null,
      "metadata": {
        "id": "oR6Vg2mdI6MI"
      },
      "outputs": [],
      "source": [
        "#@title Get UMAP helper function\n",
        "# UMAP is a general purpose manifold learning and dimension reduction algorithm.\n",
        "n_neighbors = 15 #@param {type:\"slider\", min:1, max:100, step:1}\n",
        "def get_umap(embeddings: Union[List, np.array], n_neighbors: int = 15):\n",
        "    reducer = umap.UMAP(n_neighbors=n_neighbors)\n",
        "    umap_embeddings = reducer.fit_transform(embeddings)\n",
        "    return umap_embeddings"
      ]
    },
    {
      "cell_type": "code",
      "execution_count": null,
      "metadata": {
        "id": "sMLfN-jfK3dZ"
      },
      "outputs": [],
      "source": [
        "#@title Generating embeddings space chart function\n",
        "\n",
        "def generate_chart(df: pd.DataFrame,\n",
        "                   *,\n",
        "                   xcol: str,\n",
        "                   ycol: str,\n",
        "                   lbl: str = 'on',\n",
        "                   color: str = 'basic',\n",
        "                   title: str = '',\n",
        "                   tooltip: List[str] = ['']) -> alt.Chart:\n",
        "    alt.data_transformers.enable('default', max_rows=None)\n",
        "    chart = alt.Chart(df).mark_circle(size=250).encode(\n",
        "        x=alt.X(xcol, scale=alt.Scale(zero=False), axis=alt.Axis(labels=False, ticks=False, domain=False)),\n",
        "        y=alt.Y(ycol, scale=alt.Scale(zero=False), axis=alt.Axis(labels=False, ticks=False, domain=False)),\n",
        "        color=alt.value('#333293') if color == 'basic' else color,\n",
        "        tooltip=tooltip,\n",
        "        text='texts',\n",
        "    )\n",
        "    text = chart.mark_text(\n",
        "        align='left',\n",
        "        baseline='middle',\n",
        "        dx=7\n",
        "    ).encode(\n",
        "        text='texts'\n",
        "    )\n",
        "\n",
        "    result = (chart + text).configure(background=\"#FDF7F0\").properties(width=1200, height=800,\n",
        "                                                              title=title).configure_legend(orient='bottom',\n",
        "                                                                                            titleFontSize=18,\n",
        "                                                                                            labelFontSize=18)\n",
        "    return result.interactive()"
      ]
    },
    {
      "cell_type": "code",
      "execution_count": null,
      "metadata": {
        "colab": {
          "base_uri": "https://localhost:8080/",
          "height": 676
        },
        "id": "7YBcq0j-JAwr",
        "outputId": "b10c6a87-7aed-45a7-9fde-98b698c8bf00"
      },
      "outputs": [
        {
          "data": {
            "text/html": [
              "\n",
              "  <div id=\"df-49e897a0-d612-4bbc-9505-c39c9c856866\">\n",
              "    <div class=\"colab-df-container\">\n",
              "      <div>\n",
              "<style scoped>\n",
              "    .dataframe tbody tr th:only-of-type {\n",
              "        vertical-align: middle;\n",
              "    }\n",
              "\n",
              "    .dataframe tbody tr th {\n",
              "        vertical-align: top;\n",
              "    }\n",
              "\n",
              "    .dataframe thead th {\n",
              "        text-align: right;\n",
              "    }\n",
              "</style>\n",
              "<table border=\"1\" class=\"dataframe\">\n",
              "  <thead>\n",
              "    <tr style=\"text-align: right;\">\n",
              "      <th></th>\n",
              "      <th>texts</th>\n",
              "      <th>Source</th>\n",
              "    </tr>\n",
              "  </thead>\n",
              "  <tbody>\n",
              "    <tr>\n",
              "      <th>0</th>\n",
              "      <td>Hello from Cohere!</td>\n",
              "      <td>Existing</td>\n",
              "    </tr>\n",
              "    <tr>\n",
              "      <th>1</th>\n",
              "      <td>مرحبًا من كوهير!</td>\n",
              "      <td>Existing</td>\n",
              "    </tr>\n",
              "    <tr>\n",
              "      <th>2</th>\n",
              "      <td>Hallo von Cohere!</td>\n",
              "      <td>Existing</td>\n",
              "    </tr>\n",
              "    <tr>\n",
              "      <th>3</th>\n",
              "      <td>Bonjour de Cohere!</td>\n",
              "      <td>Existing</td>\n",
              "    </tr>\n",
              "    <tr>\n",
              "      <th>4</th>\n",
              "      <td>¡Hola desde Cohere!</td>\n",
              "      <td>Existing</td>\n",
              "    </tr>\n",
              "    <tr>\n",
              "      <th>5</th>\n",
              "      <td>Olá do Cohere!</td>\n",
              "      <td>Existing</td>\n",
              "    </tr>\n",
              "    <tr>\n",
              "      <th>6</th>\n",
              "      <td>Ciao da Cohere!</td>\n",
              "      <td>Existing</td>\n",
              "    </tr>\n",
              "    <tr>\n",
              "      <th>7</th>\n",
              "      <td>您好，来自 Cohere！</td>\n",
              "      <td>Existing</td>\n",
              "    </tr>\n",
              "    <tr>\n",
              "      <th>8</th>\n",
              "      <td>안녕하세요 코히어입니다!</td>\n",
              "      <td>Existing</td>\n",
              "    </tr>\n",
              "    <tr>\n",
              "      <th>9</th>\n",
              "      <td>कोहेरे से नमस्ते!</td>\n",
              "      <td>Existing</td>\n",
              "    </tr>\n",
              "    <tr>\n",
              "      <th>10</th>\n",
              "      <td>Cohere provides the best multilingual models in the world</td>\n",
              "      <td>Existing</td>\n",
              "    </tr>\n",
              "    <tr>\n",
              "      <th>11</th>\n",
              "      <td>كوهير توفر أفضل النماذج متعددة اللغات في العالم</td>\n",
              "      <td>Existing</td>\n",
              "    </tr>\n",
              "    <tr>\n",
              "      <th>12</th>\n",
              "      <td>Cohere bietet die besten mehrsprachigen Modelle der Welt</td>\n",
              "      <td>Existing</td>\n",
              "    </tr>\n",
              "    <tr>\n",
              "      <th>13</th>\n",
              "      <td>Cohere fournit les meilleurs modèles multilingues au monde</td>\n",
              "      <td>Existing</td>\n",
              "    </tr>\n",
              "    <tr>\n",
              "      <th>14</th>\n",
              "      <td>Cohere fornisce i migliori modelli multilingue del mondo</td>\n",
              "      <td>Existing</td>\n",
              "    </tr>\n",
              "    <tr>\n",
              "      <th>15</th>\n",
              "      <td>Cohere ofrece los mejores modelos multilingües del mundo</td>\n",
              "      <td>Existing</td>\n",
              "    </tr>\n",
              "    <tr>\n",
              "      <th>16</th>\n",
              "      <td>Cohere fornece os melhores modelos multilíngues do mundo</td>\n",
              "      <td>Existing</td>\n",
              "    </tr>\n",
              "    <tr>\n",
              "      <th>17</th>\n",
              "      <td>Cohere는 세계 최고의 다국어 모델을 제공합니다.</td>\n",
              "      <td>Existing</td>\n",
              "    </tr>\n",
              "    <tr>\n",
              "      <th>18</th>\n",
              "      <td>Cohere 提供世界上最好的多语言模型</td>\n",
              "      <td>Existing</td>\n",
              "    </tr>\n",
              "    <tr>\n",
              "      <th>19</th>\n",
              "      <td>Cohere दुनिया में सर्वश्रेष्ठ बहुभाषी मॉडल प्रदान करता है</td>\n",
              "      <td>Existing</td>\n",
              "    </tr>\n",
              "  </tbody>\n",
              "</table>\n",
              "</div>\n",
              "      <button class=\"colab-df-convert\" onclick=\"convertToInteractive('df-49e897a0-d612-4bbc-9505-c39c9c856866')\"\n",
              "              title=\"Convert this dataframe to an interactive table.\"\n",
              "              style=\"display:none;\">\n",
              "        \n",
              "  <svg xmlns=\"http://www.w3.org/2000/svg\" height=\"24px\"viewBox=\"0 0 24 24\"\n",
              "       width=\"24px\">\n",
              "    <path d=\"M0 0h24v24H0V0z\" fill=\"none\"/>\n",
              "    <path d=\"M18.56 5.44l.94 2.06.94-2.06 2.06-.94-2.06-.94-.94-2.06-.94 2.06-2.06.94zm-11 1L8.5 8.5l.94-2.06 2.06-.94-2.06-.94L8.5 2.5l-.94 2.06-2.06.94zm10 10l.94 2.06.94-2.06 2.06-.94-2.06-.94-.94-2.06-.94 2.06-2.06.94z\"/><path d=\"M17.41 7.96l-1.37-1.37c-.4-.4-.92-.59-1.43-.59-.52 0-1.04.2-1.43.59L10.3 9.45l-7.72 7.72c-.78.78-.78 2.05 0 2.83L4 21.41c.39.39.9.59 1.41.59.51 0 1.02-.2 1.41-.59l7.78-7.78 2.81-2.81c.8-.78.8-2.07 0-2.86zM5.41 20L4 18.59l7.72-7.72 1.47 1.35L5.41 20z\"/>\n",
              "  </svg>\n",
              "      </button>\n",
              "      \n",
              "  <style>\n",
              "    .colab-df-container {\n",
              "      display:flex;\n",
              "      flex-wrap:wrap;\n",
              "      gap: 12px;\n",
              "    }\n",
              "\n",
              "    .colab-df-convert {\n",
              "      background-color: #E8F0FE;\n",
              "      border: none;\n",
              "      border-radius: 50%;\n",
              "      cursor: pointer;\n",
              "      display: none;\n",
              "      fill: #1967D2;\n",
              "      height: 32px;\n",
              "      padding: 0 0 0 0;\n",
              "      width: 32px;\n",
              "    }\n",
              "\n",
              "    .colab-df-convert:hover {\n",
              "      background-color: #E2EBFA;\n",
              "      box-shadow: 0px 1px 2px rgba(60, 64, 67, 0.3), 0px 1px 3px 1px rgba(60, 64, 67, 0.15);\n",
              "      fill: #174EA6;\n",
              "    }\n",
              "\n",
              "    [theme=dark] .colab-df-convert {\n",
              "      background-color: #3B4455;\n",
              "      fill: #D2E3FC;\n",
              "    }\n",
              "\n",
              "    [theme=dark] .colab-df-convert:hover {\n",
              "      background-color: #434B5C;\n",
              "      box-shadow: 0px 1px 3px 1px rgba(0, 0, 0, 0.15);\n",
              "      filter: drop-shadow(0px 1px 2px rgba(0, 0, 0, 0.3));\n",
              "      fill: #FFFFFF;\n",
              "    }\n",
              "  </style>\n",
              "\n",
              "      <script>\n",
              "        const buttonEl =\n",
              "          document.querySelector('#df-49e897a0-d612-4bbc-9505-c39c9c856866 button.colab-df-convert');\n",
              "        buttonEl.style.display =\n",
              "          google.colab.kernel.accessAllowed ? 'block' : 'none';\n",
              "\n",
              "        async function convertToInteractive(key) {\n",
              "          const element = document.querySelector('#df-49e897a0-d612-4bbc-9505-c39c9c856866');\n",
              "          const dataTable =\n",
              "            await google.colab.kernel.invokeFunction('convertToInteractive',\n",
              "                                                     [key], {});\n",
              "          if (!dataTable) return;\n",
              "\n",
              "          const docLinkHtml = 'Like what you see? Visit the ' +\n",
              "            '<a target=\"_blank\" href=https://colab.research.google.com/notebooks/data_table.ipynb>data table notebook</a>'\n",
              "            + ' to learn more about interactive tables.';\n",
              "          element.innerHTML = '';\n",
              "          dataTable['output_type'] = 'display_data';\n",
              "          await google.colab.output.renderOutput(dataTable, element);\n",
              "          const docLink = document.createElement('div');\n",
              "          docLink.innerHTML = docLinkHtml;\n",
              "          element.appendChild(docLink);\n",
              "        }\n",
              "      </script>\n",
              "    </div>\n",
              "  </div>\n",
              "  "
            ],
            "text/plain": [
              "                                                         texts    Source\n",
              "0                                           Hello from Cohere!  Existing\n",
              "1                                             مرحبًا من كوهير!  Existing\n",
              "2                                            Hallo von Cohere!  Existing\n",
              "3                                           Bonjour de Cohere!  Existing\n",
              "4                                          ¡Hola desde Cohere!  Existing\n",
              "5                                               Olá do Cohere!  Existing\n",
              "6                                              Ciao da Cohere!  Existing\n",
              "7                                                您好，来自 Cohere！  Existing\n",
              "8                                                안녕하세요 코히어입니다!  Existing\n",
              "9                                            कोहेरे से नमस्ते!  Existing\n",
              "10   Cohere provides the best multilingual models in the world  Existing\n",
              "11             كوهير توفر أفضل النماذج متعددة اللغات في العالم  Existing\n",
              "12    Cohere bietet die besten mehrsprachigen Modelle der Welt  Existing\n",
              "13  Cohere fournit les meilleurs modèles multilingues au monde  Existing\n",
              "14    Cohere fornisce i migliori modelli multilingue del mondo  Existing\n",
              "15    Cohere ofrece los mejores modelos multilingües del mundo  Existing\n",
              "16    Cohere fornece os melhores modelos multilíngues do mundo  Existing\n",
              "17                               Cohere는 세계 최고의 다국어 모델을 제공합니다.  Existing\n",
              "18                                        Cohere 提供世界上最好的多语言模型  Existing\n",
              "19   Cohere दुनिया में सर्वश्रेष्ठ बहुभाषी मॉडल प्रदान करता है  Existing"
            ]
          },
          "execution_count": 8,
          "metadata": {},
          "output_type": "execute_result"
        }
      ],
      "source": [
        "#@title Your dataset\n",
        "\n",
        "df = pd.DataFrame({\n",
        "    \"texts\": [\n",
        "        'Hello from Cohere!', 'مرحبًا من كوهير!', 'Hallo von Cohere!', 'Bonjour de Cohere!', '¡Hola desde Cohere!',\n",
        "        'Olá do Cohere!', 'Ciao da Cohere!', '您好，来自 Cohere！', '안녕하세요 코히어입니다!', 'कोहेरे से नमस्ते!',\n",
        "        'Cohere provides the best multilingual models in the world', 'كوهير توفر أفضل النماذج متعددة اللغات في العالم',\n",
        "        'Cohere bietet die besten mehrsprachigen Modelle der Welt',\n",
        "        'Cohere fournit les meilleurs modèles multilingues au monde',\n",
        "        'Cohere fornisce i migliori modelli multilingue del mondo',\n",
        "        'Cohere ofrece los mejores modelos multilingües del mundo',\n",
        "        'Cohere fornece os melhores modelos multilíngues do mundo', 'Cohere는 세계 최고의 다국어 모델을 제공합니다.',\n",
        "        'Cohere 提供世界上最好的多语言模型', 'Cohere दुनिया में सर्वश्रेष्ठ बहुभाषी मॉडल प्रदान करता है'\n",
        "    ]\n",
        "})\n",
        "df['Source'] = 'Existing'\n",
        "df"
      ]
    },
    {
      "cell_type": "code",
      "execution_count": null,
      "metadata": {
        "id": "wz967qLNJDeP"
      },
      "outputs": [],
      "source": [
        "embeddings = get_embeddings(co=co, model_name=model_name, texts=df.texts.tolist())"
      ]
    },
    {
      "cell_type": "code",
      "execution_count": null,
      "metadata": {
        "id": "BqwrLf3eSGP6"
      },
      "outputs": [],
      "source": [
        "embeddings_pca = get_umap(embeddings=embeddings)\n",
        "df['x'] = embeddings_pca[:, 0]\n",
        "df['y'] = embeddings_pca[:, 1]"
      ]
    },
    {
      "cell_type": "code",
      "execution_count": null,
      "metadata": {
        "colab": {
          "base_uri": "https://localhost:8080/",
          "height": 922
        },
        "id": "rrNPrhAQK1as",
        "outputId": "20a84c6c-2ba1-474e-a4a8-3f687bd87ec4"
      },
      "outputs": [
        {
          "data": {
            "text/html": [
              "\n",
              "<div id=\"altair-viz-1f83458074994a669f75d2348802af09\"></div>\n",
              "<script type=\"text/javascript\">\n",
              "  var VEGA_DEBUG = (typeof VEGA_DEBUG == \"undefined\") ? {} : VEGA_DEBUG;\n",
              "  (function(spec, embedOpt){\n",
              "    let outputDiv = document.currentScript.previousElementSibling;\n",
              "    if (outputDiv.id !== \"altair-viz-1f83458074994a669f75d2348802af09\") {\n",
              "      outputDiv = document.getElementById(\"altair-viz-1f83458074994a669f75d2348802af09\");\n",
              "    }\n",
              "    const paths = {\n",
              "      \"vega\": \"https://cdn.jsdelivr.net/npm//vega@5?noext\",\n",
              "      \"vega-lib\": \"https://cdn.jsdelivr.net/npm//vega-lib?noext\",\n",
              "      \"vega-lite\": \"https://cdn.jsdelivr.net/npm//vega-lite@4.17.0?noext\",\n",
              "      \"vega-embed\": \"https://cdn.jsdelivr.net/npm//vega-embed@6?noext\",\n",
              "    };\n",
              "\n",
              "    function maybeLoadScript(lib, version) {\n",
              "      var key = `${lib.replace(\"-\", \"\")}_version`;\n",
              "      return (VEGA_DEBUG[key] == version) ?\n",
              "        Promise.resolve(paths[lib]) :\n",
              "        new Promise(function(resolve, reject) {\n",
              "          var s = document.createElement('script');\n",
              "          document.getElementsByTagName(\"head\")[0].appendChild(s);\n",
              "          s.async = true;\n",
              "          s.onload = () => {\n",
              "            VEGA_DEBUG[key] = version;\n",
              "            return resolve(paths[lib]);\n",
              "          };\n",
              "          s.onerror = () => reject(`Error loading script: ${paths[lib]}`);\n",
              "          s.src = paths[lib];\n",
              "        });\n",
              "    }\n",
              "\n",
              "    function showError(err) {\n",
              "      outputDiv.innerHTML = `<div class=\"error\" style=\"color:red;\">${err}</div>`;\n",
              "      throw err;\n",
              "    }\n",
              "\n",
              "    function displayChart(vegaEmbed) {\n",
              "      vegaEmbed(outputDiv, spec, embedOpt)\n",
              "        .catch(err => showError(`Javascript Error: ${err.message}<br>This usually means there's a typo in your chart specification. See the javascript console for the full traceback.`));\n",
              "    }\n",
              "\n",
              "    if(typeof define === \"function\" && define.amd) {\n",
              "      requirejs.config({paths});\n",
              "      require([\"vega-embed\"], displayChart, err => showError(`Error loading script: ${err.message}`));\n",
              "    } else {\n",
              "      maybeLoadScript(\"vega\", \"5\")\n",
              "        .then(() => maybeLoadScript(\"vega-lite\", \"4.17.0\"))\n",
              "        .then(() => maybeLoadScript(\"vega-embed\", \"6\"))\n",
              "        .catch(showError)\n",
              "        .then(() => displayChart(vegaEmbed));\n",
              "    }\n",
              "  })({\"config\": {\"view\": {\"continuousWidth\": 400, \"continuousHeight\": 300}, \"background\": \"#FDF7F0\", \"legend\": {\"labelFontSize\": 18, \"orient\": \"bottom\", \"titleFontSize\": 18}}, \"layer\": [{\"mark\": {\"type\": \"circle\", \"size\": 250}, \"encoding\": {\"color\": {\"field\": \"Source\", \"type\": \"nominal\"}, \"text\": {\"field\": \"texts\", \"type\": \"nominal\"}, \"tooltip\": [{\"field\": \"texts\", \"type\": \"nominal\"}, {\"field\": \"x\", \"type\": \"quantitative\"}, {\"field\": \"y\", \"type\": \"quantitative\"}], \"x\": {\"axis\": {\"domain\": false, \"labels\": false, \"ticks\": false}, \"field\": \"x\", \"scale\": {\"zero\": false}, \"type\": \"quantitative\"}, \"y\": {\"axis\": {\"domain\": false, \"labels\": false, \"ticks\": false}, \"field\": \"y\", \"scale\": {\"zero\": false}, \"type\": \"quantitative\"}}, \"selection\": {\"selector001\": {\"type\": \"interval\", \"bind\": \"scales\", \"encodings\": [\"x\", \"y\"]}}}, {\"mark\": {\"type\": \"text\", \"align\": \"left\", \"baseline\": \"middle\", \"dx\": 7}, \"encoding\": {\"color\": {\"field\": \"Source\", \"type\": \"nominal\"}, \"text\": {\"field\": \"texts\", \"type\": \"nominal\"}, \"tooltip\": [{\"field\": \"texts\", \"type\": \"nominal\"}, {\"field\": \"x\", \"type\": \"quantitative\"}, {\"field\": \"y\", \"type\": \"quantitative\"}], \"x\": {\"axis\": {\"domain\": false, \"labels\": false, \"ticks\": false}, \"field\": \"x\", \"scale\": {\"zero\": false}, \"type\": \"quantitative\"}, \"y\": {\"axis\": {\"domain\": false, \"labels\": false, \"ticks\": false}, \"field\": \"y\", \"scale\": {\"zero\": false}, \"type\": \"quantitative\"}}}], \"data\": {\"name\": \"data-3edee69436d295fa23f772da5c1f1cbf\"}, \"height\": 800, \"title\": \"Cohere's `multilingual-22-12` model Embeddings\", \"width\": 1200, \"$schema\": \"https://vega.github.io/schema/vega-lite/v4.17.0.json\", \"datasets\": {\"data-3edee69436d295fa23f772da5c1f1cbf\": [{\"texts\": \"Hello from Cohere!\", \"Source\": \"Existing\", \"x\": -22.068389892578125, \"y\": 10.657055854797363}, {\"texts\": \"\\u0645\\u0631\\u062d\\u0628\\u064b\\u0627 \\u0645\\u0646 \\u0643\\u0648\\u0647\\u064a\\u0631!\", \"Source\": \"Existing\", \"x\": -21.348230361938477, \"y\": 11.64275074005127}, {\"texts\": \"Hallo von Cohere!\", \"Source\": \"Existing\", \"x\": -21.505863189697266, \"y\": 9.843857765197754}, {\"texts\": \"Bonjour de Cohere!\", \"Source\": \"Existing\", \"x\": -21.372255325317383, \"y\": 10.659286499023438}, {\"texts\": \"\\u00a1Hola desde Cohere!\", \"Source\": \"Existing\", \"x\": -21.082929611206055, \"y\": 10.13015365600586}, {\"texts\": \"Ol\\u00e1 do Cohere!\", \"Source\": \"Existing\", \"x\": -20.870826721191406, \"y\": 10.548053741455078}, {\"texts\": \"Ciao da Cohere!\", \"Source\": \"Existing\", \"x\": -21.764020919799805, \"y\": 10.132966995239258}, {\"texts\": \"\\u60a8\\u597d\\uff0c\\u6765\\u81ea Cohere\\uff01\", \"Source\": \"Existing\", \"x\": -21.081188201904297, \"y\": 11.133844375610352}, {\"texts\": \"\\uc548\\ub155\\ud558\\uc138\\uc694 \\ucf54\\ud788\\uc5b4\\uc785\\ub2c8\\ub2e4!\", \"Source\": \"Existing\", \"x\": -21.88492774963379, \"y\": 11.220947265625}, {\"texts\": \"\\u0915\\u094b\\u0939\\u0947\\u0930\\u0947 \\u0938\\u0947 \\u0928\\u092e\\u0938\\u094d\\u0924\\u0947!\", \"Source\": \"Existing\", \"x\": -21.821062088012695, \"y\": 11.644722938537598}, {\"texts\": \"Cohere provides the best multilingual models in the world\", \"Source\": \"Existing\", \"x\": 34.7353630065918, \"y\": -9.842503547668457}, {\"texts\": \"\\u0643\\u0648\\u0647\\u064a\\u0631 \\u062a\\u0648\\u0641\\u0631 \\u0623\\u0641\\u0636\\u0644 \\u0627\\u0644\\u0646\\u0645\\u0627\\u0630\\u062c \\u0645\\u062a\\u0639\\u062f\\u062f\\u0629 \\u0627\\u0644\\u0644\\u063a\\u0627\\u062a \\u0641\\u064a \\u0627\\u0644\\u0639\\u0627\\u0644\\u0645\", \"Source\": \"Existing\", \"x\": 33.3546257019043, \"y\": -10.567237854003906}, {\"texts\": \"Cohere bietet die besten mehrsprachigen Modelle der Welt\", \"Source\": \"Existing\", \"x\": 34.32258987426758, \"y\": -10.653621673583984}, {\"texts\": \"Cohere fournit les meilleurs mod\\u00e8les multilingues au monde\", \"Source\": \"Existing\", \"x\": 33.26176071166992, \"y\": -9.702963829040527}, {\"texts\": \"Cohere fornisce i migliori modelli multilingue del mondo\", \"Source\": \"Existing\", \"x\": 34.770530700683594, \"y\": -10.491522789001465}, {\"texts\": \"Cohere ofrece los mejores modelos multiling\\u00fces del mundo\", \"Source\": \"Existing\", \"x\": 33.925533294677734, \"y\": -11.027352333068848}, {\"texts\": \"Cohere fornece os melhores modelos multil\\u00edngues do mundo\", \"Source\": \"Existing\", \"x\": 33.86392593383789, \"y\": -10.584860801696777}, {\"texts\": \"Cohere\\ub294 \\uc138\\uacc4 \\ucd5c\\uace0\\uc758 \\ub2e4\\uad6d\\uc5b4 \\ubaa8\\ub378\\uc744 \\uc81c\\uacf5\\ud569\\ub2c8\\ub2e4.\", \"Source\": \"Existing\", \"x\": 34.046363830566406, \"y\": -9.345281600952148}, {\"texts\": \"Cohere \\u63d0\\u4f9b\\u4e16\\u754c\\u4e0a\\u6700\\u597d\\u7684\\u591a\\u8bed\\u8a00\\u6a21\\u578b\", \"Source\": \"Existing\", \"x\": 33.71847152709961, \"y\": -9.87729263305664}, {\"texts\": \"Cohere \\u0926\\u0941\\u0928\\u093f\\u092f\\u093e \\u092e\\u0947\\u0902 \\u0938\\u0930\\u094d\\u0935\\u0936\\u094d\\u0930\\u0947\\u0937\\u094d\\u0920 \\u092c\\u0939\\u0941\\u092d\\u093e\\u0937\\u0940 \\u092e\\u0949\\u0921\\u0932 \\u092a\\u094d\\u0930\\u0926\\u093e\\u0928 \\u0915\\u0930\\u0924\\u093e \\u0939\\u0948\", \"Source\": \"Existing\", \"x\": 34.14170837402344, \"y\": -9.866307258605957}]}}, {\"mode\": \"vega-lite\"});\n",
              "</script>"
            ],
            "text/plain": [
              "alt.LayerChart(...)"
            ]
          },
          "execution_count": 11,
          "metadata": {},
          "output_type": "execute_result"
        }
      ],
      "source": [
        "alt_chart = generate_chart(\n",
        "    df=df,\n",
        "    xcol='x',\n",
        "    ycol='y',\n",
        "    tooltip=['texts', 'x', 'y'],\n",
        "    color='Source',\n",
        "    title=f\"Cohere's `{model_name}` model Embeddings\")\n",
        "alt_chart"
      ]
    },
    {
      "cell_type": "code",
      "execution_count": null,
      "metadata": {
        "id": "Ft88wVqBNcS0"
      },
      "outputs": [],
      "source": [
        "#@title New Text\n",
        "# Japanese \n",
        "df2 = df.copy()\n",
        "new_text = 'コヒーレからこんにちは' #@param {type:\"string\"}\n",
        "df2.loc[len(df2.index)] = [new_text, None, None, None] "
      ]
    },
    {
      "cell_type": "code",
      "execution_count": null,
      "metadata": {
        "id": "IWCDjm_vOSvH"
      },
      "outputs": [],
      "source": [
        "#@title coloring new text\n",
        "df2['Source'] = 'Existing'\n",
        "df2.at[len(df2) - 1, 'Source'] = \"New\""
      ]
    },
    {
      "cell_type": "code",
      "execution_count": null,
      "metadata": {
        "id": "66uYCcXzOAlY"
      },
      "outputs": [],
      "source": [
        "new_text_embeddings = get_embeddings(co=co, model_name=model_name, texts=[df2.loc[len(df2.index)-1]['texts']])[0]"
      ]
    },
    {
      "cell_type": "code",
      "execution_count": null,
      "metadata": {
        "id": "IvzYDWvYSLmq"
      },
      "outputs": [],
      "source": [
        "embeddings2 = embeddings.copy()\n",
        "embeddings2.append(new_text_embeddings)"
      ]
    },
    {
      "cell_type": "code",
      "execution_count": null,
      "metadata": {
        "id": "B_CFK8O1Iany"
      },
      "outputs": [],
      "source": [
        "embeddings_pca = get_umap(embeddings=embeddings2)\n",
        "df2['x'] = embeddings_pca[:, 0]\n",
        "df2['y'] = embeddings_pca[:, 1]"
      ]
    },
    {
      "cell_type": "code",
      "execution_count": null,
      "metadata": {
        "colab": {
          "base_uri": "https://localhost:8080/",
          "height": 922
        },
        "id": "U8KbCPgPIYfP",
        "outputId": "c13dad32-22f2-41f1-d9f5-db0ba3fe5935"
      },
      "outputs": [
        {
          "data": {
            "text/html": [
              "\n",
              "<div id=\"altair-viz-1f97ed722f30435a9910e87490dd6d3a\"></div>\n",
              "<script type=\"text/javascript\">\n",
              "  var VEGA_DEBUG = (typeof VEGA_DEBUG == \"undefined\") ? {} : VEGA_DEBUG;\n",
              "  (function(spec, embedOpt){\n",
              "    let outputDiv = document.currentScript.previousElementSibling;\n",
              "    if (outputDiv.id !== \"altair-viz-1f97ed722f30435a9910e87490dd6d3a\") {\n",
              "      outputDiv = document.getElementById(\"altair-viz-1f97ed722f30435a9910e87490dd6d3a\");\n",
              "    }\n",
              "    const paths = {\n",
              "      \"vega\": \"https://cdn.jsdelivr.net/npm//vega@5?noext\",\n",
              "      \"vega-lib\": \"https://cdn.jsdelivr.net/npm//vega-lib?noext\",\n",
              "      \"vega-lite\": \"https://cdn.jsdelivr.net/npm//vega-lite@4.17.0?noext\",\n",
              "      \"vega-embed\": \"https://cdn.jsdelivr.net/npm//vega-embed@6?noext\",\n",
              "    };\n",
              "\n",
              "    function maybeLoadScript(lib, version) {\n",
              "      var key = `${lib.replace(\"-\", \"\")}_version`;\n",
              "      return (VEGA_DEBUG[key] == version) ?\n",
              "        Promise.resolve(paths[lib]) :\n",
              "        new Promise(function(resolve, reject) {\n",
              "          var s = document.createElement('script');\n",
              "          document.getElementsByTagName(\"head\")[0].appendChild(s);\n",
              "          s.async = true;\n",
              "          s.onload = () => {\n",
              "            VEGA_DEBUG[key] = version;\n",
              "            return resolve(paths[lib]);\n",
              "          };\n",
              "          s.onerror = () => reject(`Error loading script: ${paths[lib]}`);\n",
              "          s.src = paths[lib];\n",
              "        });\n",
              "    }\n",
              "\n",
              "    function showError(err) {\n",
              "      outputDiv.innerHTML = `<div class=\"error\" style=\"color:red;\">${err}</div>`;\n",
              "      throw err;\n",
              "    }\n",
              "\n",
              "    function displayChart(vegaEmbed) {\n",
              "      vegaEmbed(outputDiv, spec, embedOpt)\n",
              "        .catch(err => showError(`Javascript Error: ${err.message}<br>This usually means there's a typo in your chart specification. See the javascript console for the full traceback.`));\n",
              "    }\n",
              "\n",
              "    if(typeof define === \"function\" && define.amd) {\n",
              "      requirejs.config({paths});\n",
              "      require([\"vega-embed\"], displayChart, err => showError(`Error loading script: ${err.message}`));\n",
              "    } else {\n",
              "      maybeLoadScript(\"vega\", \"5\")\n",
              "        .then(() => maybeLoadScript(\"vega-lite\", \"4.17.0\"))\n",
              "        .then(() => maybeLoadScript(\"vega-embed\", \"6\"))\n",
              "        .catch(showError)\n",
              "        .then(() => displayChart(vegaEmbed));\n",
              "    }\n",
              "  })({\"config\": {\"view\": {\"continuousWidth\": 400, \"continuousHeight\": 300}, \"background\": \"#FDF7F0\", \"legend\": {\"labelFontSize\": 18, \"orient\": \"bottom\", \"titleFontSize\": 18}}, \"layer\": [{\"mark\": {\"type\": \"circle\", \"size\": 250}, \"encoding\": {\"color\": {\"field\": \"Source\", \"type\": \"nominal\"}, \"text\": {\"field\": \"texts\", \"type\": \"nominal\"}, \"tooltip\": [{\"field\": \"texts\", \"type\": \"nominal\"}, {\"field\": \"x\", \"type\": \"quantitative\"}, {\"field\": \"y\", \"type\": \"quantitative\"}], \"x\": {\"axis\": {\"domain\": false, \"labels\": false, \"ticks\": false}, \"field\": \"x\", \"scale\": {\"zero\": false}, \"type\": \"quantitative\"}, \"y\": {\"axis\": {\"domain\": false, \"labels\": false, \"ticks\": false}, \"field\": \"y\", \"scale\": {\"zero\": false}, \"type\": \"quantitative\"}}, \"selection\": {\"selector002\": {\"type\": \"interval\", \"bind\": \"scales\", \"encodings\": [\"x\", \"y\"]}}}, {\"mark\": {\"type\": \"text\", \"align\": \"left\", \"baseline\": \"middle\", \"dx\": 7}, \"encoding\": {\"color\": {\"field\": \"Source\", \"type\": \"nominal\"}, \"text\": {\"field\": \"texts\", \"type\": \"nominal\"}, \"tooltip\": [{\"field\": \"texts\", \"type\": \"nominal\"}, {\"field\": \"x\", \"type\": \"quantitative\"}, {\"field\": \"y\", \"type\": \"quantitative\"}], \"x\": {\"axis\": {\"domain\": false, \"labels\": false, \"ticks\": false}, \"field\": \"x\", \"scale\": {\"zero\": false}, \"type\": \"quantitative\"}, \"y\": {\"axis\": {\"domain\": false, \"labels\": false, \"ticks\": false}, \"field\": \"y\", \"scale\": {\"zero\": false}, \"type\": \"quantitative\"}}}], \"data\": {\"name\": \"data-f36fc8d68d4ee19b14a676f09f7192fc\"}, \"height\": 800, \"title\": \"Cohere's `multilingual-22-12` model Embeddings\", \"width\": 1200, \"$schema\": \"https://vega.github.io/schema/vega-lite/v4.17.0.json\", \"datasets\": {\"data-f36fc8d68d4ee19b14a676f09f7192fc\": [{\"texts\": \"Hello from Cohere!\", \"Source\": \"Existing\", \"x\": -7.731869697570801, \"y\": 5.012582778930664}, {\"texts\": \"\\u0645\\u0631\\u062d\\u0628\\u064b\\u0627 \\u0645\\u0646 \\u0643\\u0648\\u0647\\u064a\\u0631!\", \"Source\": \"Existing\", \"x\": -7.1827545166015625, \"y\": 3.7784550189971924}, {\"texts\": \"Hallo von Cohere!\", \"Source\": \"Existing\", \"x\": -6.736401557922363, \"y\": 5.55953311920166}, {\"texts\": \"Bonjour de Cohere!\", \"Source\": \"Existing\", \"x\": -7.257147312164307, \"y\": 5.6958770751953125}, {\"texts\": \"\\u00a1Hola desde Cohere!\", \"Source\": \"Existing\", \"x\": -7.040909290313721, \"y\": 4.628244876861572}, {\"texts\": \"Ol\\u00e1 do Cohere!\", \"Source\": \"Existing\", \"x\": -6.698217391967773, \"y\": 4.957730770111084}, {\"texts\": \"Ciao da Cohere!\", \"Source\": \"Existing\", \"x\": -7.239955902099609, \"y\": 5.200227737426758}, {\"texts\": \"\\u60a8\\u597d\\uff0c\\u6765\\u81ea Cohere\\uff01\", \"Source\": \"Existing\", \"x\": -7.5707597732543945, \"y\": 4.494302272796631}, {\"texts\": \"\\uc548\\ub155\\ud558\\uc138\\uc694 \\ucf54\\ud788\\uc5b4\\uc785\\ub2c8\\ub2e4!\", \"Source\": \"Existing\", \"x\": -6.6198649406433105, \"y\": 4.131192684173584}, {\"texts\": \"\\u0915\\u094b\\u0939\\u0947\\u0930\\u0947 \\u0938\\u0947 \\u0928\\u092e\\u0938\\u094d\\u0924\\u0947!\", \"Source\": \"Existing\", \"x\": -7.003539085388184, \"y\": 3.345346689224243}, {\"texts\": \"Cohere provides the best multilingual models in the world\", \"Source\": \"Existing\", \"x\": -0.15432873368263245, \"y\": 10.785446166992188}, {\"texts\": \"\\u0643\\u0648\\u0647\\u064a\\u0631 \\u062a\\u0648\\u0641\\u0631 \\u0623\\u0641\\u0636\\u0644 \\u0627\\u0644\\u0646\\u0645\\u0627\\u0630\\u062c \\u0645\\u062a\\u0639\\u062f\\u062f\\u0629 \\u0627\\u0644\\u0644\\u063a\\u0627\\u062a \\u0641\\u064a \\u0627\\u0644\\u0639\\u0627\\u0644\\u0645\", \"Source\": \"Existing\", \"x\": -0.8973687887191772, \"y\": 9.369828224182129}, {\"texts\": \"Cohere bietet die besten mehrsprachigen Modelle der Welt\", \"Source\": \"Existing\", \"x\": -1.2790796756744385, \"y\": 9.768564224243164}, {\"texts\": \"Cohere fournit les meilleurs mod\\u00e8les multilingues au monde\", \"Source\": \"Existing\", \"x\": -0.7175624966621399, \"y\": 9.901467323303223}, {\"texts\": \"Cohere fornisce i migliori modelli multilingue del mondo\", \"Source\": \"Existing\", \"x\": -1.107395052909851, \"y\": 10.76069450378418}, {\"texts\": \"Cohere ofrece los mejores modelos multiling\\u00fces del mundo\", \"Source\": \"Existing\", \"x\": -0.6634403467178345, \"y\": 10.654102325439453}, {\"texts\": \"Cohere fornece os melhores modelos multil\\u00edngues do mundo\", \"Source\": \"Existing\", \"x\": -0.9246588945388794, \"y\": 10.247719764709473}, {\"texts\": \"Cohere\\ub294 \\uc138\\uacc4 \\ucd5c\\uace0\\uc758 \\ub2e4\\uad6d\\uc5b4 \\ubaa8\\ub378\\uc744 \\uc81c\\uacf5\\ud569\\ub2c8\\ub2e4.\", \"Source\": \"Existing\", \"x\": 0.06969236582517624, \"y\": 10.256221771240234}, {\"texts\": \"Cohere \\u63d0\\u4f9b\\u4e16\\u754c\\u4e0a\\u6700\\u597d\\u7684\\u591a\\u8bed\\u8a00\\u6a21\\u578b\", \"Source\": \"Existing\", \"x\": -1.4493499994277954, \"y\": 10.274514198303223}, {\"texts\": \"Cohere \\u0926\\u0941\\u0928\\u093f\\u092f\\u093e \\u092e\\u0947\\u0902 \\u0938\\u0930\\u094d\\u0935\\u0936\\u094d\\u0930\\u0947\\u0937\\u094d\\u0920 \\u092c\\u0939\\u0941\\u092d\\u093e\\u0937\\u0940 \\u092e\\u0949\\u0921\\u0932 \\u092a\\u094d\\u0930\\u0926\\u093e\\u0928 \\u0915\\u0930\\u0924\\u093e \\u0939\\u0948\", \"Source\": \"Existing\", \"x\": -0.200094074010849, \"y\": 9.92895221710205}, {\"texts\": \"\\u30b3\\u30d2\\u30fc\\u30ec\\u304b\\u3089\\u3053\\u3093\\u306b\\u3061\\u306f\", \"Source\": \"New\", \"x\": -6.594664096832275, \"y\": 3.6295156478881836}]}}, {\"mode\": \"vega-lite\"});\n",
              "</script>"
            ],
            "text/plain": [
              "alt.LayerChart(...)"
            ]
          },
          "execution_count": 17,
          "metadata": {},
          "output_type": "execute_result"
        }
      ],
      "source": [
        "alt_chart = generate_chart(\n",
        "    df=df2,\n",
        "    xcol='x',\n",
        "    ycol='y',\n",
        "    tooltip=['texts', 'x', 'y'],\n",
        "    color='Source',\n",
        "    title=f\"Cohere's `{model_name}` model Embeddings\")\n",
        "alt_chart"
      ]
    },
    {
      "cell_type": "markdown",
      "metadata": {
        "id": "0P380rYZSYO3"
      },
      "source": [
        "---\n",
        "---"
      ]
    },
    {
      "cell_type": "markdown",
      "metadata": {
        "id": "tIBwG2WRSvP6"
      },
      "source": [
        "# Semantic Search"
      ]
    },
    {
      "cell_type": "code",
      "execution_count": null,
      "metadata": {
        "id": "w-UfnSoMb_NP"
      },
      "outputs": [],
      "source": [
        "#@title Semantic similarity helper function\n",
        "\n",
        "torchfy = lambda x: torch.as_tensor(x, dtype=torch.float32)\n",
        "\n",
        "def get_similarity(target: List[float], candidates: List[float], top_k: int):\n",
        "    candidates = torchfy(candidates).transpose(0, 1) # shape (768, bs)\n",
        "    target = torchfy(target) # shape (1, 768)\n",
        "    dot_scores = torch.mm(target, candidates)\n",
        "\n",
        "    scores, indices = torch.topk(dot_scores, k=top_k)\n",
        "    similarity_hits = [{'id': idx, 'score': score} for idx, score in zip(indices[0].tolist(), scores[0].tolist())]\n",
        "\n",
        "    return similarity_hits"
      ]
    },
    {
      "cell_type": "code",
      "execution_count": null,
      "metadata": {
        "id": "H-rHtQmncDFy"
      },
      "outputs": [],
      "source": [
        "#@title Let's search and visualize\n",
        "df3 = df.copy()\n",
        "query_text = \"\\u0627\\u0647\\u0644\\u0627 \\u0648\\u0633\\u0647\\u0644\\u0627\" #@param {type:\"string\"}\n",
        "df3.loc[len(df3.index)] = [query_text, None, None, None] \n",
        "query_embeddings = get_embeddings(co=co, model_name=model_name, texts=[query_text])"
      ]
    },
    {
      "cell_type": "code",
      "execution_count": null,
      "metadata": {
        "id": "_HfR6jlqcjdT"
      },
      "outputs": [],
      "source": [
        "top_k: int = 5 #@param {type:\"slider\", min:1, max:100, step:5}\n",
        "embeddings3 = embeddings.copy()\n",
        "similarity_hits = get_similarity(target=query_embeddings, candidates=embeddings3, top_k=top_k)"
      ]
    },
    {
      "cell_type": "code",
      "execution_count": null,
      "metadata": {
        "id": "zpx7aRJteYgv"
      },
      "outputs": [],
      "source": [
        "embeddings3.append(query_embeddings[0])\n",
        "embeddings_pca = get_umap(embeddings=embeddings3)\n",
        "df3['x'] = embeddings_pca[:, 0]\n",
        "df3['y'] = embeddings_pca[:, 1]"
      ]
    },
    {
      "cell_type": "code",
      "execution_count": null,
      "metadata": {
        "id": "rl3QZAZEeWMu"
      },
      "outputs": [],
      "source": [
        "df3['Source'] = 'Existing'\n",
        "df3.at[len(df3) - 1, 'Source'] = \"New\"\n",
        "for index in range(len(similarity_hits)):\n",
        "    hit = similarity_hits[index]\n",
        "    df3.at[hit['id'], 'Source'] = \"Similar\""
      ]
    },
    {
      "cell_type": "code",
      "execution_count": null,
      "metadata": {
        "colab": {
          "base_uri": "https://localhost:8080/",
          "height": 922
        },
        "id": "J_IGE-6HeUP1",
        "outputId": "0e601ed3-7640-4446-f8d7-6a6359dda632"
      },
      "outputs": [
        {
          "data": {
            "text/html": [
              "\n",
              "<div id=\"altair-viz-d083df2a54224fcd83ad32cbde44e3cb\"></div>\n",
              "<script type=\"text/javascript\">\n",
              "  var VEGA_DEBUG = (typeof VEGA_DEBUG == \"undefined\") ? {} : VEGA_DEBUG;\n",
              "  (function(spec, embedOpt){\n",
              "    let outputDiv = document.currentScript.previousElementSibling;\n",
              "    if (outputDiv.id !== \"altair-viz-d083df2a54224fcd83ad32cbde44e3cb\") {\n",
              "      outputDiv = document.getElementById(\"altair-viz-d083df2a54224fcd83ad32cbde44e3cb\");\n",
              "    }\n",
              "    const paths = {\n",
              "      \"vega\": \"https://cdn.jsdelivr.net/npm//vega@5?noext\",\n",
              "      \"vega-lib\": \"https://cdn.jsdelivr.net/npm//vega-lib?noext\",\n",
              "      \"vega-lite\": \"https://cdn.jsdelivr.net/npm//vega-lite@4.17.0?noext\",\n",
              "      \"vega-embed\": \"https://cdn.jsdelivr.net/npm//vega-embed@6?noext\",\n",
              "    };\n",
              "\n",
              "    function maybeLoadScript(lib, version) {\n",
              "      var key = `${lib.replace(\"-\", \"\")}_version`;\n",
              "      return (VEGA_DEBUG[key] == version) ?\n",
              "        Promise.resolve(paths[lib]) :\n",
              "        new Promise(function(resolve, reject) {\n",
              "          var s = document.createElement('script');\n",
              "          document.getElementsByTagName(\"head\")[0].appendChild(s);\n",
              "          s.async = true;\n",
              "          s.onload = () => {\n",
              "            VEGA_DEBUG[key] = version;\n",
              "            return resolve(paths[lib]);\n",
              "          };\n",
              "          s.onerror = () => reject(`Error loading script: ${paths[lib]}`);\n",
              "          s.src = paths[lib];\n",
              "        });\n",
              "    }\n",
              "\n",
              "    function showError(err) {\n",
              "      outputDiv.innerHTML = `<div class=\"error\" style=\"color:red;\">${err}</div>`;\n",
              "      throw err;\n",
              "    }\n",
              "\n",
              "    function displayChart(vegaEmbed) {\n",
              "      vegaEmbed(outputDiv, spec, embedOpt)\n",
              "        .catch(err => showError(`Javascript Error: ${err.message}<br>This usually means there's a typo in your chart specification. See the javascript console for the full traceback.`));\n",
              "    }\n",
              "\n",
              "    if(typeof define === \"function\" && define.amd) {\n",
              "      requirejs.config({paths});\n",
              "      require([\"vega-embed\"], displayChart, err => showError(`Error loading script: ${err.message}`));\n",
              "    } else {\n",
              "      maybeLoadScript(\"vega\", \"5\")\n",
              "        .then(() => maybeLoadScript(\"vega-lite\", \"4.17.0\"))\n",
              "        .then(() => maybeLoadScript(\"vega-embed\", \"6\"))\n",
              "        .catch(showError)\n",
              "        .then(() => displayChart(vegaEmbed));\n",
              "    }\n",
              "  })({\"config\": {\"view\": {\"continuousWidth\": 400, \"continuousHeight\": 300}, \"background\": \"#FDF7F0\", \"legend\": {\"labelFontSize\": 18, \"orient\": \"bottom\", \"titleFontSize\": 18}}, \"layer\": [{\"mark\": {\"type\": \"circle\", \"size\": 250}, \"encoding\": {\"color\": {\"field\": \"Source\", \"type\": \"nominal\"}, \"text\": {\"field\": \"texts\", \"type\": \"nominal\"}, \"tooltip\": [{\"field\": \"texts\", \"type\": \"nominal\"}, {\"field\": \"x\", \"type\": \"quantitative\"}, {\"field\": \"y\", \"type\": \"quantitative\"}], \"x\": {\"axis\": {\"domain\": false, \"labels\": false, \"ticks\": false}, \"field\": \"x\", \"scale\": {\"zero\": false}, \"type\": \"quantitative\"}, \"y\": {\"axis\": {\"domain\": false, \"labels\": false, \"ticks\": false}, \"field\": \"y\", \"scale\": {\"zero\": false}, \"type\": \"quantitative\"}}, \"selection\": {\"selector003\": {\"type\": \"interval\", \"bind\": \"scales\", \"encodings\": [\"x\", \"y\"]}}}, {\"mark\": {\"type\": \"text\", \"align\": \"left\", \"baseline\": \"middle\", \"dx\": 7}, \"encoding\": {\"color\": {\"field\": \"Source\", \"type\": \"nominal\"}, \"text\": {\"field\": \"texts\", \"type\": \"nominal\"}, \"tooltip\": [{\"field\": \"texts\", \"type\": \"nominal\"}, {\"field\": \"x\", \"type\": \"quantitative\"}, {\"field\": \"y\", \"type\": \"quantitative\"}], \"x\": {\"axis\": {\"domain\": false, \"labels\": false, \"ticks\": false}, \"field\": \"x\", \"scale\": {\"zero\": false}, \"type\": \"quantitative\"}, \"y\": {\"axis\": {\"domain\": false, \"labels\": false, \"ticks\": false}, \"field\": \"y\", \"scale\": {\"zero\": false}, \"type\": \"quantitative\"}}}], \"data\": {\"name\": \"data-dd59fcac3790950298a33f769f3feff0\"}, \"height\": 800, \"title\": \"Cohere's `multilingual-22-12` model Embeddings\", \"width\": 1200, \"$schema\": \"https://vega.github.io/schema/vega-lite/v4.17.0.json\", \"datasets\": {\"data-dd59fcac3790950298a33f769f3feff0\": [{\"texts\": \"Hello from Cohere!\", \"Source\": \"Existing\", \"x\": 1.97312331199646, \"y\": -5.882881164550781}, {\"texts\": \"\\u0645\\u0631\\u062d\\u0628\\u064b\\u0627 \\u0645\\u0646 \\u0643\\u0648\\u0647\\u064a\\u0631!\", \"Source\": \"Similar\", \"x\": 0.7473926544189453, \"y\": -4.64440393447876}, {\"texts\": \"Hallo von Cohere!\", \"Source\": \"Existing\", \"x\": 2.5691323280334473, \"y\": -5.834242343902588}, {\"texts\": \"Bonjour de Cohere!\", \"Source\": \"Existing\", \"x\": 2.5601046085357666, \"y\": -5.371743679046631}, {\"texts\": \"\\u00a1Hola desde Cohere!\", \"Source\": \"Existing\", \"x\": 2.2435903549194336, \"y\": -4.809455394744873}, {\"texts\": \"Ol\\u00e1 do Cohere!\", \"Source\": \"Existing\", \"x\": 1.7965114116668701, \"y\": -5.236721515655518}, {\"texts\": \"Ciao da Cohere!\", \"Source\": \"Similar\", \"x\": 2.137929677963257, \"y\": -5.312785625457764}, {\"texts\": \"\\u60a8\\u597d\\uff0c\\u6765\\u81ea Cohere\\uff01\", \"Source\": \"Similar\", \"x\": 1.5987838506698608, \"y\": -5.814072132110596}, {\"texts\": \"\\uc548\\ub155\\ud558\\uc138\\uc694 \\ucf54\\ud788\\uc5b4\\uc785\\ub2c8\\ub2e4!\", \"Source\": \"Similar\", \"x\": 1.4968955516815186, \"y\": -4.564352989196777}, {\"texts\": \"\\u0915\\u094b\\u0939\\u0947\\u0930\\u0947 \\u0938\\u0947 \\u0928\\u092e\\u0938\\u094d\\u0924\\u0947!\", \"Source\": \"Similar\", \"x\": 1.0544359683990479, \"y\": -5.044900894165039}, {\"texts\": \"Cohere provides the best multilingual models in the world\", \"Source\": \"Existing\", \"x\": 13.006912231445312, \"y\": 1.5618525743484497}, {\"texts\": \"\\u0643\\u0648\\u0647\\u064a\\u0631 \\u062a\\u0648\\u0641\\u0631 \\u0623\\u0641\\u0636\\u0644 \\u0627\\u0644\\u0646\\u0645\\u0627\\u0630\\u062c \\u0645\\u062a\\u0639\\u062f\\u062f\\u0629 \\u0627\\u0644\\u0644\\u063a\\u0627\\u062a \\u0641\\u064a \\u0627\\u0644\\u0639\\u0627\\u0644\\u0645\", \"Source\": \"Existing\", \"x\": 13.131556510925293, \"y\": 0.34185856580734253}, {\"texts\": \"Cohere bietet die besten mehrsprachigen Modelle der Welt\", \"Source\": \"Existing\", \"x\": 12.600544929504395, \"y\": 0.6410284638404846}, {\"texts\": \"Cohere fournit les meilleurs mod\\u00e8les multilingues au monde\", \"Source\": \"Existing\", \"x\": 14.073530197143555, \"y\": 0.7144282460212708}, {\"texts\": \"Cohere fornisce i migliori modelli multilingue del mondo\", \"Source\": \"Existing\", \"x\": 13.07067584991455, \"y\": 0.9862307906150818}, {\"texts\": \"Cohere ofrece los mejores modelos multiling\\u00fces del mundo\", \"Source\": \"Existing\", \"x\": 14.220481872558594, \"y\": 1.4203002452850342}, {\"texts\": \"Cohere fornece os melhores modelos multil\\u00edngues do mundo\", \"Source\": \"Existing\", \"x\": 13.996014595031738, \"y\": 1.157323956489563}, {\"texts\": \"Cohere\\ub294 \\uc138\\uacc4 \\ucd5c\\uace0\\uc758 \\ub2e4\\uad6d\\uc5b4 \\ubaa8\\ub378\\uc744 \\uc81c\\uacf5\\ud569\\ub2c8\\ub2e4.\", \"Source\": \"Existing\", \"x\": 13.54716682434082, \"y\": 1.810685157775879}, {\"texts\": \"Cohere \\u63d0\\u4f9b\\u4e16\\u754c\\u4e0a\\u6700\\u597d\\u7684\\u591a\\u8bed\\u8a00\\u6a21\\u578b\", \"Source\": \"Existing\", \"x\": 13.508015632629395, \"y\": 0.7664801478385925}, {\"texts\": \"Cohere \\u0926\\u0941\\u0928\\u093f\\u092f\\u093e \\u092e\\u0947\\u0902 \\u0938\\u0930\\u094d\\u0935\\u0936\\u094d\\u0930\\u0947\\u0937\\u094d\\u0920 \\u092c\\u0939\\u0941\\u092d\\u093e\\u0937\\u0940 \\u092e\\u0949\\u0921\\u0932 \\u092a\\u094d\\u0930\\u0926\\u093e\\u0928 \\u0915\\u0930\\u0924\\u093e \\u0939\\u0948\", \"Source\": \"Existing\", \"x\": 13.515140533447266, \"y\": 1.3420140743255615}, {\"texts\": \"\\u0627\\u0647\\u0644\\u0627 \\u0648\\u0633\\u0647\\u0644\\u0627\", \"Source\": \"New\", \"x\": 1.2484689950942993, \"y\": -4.250080108642578}]}}, {\"mode\": \"vega-lite\"});\n",
              "</script>"
            ],
            "text/plain": [
              "alt.LayerChart(...)"
            ]
          },
          "execution_count": 23,
          "metadata": {},
          "output_type": "execute_result"
        }
      ],
      "source": [
        "alt_chart = generate_chart(\n",
        "    df=df3,\n",
        "    xcol='x',\n",
        "    ycol='y',\n",
        "    tooltip=['texts', 'x', 'y'],\n",
        "    color='Source',\n",
        "    title=f\"Cohere's `{model_name}` model Embeddings\")\n",
        "alt_chart"
      ]
    }
  ],
  "metadata": {
    "colab": {
      "provenance": []
    },
    "kernelspec": {
      "display_name": "dzhw-3.9",
      "language": "python",
      "name": "python3"
    },
    "language_info": {
      "name": "python",
      "version": "3.9.12 (tags/v3.9.12:b28265d, Mar 23 2022, 23:52:46) [MSC v.1929 64 bit (AMD64)]"
    },
    "vscode": {
      "interpreter": {
        "hash": "a317a3225f54853d3761a8e99216de1ff0a5ff683c1d575b2a892cb0ed4ad207"
      }
    }
  },
  "nbformat": 4,
  "nbformat_minor": 0
}
