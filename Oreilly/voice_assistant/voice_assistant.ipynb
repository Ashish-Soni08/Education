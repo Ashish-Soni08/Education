{
 "cells": [
  {
   "cell_type": "code",
   "execution_count": null,
   "metadata": {},
   "outputs": [],
   "source": [
    "# !pip install pyttsx3 pywhatkit pyaudio pyjokes speechRecognition wikipedia yfinance"
   ]
  },
  {
   "cell_type": "code",
   "execution_count": 40,
   "metadata": {},
   "outputs": [],
   "source": [
    "import datetime\n",
    "import os # to shut down the computer\n",
    "\n",
    "import pyttsx3 \n",
    "\n",
    "import pywhatkit # search and open on youtube\n",
    "\n",
    "import pyjokes # tell jokes\n",
    "\n",
    "import speech_recognition as sr \n",
    "\n",
    "import webbrowser\n",
    "import wikipedia # search on wikipedia\n",
    "\n",
    "import yfinance as yf\n",
    "\n"
   ]
  },
  {
   "cell_type": "code",
   "execution_count": 7,
   "metadata": {},
   "outputs": [],
   "source": [
    "# Listen to the microphone and return the audio as text\n",
    "def transform():\n",
    "    r  = sr.Recognizer() # Recognizer class to recognize the speech\n",
    "    with sr.Microphone() as source:\n",
    "        print(\"Listening...\")\n",
    "        r.pause_threshold = 0.8\n",
    "        audio = r.listen(source)\n",
    "        try: \n",
    "            print(\"Recognizing...\")\n",
    "            query = r.recognize_google(audio, language='en')\n",
    "            print(f\"User said: {query}\\n\")\n",
    "            return query\n",
    "        except sr.UnknownValueError:\n",
    "            print(\"Sorry, I did not get that\")\n",
    "            return \"I am waiting for your command\"\n",
    "        except sr.RequestError:\n",
    "            print(\"Sorry, my speech service is down\")\n",
    "            return \"I am waiting for your command\"\n",
    "        except: \n",
    "            return \"I am waiting for your command\"\n",
    "        "
   ]
  },
  {
   "cell_type": "code",
   "execution_count": null,
   "metadata": {},
   "outputs": [],
   "source": [
    "# Language and voice\n",
    "engine = pyttsx3.init()\n",
    "for voice in engine.getProperty('voices'):\n",
    "    print(voice)"
   ]
  },
  {
   "cell_type": "code",
   "execution_count": 15,
   "metadata": {},
   "outputs": [],
   "source": [
    "def speaking(message):\n",
    "    engine = pyttsx3.init()\n",
    "    voices = engine.getProperty('voices')\n",
    "    engine.setProperty('voice', voices[1].id)\n",
    "    engine.say(message)\n",
    "    engine.runAndWait()"
   ]
  },
  {
   "cell_type": "code",
   "execution_count": 16,
   "metadata": {},
   "outputs": [],
   "source": [
    "speaking(\"Hello, I am your voice assistant. How can I help you?\")"
   ]
  },
  {
   "cell_type": "code",
   "execution_count": 21,
   "metadata": {},
   "outputs": [],
   "source": [
    "def query_day():\n",
    "    day = datetime.datetime.today().strftime(\"%A\")\n",
    "    try: \n",
    "        speaking(\"Today is \" + day)\n",
    "    except:\n",
    "        pass\n",
    "    \n",
    "    #weekday = day.weekday()\n",
    "    #print(weekday)"
   ]
  },
  {
   "cell_type": "code",
   "execution_count": 24,
   "metadata": {},
   "outputs": [
    {
     "name": "stdout",
     "output_type": "stream",
     "text": [
      "Thursday\n"
     ]
    }
   ],
   "source": [
    "query_day()"
   ]
  },
  {
   "cell_type": "code",
   "execution_count": 34,
   "metadata": {},
   "outputs": [],
   "source": [
    "def query_time():\n",
    "    time = datetime.datetime.now().strftime(\"%I:%M:%S\")\n",
    "    try: \n",
    "        speaking(f\"It is {time[1]} o'clock\")\n",
    "    except:\n",
    "        pass"
   ]
  },
  {
   "cell_type": "code",
   "execution_count": 35,
   "metadata": {},
   "outputs": [],
   "source": [
    "query_time()"
   ]
  },
  {
   "cell_type": "code",
   "execution_count": 36,
   "metadata": {},
   "outputs": [],
   "source": [
    "# Intro greeting\n",
    "def welcome():\n",
    "    speaking(\"Hi, My name is Mila! I am your personal voice assistant. How can I help you?\")"
   ]
  },
  {
   "cell_type": "code",
   "execution_count": 37,
   "metadata": {},
   "outputs": [],
   "source": [
    "welcome()"
   ]
  },
  {
   "cell_type": "code",
   "execution_count": 41,
   "metadata": {},
   "outputs": [],
   "source": [
    "# the heart of the program\n",
    "\n",
    "def querying():\n",
    "    welcome()\n",
    "    while True:\n",
    "        query = transform().lower()\n",
    "        if \"open youtube\" in query:\n",
    "            speaking(\"Opening Youtube\")\n",
    "            webbrowser.open(\"https://www.youtube.com/\")\n",
    "            continue\n",
    "        elif \"open google\" in query:\n",
    "            speaking(\"Opening Google\")\n",
    "            webbrowser.open(\"https://www.google.com/\")\n",
    "            continue\n",
    "        elif \"open gmail\" in query:\n",
    "            speaking(\"Opening Gmail\")\n",
    "            webbrowser.open(\"https://mail.google.com/\")\n",
    "            continue\n",
    "        elif \"open netflix\" in query:\n",
    "            speaking(\"Opening Netflix\")\n",
    "            webbrowser.open(\"https://www.netflix.com/browse\")\n",
    "            continue\n",
    "        elif \"open amazon\" in query:\n",
    "            speaking(\"Opening Amazon\")\n",
    "            webbrowser.open(\"https://www.amazon.com/\")\n",
    "            continue\n",
    "        elif \"open udemy\" in query:\n",
    "            speaking(\"Opening Udemy\")\n",
    "            webbrowser.open(\"https://www.udemy.com/\")\n",
    "            continue\n",
    "        elif \"what day is it\" in query:\n",
    "            query_day()\n",
    "            continue\n",
    "        elif \"what time is it\" in query:\n",
    "            query_time()\n",
    "            continue\n",
    "        elif  \"stop\" in query:\n",
    "            speaking(\"Bye, see you next time\")\n",
    "            break\n",
    "        elif \"wikipedia\" in query:\n",
    "            speaking(\"Searching...\")\n",
    "            q = query.replace(\"wikipedia\", \"\")\n",
    "            results = wikipedia.summary(q, sentences=2)\n",
    "            speaking(results)\n",
    "            continue\n",
    "        elif \"seacrh web\" in query:\n",
    "            pywhatkit.search(query)\n",
    "            speaking(\"Searching...\")\n",
    "            continue\n",
    "        elif \"play\" in query:\n",
    "            speaking(\"Playing...\")\n",
    "            pywhatkit.playonyt(query)\n",
    "            continue\n",
    "        elif \"joke\" in query:\n",
    "            speaking(pyjokes.get_joke())\n",
    "            continue\n",
    "        elif \"stock price\" in query:\n",
    "            search = query.split(\"of\")[-1].strip()\n",
    "            lookup = {\"apple\": \"AAPL\", \"amazon\": \"AMZN\", \"google\": \"GOOGL\"}\n",
    "            try: \n",
    "                stock = lookup[search]\n",
    "                stock = yf.Ticker(stock)\n",
    "                current_price = stock.info[\"regularMarketPrice\"]\n",
    "                speaking(f\"price for {search} is {current_price}\")\n",
    "            except:\n",
    "                speaking(f\"price for {search} is not available\")\n",
    "            continue"
   ]
  },
  {
   "cell_type": "code",
   "execution_count": 43,
   "metadata": {},
   "outputs": [
    {
     "name": "stdout",
     "output_type": "stream",
     "text": [
      "Listening...\n",
      "Recognizing...\n",
      "User said: price for Apple\n",
      "\n",
      "Listening...\n",
      "Recognizing...\n",
      "User said: hi\n",
      "\n",
      "Listening...\n",
      "Recognizing...\n",
      "User said: joke\n",
      "\n",
      "Listening...\n",
      "Recognizing...\n",
      "Sorry, I did not get that\n",
      "Listening...\n",
      "Recognizing...\n",
      "User said: play\n",
      "\n",
      "Listening...\n",
      "Recognizing...\n",
      "Sorry, I did not get that\n",
      "Listening...\n",
      "Recognizing...\n",
      "User said: stop\n",
      "\n"
     ]
    }
   ],
   "source": [
    "querying()"
   ]
  },
  {
   "cell_type": "code",
   "execution_count": null,
   "metadata": {},
   "outputs": [],
   "source": []
  }
 ],
 "metadata": {
  "kernelspec": {
   "display_name": ".venv",
   "language": "python",
   "name": "python3"
  },
  "language_info": {
   "codemirror_mode": {
    "name": "ipython",
    "version": 3
   },
   "file_extension": ".py",
   "mimetype": "text/x-python",
   "name": "python",
   "nbconvert_exporter": "python",
   "pygments_lexer": "ipython3",
   "version": "3.9.12"
  },
  "orig_nbformat": 4
 },
 "nbformat": 4,
 "nbformat_minor": 2
}
